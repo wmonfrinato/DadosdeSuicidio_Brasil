{
 "cells": [
  {
   "cell_type": "code",
   "execution_count": 1,
   "id": "ffc26d8c",
   "metadata": {},
   "outputs": [
    {
     "data": {
      "application/javascript": [
       "\n",
       "            setTimeout(function() {\n",
       "                var nbb_cell_id = 1;\n",
       "                var nbb_unformatted_code = \"import pandas as pd\\nimport numpy as np\\nimport matplotlib.pyplot as plt\\n\\n%load_ext nb_black\";\n",
       "                var nbb_formatted_code = \"import pandas as pd\\nimport numpy as np\\nimport matplotlib.pyplot as plt\\n\\n%load_ext nb_black\";\n",
       "                var nbb_cells = Jupyter.notebook.get_cells();\n",
       "                for (var i = 0; i < nbb_cells.length; ++i) {\n",
       "                    if (nbb_cells[i].input_prompt_number == nbb_cell_id) {\n",
       "                        if (nbb_cells[i].get_text() == nbb_unformatted_code) {\n",
       "                             nbb_cells[i].set_text(nbb_formatted_code);\n",
       "                        }\n",
       "                        break;\n",
       "                    }\n",
       "                }\n",
       "            }, 500);\n",
       "            "
      ],
      "text/plain": [
       "<IPython.core.display.Javascript object>"
      ]
     },
     "metadata": {},
     "output_type": "display_data"
    }
   ],
   "source": [
    "import pandas as pd\n",
    "import numpy as np\n",
    "import matplotlib.pyplot as plt\n",
    "\n",
    "%load_ext nb_black"
   ]
  },
  {
   "cell_type": "code",
   "execution_count": 2,
   "id": "c6af47b5",
   "metadata": {},
   "outputs": [
    {
     "data": {
      "application/javascript": [
       "\n",
       "            setTimeout(function() {\n",
       "                var nbb_cell_id = 2;\n",
       "                var nbb_unformatted_code = \"filter_list = [\\\"X{}    \\\".format(x) for x in range(600, 851)]\\nfilter_list2 = [\\\"X{}\\\".format(x) for x in range(600, 851)]\";\n",
       "                var nbb_formatted_code = \"filter_list = [\\\"X{}    \\\".format(x) for x in range(600, 851)]\\nfilter_list2 = [\\\"X{}\\\".format(x) for x in range(600, 851)]\";\n",
       "                var nbb_cells = Jupyter.notebook.get_cells();\n",
       "                for (var i = 0; i < nbb_cells.length; ++i) {\n",
       "                    if (nbb_cells[i].input_prompt_number == nbb_cell_id) {\n",
       "                        if (nbb_cells[i].get_text() == nbb_unformatted_code) {\n",
       "                             nbb_cells[i].set_text(nbb_formatted_code);\n",
       "                        }\n",
       "                        break;\n",
       "                    }\n",
       "                }\n",
       "            }, 500);\n",
       "            "
      ],
      "text/plain": [
       "<IPython.core.display.Javascript object>"
      ]
     },
     "metadata": {},
     "output_type": "display_data"
    }
   ],
   "source": [
    "filter_list = [\"X{}    \".format(x) for x in range(600, 851)]\n",
    "filter_list2 = [\"X{}\".format(x) for x in range(600, 851)]"
   ]
  },
  {
   "cell_type": "markdown",
   "id": "2113ca22",
   "metadata": {},
   "source": [
    "# 2010"
   ]
  },
  {
   "cell_type": "code",
   "execution_count": 123,
   "id": "f0c512e5",
   "metadata": {},
   "outputs": [
    {
     "data": {
      "application/javascript": [
       "\n",
       "            setTimeout(function() {\n",
       "                var nbb_cell_id = 123;\n",
       "                var nbb_unformatted_code = \"ac_2010=pd.read_csv('csv/ac_2010.csv')\\nAL_2010=pd.read_csv('csv/AL_2010.csv')\\nAP_2010=pd.read_csv('csv/AP_2010.csv')\\nAM_2010=pd.read_csv('csv/AM_2010.csv')\\nBA_2010=pd.read_csv('csv/BA_2010.csv')\\nCE_2010=pd.read_csv('csv/CE_2010.csv')\\nDF_2010=pd.read_csv('csv/DF_2010.csv')\\nES_2010=pd.read_csv('csv/ES_2010.csv')\\nGO_2010=pd.read_csv('csv/GO_2010.csv')\\nMA_2010=pd.read_csv('csv/MA_2010.csv')\\nMT_2010=pd.read_csv('csv/MT_2010.csv')\\nMS_2010=pd.read_csv('csv/MS_2010.csv')\\nMG_2010=pd.read_csv('csv/MG_2010.csv')\\nPA_2010=pd.read_csv('csv/PA_2010.csv')\\nPB_2010=pd.read_csv('csv/PB_2010.csv')\\nPR_2010=pd.read_csv('csv/PR_2010.csv')\\nPE_2010=pd.read_csv('csv/PE_2010.csv')\\nPI_2010=pd.read_csv('csv/PI_2010.csv')\\nRJ_2010=pd.read_csv('csv/RJ_2010.csv')\\nRN_2010=pd.read_csv('csv/RN_2010.csv')\\nRS_2010=pd.read_csv('csv/RS_2010.csv')\\nRO_2010=pd.read_csv('csv/RO_2010.csv')\\nRR_2010=pd.read_csv('csv/RR_2010.csv')\\nSC_2010=pd.read_csv('csv/SC_2010.csv')\\nSP_2010=pd.read_csv('csv/SP_2010.csv')\\nSE_2010=pd.read_csv('csv/SE_2010.csv')\\nTO_2010=pd.read_csv('csv/TO_2010.csv')\";\n",
       "                var nbb_formatted_code = \"ac_2010 = pd.read_csv(\\\"csv/ac_2010.csv\\\")\\nAL_2010 = pd.read_csv(\\\"csv/AL_2010.csv\\\")\\nAP_2010 = pd.read_csv(\\\"csv/AP_2010.csv\\\")\\nAM_2010 = pd.read_csv(\\\"csv/AM_2010.csv\\\")\\nBA_2010 = pd.read_csv(\\\"csv/BA_2010.csv\\\")\\nCE_2010 = pd.read_csv(\\\"csv/CE_2010.csv\\\")\\nDF_2010 = pd.read_csv(\\\"csv/DF_2010.csv\\\")\\nES_2010 = pd.read_csv(\\\"csv/ES_2010.csv\\\")\\nGO_2010 = pd.read_csv(\\\"csv/GO_2010.csv\\\")\\nMA_2010 = pd.read_csv(\\\"csv/MA_2010.csv\\\")\\nMT_2010 = pd.read_csv(\\\"csv/MT_2010.csv\\\")\\nMS_2010 = pd.read_csv(\\\"csv/MS_2010.csv\\\")\\nMG_2010 = pd.read_csv(\\\"csv/MG_2010.csv\\\")\\nPA_2010 = pd.read_csv(\\\"csv/PA_2010.csv\\\")\\nPB_2010 = pd.read_csv(\\\"csv/PB_2010.csv\\\")\\nPR_2010 = pd.read_csv(\\\"csv/PR_2010.csv\\\")\\nPE_2010 = pd.read_csv(\\\"csv/PE_2010.csv\\\")\\nPI_2010 = pd.read_csv(\\\"csv/PI_2010.csv\\\")\\nRJ_2010 = pd.read_csv(\\\"csv/RJ_2010.csv\\\")\\nRN_2010 = pd.read_csv(\\\"csv/RN_2010.csv\\\")\\nRS_2010 = pd.read_csv(\\\"csv/RS_2010.csv\\\")\\nRO_2010 = pd.read_csv(\\\"csv/RO_2010.csv\\\")\\nRR_2010 = pd.read_csv(\\\"csv/RR_2010.csv\\\")\\nSC_2010 = pd.read_csv(\\\"csv/SC_2010.csv\\\")\\nSP_2010 = pd.read_csv(\\\"csv/SP_2010.csv\\\")\\nSE_2010 = pd.read_csv(\\\"csv/SE_2010.csv\\\")\\nTO_2010 = pd.read_csv(\\\"csv/TO_2010.csv\\\")\";\n",
       "                var nbb_cells = Jupyter.notebook.get_cells();\n",
       "                for (var i = 0; i < nbb_cells.length; ++i) {\n",
       "                    if (nbb_cells[i].input_prompt_number == nbb_cell_id) {\n",
       "                        if (nbb_cells[i].get_text() == nbb_unformatted_code) {\n",
       "                             nbb_cells[i].set_text(nbb_formatted_code);\n",
       "                        }\n",
       "                        break;\n",
       "                    }\n",
       "                }\n",
       "            }, 500);\n",
       "            "
      ],
      "text/plain": [
       "<IPython.core.display.Javascript object>"
      ]
     },
     "metadata": {},
     "output_type": "display_data"
    }
   ],
   "source": [
    "ac_2010=pd.read_csv('csv/ac_2010.csv')\n",
    "AL_2010=pd.read_csv('csv/AL_2010.csv')\n",
    "AP_2010=pd.read_csv('csv/AP_2010.csv')\n",
    "AM_2010=pd.read_csv('csv/AM_2010.csv')\n",
    "BA_2010=pd.read_csv('csv/BA_2010.csv')\n",
    "CE_2010=pd.read_csv('csv/CE_2010.csv')\n",
    "DF_2010=pd.read_csv('csv/DF_2010.csv')\n",
    "ES_2010=pd.read_csv('csv/ES_2010.csv')\n",
    "GO_2010=pd.read_csv('csv/GO_2010.csv')\n",
    "MA_2010=pd.read_csv('csv/MA_2010.csv')\n",
    "MT_2010=pd.read_csv('csv/MT_2010.csv')\n",
    "MS_2010=pd.read_csv('csv/MS_2010.csv')\n",
    "MG_2010=pd.read_csv('csv/MG_2010.csv')\n",
    "PA_2010=pd.read_csv('csv/PA_2010.csv')\n",
    "PB_2010=pd.read_csv('csv/PB_2010.csv')\n",
    "PR_2010=pd.read_csv('csv/PR_2010.csv')\n",
    "PE_2010=pd.read_csv('csv/PE_2010.csv')\n",
    "PI_2010=pd.read_csv('csv/PI_2010.csv')\n",
    "RJ_2010=pd.read_csv('csv/RJ_2010.csv')\n",
    "RN_2010=pd.read_csv('csv/RN_2010.csv')\n",
    "RS_2010=pd.read_csv('csv/RS_2010.csv')\n",
    "RO_2010=pd.read_csv('csv/RO_2010.csv')\n",
    "RR_2010=pd.read_csv('csv/RR_2010.csv')\n",
    "SC_2010=pd.read_csv('csv/SC_2010.csv')\n",
    "SP_2010=pd.read_csv('csv/SP_2010.csv')\n",
    "SE_2010=pd.read_csv('csv/SE_2010.csv')\n",
    "TO_2010=pd.read_csv('csv/TO_2010.csv')\n",
    "\n"
   ]
  },
  {
   "cell_type": "code",
   "execution_count": 124,
   "id": "4bab5a27",
   "metadata": {},
   "outputs": [
    {
     "data": {
      "application/javascript": [
       "\n",
       "            setTimeout(function() {\n",
       "                var nbb_cell_id = 124;\n",
       "                var nbb_unformatted_code = \"ac_2010_all=ac_2010[ac_2010['CAUSABAS'].isin(filter_list) | ac_2010['CAUSABAS_O'].isin(filter_list)]\\nAL_2010_all=AL_2010[AL_2010['CAUSABAS'].isin(filter_list) | AL_2010['CAUSABAS_O'].isin(filter_list)]\\nAP_2010_all=AP_2010[AP_2010['CAUSABAS'].isin(filter_list) | AP_2010['CAUSABAS_O'].isin(filter_list)]\\nAM_2010_all=AM_2010[AM_2010['CAUSABAS'].isin(filter_list) | AM_2010['CAUSABAS_O'].isin(filter_list)]\\nBA_2010_all=BA_2010[BA_2010['CAUSABAS'].isin(filter_list) | BA_2010['CAUSABAS_O'].isin(filter_list)]\\nCE_2010_all=CE_2010[CE_2010['CAUSABAS'].isin(filter_list) | CE_2010['CAUSABAS_O'].isin(filter_list)]\\nDF_2010_all=DF_2010[DF_2010['CAUSABAS'].isin(filter_list) | DF_2010['CAUSABAS_O'].isin(filter_list)]\\nES_2010_all=ES_2010[ES_2010['CAUSABAS'].isin(filter_list) | ES_2010['CAUSABAS_O'].isin(filter_list)]\\nGO_2010_all=GO_2010[GO_2010['CAUSABAS'].isin(filter_list) | GO_2010['CAUSABAS_O'].isin(filter_list)]\\nMA_2010_all=MA_2010[MA_2010['CAUSABAS'].isin(filter_list) | MA_2010['CAUSABAS_O'].isin(filter_list)]\\nMT_2010_all=MT_2010[MT_2010['CAUSABAS'].isin(filter_list) | MT_2010['CAUSABAS_O'].isin(filter_list)]\\nMS_2010_all=MS_2010[MS_2010['CAUSABAS'].isin(filter_list) | MS_2010['CAUSABAS_O'].isin(filter_list)]\\nMG_2010_all=MG_2010[MG_2010['CAUSABAS'].isin(filter_list) | MG_2010['CAUSABAS_O'].isin(filter_list)]\\nPA_2010_all=PA_2010[PA_2010['CAUSABAS'].isin(filter_list) | PA_2010['CAUSABAS_O'].isin(filter_list)]\\nPB_2010_all=PB_2010[PB_2010['CAUSABAS'].isin(filter_list) | PB_2010['CAUSABAS_O'].isin(filter_list)]\\nPR_2010_all=PR_2010[PR_2010['CAUSABAS'].isin(filter_list) | PR_2010['CAUSABAS_O'].isin(filter_list)]\\nPE_2010_all=PE_2010[PE_2010['CAUSABAS'].isin(filter_list) | PE_2010['CAUSABAS_O'].isin(filter_list)]\\nPI_2010_all=PI_2010[PI_2010['CAUSABAS'].isin(filter_list) | PI_2010['CAUSABAS_O'].isin(filter_list)]\\nRJ_2010_all=RJ_2010[RJ_2010['CAUSABAS'].isin(filter_list) | RJ_2010['CAUSABAS_O'].isin(filter_list)]\\nRN_2010_all=RN_2010[RN_2010['CAUSABAS'].isin(filter_list) | RN_2010['CAUSABAS_O'].isin(filter_list)]\\nRS_2010_all=RS_2010[RS_2010['CAUSABAS'].isin(filter_list) | RS_2010['CAUSABAS_O'].isin(filter_list)]\\nRO_2010_all=RO_2010[RO_2010['CAUSABAS'].isin(filter_list) | RO_2010['CAUSABAS_O'].isin(filter_list)]\\nRR_2010_all=RR_2010[RR_2010['CAUSABAS'].isin(filter_list) | RR_2010['CAUSABAS_O'].isin(filter_list)]\\nSC_2010_all=SC_2010[SC_2010['CAUSABAS'].isin(filter_list) | SC_2010['CAUSABAS_O'].isin(filter_list)]\\nSP_2010_all=SP_2010[SP_2010['CAUSABAS'].isin(filter_list) | SP_2010['CAUSABAS_O'].isin(filter_list)]\\nSE_2010_all=SE_2010[SE_2010['CAUSABAS'].isin(filter_list) | SE_2010['CAUSABAS_O'].isin(filter_list)]\\nTO_2010_all=TO_2010[TO_2010['CAUSABAS'].isin(filter_list) | TO_2010['CAUSABAS_O'].isin(filter_list)]\";\n",
       "                var nbb_formatted_code = \"ac_2010_all = ac_2010[\\n    ac_2010[\\\"CAUSABAS\\\"].isin(filter_list) | ac_2010[\\\"CAUSABAS_O\\\"].isin(filter_list)\\n]\\nAL_2010_all = AL_2010[\\n    AL_2010[\\\"CAUSABAS\\\"].isin(filter_list) | AL_2010[\\\"CAUSABAS_O\\\"].isin(filter_list)\\n]\\nAP_2010_all = AP_2010[\\n    AP_2010[\\\"CAUSABAS\\\"].isin(filter_list) | AP_2010[\\\"CAUSABAS_O\\\"].isin(filter_list)\\n]\\nAM_2010_all = AM_2010[\\n    AM_2010[\\\"CAUSABAS\\\"].isin(filter_list) | AM_2010[\\\"CAUSABAS_O\\\"].isin(filter_list)\\n]\\nBA_2010_all = BA_2010[\\n    BA_2010[\\\"CAUSABAS\\\"].isin(filter_list) | BA_2010[\\\"CAUSABAS_O\\\"].isin(filter_list)\\n]\\nCE_2010_all = CE_2010[\\n    CE_2010[\\\"CAUSABAS\\\"].isin(filter_list) | CE_2010[\\\"CAUSABAS_O\\\"].isin(filter_list)\\n]\\nDF_2010_all = DF_2010[\\n    DF_2010[\\\"CAUSABAS\\\"].isin(filter_list) | DF_2010[\\\"CAUSABAS_O\\\"].isin(filter_list)\\n]\\nES_2010_all = ES_2010[\\n    ES_2010[\\\"CAUSABAS\\\"].isin(filter_list) | ES_2010[\\\"CAUSABAS_O\\\"].isin(filter_list)\\n]\\nGO_2010_all = GO_2010[\\n    GO_2010[\\\"CAUSABAS\\\"].isin(filter_list) | GO_2010[\\\"CAUSABAS_O\\\"].isin(filter_list)\\n]\\nMA_2010_all = MA_2010[\\n    MA_2010[\\\"CAUSABAS\\\"].isin(filter_list) | MA_2010[\\\"CAUSABAS_O\\\"].isin(filter_list)\\n]\\nMT_2010_all = MT_2010[\\n    MT_2010[\\\"CAUSABAS\\\"].isin(filter_list) | MT_2010[\\\"CAUSABAS_O\\\"].isin(filter_list)\\n]\\nMS_2010_all = MS_2010[\\n    MS_2010[\\\"CAUSABAS\\\"].isin(filter_list) | MS_2010[\\\"CAUSABAS_O\\\"].isin(filter_list)\\n]\\nMG_2010_all = MG_2010[\\n    MG_2010[\\\"CAUSABAS\\\"].isin(filter_list) | MG_2010[\\\"CAUSABAS_O\\\"].isin(filter_list)\\n]\\nPA_2010_all = PA_2010[\\n    PA_2010[\\\"CAUSABAS\\\"].isin(filter_list) | PA_2010[\\\"CAUSABAS_O\\\"].isin(filter_list)\\n]\\nPB_2010_all = PB_2010[\\n    PB_2010[\\\"CAUSABAS\\\"].isin(filter_list) | PB_2010[\\\"CAUSABAS_O\\\"].isin(filter_list)\\n]\\nPR_2010_all = PR_2010[\\n    PR_2010[\\\"CAUSABAS\\\"].isin(filter_list) | PR_2010[\\\"CAUSABAS_O\\\"].isin(filter_list)\\n]\\nPE_2010_all = PE_2010[\\n    PE_2010[\\\"CAUSABAS\\\"].isin(filter_list) | PE_2010[\\\"CAUSABAS_O\\\"].isin(filter_list)\\n]\\nPI_2010_all = PI_2010[\\n    PI_2010[\\\"CAUSABAS\\\"].isin(filter_list) | PI_2010[\\\"CAUSABAS_O\\\"].isin(filter_list)\\n]\\nRJ_2010_all = RJ_2010[\\n    RJ_2010[\\\"CAUSABAS\\\"].isin(filter_list) | RJ_2010[\\\"CAUSABAS_O\\\"].isin(filter_list)\\n]\\nRN_2010_all = RN_2010[\\n    RN_2010[\\\"CAUSABAS\\\"].isin(filter_list) | RN_2010[\\\"CAUSABAS_O\\\"].isin(filter_list)\\n]\\nRS_2010_all = RS_2010[\\n    RS_2010[\\\"CAUSABAS\\\"].isin(filter_list) | RS_2010[\\\"CAUSABAS_O\\\"].isin(filter_list)\\n]\\nRO_2010_all = RO_2010[\\n    RO_2010[\\\"CAUSABAS\\\"].isin(filter_list) | RO_2010[\\\"CAUSABAS_O\\\"].isin(filter_list)\\n]\\nRR_2010_all = RR_2010[\\n    RR_2010[\\\"CAUSABAS\\\"].isin(filter_list) | RR_2010[\\\"CAUSABAS_O\\\"].isin(filter_list)\\n]\\nSC_2010_all = SC_2010[\\n    SC_2010[\\\"CAUSABAS\\\"].isin(filter_list) | SC_2010[\\\"CAUSABAS_O\\\"].isin(filter_list)\\n]\\nSP_2010_all = SP_2010[\\n    SP_2010[\\\"CAUSABAS\\\"].isin(filter_list) | SP_2010[\\\"CAUSABAS_O\\\"].isin(filter_list)\\n]\\nSE_2010_all = SE_2010[\\n    SE_2010[\\\"CAUSABAS\\\"].isin(filter_list) | SE_2010[\\\"CAUSABAS_O\\\"].isin(filter_list)\\n]\\nTO_2010_all = TO_2010[\\n    TO_2010[\\\"CAUSABAS\\\"].isin(filter_list) | TO_2010[\\\"CAUSABAS_O\\\"].isin(filter_list)\\n]\";\n",
       "                var nbb_cells = Jupyter.notebook.get_cells();\n",
       "                for (var i = 0; i < nbb_cells.length; ++i) {\n",
       "                    if (nbb_cells[i].input_prompt_number == nbb_cell_id) {\n",
       "                        if (nbb_cells[i].get_text() == nbb_unformatted_code) {\n",
       "                             nbb_cells[i].set_text(nbb_formatted_code);\n",
       "                        }\n",
       "                        break;\n",
       "                    }\n",
       "                }\n",
       "            }, 500);\n",
       "            "
      ],
      "text/plain": [
       "<IPython.core.display.Javascript object>"
      ]
     },
     "metadata": {},
     "output_type": "display_data"
    }
   ],
   "source": [
    "ac_2010_all=ac_2010[ac_2010['CAUSABAS'].isin(filter_list) | ac_2010['CAUSABAS_O'].isin(filter_list)]\n",
    "AL_2010_all=AL_2010[AL_2010['CAUSABAS'].isin(filter_list) | AL_2010['CAUSABAS_O'].isin(filter_list)]\n",
    "AP_2010_all=AP_2010[AP_2010['CAUSABAS'].isin(filter_list) | AP_2010['CAUSABAS_O'].isin(filter_list)]\n",
    "AM_2010_all=AM_2010[AM_2010['CAUSABAS'].isin(filter_list) | AM_2010['CAUSABAS_O'].isin(filter_list)]\n",
    "BA_2010_all=BA_2010[BA_2010['CAUSABAS'].isin(filter_list) | BA_2010['CAUSABAS_O'].isin(filter_list)]\n",
    "CE_2010_all=CE_2010[CE_2010['CAUSABAS'].isin(filter_list) | CE_2010['CAUSABAS_O'].isin(filter_list)]\n",
    "DF_2010_all=DF_2010[DF_2010['CAUSABAS'].isin(filter_list) | DF_2010['CAUSABAS_O'].isin(filter_list)]\n",
    "ES_2010_all=ES_2010[ES_2010['CAUSABAS'].isin(filter_list) | ES_2010['CAUSABAS_O'].isin(filter_list)]\n",
    "GO_2010_all=GO_2010[GO_2010['CAUSABAS'].isin(filter_list) | GO_2010['CAUSABAS_O'].isin(filter_list)]\n",
    "MA_2010_all=MA_2010[MA_2010['CAUSABAS'].isin(filter_list) | MA_2010['CAUSABAS_O'].isin(filter_list)]\n",
    "MT_2010_all=MT_2010[MT_2010['CAUSABAS'].isin(filter_list) | MT_2010['CAUSABAS_O'].isin(filter_list)]\n",
    "MS_2010_all=MS_2010[MS_2010['CAUSABAS'].isin(filter_list) | MS_2010['CAUSABAS_O'].isin(filter_list)]\n",
    "MG_2010_all=MG_2010[MG_2010['CAUSABAS'].isin(filter_list) | MG_2010['CAUSABAS_O'].isin(filter_list)]\n",
    "PA_2010_all=PA_2010[PA_2010['CAUSABAS'].isin(filter_list) | PA_2010['CAUSABAS_O'].isin(filter_list)]\n",
    "PB_2010_all=PB_2010[PB_2010['CAUSABAS'].isin(filter_list) | PB_2010['CAUSABAS_O'].isin(filter_list)]\n",
    "PR_2010_all=PR_2010[PR_2010['CAUSABAS'].isin(filter_list) | PR_2010['CAUSABAS_O'].isin(filter_list)]\n",
    "PE_2010_all=PE_2010[PE_2010['CAUSABAS'].isin(filter_list) | PE_2010['CAUSABAS_O'].isin(filter_list)]\n",
    "PI_2010_all=PI_2010[PI_2010['CAUSABAS'].isin(filter_list) | PI_2010['CAUSABAS_O'].isin(filter_list)]\n",
    "RJ_2010_all=RJ_2010[RJ_2010['CAUSABAS'].isin(filter_list) | RJ_2010['CAUSABAS_O'].isin(filter_list)]\n",
    "RN_2010_all=RN_2010[RN_2010['CAUSABAS'].isin(filter_list) | RN_2010['CAUSABAS_O'].isin(filter_list)]\n",
    "RS_2010_all=RS_2010[RS_2010['CAUSABAS'].isin(filter_list) | RS_2010['CAUSABAS_O'].isin(filter_list)]\n",
    "RO_2010_all=RO_2010[RO_2010['CAUSABAS'].isin(filter_list) | RO_2010['CAUSABAS_O'].isin(filter_list)]\n",
    "RR_2010_all=RR_2010[RR_2010['CAUSABAS'].isin(filter_list) | RR_2010['CAUSABAS_O'].isin(filter_list)]\n",
    "SC_2010_all=SC_2010[SC_2010['CAUSABAS'].isin(filter_list) | SC_2010['CAUSABAS_O'].isin(filter_list)]\n",
    "SP_2010_all=SP_2010[SP_2010['CAUSABAS'].isin(filter_list) | SP_2010['CAUSABAS_O'].isin(filter_list)]\n",
    "SE_2010_all=SE_2010[SE_2010['CAUSABAS'].isin(filter_list) | SE_2010['CAUSABAS_O'].isin(filter_list)]\n",
    "TO_2010_all=TO_2010[TO_2010['CAUSABAS'].isin(filter_list) | TO_2010['CAUSABAS_O'].isin(filter_list)]\n",
    "\n"
   ]
  },
  {
   "cell_type": "code",
   "execution_count": 126,
   "id": "94ec8d61",
   "metadata": {},
   "outputs": [
    {
     "data": {
      "application/javascript": [
       "\n",
       "            setTimeout(function() {\n",
       "                var nbb_cell_id = 126;\n",
       "                var nbb_unformatted_code = \"df_2010 = pd.concat(\\n    [\\n        ac_2010_all,\\n        AL_2010_all,\\n        AP_2010_all,\\n        AM_2010_all,\\n        BA_2010_all,\\n        CE_2010_all,\\n        DF_2010_all,\\n        ES_2010_all,\\n        GO_2010_all,\\n        MA_2010_all,\\n        MT_2010_all,\\n        MS_2010_all,\\n        MG_2010_all,\\n        PA_2010_all,\\n        PB_2010_all,\\n        PR_2010_all,\\n        PE_2010_all,\\n        PI_2010_all,\\n        RJ_2010_all,\\n        RN_2010_all,\\n        RS_2010_all,\\n        RO_2010_all,\\n        RR_2010_all,\\n        SC_2010_all,\\n        SP_2010_all,\\n        SE_2010_all,\\n        TO_2010_all,\\n    ]\\n).reset_index()\";\n",
       "                var nbb_formatted_code = \"df_2010 = pd.concat(\\n    [\\n        ac_2010_all,\\n        AL_2010_all,\\n        AP_2010_all,\\n        AM_2010_all,\\n        BA_2010_all,\\n        CE_2010_all,\\n        DF_2010_all,\\n        ES_2010_all,\\n        GO_2010_all,\\n        MA_2010_all,\\n        MT_2010_all,\\n        MS_2010_all,\\n        MG_2010_all,\\n        PA_2010_all,\\n        PB_2010_all,\\n        PR_2010_all,\\n        PE_2010_all,\\n        PI_2010_all,\\n        RJ_2010_all,\\n        RN_2010_all,\\n        RS_2010_all,\\n        RO_2010_all,\\n        RR_2010_all,\\n        SC_2010_all,\\n        SP_2010_all,\\n        SE_2010_all,\\n        TO_2010_all,\\n    ]\\n).reset_index()\";\n",
       "                var nbb_cells = Jupyter.notebook.get_cells();\n",
       "                for (var i = 0; i < nbb_cells.length; ++i) {\n",
       "                    if (nbb_cells[i].input_prompt_number == nbb_cell_id) {\n",
       "                        if (nbb_cells[i].get_text() == nbb_unformatted_code) {\n",
       "                             nbb_cells[i].set_text(nbb_formatted_code);\n",
       "                        }\n",
       "                        break;\n",
       "                    }\n",
       "                }\n",
       "            }, 500);\n",
       "            "
      ],
      "text/plain": [
       "<IPython.core.display.Javascript object>"
      ]
     },
     "metadata": {},
     "output_type": "display_data"
    }
   ],
   "source": [
    "df_2010 = pd.concat(\n",
    "    [\n",
    "        ac_2010_all,\n",
    "        AL_2010_all,\n",
    "        AP_2010_all,\n",
    "        AM_2010_all,\n",
    "        BA_2010_all,\n",
    "        CE_2010_all,\n",
    "        DF_2010_all,\n",
    "        ES_2010_all,\n",
    "        GO_2010_all,\n",
    "        MA_2010_all,\n",
    "        MT_2010_all,\n",
    "        MS_2010_all,\n",
    "        MG_2010_all,\n",
    "        PA_2010_all,\n",
    "        PB_2010_all,\n",
    "        PR_2010_all,\n",
    "        PE_2010_all,\n",
    "        PI_2010_all,\n",
    "        RJ_2010_all,\n",
    "        RN_2010_all,\n",
    "        RS_2010_all,\n",
    "        RO_2010_all,\n",
    "        RR_2010_all,\n",
    "        SC_2010_all,\n",
    "        SP_2010_all,\n",
    "        SE_2010_all,\n",
    "        TO_2010_all,\n",
    "    ]\n",
    ").reset_index()"
   ]
  },
  {
   "cell_type": "code",
   "execution_count": 127,
   "id": "7907f2c8",
   "metadata": {},
   "outputs": [
    {
     "data": {
      "text/html": [
       "<div>\n",
       "<style scoped>\n",
       "    .dataframe tbody tr th:only-of-type {\n",
       "        vertical-align: middle;\n",
       "    }\n",
       "\n",
       "    .dataframe tbody tr th {\n",
       "        vertical-align: top;\n",
       "    }\n",
       "\n",
       "    .dataframe thead th {\n",
       "        text-align: right;\n",
       "    }\n",
       "</style>\n",
       "<table border=\"1\" class=\"dataframe\">\n",
       "  <thead>\n",
       "    <tr style=\"text-align: right;\">\n",
       "      <th></th>\n",
       "      <th>index</th>\n",
       "      <th>Unnamed: 0</th>\n",
       "      <th>estado</th>\n",
       "      <th>ano</th>\n",
       "      <th>DTOBITO</th>\n",
       "      <th>DTNASC</th>\n",
       "      <th>SEXO</th>\n",
       "      <th>RACACOR</th>\n",
       "      <th>ASSISTMED</th>\n",
       "      <th>ESCMAE</th>\n",
       "      <th>ESTCIV</th>\n",
       "      <th>ESC</th>\n",
       "      <th>OCUP</th>\n",
       "      <th>CODMUNRES</th>\n",
       "      <th>CAUSABAS</th>\n",
       "      <th>CAUSABAS_O</th>\n",
       "      <th>LOCOCOR</th>\n",
       "      <th>CIRURGIA</th>\n",
       "    </tr>\n",
       "  </thead>\n",
       "  <tbody>\n",
       "    <tr>\n",
       "      <th>0</th>\n",
       "      <td>157</td>\n",
       "      <td>157</td>\n",
       "      <td>AC</td>\n",
       "      <td>2010</td>\n",
       "      <td>31012010</td>\n",
       "      <td>9111999.0</td>\n",
       "      <td>1</td>\n",
       "      <td>4.0</td>\n",
       "      <td>NaN</td>\n",
       "      <td>NaN</td>\n",
       "      <td>1.0</td>\n",
       "      <td>2.0</td>\n",
       "      <td>999991.0</td>\n",
       "      <td>120060</td>\n",
       "      <td>X780</td>\n",
       "      <td>X780</td>\n",
       "      <td>4</td>\n",
       "      <td>2.0</td>\n",
       "    </tr>\n",
       "    <tr>\n",
       "      <th>1</th>\n",
       "      <td>160</td>\n",
       "      <td>160</td>\n",
       "      <td>AC</td>\n",
       "      <td>2010</td>\n",
       "      <td>7022010</td>\n",
       "      <td>23091985.0</td>\n",
       "      <td>1</td>\n",
       "      <td>4.0</td>\n",
       "      <td>NaN</td>\n",
       "      <td>NaN</td>\n",
       "      <td>1.0</td>\n",
       "      <td>2.0</td>\n",
       "      <td>999991.0</td>\n",
       "      <td>120060</td>\n",
       "      <td>X780</td>\n",
       "      <td>X780</td>\n",
       "      <td>1</td>\n",
       "      <td>2.0</td>\n",
       "    </tr>\n",
       "    <tr>\n",
       "      <th>2</th>\n",
       "      <td>164</td>\n",
       "      <td>164</td>\n",
       "      <td>AC</td>\n",
       "      <td>2010</td>\n",
       "      <td>19022010</td>\n",
       "      <td>6081995.0</td>\n",
       "      <td>1</td>\n",
       "      <td>4.0</td>\n",
       "      <td>NaN</td>\n",
       "      <td>NaN</td>\n",
       "      <td>1.0</td>\n",
       "      <td>2.0</td>\n",
       "      <td>999991.0</td>\n",
       "      <td>120060</td>\n",
       "      <td>X780</td>\n",
       "      <td>X780</td>\n",
       "      <td>1</td>\n",
       "      <td>2.0</td>\n",
       "    </tr>\n",
       "    <tr>\n",
       "      <th>3</th>\n",
       "      <td>173</td>\n",
       "      <td>173</td>\n",
       "      <td>AC</td>\n",
       "      <td>2010</td>\n",
       "      <td>20042010</td>\n",
       "      <td>25121983.0</td>\n",
       "      <td>2</td>\n",
       "      <td>4.0</td>\n",
       "      <td>NaN</td>\n",
       "      <td>NaN</td>\n",
       "      <td>2.0</td>\n",
       "      <td>2.0</td>\n",
       "      <td>999992.0</td>\n",
       "      <td>120060</td>\n",
       "      <td>X780</td>\n",
       "      <td>X780</td>\n",
       "      <td>3</td>\n",
       "      <td>2.0</td>\n",
       "    </tr>\n",
       "    <tr>\n",
       "      <th>4</th>\n",
       "      <td>270</td>\n",
       "      <td>270</td>\n",
       "      <td>AC</td>\n",
       "      <td>2010</td>\n",
       "      <td>24072010</td>\n",
       "      <td>13051982.0</td>\n",
       "      <td>1</td>\n",
       "      <td>4.0</td>\n",
       "      <td>NaN</td>\n",
       "      <td>NaN</td>\n",
       "      <td>2.0</td>\n",
       "      <td>9.0</td>\n",
       "      <td>999992.0</td>\n",
       "      <td>120060</td>\n",
       "      <td>X720</td>\n",
       "      <td>X720</td>\n",
       "      <td>3</td>\n",
       "      <td>2.0</td>\n",
       "    </tr>\n",
       "  </tbody>\n",
       "</table>\n",
       "</div>"
      ],
      "text/plain": [
       "   index  Unnamed: 0 estado   ano   DTOBITO      DTNASC  SEXO  RACACOR  \\\n",
       "0    157         157     AC  2010  31012010   9111999.0     1      4.0   \n",
       "1    160         160     AC  2010   7022010  23091985.0     1      4.0   \n",
       "2    164         164     AC  2010  19022010   6081995.0     1      4.0   \n",
       "3    173         173     AC  2010  20042010  25121983.0     2      4.0   \n",
       "4    270         270     AC  2010  24072010  13051982.0     1      4.0   \n",
       "\n",
       "   ASSISTMED  ESCMAE  ESTCIV  ESC      OCUP  CODMUNRES  CAUSABAS  CAUSABAS_O  \\\n",
       "0        NaN     NaN     1.0  2.0  999991.0     120060  X780      X780         \n",
       "1        NaN     NaN     1.0  2.0  999991.0     120060  X780      X780         \n",
       "2        NaN     NaN     1.0  2.0  999991.0     120060  X780      X780         \n",
       "3        NaN     NaN     2.0  2.0  999992.0     120060  X780      X780         \n",
       "4        NaN     NaN     2.0  9.0  999992.0     120060  X720      X720         \n",
       "\n",
       "   LOCOCOR  CIRURGIA  \n",
       "0        4       2.0  \n",
       "1        1       2.0  \n",
       "2        1       2.0  \n",
       "3        3       2.0  \n",
       "4        3       2.0  "
      ]
     },
     "execution_count": 127,
     "metadata": {},
     "output_type": "execute_result"
    },
    {
     "data": {
      "application/javascript": [
       "\n",
       "            setTimeout(function() {\n",
       "                var nbb_cell_id = 127;\n",
       "                var nbb_unformatted_code = \"df_2010.head()\";\n",
       "                var nbb_formatted_code = \"df_2010.head()\";\n",
       "                var nbb_cells = Jupyter.notebook.get_cells();\n",
       "                for (var i = 0; i < nbb_cells.length; ++i) {\n",
       "                    if (nbb_cells[i].input_prompt_number == nbb_cell_id) {\n",
       "                        if (nbb_cells[i].get_text() == nbb_unformatted_code) {\n",
       "                             nbb_cells[i].set_text(nbb_formatted_code);\n",
       "                        }\n",
       "                        break;\n",
       "                    }\n",
       "                }\n",
       "            }, 500);\n",
       "            "
      ],
      "text/plain": [
       "<IPython.core.display.Javascript object>"
      ]
     },
     "metadata": {},
     "output_type": "display_data"
    }
   ],
   "source": [
    "df_2010.head()"
   ]
  },
  {
   "cell_type": "code",
   "execution_count": 128,
   "id": "9c2d0aa1",
   "metadata": {},
   "outputs": [
    {
     "data": {
      "application/javascript": [
       "\n",
       "            setTimeout(function() {\n",
       "                var nbb_cell_id = 128;\n",
       "                var nbb_unformatted_code = \"df_2010 = df_2010.drop([\\\"Unnamed: 0\\\", \\\"index\\\"], axis=1)\";\n",
       "                var nbb_formatted_code = \"df_2010 = df_2010.drop([\\\"Unnamed: 0\\\", \\\"index\\\"], axis=1)\";\n",
       "                var nbb_cells = Jupyter.notebook.get_cells();\n",
       "                for (var i = 0; i < nbb_cells.length; ++i) {\n",
       "                    if (nbb_cells[i].input_prompt_number == nbb_cell_id) {\n",
       "                        if (nbb_cells[i].get_text() == nbb_unformatted_code) {\n",
       "                             nbb_cells[i].set_text(nbb_formatted_code);\n",
       "                        }\n",
       "                        break;\n",
       "                    }\n",
       "                }\n",
       "            }, 500);\n",
       "            "
      ],
      "text/plain": [
       "<IPython.core.display.Javascript object>"
      ]
     },
     "metadata": {},
     "output_type": "display_data"
    }
   ],
   "source": [
    "df_2010 = df_2010.drop([\"Unnamed: 0\", \"index\"], axis=1)"
   ]
  },
  {
   "cell_type": "code",
   "execution_count": 129,
   "id": "a00eb12d",
   "metadata": {},
   "outputs": [
    {
     "data": {
      "text/html": [
       "<div>\n",
       "<style scoped>\n",
       "    .dataframe tbody tr th:only-of-type {\n",
       "        vertical-align: middle;\n",
       "    }\n",
       "\n",
       "    .dataframe tbody tr th {\n",
       "        vertical-align: top;\n",
       "    }\n",
       "\n",
       "    .dataframe thead th {\n",
       "        text-align: right;\n",
       "    }\n",
       "</style>\n",
       "<table border=\"1\" class=\"dataframe\">\n",
       "  <thead>\n",
       "    <tr style=\"text-align: right;\">\n",
       "      <th></th>\n",
       "      <th>estado</th>\n",
       "      <th>ano</th>\n",
       "      <th>DTOBITO</th>\n",
       "      <th>DTNASC</th>\n",
       "      <th>SEXO</th>\n",
       "      <th>RACACOR</th>\n",
       "      <th>ASSISTMED</th>\n",
       "      <th>ESCMAE</th>\n",
       "      <th>ESTCIV</th>\n",
       "      <th>ESC</th>\n",
       "      <th>OCUP</th>\n",
       "      <th>CODMUNRES</th>\n",
       "      <th>CAUSABAS</th>\n",
       "      <th>CAUSABAS_O</th>\n",
       "      <th>LOCOCOR</th>\n",
       "      <th>CIRURGIA</th>\n",
       "    </tr>\n",
       "  </thead>\n",
       "  <tbody>\n",
       "    <tr>\n",
       "      <th>0</th>\n",
       "      <td>AC</td>\n",
       "      <td>2010</td>\n",
       "      <td>31012010</td>\n",
       "      <td>9111999.0</td>\n",
       "      <td>1</td>\n",
       "      <td>4.0</td>\n",
       "      <td>NaN</td>\n",
       "      <td>NaN</td>\n",
       "      <td>1.0</td>\n",
       "      <td>2.0</td>\n",
       "      <td>999991.0</td>\n",
       "      <td>120060</td>\n",
       "      <td>X780</td>\n",
       "      <td>X780</td>\n",
       "      <td>4</td>\n",
       "      <td>2.0</td>\n",
       "    </tr>\n",
       "    <tr>\n",
       "      <th>1</th>\n",
       "      <td>AC</td>\n",
       "      <td>2010</td>\n",
       "      <td>7022010</td>\n",
       "      <td>23091985.0</td>\n",
       "      <td>1</td>\n",
       "      <td>4.0</td>\n",
       "      <td>NaN</td>\n",
       "      <td>NaN</td>\n",
       "      <td>1.0</td>\n",
       "      <td>2.0</td>\n",
       "      <td>999991.0</td>\n",
       "      <td>120060</td>\n",
       "      <td>X780</td>\n",
       "      <td>X780</td>\n",
       "      <td>1</td>\n",
       "      <td>2.0</td>\n",
       "    </tr>\n",
       "    <tr>\n",
       "      <th>2</th>\n",
       "      <td>AC</td>\n",
       "      <td>2010</td>\n",
       "      <td>19022010</td>\n",
       "      <td>6081995.0</td>\n",
       "      <td>1</td>\n",
       "      <td>4.0</td>\n",
       "      <td>NaN</td>\n",
       "      <td>NaN</td>\n",
       "      <td>1.0</td>\n",
       "      <td>2.0</td>\n",
       "      <td>999991.0</td>\n",
       "      <td>120060</td>\n",
       "      <td>X780</td>\n",
       "      <td>X780</td>\n",
       "      <td>1</td>\n",
       "      <td>2.0</td>\n",
       "    </tr>\n",
       "    <tr>\n",
       "      <th>3</th>\n",
       "      <td>AC</td>\n",
       "      <td>2010</td>\n",
       "      <td>20042010</td>\n",
       "      <td>25121983.0</td>\n",
       "      <td>2</td>\n",
       "      <td>4.0</td>\n",
       "      <td>NaN</td>\n",
       "      <td>NaN</td>\n",
       "      <td>2.0</td>\n",
       "      <td>2.0</td>\n",
       "      <td>999992.0</td>\n",
       "      <td>120060</td>\n",
       "      <td>X780</td>\n",
       "      <td>X780</td>\n",
       "      <td>3</td>\n",
       "      <td>2.0</td>\n",
       "    </tr>\n",
       "    <tr>\n",
       "      <th>4</th>\n",
       "      <td>AC</td>\n",
       "      <td>2010</td>\n",
       "      <td>24072010</td>\n",
       "      <td>13051982.0</td>\n",
       "      <td>1</td>\n",
       "      <td>4.0</td>\n",
       "      <td>NaN</td>\n",
       "      <td>NaN</td>\n",
       "      <td>2.0</td>\n",
       "      <td>9.0</td>\n",
       "      <td>999992.0</td>\n",
       "      <td>120060</td>\n",
       "      <td>X720</td>\n",
       "      <td>X720</td>\n",
       "      <td>3</td>\n",
       "      <td>2.0</td>\n",
       "    </tr>\n",
       "  </tbody>\n",
       "</table>\n",
       "</div>"
      ],
      "text/plain": [
       "  estado   ano   DTOBITO      DTNASC  SEXO  RACACOR  ASSISTMED  ESCMAE  \\\n",
       "0     AC  2010  31012010   9111999.0     1      4.0        NaN     NaN   \n",
       "1     AC  2010   7022010  23091985.0     1      4.0        NaN     NaN   \n",
       "2     AC  2010  19022010   6081995.0     1      4.0        NaN     NaN   \n",
       "3     AC  2010  20042010  25121983.0     2      4.0        NaN     NaN   \n",
       "4     AC  2010  24072010  13051982.0     1      4.0        NaN     NaN   \n",
       "\n",
       "   ESTCIV  ESC      OCUP  CODMUNRES  CAUSABAS  CAUSABAS_O  LOCOCOR  CIRURGIA  \n",
       "0     1.0  2.0  999991.0     120060  X780      X780              4       2.0  \n",
       "1     1.0  2.0  999991.0     120060  X780      X780              1       2.0  \n",
       "2     1.0  2.0  999991.0     120060  X780      X780              1       2.0  \n",
       "3     2.0  2.0  999992.0     120060  X780      X780              3       2.0  \n",
       "4     2.0  9.0  999992.0     120060  X720      X720              3       2.0  "
      ]
     },
     "execution_count": 129,
     "metadata": {},
     "output_type": "execute_result"
    },
    {
     "data": {
      "application/javascript": [
       "\n",
       "            setTimeout(function() {\n",
       "                var nbb_cell_id = 129;\n",
       "                var nbb_unformatted_code = \"df_2010.head()\";\n",
       "                var nbb_formatted_code = \"df_2010.head()\";\n",
       "                var nbb_cells = Jupyter.notebook.get_cells();\n",
       "                for (var i = 0; i < nbb_cells.length; ++i) {\n",
       "                    if (nbb_cells[i].input_prompt_number == nbb_cell_id) {\n",
       "                        if (nbb_cells[i].get_text() == nbb_unformatted_code) {\n",
       "                             nbb_cells[i].set_text(nbb_formatted_code);\n",
       "                        }\n",
       "                        break;\n",
       "                    }\n",
       "                }\n",
       "            }, 500);\n",
       "            "
      ],
      "text/plain": [
       "<IPython.core.display.Javascript object>"
      ]
     },
     "metadata": {},
     "output_type": "display_data"
    }
   ],
   "source": [
    "df_2010.head()"
   ]
  },
  {
   "cell_type": "code",
   "execution_count": 130,
   "id": "41351fda",
   "metadata": {},
   "outputs": [
    {
     "data": {
      "text/plain": [
       "(9450, 16)"
      ]
     },
     "execution_count": 130,
     "metadata": {},
     "output_type": "execute_result"
    },
    {
     "data": {
      "application/javascript": [
       "\n",
       "            setTimeout(function() {\n",
       "                var nbb_cell_id = 130;\n",
       "                var nbb_unformatted_code = \"df_2010.shape\";\n",
       "                var nbb_formatted_code = \"df_2010.shape\";\n",
       "                var nbb_cells = Jupyter.notebook.get_cells();\n",
       "                for (var i = 0; i < nbb_cells.length; ++i) {\n",
       "                    if (nbb_cells[i].input_prompt_number == nbb_cell_id) {\n",
       "                        if (nbb_cells[i].get_text() == nbb_unformatted_code) {\n",
       "                             nbb_cells[i].set_text(nbb_formatted_code);\n",
       "                        }\n",
       "                        break;\n",
       "                    }\n",
       "                }\n",
       "            }, 500);\n",
       "            "
      ],
      "text/plain": [
       "<IPython.core.display.Javascript object>"
      ]
     },
     "metadata": {},
     "output_type": "display_data"
    }
   ],
   "source": [
    "df_2010.shape"
   ]
  },
  {
   "cell_type": "code",
   "execution_count": 131,
   "id": "27f93626",
   "metadata": {},
   "outputs": [
    {
     "data": {
      "application/javascript": [
       "\n",
       "            setTimeout(function() {\n",
       "                var nbb_cell_id = 131;\n",
       "                var nbb_unformatted_code = \"df_2010.to_csv(\\\"df_2010.csv\\\")\";\n",
       "                var nbb_formatted_code = \"df_2010.to_csv(\\\"df_2010.csv\\\")\";\n",
       "                var nbb_cells = Jupyter.notebook.get_cells();\n",
       "                for (var i = 0; i < nbb_cells.length; ++i) {\n",
       "                    if (nbb_cells[i].input_prompt_number == nbb_cell_id) {\n",
       "                        if (nbb_cells[i].get_text() == nbb_unformatted_code) {\n",
       "                             nbb_cells[i].set_text(nbb_formatted_code);\n",
       "                        }\n",
       "                        break;\n",
       "                    }\n",
       "                }\n",
       "            }, 500);\n",
       "            "
      ],
      "text/plain": [
       "<IPython.core.display.Javascript object>"
      ]
     },
     "metadata": {},
     "output_type": "display_data"
    }
   ],
   "source": [
    "df_2010.to_csv(\"df_2010.csv\")"
   ]
  },
  {
   "cell_type": "markdown",
   "id": "49da208f",
   "metadata": {},
   "source": [
    "# 2011"
   ]
  },
  {
   "cell_type": "code",
   "execution_count": 132,
   "id": "09d2b291",
   "metadata": {},
   "outputs": [
    {
     "data": {
      "application/javascript": [
       "\n",
       "            setTimeout(function() {\n",
       "                var nbb_cell_id = 132;\n",
       "                var nbb_unformatted_code = \"ac_2011 = pd.read_csv(\\\"csv/ac_2011.csv\\\")\\nAL_2011 = pd.read_csv(\\\"csv/AL_2011.csv\\\")\\nAP_2011 = pd.read_csv(\\\"csv/AP_2011.csv\\\")\\nAM_2011 = pd.read_csv(\\\"csv/AM_2011.csv\\\")\\nBA_2011 = pd.read_csv(\\\"csv/BA_2011.csv\\\")\\nCE_2011 = pd.read_csv(\\\"csv/CE_2011.csv\\\")\\nDF_2011 = pd.read_csv(\\\"csv/DF_2011.csv\\\")\\nES_2011 = pd.read_csv(\\\"csv/ES_2011.csv\\\")\\nGO_2011 = pd.read_csv(\\\"csv/GO_2011.csv\\\")\\nMA_2011 = pd.read_csv(\\\"csv/MA_2011.csv\\\")\\nMT_2011 = pd.read_csv(\\\"csv/MT_2011.csv\\\")\\nMS_2011 = pd.read_csv(\\\"csv/MS_2011.csv\\\")\\nMG_2011 = pd.read_csv(\\\"csv/MG_2011.csv\\\")\\nPA_2011 = pd.read_csv(\\\"csv/PA_2011.csv\\\")\\nPB_2011 = pd.read_csv(\\\"csv/PB_2011.csv\\\")\\nPR_2011 = pd.read_csv(\\\"csv/PR_2011.csv\\\")\\nPE_2011 = pd.read_csv(\\\"csv/PE_2011.csv\\\")\\nPI_2011 = pd.read_csv(\\\"csv/PI_2011.csv\\\")\\nRJ_2011 = pd.read_csv(\\\"csv/RJ_2011.csv\\\")\\nRN_2011 = pd.read_csv(\\\"csv/RN_2011.csv\\\")\\nRS_2011 = pd.read_csv(\\\"csv/RS_2011.csv\\\")\\nRO_2011 = pd.read_csv(\\\"csv/RO_2011.csv\\\")\\nRR_2011 = pd.read_csv(\\\"csv/RR_2011.csv\\\")\\nSC_2011 = pd.read_csv(\\\"csv/SC_2011.csv\\\")\\nSP_2011 = pd.read_csv(\\\"csv/SP_2011.csv\\\")\\nSE_2011 = pd.read_csv(\\\"csv/SE_2011.csv\\\")\\nTO_2011 = pd.read_csv(\\\"csv/TO_2011.csv\\\")\";\n",
       "                var nbb_formatted_code = \"ac_2011 = pd.read_csv(\\\"csv/ac_2011.csv\\\")\\nAL_2011 = pd.read_csv(\\\"csv/AL_2011.csv\\\")\\nAP_2011 = pd.read_csv(\\\"csv/AP_2011.csv\\\")\\nAM_2011 = pd.read_csv(\\\"csv/AM_2011.csv\\\")\\nBA_2011 = pd.read_csv(\\\"csv/BA_2011.csv\\\")\\nCE_2011 = pd.read_csv(\\\"csv/CE_2011.csv\\\")\\nDF_2011 = pd.read_csv(\\\"csv/DF_2011.csv\\\")\\nES_2011 = pd.read_csv(\\\"csv/ES_2011.csv\\\")\\nGO_2011 = pd.read_csv(\\\"csv/GO_2011.csv\\\")\\nMA_2011 = pd.read_csv(\\\"csv/MA_2011.csv\\\")\\nMT_2011 = pd.read_csv(\\\"csv/MT_2011.csv\\\")\\nMS_2011 = pd.read_csv(\\\"csv/MS_2011.csv\\\")\\nMG_2011 = pd.read_csv(\\\"csv/MG_2011.csv\\\")\\nPA_2011 = pd.read_csv(\\\"csv/PA_2011.csv\\\")\\nPB_2011 = pd.read_csv(\\\"csv/PB_2011.csv\\\")\\nPR_2011 = pd.read_csv(\\\"csv/PR_2011.csv\\\")\\nPE_2011 = pd.read_csv(\\\"csv/PE_2011.csv\\\")\\nPI_2011 = pd.read_csv(\\\"csv/PI_2011.csv\\\")\\nRJ_2011 = pd.read_csv(\\\"csv/RJ_2011.csv\\\")\\nRN_2011 = pd.read_csv(\\\"csv/RN_2011.csv\\\")\\nRS_2011 = pd.read_csv(\\\"csv/RS_2011.csv\\\")\\nRO_2011 = pd.read_csv(\\\"csv/RO_2011.csv\\\")\\nRR_2011 = pd.read_csv(\\\"csv/RR_2011.csv\\\")\\nSC_2011 = pd.read_csv(\\\"csv/SC_2011.csv\\\")\\nSP_2011 = pd.read_csv(\\\"csv/SP_2011.csv\\\")\\nSE_2011 = pd.read_csv(\\\"csv/SE_2011.csv\\\")\\nTO_2011 = pd.read_csv(\\\"csv/TO_2011.csv\\\")\";\n",
       "                var nbb_cells = Jupyter.notebook.get_cells();\n",
       "                for (var i = 0; i < nbb_cells.length; ++i) {\n",
       "                    if (nbb_cells[i].input_prompt_number == nbb_cell_id) {\n",
       "                        if (nbb_cells[i].get_text() == nbb_unformatted_code) {\n",
       "                             nbb_cells[i].set_text(nbb_formatted_code);\n",
       "                        }\n",
       "                        break;\n",
       "                    }\n",
       "                }\n",
       "            }, 500);\n",
       "            "
      ],
      "text/plain": [
       "<IPython.core.display.Javascript object>"
      ]
     },
     "metadata": {},
     "output_type": "display_data"
    }
   ],
   "source": [
    "ac_2011 = pd.read_csv(\"csv/ac_2011.csv\")\n",
    "AL_2011 = pd.read_csv(\"csv/AL_2011.csv\")\n",
    "AP_2011 = pd.read_csv(\"csv/AP_2011.csv\")\n",
    "AM_2011 = pd.read_csv(\"csv/AM_2011.csv\")\n",
    "BA_2011 = pd.read_csv(\"csv/BA_2011.csv\")\n",
    "CE_2011 = pd.read_csv(\"csv/CE_2011.csv\")\n",
    "DF_2011 = pd.read_csv(\"csv/DF_2011.csv\")\n",
    "ES_2011 = pd.read_csv(\"csv/ES_2011.csv\")\n",
    "GO_2011 = pd.read_csv(\"csv/GO_2011.csv\")\n",
    "MA_2011 = pd.read_csv(\"csv/MA_2011.csv\")\n",
    "MT_2011 = pd.read_csv(\"csv/MT_2011.csv\")\n",
    "MS_2011 = pd.read_csv(\"csv/MS_2011.csv\")\n",
    "MG_2011 = pd.read_csv(\"csv/MG_2011.csv\")\n",
    "PA_2011 = pd.read_csv(\"csv/PA_2011.csv\")\n",
    "PB_2011 = pd.read_csv(\"csv/PB_2011.csv\")\n",
    "PR_2011 = pd.read_csv(\"csv/PR_2011.csv\")\n",
    "PE_2011 = pd.read_csv(\"csv/PE_2011.csv\")\n",
    "PI_2011 = pd.read_csv(\"csv/PI_2011.csv\")\n",
    "RJ_2011 = pd.read_csv(\"csv/RJ_2011.csv\")\n",
    "RN_2011 = pd.read_csv(\"csv/RN_2011.csv\")\n",
    "RS_2011 = pd.read_csv(\"csv/RS_2011.csv\")\n",
    "RO_2011 = pd.read_csv(\"csv/RO_2011.csv\")\n",
    "RR_2011 = pd.read_csv(\"csv/RR_2011.csv\")\n",
    "SC_2011 = pd.read_csv(\"csv/SC_2011.csv\")\n",
    "SP_2011 = pd.read_csv(\"csv/SP_2011.csv\")\n",
    "SE_2011 = pd.read_csv(\"csv/SE_2011.csv\")\n",
    "TO_2011 = pd.read_csv(\"csv/TO_2011.csv\")"
   ]
  },
  {
   "cell_type": "code",
   "execution_count": 133,
   "id": "6d8e72fb",
   "metadata": {},
   "outputs": [
    {
     "data": {
      "application/javascript": [
       "\n",
       "            setTimeout(function() {\n",
       "                var nbb_cell_id = 133;\n",
       "                var nbb_unformatted_code = \"ac_2011_all=ac_2011[ac_2011['CAUSABAS'].isin(filter_list) | ac_2011['CAUSABAS_O'].isin(filter_list)]\\nAL_2011_all=AL_2011[AL_2011['CAUSABAS'].isin(filter_list) | AL_2011['CAUSABAS_O'].isin(filter_list)]\\nAP_2011_all=AP_2011[AP_2011['CAUSABAS'].isin(filter_list) | AP_2011['CAUSABAS_O'].isin(filter_list)]\\nAM_2011_all=AM_2011[AM_2011['CAUSABAS'].isin(filter_list) | AM_2011['CAUSABAS_O'].isin(filter_list)]\\nBA_2011_all=BA_2011[BA_2011['CAUSABAS'].isin(filter_list) | BA_2011['CAUSABAS_O'].isin(filter_list)]\\nCE_2011_all=CE_2011[CE_2011['CAUSABAS'].isin(filter_list) | CE_2011['CAUSABAS_O'].isin(filter_list)]\\nDF_2011_all=DF_2011[DF_2011['CAUSABAS'].isin(filter_list) | DF_2011['CAUSABAS_O'].isin(filter_list)]\\nES_2011_all=ES_2011[ES_2011['CAUSABAS'].isin(filter_list) | ES_2011['CAUSABAS_O'].isin(filter_list)]\\nGO_2011_all=GO_2011[GO_2011['CAUSABAS'].isin(filter_list) | GO_2011['CAUSABAS_O'].isin(filter_list)]\\nMA_2011_all=MA_2011[MA_2011['CAUSABAS'].isin(filter_list) | MA_2011['CAUSABAS_O'].isin(filter_list)]\\nMT_2011_all=MT_2011[MT_2011['CAUSABAS'].isin(filter_list) | MT_2011['CAUSABAS_O'].isin(filter_list)]\\nMS_2011_all=MS_2011[MS_2011['CAUSABAS'].isin(filter_list) | MS_2011['CAUSABAS_O'].isin(filter_list)]\\nMG_2011_all=MG_2011[MG_2011['CAUSABAS'].isin(filter_list) | MG_2011['CAUSABAS_O'].isin(filter_list)]\\nPA_2011_all=PA_2011[PA_2011['CAUSABAS'].isin(filter_list) | PA_2011['CAUSABAS_O'].isin(filter_list)]\\nPB_2011_all=PB_2011[PB_2011['CAUSABAS'].isin(filter_list) | PB_2011['CAUSABAS_O'].isin(filter_list)]\\nPR_2011_all=PR_2011[PR_2011['CAUSABAS'].isin(filter_list) | PR_2011['CAUSABAS_O'].isin(filter_list)]\\nPE_2011_all=PE_2011[PE_2011['CAUSABAS'].isin(filter_list) | PE_2011['CAUSABAS_O'].isin(filter_list)]\\nPI_2011_all=PI_2011[PI_2011['CAUSABAS'].isin(filter_list) | PI_2011['CAUSABAS_O'].isin(filter_list)]\\nRJ_2011_all=RJ_2011[RJ_2011['CAUSABAS'].isin(filter_list) | RJ_2011['CAUSABAS_O'].isin(filter_list)]\\nRN_2011_all=RN_2011[RN_2011['CAUSABAS'].isin(filter_list) | RN_2011['CAUSABAS_O'].isin(filter_list)]\\nRS_2011_all=RS_2011[RS_2011['CAUSABAS'].isin(filter_list) | RS_2011['CAUSABAS_O'].isin(filter_list)]\\nRO_2011_all=RO_2011[RO_2011['CAUSABAS'].isin(filter_list) | RO_2011['CAUSABAS_O'].isin(filter_list)]\\nRR_2011_all=RR_2011[RR_2011['CAUSABAS'].isin(filter_list) | RR_2011['CAUSABAS_O'].isin(filter_list)]\\nSC_2011_all=SC_2011[SC_2011['CAUSABAS'].isin(filter_list) | SC_2011['CAUSABAS_O'].isin(filter_list)]\\nSP_2011_all=SP_2011[SP_2011['CAUSABAS'].isin(filter_list) | SP_2011['CAUSABAS_O'].isin(filter_list)]\\nSE_2011_all=SE_2011[SE_2011['CAUSABAS'].isin(filter_list) | SE_2011['CAUSABAS_O'].isin(filter_list)]\\nTO_2011_all=TO_2011[TO_2011['CAUSABAS'].isin(filter_list) | TO_2011['CAUSABAS_O'].isin(filter_list)]\";\n",
       "                var nbb_formatted_code = \"ac_2011_all = ac_2011[\\n    ac_2011[\\\"CAUSABAS\\\"].isin(filter_list) | ac_2011[\\\"CAUSABAS_O\\\"].isin(filter_list)\\n]\\nAL_2011_all = AL_2011[\\n    AL_2011[\\\"CAUSABAS\\\"].isin(filter_list) | AL_2011[\\\"CAUSABAS_O\\\"].isin(filter_list)\\n]\\nAP_2011_all = AP_2011[\\n    AP_2011[\\\"CAUSABAS\\\"].isin(filter_list) | AP_2011[\\\"CAUSABAS_O\\\"].isin(filter_list)\\n]\\nAM_2011_all = AM_2011[\\n    AM_2011[\\\"CAUSABAS\\\"].isin(filter_list) | AM_2011[\\\"CAUSABAS_O\\\"].isin(filter_list)\\n]\\nBA_2011_all = BA_2011[\\n    BA_2011[\\\"CAUSABAS\\\"].isin(filter_list) | BA_2011[\\\"CAUSABAS_O\\\"].isin(filter_list)\\n]\\nCE_2011_all = CE_2011[\\n    CE_2011[\\\"CAUSABAS\\\"].isin(filter_list) | CE_2011[\\\"CAUSABAS_O\\\"].isin(filter_list)\\n]\\nDF_2011_all = DF_2011[\\n    DF_2011[\\\"CAUSABAS\\\"].isin(filter_list) | DF_2011[\\\"CAUSABAS_O\\\"].isin(filter_list)\\n]\\nES_2011_all = ES_2011[\\n    ES_2011[\\\"CAUSABAS\\\"].isin(filter_list) | ES_2011[\\\"CAUSABAS_O\\\"].isin(filter_list)\\n]\\nGO_2011_all = GO_2011[\\n    GO_2011[\\\"CAUSABAS\\\"].isin(filter_list) | GO_2011[\\\"CAUSABAS_O\\\"].isin(filter_list)\\n]\\nMA_2011_all = MA_2011[\\n    MA_2011[\\\"CAUSABAS\\\"].isin(filter_list) | MA_2011[\\\"CAUSABAS_O\\\"].isin(filter_list)\\n]\\nMT_2011_all = MT_2011[\\n    MT_2011[\\\"CAUSABAS\\\"].isin(filter_list) | MT_2011[\\\"CAUSABAS_O\\\"].isin(filter_list)\\n]\\nMS_2011_all = MS_2011[\\n    MS_2011[\\\"CAUSABAS\\\"].isin(filter_list) | MS_2011[\\\"CAUSABAS_O\\\"].isin(filter_list)\\n]\\nMG_2011_all = MG_2011[\\n    MG_2011[\\\"CAUSABAS\\\"].isin(filter_list) | MG_2011[\\\"CAUSABAS_O\\\"].isin(filter_list)\\n]\\nPA_2011_all = PA_2011[\\n    PA_2011[\\\"CAUSABAS\\\"].isin(filter_list) | PA_2011[\\\"CAUSABAS_O\\\"].isin(filter_list)\\n]\\nPB_2011_all = PB_2011[\\n    PB_2011[\\\"CAUSABAS\\\"].isin(filter_list) | PB_2011[\\\"CAUSABAS_O\\\"].isin(filter_list)\\n]\\nPR_2011_all = PR_2011[\\n    PR_2011[\\\"CAUSABAS\\\"].isin(filter_list) | PR_2011[\\\"CAUSABAS_O\\\"].isin(filter_list)\\n]\\nPE_2011_all = PE_2011[\\n    PE_2011[\\\"CAUSABAS\\\"].isin(filter_list) | PE_2011[\\\"CAUSABAS_O\\\"].isin(filter_list)\\n]\\nPI_2011_all = PI_2011[\\n    PI_2011[\\\"CAUSABAS\\\"].isin(filter_list) | PI_2011[\\\"CAUSABAS_O\\\"].isin(filter_list)\\n]\\nRJ_2011_all = RJ_2011[\\n    RJ_2011[\\\"CAUSABAS\\\"].isin(filter_list) | RJ_2011[\\\"CAUSABAS_O\\\"].isin(filter_list)\\n]\\nRN_2011_all = RN_2011[\\n    RN_2011[\\\"CAUSABAS\\\"].isin(filter_list) | RN_2011[\\\"CAUSABAS_O\\\"].isin(filter_list)\\n]\\nRS_2011_all = RS_2011[\\n    RS_2011[\\\"CAUSABAS\\\"].isin(filter_list) | RS_2011[\\\"CAUSABAS_O\\\"].isin(filter_list)\\n]\\nRO_2011_all = RO_2011[\\n    RO_2011[\\\"CAUSABAS\\\"].isin(filter_list) | RO_2011[\\\"CAUSABAS_O\\\"].isin(filter_list)\\n]\\nRR_2011_all = RR_2011[\\n    RR_2011[\\\"CAUSABAS\\\"].isin(filter_list) | RR_2011[\\\"CAUSABAS_O\\\"].isin(filter_list)\\n]\\nSC_2011_all = SC_2011[\\n    SC_2011[\\\"CAUSABAS\\\"].isin(filter_list) | SC_2011[\\\"CAUSABAS_O\\\"].isin(filter_list)\\n]\\nSP_2011_all = SP_2011[\\n    SP_2011[\\\"CAUSABAS\\\"].isin(filter_list) | SP_2011[\\\"CAUSABAS_O\\\"].isin(filter_list)\\n]\\nSE_2011_all = SE_2011[\\n    SE_2011[\\\"CAUSABAS\\\"].isin(filter_list) | SE_2011[\\\"CAUSABAS_O\\\"].isin(filter_list)\\n]\\nTO_2011_all = TO_2011[\\n    TO_2011[\\\"CAUSABAS\\\"].isin(filter_list) | TO_2011[\\\"CAUSABAS_O\\\"].isin(filter_list)\\n]\";\n",
       "                var nbb_cells = Jupyter.notebook.get_cells();\n",
       "                for (var i = 0; i < nbb_cells.length; ++i) {\n",
       "                    if (nbb_cells[i].input_prompt_number == nbb_cell_id) {\n",
       "                        if (nbb_cells[i].get_text() == nbb_unformatted_code) {\n",
       "                             nbb_cells[i].set_text(nbb_formatted_code);\n",
       "                        }\n",
       "                        break;\n",
       "                    }\n",
       "                }\n",
       "            }, 500);\n",
       "            "
      ],
      "text/plain": [
       "<IPython.core.display.Javascript object>"
      ]
     },
     "metadata": {},
     "output_type": "display_data"
    }
   ],
   "source": [
    "ac_2011_all=ac_2011[ac_2011['CAUSABAS'].isin(filter_list) | ac_2011['CAUSABAS_O'].isin(filter_list)]\n",
    "AL_2011_all=AL_2011[AL_2011['CAUSABAS'].isin(filter_list) | AL_2011['CAUSABAS_O'].isin(filter_list)]\n",
    "AP_2011_all=AP_2011[AP_2011['CAUSABAS'].isin(filter_list) | AP_2011['CAUSABAS_O'].isin(filter_list)]\n",
    "AM_2011_all=AM_2011[AM_2011['CAUSABAS'].isin(filter_list) | AM_2011['CAUSABAS_O'].isin(filter_list)]\n",
    "BA_2011_all=BA_2011[BA_2011['CAUSABAS'].isin(filter_list) | BA_2011['CAUSABAS_O'].isin(filter_list)]\n",
    "CE_2011_all=CE_2011[CE_2011['CAUSABAS'].isin(filter_list) | CE_2011['CAUSABAS_O'].isin(filter_list)]\n",
    "DF_2011_all=DF_2011[DF_2011['CAUSABAS'].isin(filter_list) | DF_2011['CAUSABAS_O'].isin(filter_list)]\n",
    "ES_2011_all=ES_2011[ES_2011['CAUSABAS'].isin(filter_list) | ES_2011['CAUSABAS_O'].isin(filter_list)]\n",
    "GO_2011_all=GO_2011[GO_2011['CAUSABAS'].isin(filter_list) | GO_2011['CAUSABAS_O'].isin(filter_list)]\n",
    "MA_2011_all=MA_2011[MA_2011['CAUSABAS'].isin(filter_list) | MA_2011['CAUSABAS_O'].isin(filter_list)]\n",
    "MT_2011_all=MT_2011[MT_2011['CAUSABAS'].isin(filter_list) | MT_2011['CAUSABAS_O'].isin(filter_list)]\n",
    "MS_2011_all=MS_2011[MS_2011['CAUSABAS'].isin(filter_list) | MS_2011['CAUSABAS_O'].isin(filter_list)]\n",
    "MG_2011_all=MG_2011[MG_2011['CAUSABAS'].isin(filter_list) | MG_2011['CAUSABAS_O'].isin(filter_list)]\n",
    "PA_2011_all=PA_2011[PA_2011['CAUSABAS'].isin(filter_list) | PA_2011['CAUSABAS_O'].isin(filter_list)]\n",
    "PB_2011_all=PB_2011[PB_2011['CAUSABAS'].isin(filter_list) | PB_2011['CAUSABAS_O'].isin(filter_list)]\n",
    "PR_2011_all=PR_2011[PR_2011['CAUSABAS'].isin(filter_list) | PR_2011['CAUSABAS_O'].isin(filter_list)]\n",
    "PE_2011_all=PE_2011[PE_2011['CAUSABAS'].isin(filter_list) | PE_2011['CAUSABAS_O'].isin(filter_list)]\n",
    "PI_2011_all=PI_2011[PI_2011['CAUSABAS'].isin(filter_list) | PI_2011['CAUSABAS_O'].isin(filter_list)]\n",
    "RJ_2011_all=RJ_2011[RJ_2011['CAUSABAS'].isin(filter_list) | RJ_2011['CAUSABAS_O'].isin(filter_list)]\n",
    "RN_2011_all=RN_2011[RN_2011['CAUSABAS'].isin(filter_list) | RN_2011['CAUSABAS_O'].isin(filter_list)]\n",
    "RS_2011_all=RS_2011[RS_2011['CAUSABAS'].isin(filter_list) | RS_2011['CAUSABAS_O'].isin(filter_list)]\n",
    "RO_2011_all=RO_2011[RO_2011['CAUSABAS'].isin(filter_list) | RO_2011['CAUSABAS_O'].isin(filter_list)]\n",
    "RR_2011_all=RR_2011[RR_2011['CAUSABAS'].isin(filter_list) | RR_2011['CAUSABAS_O'].isin(filter_list)]\n",
    "SC_2011_all=SC_2011[SC_2011['CAUSABAS'].isin(filter_list) | SC_2011['CAUSABAS_O'].isin(filter_list)]\n",
    "SP_2011_all=SP_2011[SP_2011['CAUSABAS'].isin(filter_list) | SP_2011['CAUSABAS_O'].isin(filter_list)]\n",
    "SE_2011_all=SE_2011[SE_2011['CAUSABAS'].isin(filter_list) | SE_2011['CAUSABAS_O'].isin(filter_list)]\n",
    "TO_2011_all=TO_2011[TO_2011['CAUSABAS'].isin(filter_list) | TO_2011['CAUSABAS_O'].isin(filter_list)]\n"
   ]
  },
  {
   "cell_type": "code",
   "execution_count": 134,
   "id": "5d8de9b2",
   "metadata": {},
   "outputs": [
    {
     "data": {
      "application/javascript": [
       "\n",
       "            setTimeout(function() {\n",
       "                var nbb_cell_id = 134;\n",
       "                var nbb_unformatted_code = \"df_2011 = pd.concat(\\n    [\\n        ac_2011_all,\\n        AL_2011_all,\\n        AP_2011_all,\\n        AM_2011_all,\\n        BA_2011_all,\\n        CE_2011_all,\\n        DF_2011_all,\\n        ES_2011_all,\\n        GO_2011_all,\\n        MA_2011_all,\\n        MT_2011_all,\\n        MS_2011_all,\\n        MG_2011_all,\\n        PA_2011_all,\\n        PB_2011_all,\\n        PR_2011_all,\\n        PE_2011_all,\\n        PI_2011_all,\\n        RJ_2011_all,\\n        RN_2011_all,\\n        RS_2011_all,\\n        RO_2011_all,\\n        RR_2011_all,\\n        SC_2011_all,\\n        SP_2011_all,\\n        SE_2011_all,\\n        TO_2011_all,\\n    ]\\n).reset_index()\";\n",
       "                var nbb_formatted_code = \"df_2011 = pd.concat(\\n    [\\n        ac_2011_all,\\n        AL_2011_all,\\n        AP_2011_all,\\n        AM_2011_all,\\n        BA_2011_all,\\n        CE_2011_all,\\n        DF_2011_all,\\n        ES_2011_all,\\n        GO_2011_all,\\n        MA_2011_all,\\n        MT_2011_all,\\n        MS_2011_all,\\n        MG_2011_all,\\n        PA_2011_all,\\n        PB_2011_all,\\n        PR_2011_all,\\n        PE_2011_all,\\n        PI_2011_all,\\n        RJ_2011_all,\\n        RN_2011_all,\\n        RS_2011_all,\\n        RO_2011_all,\\n        RR_2011_all,\\n        SC_2011_all,\\n        SP_2011_all,\\n        SE_2011_all,\\n        TO_2011_all,\\n    ]\\n).reset_index()\";\n",
       "                var nbb_cells = Jupyter.notebook.get_cells();\n",
       "                for (var i = 0; i < nbb_cells.length; ++i) {\n",
       "                    if (nbb_cells[i].input_prompt_number == nbb_cell_id) {\n",
       "                        if (nbb_cells[i].get_text() == nbb_unformatted_code) {\n",
       "                             nbb_cells[i].set_text(nbb_formatted_code);\n",
       "                        }\n",
       "                        break;\n",
       "                    }\n",
       "                }\n",
       "            }, 500);\n",
       "            "
      ],
      "text/plain": [
       "<IPython.core.display.Javascript object>"
      ]
     },
     "metadata": {},
     "output_type": "display_data"
    }
   ],
   "source": [
    "df_2011 = pd.concat(\n",
    "    [\n",
    "        ac_2011_all,\n",
    "        AL_2011_all,\n",
    "        AP_2011_all,\n",
    "        AM_2011_all,\n",
    "        BA_2011_all,\n",
    "        CE_2011_all,\n",
    "        DF_2011_all,\n",
    "        ES_2011_all,\n",
    "        GO_2011_all,\n",
    "        MA_2011_all,\n",
    "        MT_2011_all,\n",
    "        MS_2011_all,\n",
    "        MG_2011_all,\n",
    "        PA_2011_all,\n",
    "        PB_2011_all,\n",
    "        PR_2011_all,\n",
    "        PE_2011_all,\n",
    "        PI_2011_all,\n",
    "        RJ_2011_all,\n",
    "        RN_2011_all,\n",
    "        RS_2011_all,\n",
    "        RO_2011_all,\n",
    "        RR_2011_all,\n",
    "        SC_2011_all,\n",
    "        SP_2011_all,\n",
    "        SE_2011_all,\n",
    "        TO_2011_all,\n",
    "    ]\n",
    ").reset_index()"
   ]
  },
  {
   "cell_type": "code",
   "execution_count": 136,
   "id": "bc091c92",
   "metadata": {},
   "outputs": [
    {
     "name": "stdout",
     "output_type": "stream",
     "text": [
      "<class 'pandas.core.frame.DataFrame'>\n",
      "RangeIndex: 9855 entries, 0 to 9854\n",
      "Data columns (total 18 columns):\n",
      " #   Column      Non-Null Count  Dtype  \n",
      "---  ------      --------------  -----  \n",
      " 0   index       9855 non-null   int64  \n",
      " 1   Unnamed: 0  9855 non-null   int64  \n",
      " 2   estado      9855 non-null   object \n",
      " 3   ano         9855 non-null   int64  \n",
      " 4   DTOBITO     9855 non-null   int64  \n",
      " 5   DTNASC      9787 non-null   float64\n",
      " 6   SEXO        9855 non-null   int64  \n",
      " 7   RACACOR     9437 non-null   float64\n",
      " 8   ASSISTMED   6853 non-null   float64\n",
      " 9   ESCMAE      0 non-null      float64\n",
      " 10  ESTCIV      9488 non-null   float64\n",
      " 11  ESC         9278 non-null   float64\n",
      " 12  OCUP        7313 non-null   float64\n",
      " 13  CODMUNRES   9855 non-null   int64  \n",
      " 14  CAUSABAS    9855 non-null   object \n",
      " 15  CAUSABAS_O  9827 non-null   object \n",
      " 16  LOCOCOR     9855 non-null   int64  \n",
      " 17  CIRURGIA    2291 non-null   float64\n",
      "dtypes: float64(8), int64(7), object(3)\n",
      "memory usage: 1.4+ MB\n"
     ]
    },
    {
     "data": {
      "application/javascript": [
       "\n",
       "            setTimeout(function() {\n",
       "                var nbb_cell_id = 136;\n",
       "                var nbb_unformatted_code = \"df_2011.info()\";\n",
       "                var nbb_formatted_code = \"df_2011.info()\";\n",
       "                var nbb_cells = Jupyter.notebook.get_cells();\n",
       "                for (var i = 0; i < nbb_cells.length; ++i) {\n",
       "                    if (nbb_cells[i].input_prompt_number == nbb_cell_id) {\n",
       "                        if (nbb_cells[i].get_text() == nbb_unformatted_code) {\n",
       "                             nbb_cells[i].set_text(nbb_formatted_code);\n",
       "                        }\n",
       "                        break;\n",
       "                    }\n",
       "                }\n",
       "            }, 500);\n",
       "            "
      ],
      "text/plain": [
       "<IPython.core.display.Javascript object>"
      ]
     },
     "metadata": {},
     "output_type": "display_data"
    }
   ],
   "source": [
    "df_2011.info()"
   ]
  },
  {
   "cell_type": "code",
   "execution_count": 137,
   "id": "c2b00a33",
   "metadata": {},
   "outputs": [
    {
     "data": {
      "application/javascript": [
       "\n",
       "            setTimeout(function() {\n",
       "                var nbb_cell_id = 137;\n",
       "                var nbb_unformatted_code = \"df_2011.to_csv(\\\"df_2011.csv\\\")\";\n",
       "                var nbb_formatted_code = \"df_2011.to_csv(\\\"df_2011.csv\\\")\";\n",
       "                var nbb_cells = Jupyter.notebook.get_cells();\n",
       "                for (var i = 0; i < nbb_cells.length; ++i) {\n",
       "                    if (nbb_cells[i].input_prompt_number == nbb_cell_id) {\n",
       "                        if (nbb_cells[i].get_text() == nbb_unformatted_code) {\n",
       "                             nbb_cells[i].set_text(nbb_formatted_code);\n",
       "                        }\n",
       "                        break;\n",
       "                    }\n",
       "                }\n",
       "            }, 500);\n",
       "            "
      ],
      "text/plain": [
       "<IPython.core.display.Javascript object>"
      ]
     },
     "metadata": {},
     "output_type": "display_data"
    }
   ],
   "source": [
    "df_2011.to_csv(\"df_2011.csv\")"
   ]
  },
  {
   "cell_type": "markdown",
   "id": "8d388669",
   "metadata": {},
   "source": [
    "# 2012"
   ]
  },
  {
   "cell_type": "code",
   "execution_count": 138,
   "id": "d13d958f",
   "metadata": {},
   "outputs": [
    {
     "data": {
      "application/javascript": [
       "\n",
       "            setTimeout(function() {\n",
       "                var nbb_cell_id = 138;\n",
       "                var nbb_unformatted_code = \"ac_2012=pd.read_csv('csv/ac_2012.csv')\\nAL_2012=pd.read_csv('csv/AL_2012.csv')\\nAP_2012=pd.read_csv('csv/AP_2012.csv')\\nAM_2012=pd.read_csv('csv/AM_2012.csv')\\nBA_2012=pd.read_csv('csv/BA_2012.csv')\\nCE_2012=pd.read_csv('csv/CE_2012.csv')\\nDF_2012=pd.read_csv('csv/DF_2012.csv')\\nES_2012=pd.read_csv('csv/ES_2012.csv')\\nGO_2012=pd.read_csv('csv/GO_2012.csv')\\nMA_2012=pd.read_csv('csv/MA_2012.csv')\\nMT_2012=pd.read_csv('csv/MT_2012.csv')\\nMS_2012=pd.read_csv('csv/MS_2012.csv')\\nMG_2012=pd.read_csv('csv/MG_2012.csv')\\nPA_2012=pd.read_csv('csv/PA_2012.csv')\\nPB_2012=pd.read_csv('csv/PB_2012.csv')\\nPR_2012=pd.read_csv('csv/PR_2012.csv')\\nPE_2012=pd.read_csv('csv/PE_2012.csv')\\nPI_2012=pd.read_csv('csv/PI_2012.csv')\\nRJ_2012=pd.read_csv('csv/RJ_2012.csv')\\nRN_2012=pd.read_csv('csv/RN_2012.csv')\\nRS_2012=pd.read_csv('csv/RS_2012.csv')\\nRO_2012=pd.read_csv('csv/RO_2012.csv')\\nRR_2012=pd.read_csv('csv/RR_2012.csv')\\nSC_2012=pd.read_csv('csv/SC_2012.csv')\\nSP_2012=pd.read_csv('csv/SP_2012.csv')\\nSE_2012=pd.read_csv('csv/SE_2012.csv')\\nTO_2012=pd.read_csv('csv/TO_2012.csv')\";\n",
       "                var nbb_formatted_code = \"ac_2012 = pd.read_csv(\\\"csv/ac_2012.csv\\\")\\nAL_2012 = pd.read_csv(\\\"csv/AL_2012.csv\\\")\\nAP_2012 = pd.read_csv(\\\"csv/AP_2012.csv\\\")\\nAM_2012 = pd.read_csv(\\\"csv/AM_2012.csv\\\")\\nBA_2012 = pd.read_csv(\\\"csv/BA_2012.csv\\\")\\nCE_2012 = pd.read_csv(\\\"csv/CE_2012.csv\\\")\\nDF_2012 = pd.read_csv(\\\"csv/DF_2012.csv\\\")\\nES_2012 = pd.read_csv(\\\"csv/ES_2012.csv\\\")\\nGO_2012 = pd.read_csv(\\\"csv/GO_2012.csv\\\")\\nMA_2012 = pd.read_csv(\\\"csv/MA_2012.csv\\\")\\nMT_2012 = pd.read_csv(\\\"csv/MT_2012.csv\\\")\\nMS_2012 = pd.read_csv(\\\"csv/MS_2012.csv\\\")\\nMG_2012 = pd.read_csv(\\\"csv/MG_2012.csv\\\")\\nPA_2012 = pd.read_csv(\\\"csv/PA_2012.csv\\\")\\nPB_2012 = pd.read_csv(\\\"csv/PB_2012.csv\\\")\\nPR_2012 = pd.read_csv(\\\"csv/PR_2012.csv\\\")\\nPE_2012 = pd.read_csv(\\\"csv/PE_2012.csv\\\")\\nPI_2012 = pd.read_csv(\\\"csv/PI_2012.csv\\\")\\nRJ_2012 = pd.read_csv(\\\"csv/RJ_2012.csv\\\")\\nRN_2012 = pd.read_csv(\\\"csv/RN_2012.csv\\\")\\nRS_2012 = pd.read_csv(\\\"csv/RS_2012.csv\\\")\\nRO_2012 = pd.read_csv(\\\"csv/RO_2012.csv\\\")\\nRR_2012 = pd.read_csv(\\\"csv/RR_2012.csv\\\")\\nSC_2012 = pd.read_csv(\\\"csv/SC_2012.csv\\\")\\nSP_2012 = pd.read_csv(\\\"csv/SP_2012.csv\\\")\\nSE_2012 = pd.read_csv(\\\"csv/SE_2012.csv\\\")\\nTO_2012 = pd.read_csv(\\\"csv/TO_2012.csv\\\")\";\n",
       "                var nbb_cells = Jupyter.notebook.get_cells();\n",
       "                for (var i = 0; i < nbb_cells.length; ++i) {\n",
       "                    if (nbb_cells[i].input_prompt_number == nbb_cell_id) {\n",
       "                        if (nbb_cells[i].get_text() == nbb_unformatted_code) {\n",
       "                             nbb_cells[i].set_text(nbb_formatted_code);\n",
       "                        }\n",
       "                        break;\n",
       "                    }\n",
       "                }\n",
       "            }, 500);\n",
       "            "
      ],
      "text/plain": [
       "<IPython.core.display.Javascript object>"
      ]
     },
     "metadata": {},
     "output_type": "display_data"
    }
   ],
   "source": [
    "ac_2012 = pd.read_csv(\"csv/ac_2012.csv\")\n",
    "AL_2012 = pd.read_csv(\"csv/AL_2012.csv\")\n",
    "AP_2012 = pd.read_csv(\"csv/AP_2012.csv\")\n",
    "AM_2012 = pd.read_csv(\"csv/AM_2012.csv\")\n",
    "BA_2012 = pd.read_csv(\"csv/BA_2012.csv\")\n",
    "CE_2012 = pd.read_csv(\"csv/CE_2012.csv\")\n",
    "DF_2012 = pd.read_csv(\"csv/DF_2012.csv\")\n",
    "ES_2012 = pd.read_csv(\"csv/ES_2012.csv\")\n",
    "GO_2012 = pd.read_csv(\"csv/GO_2012.csv\")\n",
    "MA_2012 = pd.read_csv(\"csv/MA_2012.csv\")\n",
    "MT_2012 = pd.read_csv(\"csv/MT_2012.csv\")\n",
    "MS_2012 = pd.read_csv(\"csv/MS_2012.csv\")\n",
    "MG_2012 = pd.read_csv(\"csv/MG_2012.csv\")\n",
    "PA_2012 = pd.read_csv(\"csv/PA_2012.csv\")\n",
    "PB_2012 = pd.read_csv(\"csv/PB_2012.csv\")\n",
    "PR_2012 = pd.read_csv(\"csv/PR_2012.csv\")\n",
    "PE_2012 = pd.read_csv(\"csv/PE_2012.csv\")\n",
    "PI_2012 = pd.read_csv(\"csv/PI_2012.csv\")\n",
    "RJ_2012 = pd.read_csv(\"csv/RJ_2012.csv\")\n",
    "RN_2012 = pd.read_csv(\"csv/RN_2012.csv\")\n",
    "RS_2012 = pd.read_csv(\"csv/RS_2012.csv\")\n",
    "RO_2012 = pd.read_csv(\"csv/RO_2012.csv\")\n",
    "RR_2012 = pd.read_csv(\"csv/RR_2012.csv\")\n",
    "SC_2012 = pd.read_csv(\"csv/SC_2012.csv\")\n",
    "SP_2012 = pd.read_csv(\"csv/SP_2012.csv\")\n",
    "SE_2012 = pd.read_csv(\"csv/SE_2012.csv\")\n",
    "TO_2012 = pd.read_csv(\"csv/TO_2012.csv\")"
   ]
  },
  {
   "cell_type": "code",
   "execution_count": 140,
   "id": "b7cf2a0a",
   "metadata": {},
   "outputs": [
    {
     "data": {
      "application/javascript": [
       "\n",
       "            setTimeout(function() {\n",
       "                var nbb_cell_id = 140;\n",
       "                var nbb_unformatted_code = \"ac_2012_all=ac_2012[ac_2012['CAUSABAS'].isin(filter_list) | ac_2012['CAUSABAS_O'].isin(filter_list)]\\nAL_2012_all=AL_2012[AL_2012['CAUSABAS'].isin(filter_list) | AL_2012['CAUSABAS_O'].isin(filter_list)]\\nAP_2012_all=AP_2012[AP_2012['CAUSABAS'].isin(filter_list) | AP_2012['CAUSABAS_O'].isin(filter_list)]\\nAM_2012_all=AM_2012[AM_2012['CAUSABAS'].isin(filter_list) | AM_2012['CAUSABAS_O'].isin(filter_list)]\\nBA_2012_all=BA_2012[BA_2012['CAUSABAS'].isin(filter_list) | BA_2012['CAUSABAS_O'].isin(filter_list)]\\nCE_2012_all=CE_2012[CE_2012['CAUSABAS'].isin(filter_list) | CE_2012['CAUSABAS_O'].isin(filter_list)]\\nDF_2012_all=DF_2012[DF_2012['CAUSABAS'].isin(filter_list) | DF_2012['CAUSABAS_O'].isin(filter_list)]\\nES_2012_all=ES_2012[ES_2012['CAUSABAS'].isin(filter_list) | ES_2012['CAUSABAS_O'].isin(filter_list)]\\nGO_2012_all=GO_2012[GO_2012['CAUSABAS'].isin(filter_list) | GO_2012['CAUSABAS_O'].isin(filter_list)]\\nMA_2012_all=MA_2012[MA_2012['CAUSABAS'].isin(filter_list) | MA_2012['CAUSABAS_O'].isin(filter_list)]\\nMT_2012_all=MT_2012[MT_2012['CAUSABAS'].isin(filter_list) | MT_2012['CAUSABAS_O'].isin(filter_list)]\\nMS_2012_all=MS_2012[MS_2012['CAUSABAS'].isin(filter_list) | MS_2012['CAUSABAS_O'].isin(filter_list)]\\nMG_2012_all=MG_2012[MG_2012['CAUSABAS'].isin(filter_list) | MG_2012['CAUSABAS_O'].isin(filter_list)]\\nPA_2012_all=PA_2012[PA_2012['CAUSABAS'].isin(filter_list) | PA_2012['CAUSABAS_O'].isin(filter_list)]\\nPB_2012_all=PB_2012[PB_2012['CAUSABAS'].isin(filter_list) | PB_2012['CAUSABAS_O'].isin(filter_list)]\\nPR_2012_all=PR_2012[PR_2012['CAUSABAS'].isin(filter_list) | PR_2012['CAUSABAS_O'].isin(filter_list)]\\nPE_2012_all=PE_2012[PE_2012['CAUSABAS'].isin(filter_list) | PE_2012['CAUSABAS_O'].isin(filter_list)]\\nPI_2012_all=PI_2012[PI_2012['CAUSABAS'].isin(filter_list) | PI_2012['CAUSABAS_O'].isin(filter_list)]\\nRJ_2012_all=RJ_2012[RJ_2012['CAUSABAS'].isin(filter_list) | RJ_2012['CAUSABAS_O'].isin(filter_list)]\\nRN_2012_all=RN_2012[RN_2012['CAUSABAS'].isin(filter_list) | RN_2012['CAUSABAS_O'].isin(filter_list)]\\nRS_2012_all=RS_2012[RS_2012['CAUSABAS'].isin(filter_list) | RS_2012['CAUSABAS_O'].isin(filter_list)]\\nRO_2012_all=RO_2012[RO_2012['CAUSABAS'].isin(filter_list) | RO_2012['CAUSABAS_O'].isin(filter_list)]\\nRR_2012_all=RR_2012[RR_2012['CAUSABAS'].isin(filter_list) | RR_2012['CAUSABAS_O'].isin(filter_list)]\\nSC_2012_all=SC_2012[SC_2012['CAUSABAS'].isin(filter_list) | SC_2012['CAUSABAS_O'].isin(filter_list)]\\nSP_2012_all=SP_2012[SP_2012['CAUSABAS'].isin(filter_list) | SP_2012['CAUSABAS_O'].isin(filter_list)]\\nSE_2012_all=SE_2012[SE_2012['CAUSABAS'].isin(filter_list) | SE_2012['CAUSABAS_O'].isin(filter_list)]\\nTO_2012_all=TO_2012[TO_2012['CAUSABAS'].isin(filter_list) | TO_2012['CAUSABAS_O'].isin(filter_list)]\";\n",
       "                var nbb_formatted_code = \"ac_2012_all = ac_2012[\\n    ac_2012[\\\"CAUSABAS\\\"].isin(filter_list) | ac_2012[\\\"CAUSABAS_O\\\"].isin(filter_list)\\n]\\nAL_2012_all = AL_2012[\\n    AL_2012[\\\"CAUSABAS\\\"].isin(filter_list) | AL_2012[\\\"CAUSABAS_O\\\"].isin(filter_list)\\n]\\nAP_2012_all = AP_2012[\\n    AP_2012[\\\"CAUSABAS\\\"].isin(filter_list) | AP_2012[\\\"CAUSABAS_O\\\"].isin(filter_list)\\n]\\nAM_2012_all = AM_2012[\\n    AM_2012[\\\"CAUSABAS\\\"].isin(filter_list) | AM_2012[\\\"CAUSABAS_O\\\"].isin(filter_list)\\n]\\nBA_2012_all = BA_2012[\\n    BA_2012[\\\"CAUSABAS\\\"].isin(filter_list) | BA_2012[\\\"CAUSABAS_O\\\"].isin(filter_list)\\n]\\nCE_2012_all = CE_2012[\\n    CE_2012[\\\"CAUSABAS\\\"].isin(filter_list) | CE_2012[\\\"CAUSABAS_O\\\"].isin(filter_list)\\n]\\nDF_2012_all = DF_2012[\\n    DF_2012[\\\"CAUSABAS\\\"].isin(filter_list) | DF_2012[\\\"CAUSABAS_O\\\"].isin(filter_list)\\n]\\nES_2012_all = ES_2012[\\n    ES_2012[\\\"CAUSABAS\\\"].isin(filter_list) | ES_2012[\\\"CAUSABAS_O\\\"].isin(filter_list)\\n]\\nGO_2012_all = GO_2012[\\n    GO_2012[\\\"CAUSABAS\\\"].isin(filter_list) | GO_2012[\\\"CAUSABAS_O\\\"].isin(filter_list)\\n]\\nMA_2012_all = MA_2012[\\n    MA_2012[\\\"CAUSABAS\\\"].isin(filter_list) | MA_2012[\\\"CAUSABAS_O\\\"].isin(filter_list)\\n]\\nMT_2012_all = MT_2012[\\n    MT_2012[\\\"CAUSABAS\\\"].isin(filter_list) | MT_2012[\\\"CAUSABAS_O\\\"].isin(filter_list)\\n]\\nMS_2012_all = MS_2012[\\n    MS_2012[\\\"CAUSABAS\\\"].isin(filter_list) | MS_2012[\\\"CAUSABAS_O\\\"].isin(filter_list)\\n]\\nMG_2012_all = MG_2012[\\n    MG_2012[\\\"CAUSABAS\\\"].isin(filter_list) | MG_2012[\\\"CAUSABAS_O\\\"].isin(filter_list)\\n]\\nPA_2012_all = PA_2012[\\n    PA_2012[\\\"CAUSABAS\\\"].isin(filter_list) | PA_2012[\\\"CAUSABAS_O\\\"].isin(filter_list)\\n]\\nPB_2012_all = PB_2012[\\n    PB_2012[\\\"CAUSABAS\\\"].isin(filter_list) | PB_2012[\\\"CAUSABAS_O\\\"].isin(filter_list)\\n]\\nPR_2012_all = PR_2012[\\n    PR_2012[\\\"CAUSABAS\\\"].isin(filter_list) | PR_2012[\\\"CAUSABAS_O\\\"].isin(filter_list)\\n]\\nPE_2012_all = PE_2012[\\n    PE_2012[\\\"CAUSABAS\\\"].isin(filter_list) | PE_2012[\\\"CAUSABAS_O\\\"].isin(filter_list)\\n]\\nPI_2012_all = PI_2012[\\n    PI_2012[\\\"CAUSABAS\\\"].isin(filter_list) | PI_2012[\\\"CAUSABAS_O\\\"].isin(filter_list)\\n]\\nRJ_2012_all = RJ_2012[\\n    RJ_2012[\\\"CAUSABAS\\\"].isin(filter_list) | RJ_2012[\\\"CAUSABAS_O\\\"].isin(filter_list)\\n]\\nRN_2012_all = RN_2012[\\n    RN_2012[\\\"CAUSABAS\\\"].isin(filter_list) | RN_2012[\\\"CAUSABAS_O\\\"].isin(filter_list)\\n]\\nRS_2012_all = RS_2012[\\n    RS_2012[\\\"CAUSABAS\\\"].isin(filter_list) | RS_2012[\\\"CAUSABAS_O\\\"].isin(filter_list)\\n]\\nRO_2012_all = RO_2012[\\n    RO_2012[\\\"CAUSABAS\\\"].isin(filter_list) | RO_2012[\\\"CAUSABAS_O\\\"].isin(filter_list)\\n]\\nRR_2012_all = RR_2012[\\n    RR_2012[\\\"CAUSABAS\\\"].isin(filter_list) | RR_2012[\\\"CAUSABAS_O\\\"].isin(filter_list)\\n]\\nSC_2012_all = SC_2012[\\n    SC_2012[\\\"CAUSABAS\\\"].isin(filter_list) | SC_2012[\\\"CAUSABAS_O\\\"].isin(filter_list)\\n]\\nSP_2012_all = SP_2012[\\n    SP_2012[\\\"CAUSABAS\\\"].isin(filter_list) | SP_2012[\\\"CAUSABAS_O\\\"].isin(filter_list)\\n]\\nSE_2012_all = SE_2012[\\n    SE_2012[\\\"CAUSABAS\\\"].isin(filter_list) | SE_2012[\\\"CAUSABAS_O\\\"].isin(filter_list)\\n]\\nTO_2012_all = TO_2012[\\n    TO_2012[\\\"CAUSABAS\\\"].isin(filter_list) | TO_2012[\\\"CAUSABAS_O\\\"].isin(filter_list)\\n]\";\n",
       "                var nbb_cells = Jupyter.notebook.get_cells();\n",
       "                for (var i = 0; i < nbb_cells.length; ++i) {\n",
       "                    if (nbb_cells[i].input_prompt_number == nbb_cell_id) {\n",
       "                        if (nbb_cells[i].get_text() == nbb_unformatted_code) {\n",
       "                             nbb_cells[i].set_text(nbb_formatted_code);\n",
       "                        }\n",
       "                        break;\n",
       "                    }\n",
       "                }\n",
       "            }, 500);\n",
       "            "
      ],
      "text/plain": [
       "<IPython.core.display.Javascript object>"
      ]
     },
     "metadata": {},
     "output_type": "display_data"
    }
   ],
   "source": [
    "ac_2012_all = ac_2012[\n",
    "    ac_2012[\"CAUSABAS\"].isin(filter_list) | ac_2012[\"CAUSABAS_O\"].isin(filter_list)\n",
    "]\n",
    "AL_2012_all = AL_2012[\n",
    "    AL_2012[\"CAUSABAS\"].isin(filter_list) | AL_2012[\"CAUSABAS_O\"].isin(filter_list)\n",
    "]\n",
    "AP_2012_all = AP_2012[\n",
    "    AP_2012[\"CAUSABAS\"].isin(filter_list) | AP_2012[\"CAUSABAS_O\"].isin(filter_list)\n",
    "]\n",
    "AM_2012_all = AM_2012[\n",
    "    AM_2012[\"CAUSABAS\"].isin(filter_list) | AM_2012[\"CAUSABAS_O\"].isin(filter_list)\n",
    "]\n",
    "BA_2012_all = BA_2012[\n",
    "    BA_2012[\"CAUSABAS\"].isin(filter_list) | BA_2012[\"CAUSABAS_O\"].isin(filter_list)\n",
    "]\n",
    "CE_2012_all = CE_2012[\n",
    "    CE_2012[\"CAUSABAS\"].isin(filter_list) | CE_2012[\"CAUSABAS_O\"].isin(filter_list)\n",
    "]\n",
    "DF_2012_all = DF_2012[\n",
    "    DF_2012[\"CAUSABAS\"].isin(filter_list) | DF_2012[\"CAUSABAS_O\"].isin(filter_list)\n",
    "]\n",
    "ES_2012_all = ES_2012[\n",
    "    ES_2012[\"CAUSABAS\"].isin(filter_list) | ES_2012[\"CAUSABAS_O\"].isin(filter_list)\n",
    "]\n",
    "GO_2012_all = GO_2012[\n",
    "    GO_2012[\"CAUSABAS\"].isin(filter_list) | GO_2012[\"CAUSABAS_O\"].isin(filter_list)\n",
    "]\n",
    "MA_2012_all = MA_2012[\n",
    "    MA_2012[\"CAUSABAS\"].isin(filter_list) | MA_2012[\"CAUSABAS_O\"].isin(filter_list)\n",
    "]\n",
    "MT_2012_all = MT_2012[\n",
    "    MT_2012[\"CAUSABAS\"].isin(filter_list) | MT_2012[\"CAUSABAS_O\"].isin(filter_list)\n",
    "]\n",
    "MS_2012_all = MS_2012[\n",
    "    MS_2012[\"CAUSABAS\"].isin(filter_list) | MS_2012[\"CAUSABAS_O\"].isin(filter_list)\n",
    "]\n",
    "MG_2012_all = MG_2012[\n",
    "    MG_2012[\"CAUSABAS\"].isin(filter_list) | MG_2012[\"CAUSABAS_O\"].isin(filter_list)\n",
    "]\n",
    "PA_2012_all = PA_2012[\n",
    "    PA_2012[\"CAUSABAS\"].isin(filter_list) | PA_2012[\"CAUSABAS_O\"].isin(filter_list)\n",
    "]\n",
    "PB_2012_all = PB_2012[\n",
    "    PB_2012[\"CAUSABAS\"].isin(filter_list) | PB_2012[\"CAUSABAS_O\"].isin(filter_list)\n",
    "]\n",
    "PR_2012_all = PR_2012[\n",
    "    PR_2012[\"CAUSABAS\"].isin(filter_list) | PR_2012[\"CAUSABAS_O\"].isin(filter_list)\n",
    "]\n",
    "PE_2012_all = PE_2012[\n",
    "    PE_2012[\"CAUSABAS\"].isin(filter_list) | PE_2012[\"CAUSABAS_O\"].isin(filter_list)\n",
    "]\n",
    "PI_2012_all = PI_2012[\n",
    "    PI_2012[\"CAUSABAS\"].isin(filter_list) | PI_2012[\"CAUSABAS_O\"].isin(filter_list)\n",
    "]\n",
    "RJ_2012_all = RJ_2012[\n",
    "    RJ_2012[\"CAUSABAS\"].isin(filter_list) | RJ_2012[\"CAUSABAS_O\"].isin(filter_list)\n",
    "]\n",
    "RN_2012_all = RN_2012[\n",
    "    RN_2012[\"CAUSABAS\"].isin(filter_list) | RN_2012[\"CAUSABAS_O\"].isin(filter_list)\n",
    "]\n",
    "RS_2012_all = RS_2012[\n",
    "    RS_2012[\"CAUSABAS\"].isin(filter_list) | RS_2012[\"CAUSABAS_O\"].isin(filter_list)\n",
    "]\n",
    "RO_2012_all = RO_2012[\n",
    "    RO_2012[\"CAUSABAS\"].isin(filter_list) | RO_2012[\"CAUSABAS_O\"].isin(filter_list)\n",
    "]\n",
    "RR_2012_all = RR_2012[\n",
    "    RR_2012[\"CAUSABAS\"].isin(filter_list) | RR_2012[\"CAUSABAS_O\"].isin(filter_list)\n",
    "]\n",
    "SC_2012_all = SC_2012[\n",
    "    SC_2012[\"CAUSABAS\"].isin(filter_list) | SC_2012[\"CAUSABAS_O\"].isin(filter_list)\n",
    "]\n",
    "SP_2012_all = SP_2012[\n",
    "    SP_2012[\"CAUSABAS\"].isin(filter_list) | SP_2012[\"CAUSABAS_O\"].isin(filter_list)\n",
    "]\n",
    "SE_2012_all = SE_2012[\n",
    "    SE_2012[\"CAUSABAS\"].isin(filter_list) | SE_2012[\"CAUSABAS_O\"].isin(filter_list)\n",
    "]\n",
    "TO_2012_all = TO_2012[\n",
    "    TO_2012[\"CAUSABAS\"].isin(filter_list) | TO_2012[\"CAUSABAS_O\"].isin(filter_list)\n",
    "]"
   ]
  },
  {
   "cell_type": "code",
   "execution_count": 143,
   "id": "8e50a5a2",
   "metadata": {},
   "outputs": [
    {
     "data": {
      "application/javascript": [
       "\n",
       "            setTimeout(function() {\n",
       "                var nbb_cell_id = 143;\n",
       "                var nbb_unformatted_code = \"df_2012 = pd.concat(\\n    [\\nac_2012_all,\\nAL_2012_all,\\nAP_2012_all,\\nAM_2012_all,\\nBA_2012_all,\\nCE_2012_all,\\nDF_2012_all,\\nES_2012_all,\\nGO_2012_all,\\nMA_2012_all,\\nMT_2012_all,\\nMS_2012_all,\\nMG_2012_all,\\nPA_2012_all,\\nPB_2012_all,\\nPR_2012_all,\\nPE_2012_all,\\nPI_2012_all,\\nRJ_2012_all,\\nRN_2012_all,\\nRS_2012_all,\\nRO_2012_all,\\nRR_2012_all,\\nSC_2012_all,\\nSP_2012_all,\\nSE_2012_all,\\nTO_2012_all\\n\\n    ]\\n).reset_index()\";\n",
       "                var nbb_formatted_code = \"df_2012 = pd.concat(\\n    [\\n        ac_2012_all,\\n        AL_2012_all,\\n        AP_2012_all,\\n        AM_2012_all,\\n        BA_2012_all,\\n        CE_2012_all,\\n        DF_2012_all,\\n        ES_2012_all,\\n        GO_2012_all,\\n        MA_2012_all,\\n        MT_2012_all,\\n        MS_2012_all,\\n        MG_2012_all,\\n        PA_2012_all,\\n        PB_2012_all,\\n        PR_2012_all,\\n        PE_2012_all,\\n        PI_2012_all,\\n        RJ_2012_all,\\n        RN_2012_all,\\n        RS_2012_all,\\n        RO_2012_all,\\n        RR_2012_all,\\n        SC_2012_all,\\n        SP_2012_all,\\n        SE_2012_all,\\n        TO_2012_all,\\n    ]\\n).reset_index()\";\n",
       "                var nbb_cells = Jupyter.notebook.get_cells();\n",
       "                for (var i = 0; i < nbb_cells.length; ++i) {\n",
       "                    if (nbb_cells[i].input_prompt_number == nbb_cell_id) {\n",
       "                        if (nbb_cells[i].get_text() == nbb_unformatted_code) {\n",
       "                             nbb_cells[i].set_text(nbb_formatted_code);\n",
       "                        }\n",
       "                        break;\n",
       "                    }\n",
       "                }\n",
       "            }, 500);\n",
       "            "
      ],
      "text/plain": [
       "<IPython.core.display.Javascript object>"
      ]
     },
     "metadata": {},
     "output_type": "display_data"
    }
   ],
   "source": [
    "df_2012 = pd.concat(\n",
    "    [\n",
    "        ac_2012_all,\n",
    "        AL_2012_all,\n",
    "        AP_2012_all,\n",
    "        AM_2012_all,\n",
    "        BA_2012_all,\n",
    "        CE_2012_all,\n",
    "        DF_2012_all,\n",
    "        ES_2012_all,\n",
    "        GO_2012_all,\n",
    "        MA_2012_all,\n",
    "        MT_2012_all,\n",
    "        MS_2012_all,\n",
    "        MG_2012_all,\n",
    "        PA_2012_all,\n",
    "        PB_2012_all,\n",
    "        PR_2012_all,\n",
    "        PE_2012_all,\n",
    "        PI_2012_all,\n",
    "        RJ_2012_all,\n",
    "        RN_2012_all,\n",
    "        RS_2012_all,\n",
    "        RO_2012_all,\n",
    "        RR_2012_all,\n",
    "        SC_2012_all,\n",
    "        SP_2012_all,\n",
    "        SE_2012_all,\n",
    "        TO_2012_all,\n",
    "    ]\n",
    ").reset_index()"
   ]
  },
  {
   "cell_type": "code",
   "execution_count": 144,
   "id": "b53ed1e2",
   "metadata": {},
   "outputs": [
    {
     "name": "stdout",
     "output_type": "stream",
     "text": [
      "<class 'pandas.core.frame.DataFrame'>\n",
      "RangeIndex: 10322 entries, 0 to 10321\n",
      "Data columns (total 18 columns):\n",
      " #   Column      Non-Null Count  Dtype  \n",
      "---  ------      --------------  -----  \n",
      " 0   index       10322 non-null  int64  \n",
      " 1   Unnamed: 0  10322 non-null  int64  \n",
      " 2   estado      10322 non-null  object \n",
      " 3   ano         10322 non-null  int64  \n",
      " 4   DTOBITO     10322 non-null  int64  \n",
      " 5   DTNASC      10250 non-null  float64\n",
      " 6   SEXO        10322 non-null  int64  \n",
      " 7   RACACOR     9924 non-null   float64\n",
      " 8   ASSISTMED   7411 non-null   float64\n",
      " 9   ESCMAE      0 non-null      float64\n",
      " 10  ESTCIV      9964 non-null   float64\n",
      " 11  ESC         9893 non-null   float64\n",
      " 12  OCUP        7644 non-null   float64\n",
      " 13  CODMUNRES   10322 non-null  int64  \n",
      " 14  CAUSABAS    10322 non-null  object \n",
      " 15  CAUSABAS_O  10278 non-null  object \n",
      " 16  LOCOCOR     10322 non-null  int64  \n",
      " 17  CIRURGIA    310 non-null    float64\n",
      "dtypes: float64(8), int64(7), object(3)\n",
      "memory usage: 1.4+ MB\n"
     ]
    },
    {
     "data": {
      "application/javascript": [
       "\n",
       "            setTimeout(function() {\n",
       "                var nbb_cell_id = 144;\n",
       "                var nbb_unformatted_code = \"df_2012.info()\";\n",
       "                var nbb_formatted_code = \"df_2012.info()\";\n",
       "                var nbb_cells = Jupyter.notebook.get_cells();\n",
       "                for (var i = 0; i < nbb_cells.length; ++i) {\n",
       "                    if (nbb_cells[i].input_prompt_number == nbb_cell_id) {\n",
       "                        if (nbb_cells[i].get_text() == nbb_unformatted_code) {\n",
       "                             nbb_cells[i].set_text(nbb_formatted_code);\n",
       "                        }\n",
       "                        break;\n",
       "                    }\n",
       "                }\n",
       "            }, 500);\n",
       "            "
      ],
      "text/plain": [
       "<IPython.core.display.Javascript object>"
      ]
     },
     "metadata": {},
     "output_type": "display_data"
    }
   ],
   "source": [
    "df_2012.info()"
   ]
  },
  {
   "cell_type": "code",
   "execution_count": 147,
   "id": "f3b5be2a",
   "metadata": {},
   "outputs": [
    {
     "data": {
      "text/html": [
       "<div>\n",
       "<style scoped>\n",
       "    .dataframe tbody tr th:only-of-type {\n",
       "        vertical-align: middle;\n",
       "    }\n",
       "\n",
       "    .dataframe tbody tr th {\n",
       "        vertical-align: top;\n",
       "    }\n",
       "\n",
       "    .dataframe thead th {\n",
       "        text-align: right;\n",
       "    }\n",
       "</style>\n",
       "<table border=\"1\" class=\"dataframe\">\n",
       "  <thead>\n",
       "    <tr style=\"text-align: right;\">\n",
       "      <th></th>\n",
       "      <th>estado</th>\n",
       "      <th>ano</th>\n",
       "      <th>DTOBITO</th>\n",
       "      <th>DTNASC</th>\n",
       "      <th>SEXO</th>\n",
       "      <th>RACACOR</th>\n",
       "      <th>ASSISTMED</th>\n",
       "      <th>ESCMAE</th>\n",
       "      <th>ESTCIV</th>\n",
       "      <th>ESC</th>\n",
       "      <th>OCUP</th>\n",
       "      <th>CODMUNRES</th>\n",
       "      <th>CAUSABAS</th>\n",
       "      <th>CAUSABAS_O</th>\n",
       "      <th>LOCOCOR</th>\n",
       "      <th>CIRURGIA</th>\n",
       "    </tr>\n",
       "  </thead>\n",
       "  <tbody>\n",
       "    <tr>\n",
       "      <th>0</th>\n",
       "      <td>AC</td>\n",
       "      <td>2012</td>\n",
       "      <td>29042012</td>\n",
       "      <td>14011991.0</td>\n",
       "      <td>1</td>\n",
       "      <td>4.0</td>\n",
       "      <td>2.0</td>\n",
       "      <td>NaN</td>\n",
       "      <td>1.0</td>\n",
       "      <td>3.0</td>\n",
       "      <td>999991.0</td>\n",
       "      <td>120032</td>\n",
       "      <td>X720</td>\n",
       "      <td>X720</td>\n",
       "      <td>3</td>\n",
       "      <td>NaN</td>\n",
       "    </tr>\n",
       "    <tr>\n",
       "      <th>1</th>\n",
       "      <td>AC</td>\n",
       "      <td>2012</td>\n",
       "      <td>31052012</td>\n",
       "      <td>25081996.0</td>\n",
       "      <td>2</td>\n",
       "      <td>5.0</td>\n",
       "      <td>2.0</td>\n",
       "      <td>NaN</td>\n",
       "      <td>1.0</td>\n",
       "      <td>3.0</td>\n",
       "      <td>999991.0</td>\n",
       "      <td>120032</td>\n",
       "      <td>X720</td>\n",
       "      <td>X720</td>\n",
       "      <td>3</td>\n",
       "      <td>NaN</td>\n",
       "    </tr>\n",
       "    <tr>\n",
       "      <th>2</th>\n",
       "      <td>AC</td>\n",
       "      <td>2012</td>\n",
       "      <td>20052012</td>\n",
       "      <td>19051987.0</td>\n",
       "      <td>2</td>\n",
       "      <td>4.0</td>\n",
       "      <td>1.0</td>\n",
       "      <td>NaN</td>\n",
       "      <td>2.0</td>\n",
       "      <td>3.0</td>\n",
       "      <td>NaN</td>\n",
       "      <td>120040</td>\n",
       "      <td>X689</td>\n",
       "      <td>X689</td>\n",
       "      <td>1</td>\n",
       "      <td>2.0</td>\n",
       "    </tr>\n",
       "    <tr>\n",
       "      <th>3</th>\n",
       "      <td>AC</td>\n",
       "      <td>2012</td>\n",
       "      <td>24052012</td>\n",
       "      <td>16091975.0</td>\n",
       "      <td>2</td>\n",
       "      <td>4.0</td>\n",
       "      <td>2.0</td>\n",
       "      <td>NaN</td>\n",
       "      <td>1.0</td>\n",
       "      <td>2.0</td>\n",
       "      <td>NaN</td>\n",
       "      <td>120040</td>\n",
       "      <td>X700</td>\n",
       "      <td>X700</td>\n",
       "      <td>3</td>\n",
       "      <td>NaN</td>\n",
       "    </tr>\n",
       "    <tr>\n",
       "      <th>4</th>\n",
       "      <td>AC</td>\n",
       "      <td>2012</td>\n",
       "      <td>29042012</td>\n",
       "      <td>12101986.0</td>\n",
       "      <td>1</td>\n",
       "      <td>4.0</td>\n",
       "      <td>2.0</td>\n",
       "      <td>NaN</td>\n",
       "      <td>1.0</td>\n",
       "      <td>3.0</td>\n",
       "      <td>NaN</td>\n",
       "      <td>120040</td>\n",
       "      <td>X700</td>\n",
       "      <td>X700</td>\n",
       "      <td>3</td>\n",
       "      <td>2.0</td>\n",
       "    </tr>\n",
       "  </tbody>\n",
       "</table>\n",
       "</div>"
      ],
      "text/plain": [
       "  estado   ano   DTOBITO      DTNASC  SEXO  RACACOR  ASSISTMED  ESCMAE  \\\n",
       "0     AC  2012  29042012  14011991.0     1      4.0        2.0     NaN   \n",
       "1     AC  2012  31052012  25081996.0     2      5.0        2.0     NaN   \n",
       "2     AC  2012  20052012  19051987.0     2      4.0        1.0     NaN   \n",
       "3     AC  2012  24052012  16091975.0     2      4.0        2.0     NaN   \n",
       "4     AC  2012  29042012  12101986.0     1      4.0        2.0     NaN   \n",
       "\n",
       "   ESTCIV  ESC      OCUP  CODMUNRES  CAUSABAS  CAUSABAS_O  LOCOCOR  CIRURGIA  \n",
       "0     1.0  3.0  999991.0     120032  X720      X720              3       NaN  \n",
       "1     1.0  3.0  999991.0     120032  X720      X720              3       NaN  \n",
       "2     2.0  3.0       NaN     120040  X689      X689              1       2.0  \n",
       "3     1.0  2.0       NaN     120040  X700      X700              3       NaN  \n",
       "4     1.0  3.0       NaN     120040  X700      X700              3       2.0  "
      ]
     },
     "execution_count": 147,
     "metadata": {},
     "output_type": "execute_result"
    },
    {
     "data": {
      "application/javascript": [
       "\n",
       "            setTimeout(function() {\n",
       "                var nbb_cell_id = 147;\n",
       "                var nbb_unformatted_code = \"df_2012.head()\";\n",
       "                var nbb_formatted_code = \"df_2012.head()\";\n",
       "                var nbb_cells = Jupyter.notebook.get_cells();\n",
       "                for (var i = 0; i < nbb_cells.length; ++i) {\n",
       "                    if (nbb_cells[i].input_prompt_number == nbb_cell_id) {\n",
       "                        if (nbb_cells[i].get_text() == nbb_unformatted_code) {\n",
       "                             nbb_cells[i].set_text(nbb_formatted_code);\n",
       "                        }\n",
       "                        break;\n",
       "                    }\n",
       "                }\n",
       "            }, 500);\n",
       "            "
      ],
      "text/plain": [
       "<IPython.core.display.Javascript object>"
      ]
     },
     "metadata": {},
     "output_type": "display_data"
    }
   ],
   "source": [
    "df_2012.head()"
   ]
  },
  {
   "cell_type": "code",
   "execution_count": 146,
   "id": "4869e18f",
   "metadata": {},
   "outputs": [
    {
     "data": {
      "application/javascript": [
       "\n",
       "            setTimeout(function() {\n",
       "                var nbb_cell_id = 146;\n",
       "                var nbb_unformatted_code = \"df_2012 = df_2012.drop([\\\"Unnamed: 0\\\", \\\"index\\\"], axis=1)\";\n",
       "                var nbb_formatted_code = \"df_2012 = df_2012.drop([\\\"Unnamed: 0\\\", \\\"index\\\"], axis=1)\";\n",
       "                var nbb_cells = Jupyter.notebook.get_cells();\n",
       "                for (var i = 0; i < nbb_cells.length; ++i) {\n",
       "                    if (nbb_cells[i].input_prompt_number == nbb_cell_id) {\n",
       "                        if (nbb_cells[i].get_text() == nbb_unformatted_code) {\n",
       "                             nbb_cells[i].set_text(nbb_formatted_code);\n",
       "                        }\n",
       "                        break;\n",
       "                    }\n",
       "                }\n",
       "            }, 500);\n",
       "            "
      ],
      "text/plain": [
       "<IPython.core.display.Javascript object>"
      ]
     },
     "metadata": {},
     "output_type": "display_data"
    }
   ],
   "source": [
    "df_2012 = df_2012.drop([\"Unnamed: 0\", \"index\"], axis=1)"
   ]
  },
  {
   "cell_type": "code",
   "execution_count": 155,
   "id": "a8c15b51",
   "metadata": {},
   "outputs": [
    {
     "data": {
      "application/javascript": [
       "\n",
       "            setTimeout(function() {\n",
       "                var nbb_cell_id = 155;\n",
       "                var nbb_unformatted_code = \"df_2012.to_csv(\\\"df_2012.csv\\\")\";\n",
       "                var nbb_formatted_code = \"df_2012.to_csv(\\\"df_2012.csv\\\")\";\n",
       "                var nbb_cells = Jupyter.notebook.get_cells();\n",
       "                for (var i = 0; i < nbb_cells.length; ++i) {\n",
       "                    if (nbb_cells[i].input_prompt_number == nbb_cell_id) {\n",
       "                        if (nbb_cells[i].get_text() == nbb_unformatted_code) {\n",
       "                             nbb_cells[i].set_text(nbb_formatted_code);\n",
       "                        }\n",
       "                        break;\n",
       "                    }\n",
       "                }\n",
       "            }, 500);\n",
       "            "
      ],
      "text/plain": [
       "<IPython.core.display.Javascript object>"
      ]
     },
     "metadata": {},
     "output_type": "display_data"
    }
   ],
   "source": [
    "df_2012.to_csv(\"df_2012.csv\")"
   ]
  },
  {
   "cell_type": "markdown",
   "id": "47d0f3c3",
   "metadata": {},
   "source": [
    "# 2013"
   ]
  },
  {
   "cell_type": "code",
   "execution_count": 148,
   "id": "eb5303e6",
   "metadata": {},
   "outputs": [
    {
     "data": {
      "application/javascript": [
       "\n",
       "            setTimeout(function() {\n",
       "                var nbb_cell_id = 148;\n",
       "                var nbb_unformatted_code = \"ac_2013=pd.read_csv('csv/ac_2013.csv')\\nAL_2013=pd.read_csv('csv/AL_2013.csv')\\nAP_2013=pd.read_csv('csv/AP_2013.csv')\\nAM_2013=pd.read_csv('csv/AM_2013.csv')\\nBA_2013=pd.read_csv('csv/BA_2013.csv')\\nCE_2013=pd.read_csv('csv/CE_2013.csv')\\nDF_2013=pd.read_csv('csv/DF_2013.csv')\\nES_2013=pd.read_csv('csv/ES_2013.csv')\\nGO_2013=pd.read_csv('csv/GO_2013.csv')\\nMA_2013=pd.read_csv('csv/MA_2013.csv')\\nMT_2013=pd.read_csv('csv/MT_2013.csv')\\nMS_2013=pd.read_csv('csv/MS_2013.csv')\\nMG_2013=pd.read_csv('csv/MG_2013.csv')\\nPA_2013=pd.read_csv('csv/PA_2013.csv')\\nPB_2013=pd.read_csv('csv/PB_2013.csv')\\nPR_2013=pd.read_csv('csv/PR_2013.csv')\\nPE_2013=pd.read_csv('csv/PE_2013.csv')\\nPI_2013=pd.read_csv('csv/PI_2013.csv')\\nRJ_2013=pd.read_csv('csv/RJ_2013.csv')\\nRN_2013=pd.read_csv('csv/RN_2013.csv')\\nRS_2013=pd.read_csv('csv/RS_2013.csv')\\nRO_2013=pd.read_csv('csv/RO_2013.csv')\\nRR_2013=pd.read_csv('csv/RR_2013.csv')\\nSC_2013=pd.read_csv('csv/SC_2013.csv')\\nSP_2013=pd.read_csv('csv/SP_2013.csv')\\nSE_2013=pd.read_csv('csv/SE_2013.csv')\\nTO_2013=pd.read_csv('csv/TO_2013.csv')\";\n",
       "                var nbb_formatted_code = \"ac_2013 = pd.read_csv(\\\"csv/ac_2013.csv\\\")\\nAL_2013 = pd.read_csv(\\\"csv/AL_2013.csv\\\")\\nAP_2013 = pd.read_csv(\\\"csv/AP_2013.csv\\\")\\nAM_2013 = pd.read_csv(\\\"csv/AM_2013.csv\\\")\\nBA_2013 = pd.read_csv(\\\"csv/BA_2013.csv\\\")\\nCE_2013 = pd.read_csv(\\\"csv/CE_2013.csv\\\")\\nDF_2013 = pd.read_csv(\\\"csv/DF_2013.csv\\\")\\nES_2013 = pd.read_csv(\\\"csv/ES_2013.csv\\\")\\nGO_2013 = pd.read_csv(\\\"csv/GO_2013.csv\\\")\\nMA_2013 = pd.read_csv(\\\"csv/MA_2013.csv\\\")\\nMT_2013 = pd.read_csv(\\\"csv/MT_2013.csv\\\")\\nMS_2013 = pd.read_csv(\\\"csv/MS_2013.csv\\\")\\nMG_2013 = pd.read_csv(\\\"csv/MG_2013.csv\\\")\\nPA_2013 = pd.read_csv(\\\"csv/PA_2013.csv\\\")\\nPB_2013 = pd.read_csv(\\\"csv/PB_2013.csv\\\")\\nPR_2013 = pd.read_csv(\\\"csv/PR_2013.csv\\\")\\nPE_2013 = pd.read_csv(\\\"csv/PE_2013.csv\\\")\\nPI_2013 = pd.read_csv(\\\"csv/PI_2013.csv\\\")\\nRJ_2013 = pd.read_csv(\\\"csv/RJ_2013.csv\\\")\\nRN_2013 = pd.read_csv(\\\"csv/RN_2013.csv\\\")\\nRS_2013 = pd.read_csv(\\\"csv/RS_2013.csv\\\")\\nRO_2013 = pd.read_csv(\\\"csv/RO_2013.csv\\\")\\nRR_2013 = pd.read_csv(\\\"csv/RR_2013.csv\\\")\\nSC_2013 = pd.read_csv(\\\"csv/SC_2013.csv\\\")\\nSP_2013 = pd.read_csv(\\\"csv/SP_2013.csv\\\")\\nSE_2013 = pd.read_csv(\\\"csv/SE_2013.csv\\\")\\nTO_2013 = pd.read_csv(\\\"csv/TO_2013.csv\\\")\";\n",
       "                var nbb_cells = Jupyter.notebook.get_cells();\n",
       "                for (var i = 0; i < nbb_cells.length; ++i) {\n",
       "                    if (nbb_cells[i].input_prompt_number == nbb_cell_id) {\n",
       "                        if (nbb_cells[i].get_text() == nbb_unformatted_code) {\n",
       "                             nbb_cells[i].set_text(nbb_formatted_code);\n",
       "                        }\n",
       "                        break;\n",
       "                    }\n",
       "                }\n",
       "            }, 500);\n",
       "            "
      ],
      "text/plain": [
       "<IPython.core.display.Javascript object>"
      ]
     },
     "metadata": {},
     "output_type": "display_data"
    }
   ],
   "source": [
    "ac_2013=pd.read_csv('csv/ac_2013.csv')\n",
    "AL_2013=pd.read_csv('csv/AL_2013.csv')\n",
    "AP_2013=pd.read_csv('csv/AP_2013.csv')\n",
    "AM_2013=pd.read_csv('csv/AM_2013.csv')\n",
    "BA_2013=pd.read_csv('csv/BA_2013.csv')\n",
    "CE_2013=pd.read_csv('csv/CE_2013.csv')\n",
    "DF_2013=pd.read_csv('csv/DF_2013.csv')\n",
    "ES_2013=pd.read_csv('csv/ES_2013.csv')\n",
    "GO_2013=pd.read_csv('csv/GO_2013.csv')\n",
    "MA_2013=pd.read_csv('csv/MA_2013.csv')\n",
    "MT_2013=pd.read_csv('csv/MT_2013.csv')\n",
    "MS_2013=pd.read_csv('csv/MS_2013.csv')\n",
    "MG_2013=pd.read_csv('csv/MG_2013.csv')\n",
    "PA_2013=pd.read_csv('csv/PA_2013.csv')\n",
    "PB_2013=pd.read_csv('csv/PB_2013.csv')\n",
    "PR_2013=pd.read_csv('csv/PR_2013.csv')\n",
    "PE_2013=pd.read_csv('csv/PE_2013.csv')\n",
    "PI_2013=pd.read_csv('csv/PI_2013.csv')\n",
    "RJ_2013=pd.read_csv('csv/RJ_2013.csv')\n",
    "RN_2013=pd.read_csv('csv/RN_2013.csv')\n",
    "RS_2013=pd.read_csv('csv/RS_2013.csv')\n",
    "RO_2013=pd.read_csv('csv/RO_2013.csv')\n",
    "RR_2013=pd.read_csv('csv/RR_2013.csv')\n",
    "SC_2013=pd.read_csv('csv/SC_2013.csv')\n",
    "SP_2013=pd.read_csv('csv/SP_2013.csv')\n",
    "SE_2013=pd.read_csv('csv/SE_2013.csv')\n",
    "TO_2013=pd.read_csv('csv/TO_2013.csv')\n"
   ]
  },
  {
   "cell_type": "code",
   "execution_count": 150,
   "id": "3e9022e1",
   "metadata": {},
   "outputs": [
    {
     "data": {
      "application/javascript": [
       "\n",
       "            setTimeout(function() {\n",
       "                var nbb_cell_id = 150;\n",
       "                var nbb_unformatted_code = \"ac_2013_all=ac_2013[ac_2013['CAUSABAS'].isin(filter_list) | ac_2013['CAUSABAS_O'].isin(filter_list)]\\nAL_2013_all=AL_2013[AL_2013['CAUSABAS'].isin(filter_list) | AL_2013['CAUSABAS_O'].isin(filter_list)]\\nAP_2013_all=AP_2013[AP_2013['CAUSABAS'].isin(filter_list) | AP_2013['CAUSABAS_O'].isin(filter_list)]\\nAM_2013_all=AM_2013[AM_2013['CAUSABAS'].isin(filter_list) | AM_2013['CAUSABAS_O'].isin(filter_list)]\\nBA_2013_all=BA_2013[BA_2013['CAUSABAS'].isin(filter_list) | BA_2013['CAUSABAS_O'].isin(filter_list)]\\nCE_2013_all=CE_2013[CE_2013['CAUSABAS'].isin(filter_list) | CE_2013['CAUSABAS_O'].isin(filter_list)]\\nDF_2013_all=DF_2013[DF_2013['CAUSABAS'].isin(filter_list) | DF_2013['CAUSABAS_O'].isin(filter_list)]\\nES_2013_all=ES_2013[ES_2013['CAUSABAS'].isin(filter_list) | ES_2013['CAUSABAS_O'].isin(filter_list)]\\nGO_2013_all=GO_2013[GO_2013['CAUSABAS'].isin(filter_list) | GO_2013['CAUSABAS_O'].isin(filter_list)]\\nMA_2013_all=MA_2013[MA_2013['CAUSABAS'].isin(filter_list) | MA_2013['CAUSABAS_O'].isin(filter_list)]\\nMT_2013_all=MT_2013[MT_2013['CAUSABAS'].isin(filter_list) | MT_2013['CAUSABAS_O'].isin(filter_list)]\\nMS_2013_all=MS_2013[MS_2013['CAUSABAS'].isin(filter_list) | MS_2013['CAUSABAS_O'].isin(filter_list)]\\nMG_2013_all=MG_2013[MG_2013['CAUSABAS'].isin(filter_list) | MG_2013['CAUSABAS_O'].isin(filter_list)]\\nPA_2013_all=PA_2013[PA_2013['CAUSABAS'].isin(filter_list) | PA_2013['CAUSABAS_O'].isin(filter_list)]\\nPB_2013_all=PB_2013[PB_2013['CAUSABAS'].isin(filter_list) | PB_2013['CAUSABAS_O'].isin(filter_list)]\\nPR_2013_all=PR_2013[PR_2013['CAUSABAS'].isin(filter_list) | PR_2013['CAUSABAS_O'].isin(filter_list)]\\nPE_2013_all=PE_2013[PE_2013['CAUSABAS'].isin(filter_list) | PE_2013['CAUSABAS_O'].isin(filter_list)]\\nPI_2013_all=PI_2013[PI_2013['CAUSABAS'].isin(filter_list) | PI_2013['CAUSABAS_O'].isin(filter_list)]\\nRJ_2013_all=RJ_2013[RJ_2013['CAUSABAS'].isin(filter_list) | RJ_2013['CAUSABAS_O'].isin(filter_list)]\\nRN_2013_all=RN_2013[RN_2013['CAUSABAS'].isin(filter_list) | RN_2013['CAUSABAS_O'].isin(filter_list)]\\nRS_2013_all=RS_2013[RS_2013['CAUSABAS'].isin(filter_list) | RS_2013['CAUSABAS_O'].isin(filter_list)]\\nRO_2013_all=RO_2013[RO_2013['CAUSABAS'].isin(filter_list) | RO_2013['CAUSABAS_O'].isin(filter_list)]\\nRR_2013_all=RR_2013[RR_2013['CAUSABAS'].isin(filter_list) | RR_2013['CAUSABAS_O'].isin(filter_list)]\\nSC_2013_all=SC_2013[SC_2013['CAUSABAS'].isin(filter_list) | SC_2013['CAUSABAS_O'].isin(filter_list)]\\nSP_2013_all=SP_2013[SP_2013['CAUSABAS'].isin(filter_list) | SP_2013['CAUSABAS_O'].isin(filter_list)]\\nSE_2013_all=SE_2013[SE_2013['CAUSABAS'].isin(filter_list) | SE_2013['CAUSABAS_O'].isin(filter_list)]\\nTO_2013_all=TO_2013[TO_2013['CAUSABAS'].isin(filter_list) | TO_2013['CAUSABAS_O'].isin(filter_list)]\";\n",
       "                var nbb_formatted_code = \"ac_2013_all = ac_2013[\\n    ac_2013[\\\"CAUSABAS\\\"].isin(filter_list) | ac_2013[\\\"CAUSABAS_O\\\"].isin(filter_list)\\n]\\nAL_2013_all = AL_2013[\\n    AL_2013[\\\"CAUSABAS\\\"].isin(filter_list) | AL_2013[\\\"CAUSABAS_O\\\"].isin(filter_list)\\n]\\nAP_2013_all = AP_2013[\\n    AP_2013[\\\"CAUSABAS\\\"].isin(filter_list) | AP_2013[\\\"CAUSABAS_O\\\"].isin(filter_list)\\n]\\nAM_2013_all = AM_2013[\\n    AM_2013[\\\"CAUSABAS\\\"].isin(filter_list) | AM_2013[\\\"CAUSABAS_O\\\"].isin(filter_list)\\n]\\nBA_2013_all = BA_2013[\\n    BA_2013[\\\"CAUSABAS\\\"].isin(filter_list) | BA_2013[\\\"CAUSABAS_O\\\"].isin(filter_list)\\n]\\nCE_2013_all = CE_2013[\\n    CE_2013[\\\"CAUSABAS\\\"].isin(filter_list) | CE_2013[\\\"CAUSABAS_O\\\"].isin(filter_list)\\n]\\nDF_2013_all = DF_2013[\\n    DF_2013[\\\"CAUSABAS\\\"].isin(filter_list) | DF_2013[\\\"CAUSABAS_O\\\"].isin(filter_list)\\n]\\nES_2013_all = ES_2013[\\n    ES_2013[\\\"CAUSABAS\\\"].isin(filter_list) | ES_2013[\\\"CAUSABAS_O\\\"].isin(filter_list)\\n]\\nGO_2013_all = GO_2013[\\n    GO_2013[\\\"CAUSABAS\\\"].isin(filter_list) | GO_2013[\\\"CAUSABAS_O\\\"].isin(filter_list)\\n]\\nMA_2013_all = MA_2013[\\n    MA_2013[\\\"CAUSABAS\\\"].isin(filter_list) | MA_2013[\\\"CAUSABAS_O\\\"].isin(filter_list)\\n]\\nMT_2013_all = MT_2013[\\n    MT_2013[\\\"CAUSABAS\\\"].isin(filter_list) | MT_2013[\\\"CAUSABAS_O\\\"].isin(filter_list)\\n]\\nMS_2013_all = MS_2013[\\n    MS_2013[\\\"CAUSABAS\\\"].isin(filter_list) | MS_2013[\\\"CAUSABAS_O\\\"].isin(filter_list)\\n]\\nMG_2013_all = MG_2013[\\n    MG_2013[\\\"CAUSABAS\\\"].isin(filter_list) | MG_2013[\\\"CAUSABAS_O\\\"].isin(filter_list)\\n]\\nPA_2013_all = PA_2013[\\n    PA_2013[\\\"CAUSABAS\\\"].isin(filter_list) | PA_2013[\\\"CAUSABAS_O\\\"].isin(filter_list)\\n]\\nPB_2013_all = PB_2013[\\n    PB_2013[\\\"CAUSABAS\\\"].isin(filter_list) | PB_2013[\\\"CAUSABAS_O\\\"].isin(filter_list)\\n]\\nPR_2013_all = PR_2013[\\n    PR_2013[\\\"CAUSABAS\\\"].isin(filter_list) | PR_2013[\\\"CAUSABAS_O\\\"].isin(filter_list)\\n]\\nPE_2013_all = PE_2013[\\n    PE_2013[\\\"CAUSABAS\\\"].isin(filter_list) | PE_2013[\\\"CAUSABAS_O\\\"].isin(filter_list)\\n]\\nPI_2013_all = PI_2013[\\n    PI_2013[\\\"CAUSABAS\\\"].isin(filter_list) | PI_2013[\\\"CAUSABAS_O\\\"].isin(filter_list)\\n]\\nRJ_2013_all = RJ_2013[\\n    RJ_2013[\\\"CAUSABAS\\\"].isin(filter_list) | RJ_2013[\\\"CAUSABAS_O\\\"].isin(filter_list)\\n]\\nRN_2013_all = RN_2013[\\n    RN_2013[\\\"CAUSABAS\\\"].isin(filter_list) | RN_2013[\\\"CAUSABAS_O\\\"].isin(filter_list)\\n]\\nRS_2013_all = RS_2013[\\n    RS_2013[\\\"CAUSABAS\\\"].isin(filter_list) | RS_2013[\\\"CAUSABAS_O\\\"].isin(filter_list)\\n]\\nRO_2013_all = RO_2013[\\n    RO_2013[\\\"CAUSABAS\\\"].isin(filter_list) | RO_2013[\\\"CAUSABAS_O\\\"].isin(filter_list)\\n]\\nRR_2013_all = RR_2013[\\n    RR_2013[\\\"CAUSABAS\\\"].isin(filter_list) | RR_2013[\\\"CAUSABAS_O\\\"].isin(filter_list)\\n]\\nSC_2013_all = SC_2013[\\n    SC_2013[\\\"CAUSABAS\\\"].isin(filter_list) | SC_2013[\\\"CAUSABAS_O\\\"].isin(filter_list)\\n]\\nSP_2013_all = SP_2013[\\n    SP_2013[\\\"CAUSABAS\\\"].isin(filter_list) | SP_2013[\\\"CAUSABAS_O\\\"].isin(filter_list)\\n]\\nSE_2013_all = SE_2013[\\n    SE_2013[\\\"CAUSABAS\\\"].isin(filter_list) | SE_2013[\\\"CAUSABAS_O\\\"].isin(filter_list)\\n]\\nTO_2013_all = TO_2013[\\n    TO_2013[\\\"CAUSABAS\\\"].isin(filter_list) | TO_2013[\\\"CAUSABAS_O\\\"].isin(filter_list)\\n]\";\n",
       "                var nbb_cells = Jupyter.notebook.get_cells();\n",
       "                for (var i = 0; i < nbb_cells.length; ++i) {\n",
       "                    if (nbb_cells[i].input_prompt_number == nbb_cell_id) {\n",
       "                        if (nbb_cells[i].get_text() == nbb_unformatted_code) {\n",
       "                             nbb_cells[i].set_text(nbb_formatted_code);\n",
       "                        }\n",
       "                        break;\n",
       "                    }\n",
       "                }\n",
       "            }, 500);\n",
       "            "
      ],
      "text/plain": [
       "<IPython.core.display.Javascript object>"
      ]
     },
     "metadata": {},
     "output_type": "display_data"
    }
   ],
   "source": [
    "ac_2013_all=ac_2013[ac_2013['CAUSABAS'].isin(filter_list) | ac_2013['CAUSABAS_O'].isin(filter_list)]\n",
    "AL_2013_all=AL_2013[AL_2013['CAUSABAS'].isin(filter_list) | AL_2013['CAUSABAS_O'].isin(filter_list)]\n",
    "AP_2013_all=AP_2013[AP_2013['CAUSABAS'].isin(filter_list) | AP_2013['CAUSABAS_O'].isin(filter_list)]\n",
    "AM_2013_all=AM_2013[AM_2013['CAUSABAS'].isin(filter_list) | AM_2013['CAUSABAS_O'].isin(filter_list)]\n",
    "BA_2013_all=BA_2013[BA_2013['CAUSABAS'].isin(filter_list) | BA_2013['CAUSABAS_O'].isin(filter_list)]\n",
    "CE_2013_all=CE_2013[CE_2013['CAUSABAS'].isin(filter_list) | CE_2013['CAUSABAS_O'].isin(filter_list)]\n",
    "DF_2013_all=DF_2013[DF_2013['CAUSABAS'].isin(filter_list) | DF_2013['CAUSABAS_O'].isin(filter_list)]\n",
    "ES_2013_all=ES_2013[ES_2013['CAUSABAS'].isin(filter_list) | ES_2013['CAUSABAS_O'].isin(filter_list)]\n",
    "GO_2013_all=GO_2013[GO_2013['CAUSABAS'].isin(filter_list) | GO_2013['CAUSABAS_O'].isin(filter_list)]\n",
    "MA_2013_all=MA_2013[MA_2013['CAUSABAS'].isin(filter_list) | MA_2013['CAUSABAS_O'].isin(filter_list)]\n",
    "MT_2013_all=MT_2013[MT_2013['CAUSABAS'].isin(filter_list) | MT_2013['CAUSABAS_O'].isin(filter_list)]\n",
    "MS_2013_all=MS_2013[MS_2013['CAUSABAS'].isin(filter_list) | MS_2013['CAUSABAS_O'].isin(filter_list)]\n",
    "MG_2013_all=MG_2013[MG_2013['CAUSABAS'].isin(filter_list) | MG_2013['CAUSABAS_O'].isin(filter_list)]\n",
    "PA_2013_all=PA_2013[PA_2013['CAUSABAS'].isin(filter_list) | PA_2013['CAUSABAS_O'].isin(filter_list)]\n",
    "PB_2013_all=PB_2013[PB_2013['CAUSABAS'].isin(filter_list) | PB_2013['CAUSABAS_O'].isin(filter_list)]\n",
    "PR_2013_all=PR_2013[PR_2013['CAUSABAS'].isin(filter_list) | PR_2013['CAUSABAS_O'].isin(filter_list)]\n",
    "PE_2013_all=PE_2013[PE_2013['CAUSABAS'].isin(filter_list) | PE_2013['CAUSABAS_O'].isin(filter_list)]\n",
    "PI_2013_all=PI_2013[PI_2013['CAUSABAS'].isin(filter_list) | PI_2013['CAUSABAS_O'].isin(filter_list)]\n",
    "RJ_2013_all=RJ_2013[RJ_2013['CAUSABAS'].isin(filter_list) | RJ_2013['CAUSABAS_O'].isin(filter_list)]\n",
    "RN_2013_all=RN_2013[RN_2013['CAUSABAS'].isin(filter_list) | RN_2013['CAUSABAS_O'].isin(filter_list)]\n",
    "RS_2013_all=RS_2013[RS_2013['CAUSABAS'].isin(filter_list) | RS_2013['CAUSABAS_O'].isin(filter_list)]\n",
    "RO_2013_all=RO_2013[RO_2013['CAUSABAS'].isin(filter_list) | RO_2013['CAUSABAS_O'].isin(filter_list)]\n",
    "RR_2013_all=RR_2013[RR_2013['CAUSABAS'].isin(filter_list) | RR_2013['CAUSABAS_O'].isin(filter_list)]\n",
    "SC_2013_all=SC_2013[SC_2013['CAUSABAS'].isin(filter_list) | SC_2013['CAUSABAS_O'].isin(filter_list)]\n",
    "SP_2013_all=SP_2013[SP_2013['CAUSABAS'].isin(filter_list) | SP_2013['CAUSABAS_O'].isin(filter_list)]\n",
    "SE_2013_all=SE_2013[SE_2013['CAUSABAS'].isin(filter_list) | SE_2013['CAUSABAS_O'].isin(filter_list)]\n",
    "TO_2013_all=TO_2013[TO_2013['CAUSABAS'].isin(filter_list) | TO_2013['CAUSABAS_O'].isin(filter_list)]\n"
   ]
  },
  {
   "cell_type": "code",
   "execution_count": 151,
   "id": "462f005a",
   "metadata": {},
   "outputs": [
    {
     "data": {
      "application/javascript": [
       "\n",
       "            setTimeout(function() {\n",
       "                var nbb_cell_id = 151;\n",
       "                var nbb_unformatted_code = \"df_2013 = pd.concat(\\n    [\\nac_2013_all,\\nAL_2013_all,\\nAP_2013_all,\\nAM_2013_all,\\nBA_2013_all,\\nCE_2013_all,\\nDF_2013_all,\\nES_2013_all,\\nGO_2013_all,\\nMA_2013_all,\\nMT_2013_all,\\nMS_2013_all,\\nMG_2013_all,\\nPA_2013_all,\\nPB_2013_all,\\nPR_2013_all,\\nPE_2013_all,\\nPI_2013_all,\\nRJ_2013_all,\\nRN_2013_all,\\nRS_2013_all,\\nRO_2013_all,\\nRR_2013_all,\\nSC_2013_all,\\nSP_2013_all,\\nSE_2013_all,\\nTO_2013_all,\\n\\n    ]\\n).reset_index()\";\n",
       "                var nbb_formatted_code = \"df_2013 = pd.concat(\\n    [\\n        ac_2013_all,\\n        AL_2013_all,\\n        AP_2013_all,\\n        AM_2013_all,\\n        BA_2013_all,\\n        CE_2013_all,\\n        DF_2013_all,\\n        ES_2013_all,\\n        GO_2013_all,\\n        MA_2013_all,\\n        MT_2013_all,\\n        MS_2013_all,\\n        MG_2013_all,\\n        PA_2013_all,\\n        PB_2013_all,\\n        PR_2013_all,\\n        PE_2013_all,\\n        PI_2013_all,\\n        RJ_2013_all,\\n        RN_2013_all,\\n        RS_2013_all,\\n        RO_2013_all,\\n        RR_2013_all,\\n        SC_2013_all,\\n        SP_2013_all,\\n        SE_2013_all,\\n        TO_2013_all,\\n    ]\\n).reset_index()\";\n",
       "                var nbb_cells = Jupyter.notebook.get_cells();\n",
       "                for (var i = 0; i < nbb_cells.length; ++i) {\n",
       "                    if (nbb_cells[i].input_prompt_number == nbb_cell_id) {\n",
       "                        if (nbb_cells[i].get_text() == nbb_unformatted_code) {\n",
       "                             nbb_cells[i].set_text(nbb_formatted_code);\n",
       "                        }\n",
       "                        break;\n",
       "                    }\n",
       "                }\n",
       "            }, 500);\n",
       "            "
      ],
      "text/plain": [
       "<IPython.core.display.Javascript object>"
      ]
     },
     "metadata": {},
     "output_type": "display_data"
    }
   ],
   "source": [
    "df_2013 = pd.concat(\n",
    "    [\n",
    "        ac_2013_all,\n",
    "        AL_2013_all,\n",
    "        AP_2013_all,\n",
    "        AM_2013_all,\n",
    "        BA_2013_all,\n",
    "        CE_2013_all,\n",
    "        DF_2013_all,\n",
    "        ES_2013_all,\n",
    "        GO_2013_all,\n",
    "        MA_2013_all,\n",
    "        MT_2013_all,\n",
    "        MS_2013_all,\n",
    "        MG_2013_all,\n",
    "        PA_2013_all,\n",
    "        PB_2013_all,\n",
    "        PR_2013_all,\n",
    "        PE_2013_all,\n",
    "        PI_2013_all,\n",
    "        RJ_2013_all,\n",
    "        RN_2013_all,\n",
    "        RS_2013_all,\n",
    "        RO_2013_all,\n",
    "        RR_2013_all,\n",
    "        SC_2013_all,\n",
    "        SP_2013_all,\n",
    "        SE_2013_all,\n",
    "        TO_2013_all,\n",
    "    ]\n",
    ").reset_index()"
   ]
  },
  {
   "cell_type": "code",
   "execution_count": 154,
   "id": "285a318c",
   "metadata": {},
   "outputs": [
    {
     "data": {
      "text/html": [
       "<div>\n",
       "<style scoped>\n",
       "    .dataframe tbody tr th:only-of-type {\n",
       "        vertical-align: middle;\n",
       "    }\n",
       "\n",
       "    .dataframe tbody tr th {\n",
       "        vertical-align: top;\n",
       "    }\n",
       "\n",
       "    .dataframe thead th {\n",
       "        text-align: right;\n",
       "    }\n",
       "</style>\n",
       "<table border=\"1\" class=\"dataframe\">\n",
       "  <thead>\n",
       "    <tr style=\"text-align: right;\">\n",
       "      <th></th>\n",
       "      <th>estado</th>\n",
       "      <th>ano</th>\n",
       "      <th>DTOBITO</th>\n",
       "      <th>DTNASC</th>\n",
       "      <th>SEXO</th>\n",
       "      <th>RACACOR</th>\n",
       "      <th>ASSISTMED</th>\n",
       "      <th>ESCMAE</th>\n",
       "      <th>ESTCIV</th>\n",
       "      <th>ESC</th>\n",
       "      <th>OCUP</th>\n",
       "      <th>CODMUNRES</th>\n",
       "      <th>CAUSABAS</th>\n",
       "      <th>CAUSABAS_O</th>\n",
       "      <th>LOCOCOR</th>\n",
       "      <th>CIRURGIA</th>\n",
       "    </tr>\n",
       "  </thead>\n",
       "  <tbody>\n",
       "    <tr>\n",
       "      <th>0</th>\n",
       "      <td>AC</td>\n",
       "      <td>2013</td>\n",
       "      <td>16032013</td>\n",
       "      <td>12111984.0</td>\n",
       "      <td>1</td>\n",
       "      <td>1.0</td>\n",
       "      <td>2.0</td>\n",
       "      <td>NaN</td>\n",
       "      <td>1.0</td>\n",
       "      <td>4.0</td>\n",
       "      <td>999991.0</td>\n",
       "      <td>120060</td>\n",
       "      <td>X780</td>\n",
       "      <td>X780</td>\n",
       "      <td>4</td>\n",
       "      <td>NaN</td>\n",
       "    </tr>\n",
       "    <tr>\n",
       "      <th>1</th>\n",
       "      <td>AC</td>\n",
       "      <td>2013</td>\n",
       "      <td>14062013</td>\n",
       "      <td>10101999.0</td>\n",
       "      <td>2</td>\n",
       "      <td>4.0</td>\n",
       "      <td>2.0</td>\n",
       "      <td>NaN</td>\n",
       "      <td>5.0</td>\n",
       "      <td>3.0</td>\n",
       "      <td>999992.0</td>\n",
       "      <td>120030</td>\n",
       "      <td>X700</td>\n",
       "      <td>X700</td>\n",
       "      <td>3</td>\n",
       "      <td>NaN</td>\n",
       "    </tr>\n",
       "    <tr>\n",
       "      <th>2</th>\n",
       "      <td>AC</td>\n",
       "      <td>2013</td>\n",
       "      <td>1072013</td>\n",
       "      <td>15031984.0</td>\n",
       "      <td>1</td>\n",
       "      <td>4.0</td>\n",
       "      <td>2.0</td>\n",
       "      <td>NaN</td>\n",
       "      <td>2.0</td>\n",
       "      <td>3.0</td>\n",
       "      <td>999992.0</td>\n",
       "      <td>120030</td>\n",
       "      <td>X700</td>\n",
       "      <td>X700</td>\n",
       "      <td>1</td>\n",
       "      <td>NaN</td>\n",
       "    </tr>\n",
       "    <tr>\n",
       "      <th>3</th>\n",
       "      <td>AC</td>\n",
       "      <td>2013</td>\n",
       "      <td>17072013</td>\n",
       "      <td>23071987.0</td>\n",
       "      <td>1</td>\n",
       "      <td>1.0</td>\n",
       "      <td>2.0</td>\n",
       "      <td>NaN</td>\n",
       "      <td>5.0</td>\n",
       "      <td>1.0</td>\n",
       "      <td>999994.0</td>\n",
       "      <td>120030</td>\n",
       "      <td>X700</td>\n",
       "      <td>X700</td>\n",
       "      <td>3</td>\n",
       "      <td>NaN</td>\n",
       "    </tr>\n",
       "    <tr>\n",
       "      <th>4</th>\n",
       "      <td>AC</td>\n",
       "      <td>2013</td>\n",
       "      <td>1082013</td>\n",
       "      <td>4041986.0</td>\n",
       "      <td>1</td>\n",
       "      <td>4.0</td>\n",
       "      <td>2.0</td>\n",
       "      <td>NaN</td>\n",
       "      <td>1.0</td>\n",
       "      <td>3.0</td>\n",
       "      <td>999992.0</td>\n",
       "      <td>120030</td>\n",
       "      <td>X700</td>\n",
       "      <td>X700</td>\n",
       "      <td>3</td>\n",
       "      <td>NaN</td>\n",
       "    </tr>\n",
       "  </tbody>\n",
       "</table>\n",
       "</div>"
      ],
      "text/plain": [
       "  estado   ano   DTOBITO      DTNASC  SEXO  RACACOR  ASSISTMED  ESCMAE  \\\n",
       "0     AC  2013  16032013  12111984.0     1      1.0        2.0     NaN   \n",
       "1     AC  2013  14062013  10101999.0     2      4.0        2.0     NaN   \n",
       "2     AC  2013   1072013  15031984.0     1      4.0        2.0     NaN   \n",
       "3     AC  2013  17072013  23071987.0     1      1.0        2.0     NaN   \n",
       "4     AC  2013   1082013   4041986.0     1      4.0        2.0     NaN   \n",
       "\n",
       "   ESTCIV  ESC      OCUP  CODMUNRES  CAUSABAS  CAUSABAS_O  LOCOCOR  CIRURGIA  \n",
       "0     1.0  4.0  999991.0     120060  X780      X780              4       NaN  \n",
       "1     5.0  3.0  999992.0     120030  X700      X700              3       NaN  \n",
       "2     2.0  3.0  999992.0     120030  X700      X700              1       NaN  \n",
       "3     5.0  1.0  999994.0     120030  X700      X700              3       NaN  \n",
       "4     1.0  3.0  999992.0     120030  X700      X700              3       NaN  "
      ]
     },
     "execution_count": 154,
     "metadata": {},
     "output_type": "execute_result"
    },
    {
     "data": {
      "application/javascript": [
       "\n",
       "            setTimeout(function() {\n",
       "                var nbb_cell_id = 154;\n",
       "                var nbb_unformatted_code = \"df_2013.head()\";\n",
       "                var nbb_formatted_code = \"df_2013.head()\";\n",
       "                var nbb_cells = Jupyter.notebook.get_cells();\n",
       "                for (var i = 0; i < nbb_cells.length; ++i) {\n",
       "                    if (nbb_cells[i].input_prompt_number == nbb_cell_id) {\n",
       "                        if (nbb_cells[i].get_text() == nbb_unformatted_code) {\n",
       "                             nbb_cells[i].set_text(nbb_formatted_code);\n",
       "                        }\n",
       "                        break;\n",
       "                    }\n",
       "                }\n",
       "            }, 500);\n",
       "            "
      ],
      "text/plain": [
       "<IPython.core.display.Javascript object>"
      ]
     },
     "metadata": {},
     "output_type": "display_data"
    }
   ],
   "source": [
    "df_2013.head()"
   ]
  },
  {
   "cell_type": "code",
   "execution_count": 153,
   "id": "049a1812",
   "metadata": {},
   "outputs": [
    {
     "data": {
      "application/javascript": [
       "\n",
       "            setTimeout(function() {\n",
       "                var nbb_cell_id = 153;\n",
       "                var nbb_unformatted_code = \"df_2013 = df_2013.drop([\\\"Unnamed: 0\\\", \\\"index\\\"], axis=1)\";\n",
       "                var nbb_formatted_code = \"df_2013 = df_2013.drop([\\\"Unnamed: 0\\\", \\\"index\\\"], axis=1)\";\n",
       "                var nbb_cells = Jupyter.notebook.get_cells();\n",
       "                for (var i = 0; i < nbb_cells.length; ++i) {\n",
       "                    if (nbb_cells[i].input_prompt_number == nbb_cell_id) {\n",
       "                        if (nbb_cells[i].get_text() == nbb_unformatted_code) {\n",
       "                             nbb_cells[i].set_text(nbb_formatted_code);\n",
       "                        }\n",
       "                        break;\n",
       "                    }\n",
       "                }\n",
       "            }, 500);\n",
       "            "
      ],
      "text/plain": [
       "<IPython.core.display.Javascript object>"
      ]
     },
     "metadata": {},
     "output_type": "display_data"
    }
   ],
   "source": [
    "df_2013 = df_2013.drop([\"Unnamed: 0\", \"index\"], axis=1)"
   ]
  },
  {
   "cell_type": "code",
   "execution_count": 156,
   "id": "034d5dab",
   "metadata": {},
   "outputs": [
    {
     "data": {
      "application/javascript": [
       "\n",
       "            setTimeout(function() {\n",
       "                var nbb_cell_id = 156;\n",
       "                var nbb_unformatted_code = \"df_2013.to_csv(\\\"df_2013.csv\\\")\";\n",
       "                var nbb_formatted_code = \"df_2013.to_csv(\\\"df_2013.csv\\\")\";\n",
       "                var nbb_cells = Jupyter.notebook.get_cells();\n",
       "                for (var i = 0; i < nbb_cells.length; ++i) {\n",
       "                    if (nbb_cells[i].input_prompt_number == nbb_cell_id) {\n",
       "                        if (nbb_cells[i].get_text() == nbb_unformatted_code) {\n",
       "                             nbb_cells[i].set_text(nbb_formatted_code);\n",
       "                        }\n",
       "                        break;\n",
       "                    }\n",
       "                }\n",
       "            }, 500);\n",
       "            "
      ],
      "text/plain": [
       "<IPython.core.display.Javascript object>"
      ]
     },
     "metadata": {},
     "output_type": "display_data"
    }
   ],
   "source": [
    "df_2013.to_csv(\"df_2013.csv\")"
   ]
  },
  {
   "cell_type": "markdown",
   "id": "4831e200",
   "metadata": {},
   "source": [
    "# 2014\n"
   ]
  },
  {
   "cell_type": "code",
   "execution_count": 157,
   "id": "7b306366",
   "metadata": {},
   "outputs": [
    {
     "data": {
      "application/javascript": [
       "\n",
       "            setTimeout(function() {\n",
       "                var nbb_cell_id = 157;\n",
       "                var nbb_unformatted_code = \"ac_2014=pd.read_csv('csv/ac_2014.csv')\\nAL_2014=pd.read_csv('csv/AL_2014.csv')\\nAP_2014=pd.read_csv('csv/AP_2014.csv')\\nAM_2014=pd.read_csv('csv/AM_2014.csv')\\nBA_2014=pd.read_csv('csv/BA_2014.csv')\\nCE_2014=pd.read_csv('csv/CE_2014.csv')\\nDF_2014=pd.read_csv('csv/DF_2014.csv')\\nES_2014=pd.read_csv('csv/ES_2014.csv')\\nGO_2014=pd.read_csv('csv/GO_2014.csv')\\nMA_2014=pd.read_csv('csv/MA_2014.csv')\\nMT_2014=pd.read_csv('csv/MT_2014.csv')\\nMS_2014=pd.read_csv('csv/MS_2014.csv')\\nMG_2014=pd.read_csv('csv/MG_2014.csv')\\nPA_2014=pd.read_csv('csv/PA_2014.csv')\\nPB_2014=pd.read_csv('csv/PB_2014.csv')\\nPR_2014=pd.read_csv('csv/PR_2014.csv')\\nPE_2014=pd.read_csv('csv/PE_2014.csv')\\nPI_2014=pd.read_csv('csv/PI_2014.csv')\\nRJ_2014=pd.read_csv('csv/RJ_2014.csv')\\nRN_2014=pd.read_csv('csv/RN_2014.csv')\\nRS_2014=pd.read_csv('csv/RS_2014.csv')\\nRO_2014=pd.read_csv('csv/RO_2014.csv')\\nRR_2014=pd.read_csv('csv/RR_2014.csv')\\nSC_2014=pd.read_csv('csv/SC_2014.csv')\\nSP_2014=pd.read_csv('csv/SP_2014.csv')\\nSE_2014=pd.read_csv('csv/SE_2014.csv')\\nTO_2014=pd.read_csv('csv/TO_2014.csv')\";\n",
       "                var nbb_formatted_code = \"ac_2014 = pd.read_csv(\\\"csv/ac_2014.csv\\\")\\nAL_2014 = pd.read_csv(\\\"csv/AL_2014.csv\\\")\\nAP_2014 = pd.read_csv(\\\"csv/AP_2014.csv\\\")\\nAM_2014 = pd.read_csv(\\\"csv/AM_2014.csv\\\")\\nBA_2014 = pd.read_csv(\\\"csv/BA_2014.csv\\\")\\nCE_2014 = pd.read_csv(\\\"csv/CE_2014.csv\\\")\\nDF_2014 = pd.read_csv(\\\"csv/DF_2014.csv\\\")\\nES_2014 = pd.read_csv(\\\"csv/ES_2014.csv\\\")\\nGO_2014 = pd.read_csv(\\\"csv/GO_2014.csv\\\")\\nMA_2014 = pd.read_csv(\\\"csv/MA_2014.csv\\\")\\nMT_2014 = pd.read_csv(\\\"csv/MT_2014.csv\\\")\\nMS_2014 = pd.read_csv(\\\"csv/MS_2014.csv\\\")\\nMG_2014 = pd.read_csv(\\\"csv/MG_2014.csv\\\")\\nPA_2014 = pd.read_csv(\\\"csv/PA_2014.csv\\\")\\nPB_2014 = pd.read_csv(\\\"csv/PB_2014.csv\\\")\\nPR_2014 = pd.read_csv(\\\"csv/PR_2014.csv\\\")\\nPE_2014 = pd.read_csv(\\\"csv/PE_2014.csv\\\")\\nPI_2014 = pd.read_csv(\\\"csv/PI_2014.csv\\\")\\nRJ_2014 = pd.read_csv(\\\"csv/RJ_2014.csv\\\")\\nRN_2014 = pd.read_csv(\\\"csv/RN_2014.csv\\\")\\nRS_2014 = pd.read_csv(\\\"csv/RS_2014.csv\\\")\\nRO_2014 = pd.read_csv(\\\"csv/RO_2014.csv\\\")\\nRR_2014 = pd.read_csv(\\\"csv/RR_2014.csv\\\")\\nSC_2014 = pd.read_csv(\\\"csv/SC_2014.csv\\\")\\nSP_2014 = pd.read_csv(\\\"csv/SP_2014.csv\\\")\\nSE_2014 = pd.read_csv(\\\"csv/SE_2014.csv\\\")\\nTO_2014 = pd.read_csv(\\\"csv/TO_2014.csv\\\")\";\n",
       "                var nbb_cells = Jupyter.notebook.get_cells();\n",
       "                for (var i = 0; i < nbb_cells.length; ++i) {\n",
       "                    if (nbb_cells[i].input_prompt_number == nbb_cell_id) {\n",
       "                        if (nbb_cells[i].get_text() == nbb_unformatted_code) {\n",
       "                             nbb_cells[i].set_text(nbb_formatted_code);\n",
       "                        }\n",
       "                        break;\n",
       "                    }\n",
       "                }\n",
       "            }, 500);\n",
       "            "
      ],
      "text/plain": [
       "<IPython.core.display.Javascript object>"
      ]
     },
     "metadata": {},
     "output_type": "display_data"
    }
   ],
   "source": [
    "ac_2014=pd.read_csv('csv/ac_2014.csv')\n",
    "AL_2014=pd.read_csv('csv/AL_2014.csv')\n",
    "AP_2014=pd.read_csv('csv/AP_2014.csv')\n",
    "AM_2014=pd.read_csv('csv/AM_2014.csv')\n",
    "BA_2014=pd.read_csv('csv/BA_2014.csv')\n",
    "CE_2014=pd.read_csv('csv/CE_2014.csv')\n",
    "DF_2014=pd.read_csv('csv/DF_2014.csv')\n",
    "ES_2014=pd.read_csv('csv/ES_2014.csv')\n",
    "GO_2014=pd.read_csv('csv/GO_2014.csv')\n",
    "MA_2014=pd.read_csv('csv/MA_2014.csv')\n",
    "MT_2014=pd.read_csv('csv/MT_2014.csv')\n",
    "MS_2014=pd.read_csv('csv/MS_2014.csv')\n",
    "MG_2014=pd.read_csv('csv/MG_2014.csv')\n",
    "PA_2014=pd.read_csv('csv/PA_2014.csv')\n",
    "PB_2014=pd.read_csv('csv/PB_2014.csv')\n",
    "PR_2014=pd.read_csv('csv/PR_2014.csv')\n",
    "PE_2014=pd.read_csv('csv/PE_2014.csv')\n",
    "PI_2014=pd.read_csv('csv/PI_2014.csv')\n",
    "RJ_2014=pd.read_csv('csv/RJ_2014.csv')\n",
    "RN_2014=pd.read_csv('csv/RN_2014.csv')\n",
    "RS_2014=pd.read_csv('csv/RS_2014.csv')\n",
    "RO_2014=pd.read_csv('csv/RO_2014.csv')\n",
    "RR_2014=pd.read_csv('csv/RR_2014.csv')\n",
    "SC_2014=pd.read_csv('csv/SC_2014.csv')\n",
    "SP_2014=pd.read_csv('csv/SP_2014.csv')\n",
    "SE_2014=pd.read_csv('csv/SE_2014.csv')\n",
    "TO_2014=pd.read_csv('csv/TO_2014.csv')\n"
   ]
  },
  {
   "cell_type": "code",
   "execution_count": 159,
   "id": "0fb824c3",
   "metadata": {},
   "outputs": [
    {
     "data": {
      "application/javascript": [
       "\n",
       "            setTimeout(function() {\n",
       "                var nbb_cell_id = 159;\n",
       "                var nbb_unformatted_code = \"ac_2014_all=ac_2014[ac_2014['CAUSABAS'].isin(filter_list) | ac_2014['CAUSABAS_O'].isin(filter_list)]\\nAL_2014_all=AL_2014[AL_2014['CAUSABAS'].isin(filter_list) | AL_2014['CAUSABAS_O'].isin(filter_list)]\\nAP_2014_all=AP_2014[AP_2014['CAUSABAS'].isin(filter_list) | AP_2014['CAUSABAS_O'].isin(filter_list)]\\nAM_2014_all=AM_2014[AM_2014['CAUSABAS'].isin(filter_list) | AM_2014['CAUSABAS_O'].isin(filter_list)]\\nBA_2014_all=BA_2014[BA_2014['CAUSABAS'].isin(filter_list) | BA_2014['CAUSABAS_O'].isin(filter_list)]\\nCE_2014_all=CE_2014[CE_2014['CAUSABAS'].isin(filter_list) | CE_2014['CAUSABAS_O'].isin(filter_list)]\\nDF_2014_all=DF_2014[DF_2014['CAUSABAS'].isin(filter_list) | DF_2014['CAUSABAS_O'].isin(filter_list)]\\nES_2014_all=ES_2014[ES_2014['CAUSABAS'].isin(filter_list) | ES_2014['CAUSABAS_O'].isin(filter_list)]\\nGO_2014_all=GO_2014[GO_2014['CAUSABAS'].isin(filter_list) | GO_2014['CAUSABAS_O'].isin(filter_list)]\\nMA_2014_all=MA_2014[MA_2014['CAUSABAS'].isin(filter_list) | MA_2014['CAUSABAS_O'].isin(filter_list)]\\nMT_2014_all=MT_2014[MT_2014['CAUSABAS'].isin(filter_list) | MT_2014['CAUSABAS_O'].isin(filter_list)]\\nMS_2014_all=MS_2014[MS_2014['CAUSABAS'].isin(filter_list) | MS_2014['CAUSABAS_O'].isin(filter_list)]\\nMG_2014_all=MG_2014[MG_2014['CAUSABAS'].isin(filter_list) | MG_2014['CAUSABAS_O'].isin(filter_list)]\\nPA_2014_all=PA_2014[PA_2014['CAUSABAS'].isin(filter_list) | PA_2014['CAUSABAS_O'].isin(filter_list)]\\nPB_2014_all=PB_2014[PB_2014['CAUSABAS'].isin(filter_list) | PB_2014['CAUSABAS_O'].isin(filter_list)]\\nPR_2014_all=PR_2014[PR_2014['CAUSABAS'].isin(filter_list) | PR_2014['CAUSABAS_O'].isin(filter_list)]\\nPE_2014_all=PE_2014[PE_2014['CAUSABAS'].isin(filter_list) | PE_2014['CAUSABAS_O'].isin(filter_list)]\\nPI_2014_all=PI_2014[PI_2014['CAUSABAS'].isin(filter_list) | PI_2014['CAUSABAS_O'].isin(filter_list)]\\nRJ_2014_all=RJ_2014[RJ_2014['CAUSABAS'].isin(filter_list) | RJ_2014['CAUSABAS_O'].isin(filter_list)]\\nRN_2014_all=RN_2014[RN_2014['CAUSABAS'].isin(filter_list) | RN_2014['CAUSABAS_O'].isin(filter_list)]\\nRS_2014_all=RS_2014[RS_2014['CAUSABAS'].isin(filter_list) | RS_2014['CAUSABAS_O'].isin(filter_list)]\\nRO_2014_all=RO_2014[RO_2014['CAUSABAS'].isin(filter_list) | RO_2014['CAUSABAS_O'].isin(filter_list)]\\nRR_2014_all=RR_2014[RR_2014['CAUSABAS'].isin(filter_list) | RR_2014['CAUSABAS_O'].isin(filter_list)]\\nSC_2014_all=SC_2014[SC_2014['CAUSABAS'].isin(filter_list) | SC_2014['CAUSABAS_O'].isin(filter_list)]\\nSP_2014_all=SP_2014[SP_2014['CAUSABAS'].isin(filter_list) | SP_2014['CAUSABAS_O'].isin(filter_list)]\\nSE_2014_all=SE_2014[SE_2014['CAUSABAS'].isin(filter_list) | SE_2014['CAUSABAS_O'].isin(filter_list)]\\nTO_2014_all=TO_2014[TO_2014['CAUSABAS'].isin(filter_list) | TO_2014['CAUSABAS_O'].isin(filter_list)]\";\n",
       "                var nbb_formatted_code = \"ac_2014_all = ac_2014[\\n    ac_2014[\\\"CAUSABAS\\\"].isin(filter_list) | ac_2014[\\\"CAUSABAS_O\\\"].isin(filter_list)\\n]\\nAL_2014_all = AL_2014[\\n    AL_2014[\\\"CAUSABAS\\\"].isin(filter_list) | AL_2014[\\\"CAUSABAS_O\\\"].isin(filter_list)\\n]\\nAP_2014_all = AP_2014[\\n    AP_2014[\\\"CAUSABAS\\\"].isin(filter_list) | AP_2014[\\\"CAUSABAS_O\\\"].isin(filter_list)\\n]\\nAM_2014_all = AM_2014[\\n    AM_2014[\\\"CAUSABAS\\\"].isin(filter_list) | AM_2014[\\\"CAUSABAS_O\\\"].isin(filter_list)\\n]\\nBA_2014_all = BA_2014[\\n    BA_2014[\\\"CAUSABAS\\\"].isin(filter_list) | BA_2014[\\\"CAUSABAS_O\\\"].isin(filter_list)\\n]\\nCE_2014_all = CE_2014[\\n    CE_2014[\\\"CAUSABAS\\\"].isin(filter_list) | CE_2014[\\\"CAUSABAS_O\\\"].isin(filter_list)\\n]\\nDF_2014_all = DF_2014[\\n    DF_2014[\\\"CAUSABAS\\\"].isin(filter_list) | DF_2014[\\\"CAUSABAS_O\\\"].isin(filter_list)\\n]\\nES_2014_all = ES_2014[\\n    ES_2014[\\\"CAUSABAS\\\"].isin(filter_list) | ES_2014[\\\"CAUSABAS_O\\\"].isin(filter_list)\\n]\\nGO_2014_all = GO_2014[\\n    GO_2014[\\\"CAUSABAS\\\"].isin(filter_list) | GO_2014[\\\"CAUSABAS_O\\\"].isin(filter_list)\\n]\\nMA_2014_all = MA_2014[\\n    MA_2014[\\\"CAUSABAS\\\"].isin(filter_list) | MA_2014[\\\"CAUSABAS_O\\\"].isin(filter_list)\\n]\\nMT_2014_all = MT_2014[\\n    MT_2014[\\\"CAUSABAS\\\"].isin(filter_list) | MT_2014[\\\"CAUSABAS_O\\\"].isin(filter_list)\\n]\\nMS_2014_all = MS_2014[\\n    MS_2014[\\\"CAUSABAS\\\"].isin(filter_list) | MS_2014[\\\"CAUSABAS_O\\\"].isin(filter_list)\\n]\\nMG_2014_all = MG_2014[\\n    MG_2014[\\\"CAUSABAS\\\"].isin(filter_list) | MG_2014[\\\"CAUSABAS_O\\\"].isin(filter_list)\\n]\\nPA_2014_all = PA_2014[\\n    PA_2014[\\\"CAUSABAS\\\"].isin(filter_list) | PA_2014[\\\"CAUSABAS_O\\\"].isin(filter_list)\\n]\\nPB_2014_all = PB_2014[\\n    PB_2014[\\\"CAUSABAS\\\"].isin(filter_list) | PB_2014[\\\"CAUSABAS_O\\\"].isin(filter_list)\\n]\\nPR_2014_all = PR_2014[\\n    PR_2014[\\\"CAUSABAS\\\"].isin(filter_list) | PR_2014[\\\"CAUSABAS_O\\\"].isin(filter_list)\\n]\\nPE_2014_all = PE_2014[\\n    PE_2014[\\\"CAUSABAS\\\"].isin(filter_list) | PE_2014[\\\"CAUSABAS_O\\\"].isin(filter_list)\\n]\\nPI_2014_all = PI_2014[\\n    PI_2014[\\\"CAUSABAS\\\"].isin(filter_list) | PI_2014[\\\"CAUSABAS_O\\\"].isin(filter_list)\\n]\\nRJ_2014_all = RJ_2014[\\n    RJ_2014[\\\"CAUSABAS\\\"].isin(filter_list) | RJ_2014[\\\"CAUSABAS_O\\\"].isin(filter_list)\\n]\\nRN_2014_all = RN_2014[\\n    RN_2014[\\\"CAUSABAS\\\"].isin(filter_list) | RN_2014[\\\"CAUSABAS_O\\\"].isin(filter_list)\\n]\\nRS_2014_all = RS_2014[\\n    RS_2014[\\\"CAUSABAS\\\"].isin(filter_list) | RS_2014[\\\"CAUSABAS_O\\\"].isin(filter_list)\\n]\\nRO_2014_all = RO_2014[\\n    RO_2014[\\\"CAUSABAS\\\"].isin(filter_list) | RO_2014[\\\"CAUSABAS_O\\\"].isin(filter_list)\\n]\\nRR_2014_all = RR_2014[\\n    RR_2014[\\\"CAUSABAS\\\"].isin(filter_list) | RR_2014[\\\"CAUSABAS_O\\\"].isin(filter_list)\\n]\\nSC_2014_all = SC_2014[\\n    SC_2014[\\\"CAUSABAS\\\"].isin(filter_list) | SC_2014[\\\"CAUSABAS_O\\\"].isin(filter_list)\\n]\\nSP_2014_all = SP_2014[\\n    SP_2014[\\\"CAUSABAS\\\"].isin(filter_list) | SP_2014[\\\"CAUSABAS_O\\\"].isin(filter_list)\\n]\\nSE_2014_all = SE_2014[\\n    SE_2014[\\\"CAUSABAS\\\"].isin(filter_list) | SE_2014[\\\"CAUSABAS_O\\\"].isin(filter_list)\\n]\\nTO_2014_all = TO_2014[\\n    TO_2014[\\\"CAUSABAS\\\"].isin(filter_list) | TO_2014[\\\"CAUSABAS_O\\\"].isin(filter_list)\\n]\";\n",
       "                var nbb_cells = Jupyter.notebook.get_cells();\n",
       "                for (var i = 0; i < nbb_cells.length; ++i) {\n",
       "                    if (nbb_cells[i].input_prompt_number == nbb_cell_id) {\n",
       "                        if (nbb_cells[i].get_text() == nbb_unformatted_code) {\n",
       "                             nbb_cells[i].set_text(nbb_formatted_code);\n",
       "                        }\n",
       "                        break;\n",
       "                    }\n",
       "                }\n",
       "            }, 500);\n",
       "            "
      ],
      "text/plain": [
       "<IPython.core.display.Javascript object>"
      ]
     },
     "metadata": {},
     "output_type": "display_data"
    }
   ],
   "source": [
    "ac_2014_all=ac_2014[ac_2014['CAUSABAS'].isin(filter_list) | ac_2014['CAUSABAS_O'].isin(filter_list)]\n",
    "AL_2014_all=AL_2014[AL_2014['CAUSABAS'].isin(filter_list) | AL_2014['CAUSABAS_O'].isin(filter_list)]\n",
    "AP_2014_all=AP_2014[AP_2014['CAUSABAS'].isin(filter_list) | AP_2014['CAUSABAS_O'].isin(filter_list)]\n",
    "AM_2014_all=AM_2014[AM_2014['CAUSABAS'].isin(filter_list) | AM_2014['CAUSABAS_O'].isin(filter_list)]\n",
    "BA_2014_all=BA_2014[BA_2014['CAUSABAS'].isin(filter_list) | BA_2014['CAUSABAS_O'].isin(filter_list)]\n",
    "CE_2014_all=CE_2014[CE_2014['CAUSABAS'].isin(filter_list) | CE_2014['CAUSABAS_O'].isin(filter_list)]\n",
    "DF_2014_all=DF_2014[DF_2014['CAUSABAS'].isin(filter_list) | DF_2014['CAUSABAS_O'].isin(filter_list)]\n",
    "ES_2014_all=ES_2014[ES_2014['CAUSABAS'].isin(filter_list) | ES_2014['CAUSABAS_O'].isin(filter_list)]\n",
    "GO_2014_all=GO_2014[GO_2014['CAUSABAS'].isin(filter_list) | GO_2014['CAUSABAS_O'].isin(filter_list)]\n",
    "MA_2014_all=MA_2014[MA_2014['CAUSABAS'].isin(filter_list) | MA_2014['CAUSABAS_O'].isin(filter_list)]\n",
    "MT_2014_all=MT_2014[MT_2014['CAUSABAS'].isin(filter_list) | MT_2014['CAUSABAS_O'].isin(filter_list)]\n",
    "MS_2014_all=MS_2014[MS_2014['CAUSABAS'].isin(filter_list) | MS_2014['CAUSABAS_O'].isin(filter_list)]\n",
    "MG_2014_all=MG_2014[MG_2014['CAUSABAS'].isin(filter_list) | MG_2014['CAUSABAS_O'].isin(filter_list)]\n",
    "PA_2014_all=PA_2014[PA_2014['CAUSABAS'].isin(filter_list) | PA_2014['CAUSABAS_O'].isin(filter_list)]\n",
    "PB_2014_all=PB_2014[PB_2014['CAUSABAS'].isin(filter_list) | PB_2014['CAUSABAS_O'].isin(filter_list)]\n",
    "PR_2014_all=PR_2014[PR_2014['CAUSABAS'].isin(filter_list) | PR_2014['CAUSABAS_O'].isin(filter_list)]\n",
    "PE_2014_all=PE_2014[PE_2014['CAUSABAS'].isin(filter_list) | PE_2014['CAUSABAS_O'].isin(filter_list)]\n",
    "PI_2014_all=PI_2014[PI_2014['CAUSABAS'].isin(filter_list) | PI_2014['CAUSABAS_O'].isin(filter_list)]\n",
    "RJ_2014_all=RJ_2014[RJ_2014['CAUSABAS'].isin(filter_list) | RJ_2014['CAUSABAS_O'].isin(filter_list)]\n",
    "RN_2014_all=RN_2014[RN_2014['CAUSABAS'].isin(filter_list) | RN_2014['CAUSABAS_O'].isin(filter_list)]\n",
    "RS_2014_all=RS_2014[RS_2014['CAUSABAS'].isin(filter_list) | RS_2014['CAUSABAS_O'].isin(filter_list)]\n",
    "RO_2014_all=RO_2014[RO_2014['CAUSABAS'].isin(filter_list) | RO_2014['CAUSABAS_O'].isin(filter_list)]\n",
    "RR_2014_all=RR_2014[RR_2014['CAUSABAS'].isin(filter_list) | RR_2014['CAUSABAS_O'].isin(filter_list)]\n",
    "SC_2014_all=SC_2014[SC_2014['CAUSABAS'].isin(filter_list) | SC_2014['CAUSABAS_O'].isin(filter_list)]\n",
    "SP_2014_all=SP_2014[SP_2014['CAUSABAS'].isin(filter_list) | SP_2014['CAUSABAS_O'].isin(filter_list)]\n",
    "SE_2014_all=SE_2014[SE_2014['CAUSABAS'].isin(filter_list) | SE_2014['CAUSABAS_O'].isin(filter_list)]\n",
    "TO_2014_all=TO_2014[TO_2014['CAUSABAS'].isin(filter_list) | TO_2014['CAUSABAS_O'].isin(filter_list)]\n"
   ]
  },
  {
   "cell_type": "code",
   "execution_count": 160,
   "id": "fd3914d4",
   "metadata": {},
   "outputs": [
    {
     "data": {
      "application/javascript": [
       "\n",
       "            setTimeout(function() {\n",
       "                var nbb_cell_id = 160;\n",
       "                var nbb_unformatted_code = \"df_2014 = pd.concat(\\n    [\\nac_2014_all,\\nAL_2014_all,\\nAP_2014_all,\\nAM_2014_all,\\nBA_2014_all,\\nCE_2014_all,\\nDF_2014_all,\\nES_2014_all,\\nGO_2014_all,\\nMA_2014_all,\\nMT_2014_all,\\nMS_2014_all,\\nMG_2014_all,\\nPA_2014_all,\\nPB_2014_all,\\nPR_2014_all,\\nPE_2014_all,\\nPI_2014_all,\\nRJ_2014_all,\\nRN_2014_all,\\nRS_2014_all,\\nRO_2014_all,\\nRR_2014_all,\\nSC_2014_all,\\nSP_2014_all,\\nSE_2014_all,\\nTO_2014_all,\\n\\n    ]\\n).reset_index()\";\n",
       "                var nbb_formatted_code = \"df_2014 = pd.concat(\\n    [\\n        ac_2014_all,\\n        AL_2014_all,\\n        AP_2014_all,\\n        AM_2014_all,\\n        BA_2014_all,\\n        CE_2014_all,\\n        DF_2014_all,\\n        ES_2014_all,\\n        GO_2014_all,\\n        MA_2014_all,\\n        MT_2014_all,\\n        MS_2014_all,\\n        MG_2014_all,\\n        PA_2014_all,\\n        PB_2014_all,\\n        PR_2014_all,\\n        PE_2014_all,\\n        PI_2014_all,\\n        RJ_2014_all,\\n        RN_2014_all,\\n        RS_2014_all,\\n        RO_2014_all,\\n        RR_2014_all,\\n        SC_2014_all,\\n        SP_2014_all,\\n        SE_2014_all,\\n        TO_2014_all,\\n    ]\\n).reset_index()\";\n",
       "                var nbb_cells = Jupyter.notebook.get_cells();\n",
       "                for (var i = 0; i < nbb_cells.length; ++i) {\n",
       "                    if (nbb_cells[i].input_prompt_number == nbb_cell_id) {\n",
       "                        if (nbb_cells[i].get_text() == nbb_unformatted_code) {\n",
       "                             nbb_cells[i].set_text(nbb_formatted_code);\n",
       "                        }\n",
       "                        break;\n",
       "                    }\n",
       "                }\n",
       "            }, 500);\n",
       "            "
      ],
      "text/plain": [
       "<IPython.core.display.Javascript object>"
      ]
     },
     "metadata": {},
     "output_type": "display_data"
    }
   ],
   "source": [
    "df_2014 = pd.concat(\n",
    "    [\n",
    "        ac_2014_all,\n",
    "        AL_2014_all,\n",
    "        AP_2014_all,\n",
    "        AM_2014_all,\n",
    "        BA_2014_all,\n",
    "        CE_2014_all,\n",
    "        DF_2014_all,\n",
    "        ES_2014_all,\n",
    "        GO_2014_all,\n",
    "        MA_2014_all,\n",
    "        MT_2014_all,\n",
    "        MS_2014_all,\n",
    "        MG_2014_all,\n",
    "        PA_2014_all,\n",
    "        PB_2014_all,\n",
    "        PR_2014_all,\n",
    "        PE_2014_all,\n",
    "        PI_2014_all,\n",
    "        RJ_2014_all,\n",
    "        RN_2014_all,\n",
    "        RS_2014_all,\n",
    "        RO_2014_all,\n",
    "        RR_2014_all,\n",
    "        SC_2014_all,\n",
    "        SP_2014_all,\n",
    "        SE_2014_all,\n",
    "        TO_2014_all,\n",
    "    ]\n",
    ").reset_index()"
   ]
  },
  {
   "cell_type": "code",
   "execution_count": 161,
   "id": "6fec832a",
   "metadata": {},
   "outputs": [
    {
     "data": {
      "application/javascript": [
       "\n",
       "            setTimeout(function() {\n",
       "                var nbb_cell_id = 161;\n",
       "                var nbb_unformatted_code = \"df_2014 = df_2014.drop([\\\"Unnamed: 0\\\", \\\"index\\\"], axis=1)\";\n",
       "                var nbb_formatted_code = \"df_2014 = df_2014.drop([\\\"Unnamed: 0\\\", \\\"index\\\"], axis=1)\";\n",
       "                var nbb_cells = Jupyter.notebook.get_cells();\n",
       "                for (var i = 0; i < nbb_cells.length; ++i) {\n",
       "                    if (nbb_cells[i].input_prompt_number == nbb_cell_id) {\n",
       "                        if (nbb_cells[i].get_text() == nbb_unformatted_code) {\n",
       "                             nbb_cells[i].set_text(nbb_formatted_code);\n",
       "                        }\n",
       "                        break;\n",
       "                    }\n",
       "                }\n",
       "            }, 500);\n",
       "            "
      ],
      "text/plain": [
       "<IPython.core.display.Javascript object>"
      ]
     },
     "metadata": {},
     "output_type": "display_data"
    }
   ],
   "source": [
    "df_2014 = df_2014.drop([\"Unnamed: 0\", \"index\"], axis=1)"
   ]
  },
  {
   "cell_type": "code",
   "execution_count": 162,
   "id": "e907cd59",
   "metadata": {},
   "outputs": [
    {
     "data": {
      "text/html": [
       "<div>\n",
       "<style scoped>\n",
       "    .dataframe tbody tr th:only-of-type {\n",
       "        vertical-align: middle;\n",
       "    }\n",
       "\n",
       "    .dataframe tbody tr th {\n",
       "        vertical-align: top;\n",
       "    }\n",
       "\n",
       "    .dataframe thead th {\n",
       "        text-align: right;\n",
       "    }\n",
       "</style>\n",
       "<table border=\"1\" class=\"dataframe\">\n",
       "  <thead>\n",
       "    <tr style=\"text-align: right;\">\n",
       "      <th></th>\n",
       "      <th>estado</th>\n",
       "      <th>ano</th>\n",
       "      <th>DTOBITO</th>\n",
       "      <th>DTNASC</th>\n",
       "      <th>SEXO</th>\n",
       "      <th>RACACOR</th>\n",
       "      <th>ASSISTMED</th>\n",
       "      <th>ESCMAE</th>\n",
       "      <th>ESTCIV</th>\n",
       "      <th>ESC</th>\n",
       "      <th>OCUP</th>\n",
       "      <th>CODMUNRES</th>\n",
       "      <th>CAUSABAS</th>\n",
       "      <th>CAUSABAS_O</th>\n",
       "      <th>LOCOCOR</th>\n",
       "      <th>CIRURGIA</th>\n",
       "    </tr>\n",
       "  </thead>\n",
       "  <tbody>\n",
       "    <tr>\n",
       "      <th>0</th>\n",
       "      <td>AC</td>\n",
       "      <td>2014</td>\n",
       "      <td>2012014</td>\n",
       "      <td>2071977.0</td>\n",
       "      <td>1</td>\n",
       "      <td>2.0</td>\n",
       "      <td>2.0</td>\n",
       "      <td>NaN</td>\n",
       "      <td>2.0</td>\n",
       "      <td>3.0</td>\n",
       "      <td>377110.0</td>\n",
       "      <td>120040</td>\n",
       "      <td>X700</td>\n",
       "      <td>X700</td>\n",
       "      <td>3.0</td>\n",
       "      <td>NaN</td>\n",
       "    </tr>\n",
       "    <tr>\n",
       "      <th>1</th>\n",
       "      <td>AC</td>\n",
       "      <td>2014</td>\n",
       "      <td>23012014</td>\n",
       "      <td>30071966.0</td>\n",
       "      <td>1</td>\n",
       "      <td>1.0</td>\n",
       "      <td>2.0</td>\n",
       "      <td>NaN</td>\n",
       "      <td>5.0</td>\n",
       "      <td>5.0</td>\n",
       "      <td>223132.0</td>\n",
       "      <td>120040</td>\n",
       "      <td>X800</td>\n",
       "      <td>X800</td>\n",
       "      <td>3.0</td>\n",
       "      <td>NaN</td>\n",
       "    </tr>\n",
       "    <tr>\n",
       "      <th>2</th>\n",
       "      <td>AC</td>\n",
       "      <td>2014</td>\n",
       "      <td>31012014</td>\n",
       "      <td>28071943.0</td>\n",
       "      <td>1</td>\n",
       "      <td>1.0</td>\n",
       "      <td>2.0</td>\n",
       "      <td>NaN</td>\n",
       "      <td>9.0</td>\n",
       "      <td>9.0</td>\n",
       "      <td>NaN</td>\n",
       "      <td>120040</td>\n",
       "      <td>X700</td>\n",
       "      <td>X700</td>\n",
       "      <td>3.0</td>\n",
       "      <td>NaN</td>\n",
       "    </tr>\n",
       "    <tr>\n",
       "      <th>3</th>\n",
       "      <td>AC</td>\n",
       "      <td>2014</td>\n",
       "      <td>5022014</td>\n",
       "      <td>4071999.0</td>\n",
       "      <td>1</td>\n",
       "      <td>1.0</td>\n",
       "      <td>2.0</td>\n",
       "      <td>NaN</td>\n",
       "      <td>1.0</td>\n",
       "      <td>3.0</td>\n",
       "      <td>999991.0</td>\n",
       "      <td>120025</td>\n",
       "      <td>X700</td>\n",
       "      <td>X700</td>\n",
       "      <td>5.0</td>\n",
       "      <td>NaN</td>\n",
       "    </tr>\n",
       "    <tr>\n",
       "      <th>4</th>\n",
       "      <td>AC</td>\n",
       "      <td>2014</td>\n",
       "      <td>6022014</td>\n",
       "      <td>2051972.0</td>\n",
       "      <td>1</td>\n",
       "      <td>1.0</td>\n",
       "      <td>2.0</td>\n",
       "      <td>NaN</td>\n",
       "      <td>9.0</td>\n",
       "      <td>NaN</td>\n",
       "      <td>NaN</td>\n",
       "      <td>120040</td>\n",
       "      <td>X700</td>\n",
       "      <td>X700</td>\n",
       "      <td>5.0</td>\n",
       "      <td>NaN</td>\n",
       "    </tr>\n",
       "  </tbody>\n",
       "</table>\n",
       "</div>"
      ],
      "text/plain": [
       "  estado   ano   DTOBITO      DTNASC  SEXO  RACACOR  ASSISTMED  ESCMAE  \\\n",
       "0     AC  2014   2012014   2071977.0     1      2.0        2.0     NaN   \n",
       "1     AC  2014  23012014  30071966.0     1      1.0        2.0     NaN   \n",
       "2     AC  2014  31012014  28071943.0     1      1.0        2.0     NaN   \n",
       "3     AC  2014   5022014   4071999.0     1      1.0        2.0     NaN   \n",
       "4     AC  2014   6022014   2051972.0     1      1.0        2.0     NaN   \n",
       "\n",
       "   ESTCIV  ESC      OCUP  CODMUNRES  CAUSABAS  CAUSABAS_O  LOCOCOR  CIRURGIA  \n",
       "0     2.0  3.0  377110.0     120040  X700      X700            3.0       NaN  \n",
       "1     5.0  5.0  223132.0     120040  X800      X800            3.0       NaN  \n",
       "2     9.0  9.0       NaN     120040  X700      X700            3.0       NaN  \n",
       "3     1.0  3.0  999991.0     120025  X700      X700            5.0       NaN  \n",
       "4     9.0  NaN       NaN     120040  X700      X700            5.0       NaN  "
      ]
     },
     "execution_count": 162,
     "metadata": {},
     "output_type": "execute_result"
    },
    {
     "data": {
      "application/javascript": [
       "\n",
       "            setTimeout(function() {\n",
       "                var nbb_cell_id = 162;\n",
       "                var nbb_unformatted_code = \"df_2014.head()\";\n",
       "                var nbb_formatted_code = \"df_2014.head()\";\n",
       "                var nbb_cells = Jupyter.notebook.get_cells();\n",
       "                for (var i = 0; i < nbb_cells.length; ++i) {\n",
       "                    if (nbb_cells[i].input_prompt_number == nbb_cell_id) {\n",
       "                        if (nbb_cells[i].get_text() == nbb_unformatted_code) {\n",
       "                             nbb_cells[i].set_text(nbb_formatted_code);\n",
       "                        }\n",
       "                        break;\n",
       "                    }\n",
       "                }\n",
       "            }, 500);\n",
       "            "
      ],
      "text/plain": [
       "<IPython.core.display.Javascript object>"
      ]
     },
     "metadata": {},
     "output_type": "display_data"
    }
   ],
   "source": [
    "df_2014.head()"
   ]
  },
  {
   "cell_type": "code",
   "execution_count": 163,
   "id": "c8df49c8",
   "metadata": {},
   "outputs": [
    {
     "name": "stdout",
     "output_type": "stream",
     "text": [
      "<class 'pandas.core.frame.DataFrame'>\n",
      "RangeIndex: 10656 entries, 0 to 10655\n",
      "Data columns (total 16 columns):\n",
      " #   Column      Non-Null Count  Dtype  \n",
      "---  ------      --------------  -----  \n",
      " 0   estado      10656 non-null  object \n",
      " 1   ano         10656 non-null  int64  \n",
      " 2   DTOBITO     10656 non-null  int64  \n",
      " 3   DTNASC      10606 non-null  float64\n",
      " 4   SEXO        10656 non-null  int64  \n",
      " 5   RACACOR     10300 non-null  float64\n",
      " 6   ASSISTMED   7926 non-null   float64\n",
      " 7   ESCMAE      0 non-null      float64\n",
      " 8   ESTCIV      10270 non-null  float64\n",
      " 9   ESC         10149 non-null  float64\n",
      " 10  OCUP        8082 non-null   float64\n",
      " 11  CODMUNRES   10656 non-null  int64  \n",
      " 12  CAUSABAS    10656 non-null  object \n",
      " 13  CAUSABAS_O  10634 non-null  object \n",
      " 14  LOCOCOR     10656 non-null  float64\n",
      " 15  CIRURGIA    73 non-null     float64\n",
      "dtypes: float64(9), int64(4), object(3)\n",
      "memory usage: 1.3+ MB\n"
     ]
    },
    {
     "data": {
      "application/javascript": [
       "\n",
       "            setTimeout(function() {\n",
       "                var nbb_cell_id = 163;\n",
       "                var nbb_unformatted_code = \"df_2014.info()\";\n",
       "                var nbb_formatted_code = \"df_2014.info()\";\n",
       "                var nbb_cells = Jupyter.notebook.get_cells();\n",
       "                for (var i = 0; i < nbb_cells.length; ++i) {\n",
       "                    if (nbb_cells[i].input_prompt_number == nbb_cell_id) {\n",
       "                        if (nbb_cells[i].get_text() == nbb_unformatted_code) {\n",
       "                             nbb_cells[i].set_text(nbb_formatted_code);\n",
       "                        }\n",
       "                        break;\n",
       "                    }\n",
       "                }\n",
       "            }, 500);\n",
       "            "
      ],
      "text/plain": [
       "<IPython.core.display.Javascript object>"
      ]
     },
     "metadata": {},
     "output_type": "display_data"
    }
   ],
   "source": [
    "df_2014.info()"
   ]
  },
  {
   "cell_type": "code",
   "execution_count": 164,
   "id": "d3d55971",
   "metadata": {},
   "outputs": [
    {
     "data": {
      "application/javascript": [
       "\n",
       "            setTimeout(function() {\n",
       "                var nbb_cell_id = 164;\n",
       "                var nbb_unformatted_code = \"df_2014.to_csv(\\\"df_2014.csv\\\")\";\n",
       "                var nbb_formatted_code = \"df_2014.to_csv(\\\"df_2014.csv\\\")\";\n",
       "                var nbb_cells = Jupyter.notebook.get_cells();\n",
       "                for (var i = 0; i < nbb_cells.length; ++i) {\n",
       "                    if (nbb_cells[i].input_prompt_number == nbb_cell_id) {\n",
       "                        if (nbb_cells[i].get_text() == nbb_unformatted_code) {\n",
       "                             nbb_cells[i].set_text(nbb_formatted_code);\n",
       "                        }\n",
       "                        break;\n",
       "                    }\n",
       "                }\n",
       "            }, 500);\n",
       "            "
      ],
      "text/plain": [
       "<IPython.core.display.Javascript object>"
      ]
     },
     "metadata": {},
     "output_type": "display_data"
    }
   ],
   "source": [
    "df_2014.to_csv(\"df_2014.csv\")"
   ]
  },
  {
   "cell_type": "markdown",
   "id": "b477015f",
   "metadata": {},
   "source": [
    "# 2015"
   ]
  },
  {
   "cell_type": "code",
   "execution_count": 165,
   "id": "5b831c29",
   "metadata": {},
   "outputs": [
    {
     "data": {
      "application/javascript": [
       "\n",
       "            setTimeout(function() {\n",
       "                var nbb_cell_id = 165;\n",
       "                var nbb_unformatted_code = \"ac_2015=pd.read_csv('csv/ac_2015.csv')\\nAL_2015=pd.read_csv('csv/AL_2015.csv')\\nAP_2015=pd.read_csv('csv/AP_2015.csv')\\nAM_2015=pd.read_csv('csv/AM_2015.csv')\\nBA_2015=pd.read_csv('csv/BA_2015.csv')\\nCE_2015=pd.read_csv('csv/CE_2015.csv')\\nDF_2015=pd.read_csv('csv/DF_2015.csv')\\nES_2015=pd.read_csv('csv/ES_2015.csv')\\nGO_2015=pd.read_csv('csv/GO_2015.csv')\\nMA_2015=pd.read_csv('csv/MA_2015.csv')\\nMT_2015=pd.read_csv('csv/MT_2015.csv')\\nMS_2015=pd.read_csv('csv/MS_2015.csv')\\nMG_2015=pd.read_csv('csv/MG_2015.csv')\\nPA_2015=pd.read_csv('csv/PA_2015.csv')\\nPB_2015=pd.read_csv('csv/PB_2015.csv')\\nPR_2015=pd.read_csv('csv/PR_2015.csv')\\nPE_2015=pd.read_csv('csv/PE_2015.csv')\\nPI_2015=pd.read_csv('csv/PI_2015.csv')\\nRJ_2015=pd.read_csv('csv/RJ_2015.csv')\\nRN_2015=pd.read_csv('csv/RN_2015.csv')\\nRS_2015=pd.read_csv('csv/RS_2015.csv')\\nRO_2015=pd.read_csv('csv/RO_2015.csv')\\nRR_2015=pd.read_csv('csv/RR_2015.csv')\\nSC_2015=pd.read_csv('csv/SC_2015.csv')\\nSP_2015=pd.read_csv('csv/SP_2015.csv')\\nSE_2015=pd.read_csv('csv/SE_2015.csv')\\nTO_2015=pd.read_csv('csv/TO_2015.csv')\";\n",
       "                var nbb_formatted_code = \"ac_2015 = pd.read_csv(\\\"csv/ac_2015.csv\\\")\\nAL_2015 = pd.read_csv(\\\"csv/AL_2015.csv\\\")\\nAP_2015 = pd.read_csv(\\\"csv/AP_2015.csv\\\")\\nAM_2015 = pd.read_csv(\\\"csv/AM_2015.csv\\\")\\nBA_2015 = pd.read_csv(\\\"csv/BA_2015.csv\\\")\\nCE_2015 = pd.read_csv(\\\"csv/CE_2015.csv\\\")\\nDF_2015 = pd.read_csv(\\\"csv/DF_2015.csv\\\")\\nES_2015 = pd.read_csv(\\\"csv/ES_2015.csv\\\")\\nGO_2015 = pd.read_csv(\\\"csv/GO_2015.csv\\\")\\nMA_2015 = pd.read_csv(\\\"csv/MA_2015.csv\\\")\\nMT_2015 = pd.read_csv(\\\"csv/MT_2015.csv\\\")\\nMS_2015 = pd.read_csv(\\\"csv/MS_2015.csv\\\")\\nMG_2015 = pd.read_csv(\\\"csv/MG_2015.csv\\\")\\nPA_2015 = pd.read_csv(\\\"csv/PA_2015.csv\\\")\\nPB_2015 = pd.read_csv(\\\"csv/PB_2015.csv\\\")\\nPR_2015 = pd.read_csv(\\\"csv/PR_2015.csv\\\")\\nPE_2015 = pd.read_csv(\\\"csv/PE_2015.csv\\\")\\nPI_2015 = pd.read_csv(\\\"csv/PI_2015.csv\\\")\\nRJ_2015 = pd.read_csv(\\\"csv/RJ_2015.csv\\\")\\nRN_2015 = pd.read_csv(\\\"csv/RN_2015.csv\\\")\\nRS_2015 = pd.read_csv(\\\"csv/RS_2015.csv\\\")\\nRO_2015 = pd.read_csv(\\\"csv/RO_2015.csv\\\")\\nRR_2015 = pd.read_csv(\\\"csv/RR_2015.csv\\\")\\nSC_2015 = pd.read_csv(\\\"csv/SC_2015.csv\\\")\\nSP_2015 = pd.read_csv(\\\"csv/SP_2015.csv\\\")\\nSE_2015 = pd.read_csv(\\\"csv/SE_2015.csv\\\")\\nTO_2015 = pd.read_csv(\\\"csv/TO_2015.csv\\\")\";\n",
       "                var nbb_cells = Jupyter.notebook.get_cells();\n",
       "                for (var i = 0; i < nbb_cells.length; ++i) {\n",
       "                    if (nbb_cells[i].input_prompt_number == nbb_cell_id) {\n",
       "                        if (nbb_cells[i].get_text() == nbb_unformatted_code) {\n",
       "                             nbb_cells[i].set_text(nbb_formatted_code);\n",
       "                        }\n",
       "                        break;\n",
       "                    }\n",
       "                }\n",
       "            }, 500);\n",
       "            "
      ],
      "text/plain": [
       "<IPython.core.display.Javascript object>"
      ]
     },
     "metadata": {},
     "output_type": "display_data"
    }
   ],
   "source": [
    "ac_2015=pd.read_csv('csv/ac_2015.csv')\n",
    "AL_2015=pd.read_csv('csv/AL_2015.csv')\n",
    "AP_2015=pd.read_csv('csv/AP_2015.csv')\n",
    "AM_2015=pd.read_csv('csv/AM_2015.csv')\n",
    "BA_2015=pd.read_csv('csv/BA_2015.csv')\n",
    "CE_2015=pd.read_csv('csv/CE_2015.csv')\n",
    "DF_2015=pd.read_csv('csv/DF_2015.csv')\n",
    "ES_2015=pd.read_csv('csv/ES_2015.csv')\n",
    "GO_2015=pd.read_csv('csv/GO_2015.csv')\n",
    "MA_2015=pd.read_csv('csv/MA_2015.csv')\n",
    "MT_2015=pd.read_csv('csv/MT_2015.csv')\n",
    "MS_2015=pd.read_csv('csv/MS_2015.csv')\n",
    "MG_2015=pd.read_csv('csv/MG_2015.csv')\n",
    "PA_2015=pd.read_csv('csv/PA_2015.csv')\n",
    "PB_2015=pd.read_csv('csv/PB_2015.csv')\n",
    "PR_2015=pd.read_csv('csv/PR_2015.csv')\n",
    "PE_2015=pd.read_csv('csv/PE_2015.csv')\n",
    "PI_2015=pd.read_csv('csv/PI_2015.csv')\n",
    "RJ_2015=pd.read_csv('csv/RJ_2015.csv')\n",
    "RN_2015=pd.read_csv('csv/RN_2015.csv')\n",
    "RS_2015=pd.read_csv('csv/RS_2015.csv')\n",
    "RO_2015=pd.read_csv('csv/RO_2015.csv')\n",
    "RR_2015=pd.read_csv('csv/RR_2015.csv')\n",
    "SC_2015=pd.read_csv('csv/SC_2015.csv')\n",
    "SP_2015=pd.read_csv('csv/SP_2015.csv')\n",
    "SE_2015=pd.read_csv('csv/SE_2015.csv')\n",
    "TO_2015=pd.read_csv('csv/TO_2015.csv')\n"
   ]
  },
  {
   "cell_type": "code",
   "execution_count": 167,
   "id": "4ba110bb",
   "metadata": {},
   "outputs": [
    {
     "data": {
      "application/javascript": [
       "\n",
       "            setTimeout(function() {\n",
       "                var nbb_cell_id = 167;\n",
       "                var nbb_unformatted_code = \"ac_2015_all=ac_2015[ac_2015['CAUSABAS'].isin(filter_list) | ac_2015['CAUSABAS_O'].isin(filter_list)]\\nAL_2015_all=AL_2015[AL_2015['CAUSABAS'].isin(filter_list) | AL_2015['CAUSABAS_O'].isin(filter_list)]\\nAP_2015_all=AP_2015[AP_2015['CAUSABAS'].isin(filter_list) | AP_2015['CAUSABAS_O'].isin(filter_list)]\\nAM_2015_all=AM_2015[AM_2015['CAUSABAS'].isin(filter_list) | AM_2015['CAUSABAS_O'].isin(filter_list)]\\nBA_2015_all=BA_2015[BA_2015['CAUSABAS'].isin(filter_list) | BA_2015['CAUSABAS_O'].isin(filter_list)]\\nCE_2015_all=CE_2015[CE_2015['CAUSABAS'].isin(filter_list) | CE_2015['CAUSABAS_O'].isin(filter_list)]\\nDF_2015_all=DF_2015[DF_2015['CAUSABAS'].isin(filter_list) | DF_2015['CAUSABAS_O'].isin(filter_list)]\\nES_2015_all=ES_2015[ES_2015['CAUSABAS'].isin(filter_list) | ES_2015['CAUSABAS_O'].isin(filter_list)]\\nGO_2015_all=GO_2015[GO_2015['CAUSABAS'].isin(filter_list) | GO_2015['CAUSABAS_O'].isin(filter_list)]\\nMA_2015_all=MA_2015[MA_2015['CAUSABAS'].isin(filter_list) | MA_2015['CAUSABAS_O'].isin(filter_list)]\\nMT_2015_all=MT_2015[MT_2015['CAUSABAS'].isin(filter_list) | MT_2015['CAUSABAS_O'].isin(filter_list)]\\nMS_2015_all=MS_2015[MS_2015['CAUSABAS'].isin(filter_list) | MS_2015['CAUSABAS_O'].isin(filter_list)]\\nMG_2015_all=MG_2015[MG_2015['CAUSABAS'].isin(filter_list) | MG_2015['CAUSABAS_O'].isin(filter_list)]\\nPA_2015_all=PA_2015[PA_2015['CAUSABAS'].isin(filter_list) | PA_2015['CAUSABAS_O'].isin(filter_list)]\\nPB_2015_all=PB_2015[PB_2015['CAUSABAS'].isin(filter_list) | PB_2015['CAUSABAS_O'].isin(filter_list)]\\nPR_2015_all=PR_2015[PR_2015['CAUSABAS'].isin(filter_list) | PR_2015['CAUSABAS_O'].isin(filter_list)]\\nPE_2015_all=PE_2015[PE_2015['CAUSABAS'].isin(filter_list) | PE_2015['CAUSABAS_O'].isin(filter_list)]\\nPI_2015_all=PI_2015[PI_2015['CAUSABAS'].isin(filter_list) | PI_2015['CAUSABAS_O'].isin(filter_list)]\\nRJ_2015_all=RJ_2015[RJ_2015['CAUSABAS'].isin(filter_list) | RJ_2015['CAUSABAS_O'].isin(filter_list)]\\nRN_2015_all=RN_2015[RN_2015['CAUSABAS'].isin(filter_list) | RN_2015['CAUSABAS_O'].isin(filter_list)]\\nRS_2015_all=RS_2015[RS_2015['CAUSABAS'].isin(filter_list) | RS_2015['CAUSABAS_O'].isin(filter_list)]\\nRO_2015_all=RO_2015[RO_2015['CAUSABAS'].isin(filter_list) | RO_2015['CAUSABAS_O'].isin(filter_list)]\\nRR_2015_all=RR_2015[RR_2015['CAUSABAS'].isin(filter_list) | RR_2015['CAUSABAS_O'].isin(filter_list)]\\nSC_2015_all=SC_2015[SC_2015['CAUSABAS'].isin(filter_list) | SC_2015['CAUSABAS_O'].isin(filter_list)]\\nSP_2015_all=SP_2015[SP_2015['CAUSABAS'].isin(filter_list) | SP_2015['CAUSABAS_O'].isin(filter_list)]\\nSE_2015_all=SE_2015[SE_2015['CAUSABAS'].isin(filter_list) | SE_2015['CAUSABAS_O'].isin(filter_list)]\\nTO_2015_all=TO_2015[TO_2015['CAUSABAS'].isin(filter_list) | TO_2015['CAUSABAS_O'].isin(filter_list)]\";\n",
       "                var nbb_formatted_code = \"ac_2015_all = ac_2015[\\n    ac_2015[\\\"CAUSABAS\\\"].isin(filter_list) | ac_2015[\\\"CAUSABAS_O\\\"].isin(filter_list)\\n]\\nAL_2015_all = AL_2015[\\n    AL_2015[\\\"CAUSABAS\\\"].isin(filter_list) | AL_2015[\\\"CAUSABAS_O\\\"].isin(filter_list)\\n]\\nAP_2015_all = AP_2015[\\n    AP_2015[\\\"CAUSABAS\\\"].isin(filter_list) | AP_2015[\\\"CAUSABAS_O\\\"].isin(filter_list)\\n]\\nAM_2015_all = AM_2015[\\n    AM_2015[\\\"CAUSABAS\\\"].isin(filter_list) | AM_2015[\\\"CAUSABAS_O\\\"].isin(filter_list)\\n]\\nBA_2015_all = BA_2015[\\n    BA_2015[\\\"CAUSABAS\\\"].isin(filter_list) | BA_2015[\\\"CAUSABAS_O\\\"].isin(filter_list)\\n]\\nCE_2015_all = CE_2015[\\n    CE_2015[\\\"CAUSABAS\\\"].isin(filter_list) | CE_2015[\\\"CAUSABAS_O\\\"].isin(filter_list)\\n]\\nDF_2015_all = DF_2015[\\n    DF_2015[\\\"CAUSABAS\\\"].isin(filter_list) | DF_2015[\\\"CAUSABAS_O\\\"].isin(filter_list)\\n]\\nES_2015_all = ES_2015[\\n    ES_2015[\\\"CAUSABAS\\\"].isin(filter_list) | ES_2015[\\\"CAUSABAS_O\\\"].isin(filter_list)\\n]\\nGO_2015_all = GO_2015[\\n    GO_2015[\\\"CAUSABAS\\\"].isin(filter_list) | GO_2015[\\\"CAUSABAS_O\\\"].isin(filter_list)\\n]\\nMA_2015_all = MA_2015[\\n    MA_2015[\\\"CAUSABAS\\\"].isin(filter_list) | MA_2015[\\\"CAUSABAS_O\\\"].isin(filter_list)\\n]\\nMT_2015_all = MT_2015[\\n    MT_2015[\\\"CAUSABAS\\\"].isin(filter_list) | MT_2015[\\\"CAUSABAS_O\\\"].isin(filter_list)\\n]\\nMS_2015_all = MS_2015[\\n    MS_2015[\\\"CAUSABAS\\\"].isin(filter_list) | MS_2015[\\\"CAUSABAS_O\\\"].isin(filter_list)\\n]\\nMG_2015_all = MG_2015[\\n    MG_2015[\\\"CAUSABAS\\\"].isin(filter_list) | MG_2015[\\\"CAUSABAS_O\\\"].isin(filter_list)\\n]\\nPA_2015_all = PA_2015[\\n    PA_2015[\\\"CAUSABAS\\\"].isin(filter_list) | PA_2015[\\\"CAUSABAS_O\\\"].isin(filter_list)\\n]\\nPB_2015_all = PB_2015[\\n    PB_2015[\\\"CAUSABAS\\\"].isin(filter_list) | PB_2015[\\\"CAUSABAS_O\\\"].isin(filter_list)\\n]\\nPR_2015_all = PR_2015[\\n    PR_2015[\\\"CAUSABAS\\\"].isin(filter_list) | PR_2015[\\\"CAUSABAS_O\\\"].isin(filter_list)\\n]\\nPE_2015_all = PE_2015[\\n    PE_2015[\\\"CAUSABAS\\\"].isin(filter_list) | PE_2015[\\\"CAUSABAS_O\\\"].isin(filter_list)\\n]\\nPI_2015_all = PI_2015[\\n    PI_2015[\\\"CAUSABAS\\\"].isin(filter_list) | PI_2015[\\\"CAUSABAS_O\\\"].isin(filter_list)\\n]\\nRJ_2015_all = RJ_2015[\\n    RJ_2015[\\\"CAUSABAS\\\"].isin(filter_list) | RJ_2015[\\\"CAUSABAS_O\\\"].isin(filter_list)\\n]\\nRN_2015_all = RN_2015[\\n    RN_2015[\\\"CAUSABAS\\\"].isin(filter_list) | RN_2015[\\\"CAUSABAS_O\\\"].isin(filter_list)\\n]\\nRS_2015_all = RS_2015[\\n    RS_2015[\\\"CAUSABAS\\\"].isin(filter_list) | RS_2015[\\\"CAUSABAS_O\\\"].isin(filter_list)\\n]\\nRO_2015_all = RO_2015[\\n    RO_2015[\\\"CAUSABAS\\\"].isin(filter_list) | RO_2015[\\\"CAUSABAS_O\\\"].isin(filter_list)\\n]\\nRR_2015_all = RR_2015[\\n    RR_2015[\\\"CAUSABAS\\\"].isin(filter_list) | RR_2015[\\\"CAUSABAS_O\\\"].isin(filter_list)\\n]\\nSC_2015_all = SC_2015[\\n    SC_2015[\\\"CAUSABAS\\\"].isin(filter_list) | SC_2015[\\\"CAUSABAS_O\\\"].isin(filter_list)\\n]\\nSP_2015_all = SP_2015[\\n    SP_2015[\\\"CAUSABAS\\\"].isin(filter_list) | SP_2015[\\\"CAUSABAS_O\\\"].isin(filter_list)\\n]\\nSE_2015_all = SE_2015[\\n    SE_2015[\\\"CAUSABAS\\\"].isin(filter_list) | SE_2015[\\\"CAUSABAS_O\\\"].isin(filter_list)\\n]\\nTO_2015_all = TO_2015[\\n    TO_2015[\\\"CAUSABAS\\\"].isin(filter_list) | TO_2015[\\\"CAUSABAS_O\\\"].isin(filter_list)\\n]\";\n",
       "                var nbb_cells = Jupyter.notebook.get_cells();\n",
       "                for (var i = 0; i < nbb_cells.length; ++i) {\n",
       "                    if (nbb_cells[i].input_prompt_number == nbb_cell_id) {\n",
       "                        if (nbb_cells[i].get_text() == nbb_unformatted_code) {\n",
       "                             nbb_cells[i].set_text(nbb_formatted_code);\n",
       "                        }\n",
       "                        break;\n",
       "                    }\n",
       "                }\n",
       "            }, 500);\n",
       "            "
      ],
      "text/plain": [
       "<IPython.core.display.Javascript object>"
      ]
     },
     "metadata": {},
     "output_type": "display_data"
    }
   ],
   "source": [
    "ac_2015_all=ac_2015[ac_2015['CAUSABAS'].isin(filter_list) | ac_2015['CAUSABAS_O'].isin(filter_list)]\n",
    "AL_2015_all=AL_2015[AL_2015['CAUSABAS'].isin(filter_list) | AL_2015['CAUSABAS_O'].isin(filter_list)]\n",
    "AP_2015_all=AP_2015[AP_2015['CAUSABAS'].isin(filter_list) | AP_2015['CAUSABAS_O'].isin(filter_list)]\n",
    "AM_2015_all=AM_2015[AM_2015['CAUSABAS'].isin(filter_list) | AM_2015['CAUSABAS_O'].isin(filter_list)]\n",
    "BA_2015_all=BA_2015[BA_2015['CAUSABAS'].isin(filter_list) | BA_2015['CAUSABAS_O'].isin(filter_list)]\n",
    "CE_2015_all=CE_2015[CE_2015['CAUSABAS'].isin(filter_list) | CE_2015['CAUSABAS_O'].isin(filter_list)]\n",
    "DF_2015_all=DF_2015[DF_2015['CAUSABAS'].isin(filter_list) | DF_2015['CAUSABAS_O'].isin(filter_list)]\n",
    "ES_2015_all=ES_2015[ES_2015['CAUSABAS'].isin(filter_list) | ES_2015['CAUSABAS_O'].isin(filter_list)]\n",
    "GO_2015_all=GO_2015[GO_2015['CAUSABAS'].isin(filter_list) | GO_2015['CAUSABAS_O'].isin(filter_list)]\n",
    "MA_2015_all=MA_2015[MA_2015['CAUSABAS'].isin(filter_list) | MA_2015['CAUSABAS_O'].isin(filter_list)]\n",
    "MT_2015_all=MT_2015[MT_2015['CAUSABAS'].isin(filter_list) | MT_2015['CAUSABAS_O'].isin(filter_list)]\n",
    "MS_2015_all=MS_2015[MS_2015['CAUSABAS'].isin(filter_list) | MS_2015['CAUSABAS_O'].isin(filter_list)]\n",
    "MG_2015_all=MG_2015[MG_2015['CAUSABAS'].isin(filter_list) | MG_2015['CAUSABAS_O'].isin(filter_list)]\n",
    "PA_2015_all=PA_2015[PA_2015['CAUSABAS'].isin(filter_list) | PA_2015['CAUSABAS_O'].isin(filter_list)]\n",
    "PB_2015_all=PB_2015[PB_2015['CAUSABAS'].isin(filter_list) | PB_2015['CAUSABAS_O'].isin(filter_list)]\n",
    "PR_2015_all=PR_2015[PR_2015['CAUSABAS'].isin(filter_list) | PR_2015['CAUSABAS_O'].isin(filter_list)]\n",
    "PE_2015_all=PE_2015[PE_2015['CAUSABAS'].isin(filter_list) | PE_2015['CAUSABAS_O'].isin(filter_list)]\n",
    "PI_2015_all=PI_2015[PI_2015['CAUSABAS'].isin(filter_list) | PI_2015['CAUSABAS_O'].isin(filter_list)]\n",
    "RJ_2015_all=RJ_2015[RJ_2015['CAUSABAS'].isin(filter_list) | RJ_2015['CAUSABAS_O'].isin(filter_list)]\n",
    "RN_2015_all=RN_2015[RN_2015['CAUSABAS'].isin(filter_list) | RN_2015['CAUSABAS_O'].isin(filter_list)]\n",
    "RS_2015_all=RS_2015[RS_2015['CAUSABAS'].isin(filter_list) | RS_2015['CAUSABAS_O'].isin(filter_list)]\n",
    "RO_2015_all=RO_2015[RO_2015['CAUSABAS'].isin(filter_list) | RO_2015['CAUSABAS_O'].isin(filter_list)]\n",
    "RR_2015_all=RR_2015[RR_2015['CAUSABAS'].isin(filter_list) | RR_2015['CAUSABAS_O'].isin(filter_list)]\n",
    "SC_2015_all=SC_2015[SC_2015['CAUSABAS'].isin(filter_list) | SC_2015['CAUSABAS_O'].isin(filter_list)]\n",
    "SP_2015_all=SP_2015[SP_2015['CAUSABAS'].isin(filter_list) | SP_2015['CAUSABAS_O'].isin(filter_list)]\n",
    "SE_2015_all=SE_2015[SE_2015['CAUSABAS'].isin(filter_list) | SE_2015['CAUSABAS_O'].isin(filter_list)]\n",
    "TO_2015_all=TO_2015[TO_2015['CAUSABAS'].isin(filter_list) | TO_2015['CAUSABAS_O'].isin(filter_list)]\n"
   ]
  },
  {
   "cell_type": "code",
   "execution_count": 168,
   "id": "acffd274",
   "metadata": {},
   "outputs": [
    {
     "data": {
      "application/javascript": [
       "\n",
       "            setTimeout(function() {\n",
       "                var nbb_cell_id = 168;\n",
       "                var nbb_unformatted_code = \"df_2015 = pd.concat(\\n    [\\nac_2015_all,\\nAL_2015_all,\\nAP_2015_all,\\nAM_2015_all,\\nBA_2015_all,\\nCE_2015_all,\\nDF_2015_all,\\nES_2015_all,\\nGO_2015_all,\\nMA_2015_all,\\nMT_2015_all,\\nMS_2015_all,\\nMG_2015_all,\\nPA_2015_all,\\nPB_2015_all,\\nPR_2015_all,\\nPE_2015_all,\\nPI_2015_all,\\nRJ_2015_all,\\nRN_2015_all,\\nRS_2015_all,\\nRO_2015_all,\\nRR_2015_all,\\nSC_2015_all,\\nSP_2015_all,\\nSE_2015_all,\\nTO_2015_all,\\n\\n    ]\\n).reset_index()\";\n",
       "                var nbb_formatted_code = \"df_2015 = pd.concat(\\n    [\\n        ac_2015_all,\\n        AL_2015_all,\\n        AP_2015_all,\\n        AM_2015_all,\\n        BA_2015_all,\\n        CE_2015_all,\\n        DF_2015_all,\\n        ES_2015_all,\\n        GO_2015_all,\\n        MA_2015_all,\\n        MT_2015_all,\\n        MS_2015_all,\\n        MG_2015_all,\\n        PA_2015_all,\\n        PB_2015_all,\\n        PR_2015_all,\\n        PE_2015_all,\\n        PI_2015_all,\\n        RJ_2015_all,\\n        RN_2015_all,\\n        RS_2015_all,\\n        RO_2015_all,\\n        RR_2015_all,\\n        SC_2015_all,\\n        SP_2015_all,\\n        SE_2015_all,\\n        TO_2015_all,\\n    ]\\n).reset_index()\";\n",
       "                var nbb_cells = Jupyter.notebook.get_cells();\n",
       "                for (var i = 0; i < nbb_cells.length; ++i) {\n",
       "                    if (nbb_cells[i].input_prompt_number == nbb_cell_id) {\n",
       "                        if (nbb_cells[i].get_text() == nbb_unformatted_code) {\n",
       "                             nbb_cells[i].set_text(nbb_formatted_code);\n",
       "                        }\n",
       "                        break;\n",
       "                    }\n",
       "                }\n",
       "            }, 500);\n",
       "            "
      ],
      "text/plain": [
       "<IPython.core.display.Javascript object>"
      ]
     },
     "metadata": {},
     "output_type": "display_data"
    }
   ],
   "source": [
    "df_2015 = pd.concat(\n",
    "    [\n",
    "        ac_2015_all,\n",
    "        AL_2015_all,\n",
    "        AP_2015_all,\n",
    "        AM_2015_all,\n",
    "        BA_2015_all,\n",
    "        CE_2015_all,\n",
    "        DF_2015_all,\n",
    "        ES_2015_all,\n",
    "        GO_2015_all,\n",
    "        MA_2015_all,\n",
    "        MT_2015_all,\n",
    "        MS_2015_all,\n",
    "        MG_2015_all,\n",
    "        PA_2015_all,\n",
    "        PB_2015_all,\n",
    "        PR_2015_all,\n",
    "        PE_2015_all,\n",
    "        PI_2015_all,\n",
    "        RJ_2015_all,\n",
    "        RN_2015_all,\n",
    "        RS_2015_all,\n",
    "        RO_2015_all,\n",
    "        RR_2015_all,\n",
    "        SC_2015_all,\n",
    "        SP_2015_all,\n",
    "        SE_2015_all,\n",
    "        TO_2015_all,\n",
    "    ]\n",
    ").reset_index()"
   ]
  },
  {
   "cell_type": "code",
   "execution_count": 169,
   "id": "fe24b601",
   "metadata": {},
   "outputs": [
    {
     "data": {
      "application/javascript": [
       "\n",
       "            setTimeout(function() {\n",
       "                var nbb_cell_id = 169;\n",
       "                var nbb_unformatted_code = \"df_2015 = df_2015.drop([\\\"Unnamed: 0\\\", \\\"index\\\"], axis=1)\";\n",
       "                var nbb_formatted_code = \"df_2015 = df_2015.drop([\\\"Unnamed: 0\\\", \\\"index\\\"], axis=1)\";\n",
       "                var nbb_cells = Jupyter.notebook.get_cells();\n",
       "                for (var i = 0; i < nbb_cells.length; ++i) {\n",
       "                    if (nbb_cells[i].input_prompt_number == nbb_cell_id) {\n",
       "                        if (nbb_cells[i].get_text() == nbb_unformatted_code) {\n",
       "                             nbb_cells[i].set_text(nbb_formatted_code);\n",
       "                        }\n",
       "                        break;\n",
       "                    }\n",
       "                }\n",
       "            }, 500);\n",
       "            "
      ],
      "text/plain": [
       "<IPython.core.display.Javascript object>"
      ]
     },
     "metadata": {},
     "output_type": "display_data"
    }
   ],
   "source": [
    "df_2015 = df_2015.drop([\"Unnamed: 0\", \"index\"], axis=1)"
   ]
  },
  {
   "cell_type": "code",
   "execution_count": 170,
   "id": "6c83a82e",
   "metadata": {},
   "outputs": [
    {
     "data": {
      "text/html": [
       "<div>\n",
       "<style scoped>\n",
       "    .dataframe tbody tr th:only-of-type {\n",
       "        vertical-align: middle;\n",
       "    }\n",
       "\n",
       "    .dataframe tbody tr th {\n",
       "        vertical-align: top;\n",
       "    }\n",
       "\n",
       "    .dataframe thead th {\n",
       "        text-align: right;\n",
       "    }\n",
       "</style>\n",
       "<table border=\"1\" class=\"dataframe\">\n",
       "  <thead>\n",
       "    <tr style=\"text-align: right;\">\n",
       "      <th></th>\n",
       "      <th>estado</th>\n",
       "      <th>ano</th>\n",
       "      <th>DTOBITO</th>\n",
       "      <th>DTNASC</th>\n",
       "      <th>SEXO</th>\n",
       "      <th>RACACOR</th>\n",
       "      <th>ASSISTMED</th>\n",
       "      <th>ESCMAE</th>\n",
       "      <th>ESTCIV</th>\n",
       "      <th>ESC</th>\n",
       "      <th>OCUP</th>\n",
       "      <th>CODMUNRES</th>\n",
       "      <th>CAUSABAS</th>\n",
       "      <th>CAUSABAS_O</th>\n",
       "      <th>LOCOCOR</th>\n",
       "      <th>CIRURGIA</th>\n",
       "    </tr>\n",
       "  </thead>\n",
       "  <tbody>\n",
       "    <tr>\n",
       "      <th>0</th>\n",
       "      <td>AC</td>\n",
       "      <td>2015</td>\n",
       "      <td>15012015</td>\n",
       "      <td>29121989.0</td>\n",
       "      <td>1</td>\n",
       "      <td>4.0</td>\n",
       "      <td>2.0</td>\n",
       "      <td>NaN</td>\n",
       "      <td>5.0</td>\n",
       "      <td>3.0</td>\n",
       "      <td>999994.0</td>\n",
       "      <td>120030</td>\n",
       "      <td>X700</td>\n",
       "      <td>X700</td>\n",
       "      <td>3</td>\n",
       "      <td>NaN</td>\n",
       "    </tr>\n",
       "    <tr>\n",
       "      <th>1</th>\n",
       "      <td>AC</td>\n",
       "      <td>2015</td>\n",
       "      <td>1022015</td>\n",
       "      <td>24081979.0</td>\n",
       "      <td>1</td>\n",
       "      <td>4.0</td>\n",
       "      <td>2.0</td>\n",
       "      <td>NaN</td>\n",
       "      <td>1.0</td>\n",
       "      <td>1.0</td>\n",
       "      <td>999994.0</td>\n",
       "      <td>120030</td>\n",
       "      <td>X700</td>\n",
       "      <td>X700</td>\n",
       "      <td>3</td>\n",
       "      <td>NaN</td>\n",
       "    </tr>\n",
       "    <tr>\n",
       "      <th>2</th>\n",
       "      <td>AC</td>\n",
       "      <td>2015</td>\n",
       "      <td>10042015</td>\n",
       "      <td>4101948.0</td>\n",
       "      <td>1</td>\n",
       "      <td>4.0</td>\n",
       "      <td>2.0</td>\n",
       "      <td>NaN</td>\n",
       "      <td>2.0</td>\n",
       "      <td>NaN</td>\n",
       "      <td>999993.0</td>\n",
       "      <td>120020</td>\n",
       "      <td>X709</td>\n",
       "      <td>X709</td>\n",
       "      <td>5</td>\n",
       "      <td>NaN</td>\n",
       "    </tr>\n",
       "    <tr>\n",
       "      <th>3</th>\n",
       "      <td>AC</td>\n",
       "      <td>2015</td>\n",
       "      <td>6042015</td>\n",
       "      <td>5031998.0</td>\n",
       "      <td>1</td>\n",
       "      <td>4.0</td>\n",
       "      <td>9.0</td>\n",
       "      <td>NaN</td>\n",
       "      <td>1.0</td>\n",
       "      <td>4.0</td>\n",
       "      <td>999991.0</td>\n",
       "      <td>120060</td>\n",
       "      <td>X700</td>\n",
       "      <td>X700</td>\n",
       "      <td>3</td>\n",
       "      <td>NaN</td>\n",
       "    </tr>\n",
       "    <tr>\n",
       "      <th>4</th>\n",
       "      <td>AC</td>\n",
       "      <td>2015</td>\n",
       "      <td>16022015</td>\n",
       "      <td>8071984.0</td>\n",
       "      <td>1</td>\n",
       "      <td>2.0</td>\n",
       "      <td>2.0</td>\n",
       "      <td>NaN</td>\n",
       "      <td>1.0</td>\n",
       "      <td>4.0</td>\n",
       "      <td>514215.0</td>\n",
       "      <td>120030</td>\n",
       "      <td>X702</td>\n",
       "      <td>X702</td>\n",
       "      <td>5</td>\n",
       "      <td>NaN</td>\n",
       "    </tr>\n",
       "  </tbody>\n",
       "</table>\n",
       "</div>"
      ],
      "text/plain": [
       "  estado   ano   DTOBITO      DTNASC  SEXO  RACACOR  ASSISTMED  ESCMAE  \\\n",
       "0     AC  2015  15012015  29121989.0     1      4.0        2.0     NaN   \n",
       "1     AC  2015   1022015  24081979.0     1      4.0        2.0     NaN   \n",
       "2     AC  2015  10042015   4101948.0     1      4.0        2.0     NaN   \n",
       "3     AC  2015   6042015   5031998.0     1      4.0        9.0     NaN   \n",
       "4     AC  2015  16022015   8071984.0     1      2.0        2.0     NaN   \n",
       "\n",
       "   ESTCIV  ESC      OCUP  CODMUNRES  CAUSABAS  CAUSABAS_O  LOCOCOR  CIRURGIA  \n",
       "0     5.0  3.0  999994.0     120030  X700      X700              3       NaN  \n",
       "1     1.0  1.0  999994.0     120030  X700      X700              3       NaN  \n",
       "2     2.0  NaN  999993.0     120020  X709      X709              5       NaN  \n",
       "3     1.0  4.0  999991.0     120060  X700      X700              3       NaN  \n",
       "4     1.0  4.0  514215.0     120030  X702      X702              5       NaN  "
      ]
     },
     "execution_count": 170,
     "metadata": {},
     "output_type": "execute_result"
    },
    {
     "data": {
      "application/javascript": [
       "\n",
       "            setTimeout(function() {\n",
       "                var nbb_cell_id = 170;\n",
       "                var nbb_unformatted_code = \"df_2015.head()\";\n",
       "                var nbb_formatted_code = \"df_2015.head()\";\n",
       "                var nbb_cells = Jupyter.notebook.get_cells();\n",
       "                for (var i = 0; i < nbb_cells.length; ++i) {\n",
       "                    if (nbb_cells[i].input_prompt_number == nbb_cell_id) {\n",
       "                        if (nbb_cells[i].get_text() == nbb_unformatted_code) {\n",
       "                             nbb_cells[i].set_text(nbb_formatted_code);\n",
       "                        }\n",
       "                        break;\n",
       "                    }\n",
       "                }\n",
       "            }, 500);\n",
       "            "
      ],
      "text/plain": [
       "<IPython.core.display.Javascript object>"
      ]
     },
     "metadata": {},
     "output_type": "display_data"
    }
   ],
   "source": [
    "df_2015.head()"
   ]
  },
  {
   "cell_type": "code",
   "execution_count": 171,
   "id": "8e472518",
   "metadata": {},
   "outputs": [
    {
     "data": {
      "application/javascript": [
       "\n",
       "            setTimeout(function() {\n",
       "                var nbb_cell_id = 171;\n",
       "                var nbb_unformatted_code = \"df_2015.to_csv(\\\"df_2015.csv\\\")\";\n",
       "                var nbb_formatted_code = \"df_2015.to_csv(\\\"df_2015.csv\\\")\";\n",
       "                var nbb_cells = Jupyter.notebook.get_cells();\n",
       "                for (var i = 0; i < nbb_cells.length; ++i) {\n",
       "                    if (nbb_cells[i].input_prompt_number == nbb_cell_id) {\n",
       "                        if (nbb_cells[i].get_text() == nbb_unformatted_code) {\n",
       "                             nbb_cells[i].set_text(nbb_formatted_code);\n",
       "                        }\n",
       "                        break;\n",
       "                    }\n",
       "                }\n",
       "            }, 500);\n",
       "            "
      ],
      "text/plain": [
       "<IPython.core.display.Javascript object>"
      ]
     },
     "metadata": {},
     "output_type": "display_data"
    }
   ],
   "source": [
    "df_2015.to_csv(\"df_2015.csv\")"
   ]
  },
  {
   "cell_type": "markdown",
   "id": "b8a72d99",
   "metadata": {},
   "source": [
    "# 2016"
   ]
  },
  {
   "cell_type": "code",
   "execution_count": 172,
   "id": "fd0c349a",
   "metadata": {},
   "outputs": [
    {
     "data": {
      "application/javascript": [
       "\n",
       "            setTimeout(function() {\n",
       "                var nbb_cell_id = 172;\n",
       "                var nbb_unformatted_code = \"ac_2016=pd.read_csv('csv/ac_2016.csv')\\nAL_2016=pd.read_csv('csv/AL_2016.csv')\\nAP_2016=pd.read_csv('csv/AP_2016.csv')\\nAM_2016=pd.read_csv('csv/AM_2016.csv')\\nBA_2016=pd.read_csv('csv/BA_2016.csv')\\nCE_2016=pd.read_csv('csv/CE_2016.csv')\\nDF_2016=pd.read_csv('csv/DF_2016.csv')\\nES_2016=pd.read_csv('csv/ES_2016.csv')\\nGO_2016=pd.read_csv('csv/GO_2016.csv')\\nMA_2016=pd.read_csv('csv/MA_2016.csv')\\nMT_2016=pd.read_csv('csv/MT_2016.csv')\\nMS_2016=pd.read_csv('csv/MS_2016.csv')\\nMG_2016=pd.read_csv('csv/MG_2016.csv')\\nPA_2016=pd.read_csv('csv/PA_2016.csv')\\nPB_2016=pd.read_csv('csv/PB_2016.csv')\\nPR_2016=pd.read_csv('csv/PR_2016.csv')\\nPE_2016=pd.read_csv('csv/PE_2016.csv')\\nPI_2016=pd.read_csv('csv/PI_2016.csv')\\nRJ_2016=pd.read_csv('csv/RJ_2016.csv')\\nRN_2016=pd.read_csv('csv/RN_2016.csv')\\nRS_2016=pd.read_csv('csv/RS_2016.csv')\\nRO_2016=pd.read_csv('csv/RO_2016.csv')\\nRR_2016=pd.read_csv('csv/RR_2016.csv')\\nSC_2016=pd.read_csv('csv/SC_2016.csv')\\nSP_2016=pd.read_csv('csv/SP_2016.csv')\\nSE_2016=pd.read_csv('csv/SE_2016.csv')\\nTO_2016=pd.read_csv('csv/TO_2016.csv')\";\n",
       "                var nbb_formatted_code = \"ac_2016 = pd.read_csv(\\\"csv/ac_2016.csv\\\")\\nAL_2016 = pd.read_csv(\\\"csv/AL_2016.csv\\\")\\nAP_2016 = pd.read_csv(\\\"csv/AP_2016.csv\\\")\\nAM_2016 = pd.read_csv(\\\"csv/AM_2016.csv\\\")\\nBA_2016 = pd.read_csv(\\\"csv/BA_2016.csv\\\")\\nCE_2016 = pd.read_csv(\\\"csv/CE_2016.csv\\\")\\nDF_2016 = pd.read_csv(\\\"csv/DF_2016.csv\\\")\\nES_2016 = pd.read_csv(\\\"csv/ES_2016.csv\\\")\\nGO_2016 = pd.read_csv(\\\"csv/GO_2016.csv\\\")\\nMA_2016 = pd.read_csv(\\\"csv/MA_2016.csv\\\")\\nMT_2016 = pd.read_csv(\\\"csv/MT_2016.csv\\\")\\nMS_2016 = pd.read_csv(\\\"csv/MS_2016.csv\\\")\\nMG_2016 = pd.read_csv(\\\"csv/MG_2016.csv\\\")\\nPA_2016 = pd.read_csv(\\\"csv/PA_2016.csv\\\")\\nPB_2016 = pd.read_csv(\\\"csv/PB_2016.csv\\\")\\nPR_2016 = pd.read_csv(\\\"csv/PR_2016.csv\\\")\\nPE_2016 = pd.read_csv(\\\"csv/PE_2016.csv\\\")\\nPI_2016 = pd.read_csv(\\\"csv/PI_2016.csv\\\")\\nRJ_2016 = pd.read_csv(\\\"csv/RJ_2016.csv\\\")\\nRN_2016 = pd.read_csv(\\\"csv/RN_2016.csv\\\")\\nRS_2016 = pd.read_csv(\\\"csv/RS_2016.csv\\\")\\nRO_2016 = pd.read_csv(\\\"csv/RO_2016.csv\\\")\\nRR_2016 = pd.read_csv(\\\"csv/RR_2016.csv\\\")\\nSC_2016 = pd.read_csv(\\\"csv/SC_2016.csv\\\")\\nSP_2016 = pd.read_csv(\\\"csv/SP_2016.csv\\\")\\nSE_2016 = pd.read_csv(\\\"csv/SE_2016.csv\\\")\\nTO_2016 = pd.read_csv(\\\"csv/TO_2016.csv\\\")\";\n",
       "                var nbb_cells = Jupyter.notebook.get_cells();\n",
       "                for (var i = 0; i < nbb_cells.length; ++i) {\n",
       "                    if (nbb_cells[i].input_prompt_number == nbb_cell_id) {\n",
       "                        if (nbb_cells[i].get_text() == nbb_unformatted_code) {\n",
       "                             nbb_cells[i].set_text(nbb_formatted_code);\n",
       "                        }\n",
       "                        break;\n",
       "                    }\n",
       "                }\n",
       "            }, 500);\n",
       "            "
      ],
      "text/plain": [
       "<IPython.core.display.Javascript object>"
      ]
     },
     "metadata": {},
     "output_type": "display_data"
    }
   ],
   "source": [
    "ac_2016 = pd.read_csv(\"csv/ac_2016.csv\")\n",
    "AL_2016 = pd.read_csv(\"csv/AL_2016.csv\")\n",
    "AP_2016 = pd.read_csv(\"csv/AP_2016.csv\")\n",
    "AM_2016 = pd.read_csv(\"csv/AM_2016.csv\")\n",
    "BA_2016 = pd.read_csv(\"csv/BA_2016.csv\")\n",
    "CE_2016 = pd.read_csv(\"csv/CE_2016.csv\")\n",
    "DF_2016 = pd.read_csv(\"csv/DF_2016.csv\")\n",
    "ES_2016 = pd.read_csv(\"csv/ES_2016.csv\")\n",
    "GO_2016 = pd.read_csv(\"csv/GO_2016.csv\")\n",
    "MA_2016 = pd.read_csv(\"csv/MA_2016.csv\")\n",
    "MT_2016 = pd.read_csv(\"csv/MT_2016.csv\")\n",
    "MS_2016 = pd.read_csv(\"csv/MS_2016.csv\")\n",
    "MG_2016 = pd.read_csv(\"csv/MG_2016.csv\")\n",
    "PA_2016 = pd.read_csv(\"csv/PA_2016.csv\")\n",
    "PB_2016 = pd.read_csv(\"csv/PB_2016.csv\")\n",
    "PR_2016 = pd.read_csv(\"csv/PR_2016.csv\")\n",
    "PE_2016 = pd.read_csv(\"csv/PE_2016.csv\")\n",
    "PI_2016 = pd.read_csv(\"csv/PI_2016.csv\")\n",
    "RJ_2016 = pd.read_csv(\"csv/RJ_2016.csv\")\n",
    "RN_2016 = pd.read_csv(\"csv/RN_2016.csv\")\n",
    "RS_2016 = pd.read_csv(\"csv/RS_2016.csv\")\n",
    "RO_2016 = pd.read_csv(\"csv/RO_2016.csv\")\n",
    "RR_2016 = pd.read_csv(\"csv/RR_2016.csv\")\n",
    "SC_2016 = pd.read_csv(\"csv/SC_2016.csv\")\n",
    "SP_2016 = pd.read_csv(\"csv/SP_2016.csv\")\n",
    "SE_2016 = pd.read_csv(\"csv/SE_2016.csv\")\n",
    "TO_2016 = pd.read_csv(\"csv/TO_2016.csv\")"
   ]
  },
  {
   "cell_type": "code",
   "execution_count": 174,
   "id": "9ec57d1c",
   "metadata": {},
   "outputs": [
    {
     "data": {
      "application/javascript": [
       "\n",
       "            setTimeout(function() {\n",
       "                var nbb_cell_id = 174;\n",
       "                var nbb_unformatted_code = \"ac_2016_all=ac_2016[ac_2016['CAUSABAS'].isin(filter_list) | ac_2016['CAUSABAS_O'].isin(filter_list)]\\nAL_2016_all=AL_2016[AL_2016['CAUSABAS'].isin(filter_list) | AL_2016['CAUSABAS_O'].isin(filter_list)]\\nAP_2016_all=AP_2016[AP_2016['CAUSABAS'].isin(filter_list) | AP_2016['CAUSABAS_O'].isin(filter_list)]\\nAM_2016_all=AM_2016[AM_2016['CAUSABAS'].isin(filter_list) | AM_2016['CAUSABAS_O'].isin(filter_list)]\\nBA_2016_all=BA_2016[BA_2016['CAUSABAS'].isin(filter_list) | BA_2016['CAUSABAS_O'].isin(filter_list)]\\nCE_2016_all=CE_2016[CE_2016['CAUSABAS'].isin(filter_list) | CE_2016['CAUSABAS_O'].isin(filter_list)]\\nDF_2016_all=DF_2016[DF_2016['CAUSABAS'].isin(filter_list) | DF_2016['CAUSABAS_O'].isin(filter_list)]\\nES_2016_all=ES_2016[ES_2016['CAUSABAS'].isin(filter_list) | ES_2016['CAUSABAS_O'].isin(filter_list)]\\nGO_2016_all=GO_2016[GO_2016['CAUSABAS'].isin(filter_list) | GO_2016['CAUSABAS_O'].isin(filter_list)]\\nMA_2016_all=MA_2016[MA_2016['CAUSABAS'].isin(filter_list) | MA_2016['CAUSABAS_O'].isin(filter_list)]\\nMT_2016_all=MT_2016[MT_2016['CAUSABAS'].isin(filter_list) | MT_2016['CAUSABAS_O'].isin(filter_list)]\\nMS_2016_all=MS_2016[MS_2016['CAUSABAS'].isin(filter_list) | MS_2016['CAUSABAS_O'].isin(filter_list)]\\nMG_2016_all=MG_2016[MG_2016['CAUSABAS'].isin(filter_list) | MG_2016['CAUSABAS_O'].isin(filter_list)]\\nPA_2016_all=PA_2016[PA_2016['CAUSABAS'].isin(filter_list) | PA_2016['CAUSABAS_O'].isin(filter_list)]\\nPB_2016_all=PB_2016[PB_2016['CAUSABAS'].isin(filter_list) | PB_2016['CAUSABAS_O'].isin(filter_list)]\\nPR_2016_all=PR_2016[PR_2016['CAUSABAS'].isin(filter_list) | PR_2016['CAUSABAS_O'].isin(filter_list)]\\nPE_2016_all=PE_2016[PE_2016['CAUSABAS'].isin(filter_list) | PE_2016['CAUSABAS_O'].isin(filter_list)]\\nPI_2016_all=PI_2016[PI_2016['CAUSABAS'].isin(filter_list) | PI_2016['CAUSABAS_O'].isin(filter_list)]\\nRJ_2016_all=RJ_2016[RJ_2016['CAUSABAS'].isin(filter_list) | RJ_2016['CAUSABAS_O'].isin(filter_list)]\\nRN_2016_all=RN_2016[RN_2016['CAUSABAS'].isin(filter_list) | RN_2016['CAUSABAS_O'].isin(filter_list)]\\nRS_2016_all=RS_2016[RS_2016['CAUSABAS'].isin(filter_list) | RS_2016['CAUSABAS_O'].isin(filter_list)]\\nRO_2016_all=RO_2016[RO_2016['CAUSABAS'].isin(filter_list) | RO_2016['CAUSABAS_O'].isin(filter_list)]\\nRR_2016_all=RR_2016[RR_2016['CAUSABAS'].isin(filter_list) | RR_2016['CAUSABAS_O'].isin(filter_list)]\\nSC_2016_all=SC_2016[SC_2016['CAUSABAS'].isin(filter_list) | SC_2016['CAUSABAS_O'].isin(filter_list)]\\nSP_2016_all=SP_2016[SP_2016['CAUSABAS'].isin(filter_list) | SP_2016['CAUSABAS_O'].isin(filter_list)]\\nSE_2016_all=SE_2016[SE_2016['CAUSABAS'].isin(filter_list) | SE_2016['CAUSABAS_O'].isin(filter_list)]\\nTO_2016_all=TO_2016[TO_2016['CAUSABAS'].isin(filter_list) | TO_2016['CAUSABAS_O'].isin(filter_list)]\";\n",
       "                var nbb_formatted_code = \"ac_2016_all = ac_2016[\\n    ac_2016[\\\"CAUSABAS\\\"].isin(filter_list) | ac_2016[\\\"CAUSABAS_O\\\"].isin(filter_list)\\n]\\nAL_2016_all = AL_2016[\\n    AL_2016[\\\"CAUSABAS\\\"].isin(filter_list) | AL_2016[\\\"CAUSABAS_O\\\"].isin(filter_list)\\n]\\nAP_2016_all = AP_2016[\\n    AP_2016[\\\"CAUSABAS\\\"].isin(filter_list) | AP_2016[\\\"CAUSABAS_O\\\"].isin(filter_list)\\n]\\nAM_2016_all = AM_2016[\\n    AM_2016[\\\"CAUSABAS\\\"].isin(filter_list) | AM_2016[\\\"CAUSABAS_O\\\"].isin(filter_list)\\n]\\nBA_2016_all = BA_2016[\\n    BA_2016[\\\"CAUSABAS\\\"].isin(filter_list) | BA_2016[\\\"CAUSABAS_O\\\"].isin(filter_list)\\n]\\nCE_2016_all = CE_2016[\\n    CE_2016[\\\"CAUSABAS\\\"].isin(filter_list) | CE_2016[\\\"CAUSABAS_O\\\"].isin(filter_list)\\n]\\nDF_2016_all = DF_2016[\\n    DF_2016[\\\"CAUSABAS\\\"].isin(filter_list) | DF_2016[\\\"CAUSABAS_O\\\"].isin(filter_list)\\n]\\nES_2016_all = ES_2016[\\n    ES_2016[\\\"CAUSABAS\\\"].isin(filter_list) | ES_2016[\\\"CAUSABAS_O\\\"].isin(filter_list)\\n]\\nGO_2016_all = GO_2016[\\n    GO_2016[\\\"CAUSABAS\\\"].isin(filter_list) | GO_2016[\\\"CAUSABAS_O\\\"].isin(filter_list)\\n]\\nMA_2016_all = MA_2016[\\n    MA_2016[\\\"CAUSABAS\\\"].isin(filter_list) | MA_2016[\\\"CAUSABAS_O\\\"].isin(filter_list)\\n]\\nMT_2016_all = MT_2016[\\n    MT_2016[\\\"CAUSABAS\\\"].isin(filter_list) | MT_2016[\\\"CAUSABAS_O\\\"].isin(filter_list)\\n]\\nMS_2016_all = MS_2016[\\n    MS_2016[\\\"CAUSABAS\\\"].isin(filter_list) | MS_2016[\\\"CAUSABAS_O\\\"].isin(filter_list)\\n]\\nMG_2016_all = MG_2016[\\n    MG_2016[\\\"CAUSABAS\\\"].isin(filter_list) | MG_2016[\\\"CAUSABAS_O\\\"].isin(filter_list)\\n]\\nPA_2016_all = PA_2016[\\n    PA_2016[\\\"CAUSABAS\\\"].isin(filter_list) | PA_2016[\\\"CAUSABAS_O\\\"].isin(filter_list)\\n]\\nPB_2016_all = PB_2016[\\n    PB_2016[\\\"CAUSABAS\\\"].isin(filter_list) | PB_2016[\\\"CAUSABAS_O\\\"].isin(filter_list)\\n]\\nPR_2016_all = PR_2016[\\n    PR_2016[\\\"CAUSABAS\\\"].isin(filter_list) | PR_2016[\\\"CAUSABAS_O\\\"].isin(filter_list)\\n]\\nPE_2016_all = PE_2016[\\n    PE_2016[\\\"CAUSABAS\\\"].isin(filter_list) | PE_2016[\\\"CAUSABAS_O\\\"].isin(filter_list)\\n]\\nPI_2016_all = PI_2016[\\n    PI_2016[\\\"CAUSABAS\\\"].isin(filter_list) | PI_2016[\\\"CAUSABAS_O\\\"].isin(filter_list)\\n]\\nRJ_2016_all = RJ_2016[\\n    RJ_2016[\\\"CAUSABAS\\\"].isin(filter_list) | RJ_2016[\\\"CAUSABAS_O\\\"].isin(filter_list)\\n]\\nRN_2016_all = RN_2016[\\n    RN_2016[\\\"CAUSABAS\\\"].isin(filter_list) | RN_2016[\\\"CAUSABAS_O\\\"].isin(filter_list)\\n]\\nRS_2016_all = RS_2016[\\n    RS_2016[\\\"CAUSABAS\\\"].isin(filter_list) | RS_2016[\\\"CAUSABAS_O\\\"].isin(filter_list)\\n]\\nRO_2016_all = RO_2016[\\n    RO_2016[\\\"CAUSABAS\\\"].isin(filter_list) | RO_2016[\\\"CAUSABAS_O\\\"].isin(filter_list)\\n]\\nRR_2016_all = RR_2016[\\n    RR_2016[\\\"CAUSABAS\\\"].isin(filter_list) | RR_2016[\\\"CAUSABAS_O\\\"].isin(filter_list)\\n]\\nSC_2016_all = SC_2016[\\n    SC_2016[\\\"CAUSABAS\\\"].isin(filter_list) | SC_2016[\\\"CAUSABAS_O\\\"].isin(filter_list)\\n]\\nSP_2016_all = SP_2016[\\n    SP_2016[\\\"CAUSABAS\\\"].isin(filter_list) | SP_2016[\\\"CAUSABAS_O\\\"].isin(filter_list)\\n]\\nSE_2016_all = SE_2016[\\n    SE_2016[\\\"CAUSABAS\\\"].isin(filter_list) | SE_2016[\\\"CAUSABAS_O\\\"].isin(filter_list)\\n]\\nTO_2016_all = TO_2016[\\n    TO_2016[\\\"CAUSABAS\\\"].isin(filter_list) | TO_2016[\\\"CAUSABAS_O\\\"].isin(filter_list)\\n]\";\n",
       "                var nbb_cells = Jupyter.notebook.get_cells();\n",
       "                for (var i = 0; i < nbb_cells.length; ++i) {\n",
       "                    if (nbb_cells[i].input_prompt_number == nbb_cell_id) {\n",
       "                        if (nbb_cells[i].get_text() == nbb_unformatted_code) {\n",
       "                             nbb_cells[i].set_text(nbb_formatted_code);\n",
       "                        }\n",
       "                        break;\n",
       "                    }\n",
       "                }\n",
       "            }, 500);\n",
       "            "
      ],
      "text/plain": [
       "<IPython.core.display.Javascript object>"
      ]
     },
     "metadata": {},
     "output_type": "display_data"
    }
   ],
   "source": [
    "ac_2016_all=ac_2016[ac_2016['CAUSABAS'].isin(filter_list) | ac_2016['CAUSABAS_O'].isin(filter_list)]\n",
    "AL_2016_all=AL_2016[AL_2016['CAUSABAS'].isin(filter_list) | AL_2016['CAUSABAS_O'].isin(filter_list)]\n",
    "AP_2016_all=AP_2016[AP_2016['CAUSABAS'].isin(filter_list) | AP_2016['CAUSABAS_O'].isin(filter_list)]\n",
    "AM_2016_all=AM_2016[AM_2016['CAUSABAS'].isin(filter_list) | AM_2016['CAUSABAS_O'].isin(filter_list)]\n",
    "BA_2016_all=BA_2016[BA_2016['CAUSABAS'].isin(filter_list) | BA_2016['CAUSABAS_O'].isin(filter_list)]\n",
    "CE_2016_all=CE_2016[CE_2016['CAUSABAS'].isin(filter_list) | CE_2016['CAUSABAS_O'].isin(filter_list)]\n",
    "DF_2016_all=DF_2016[DF_2016['CAUSABAS'].isin(filter_list) | DF_2016['CAUSABAS_O'].isin(filter_list)]\n",
    "ES_2016_all=ES_2016[ES_2016['CAUSABAS'].isin(filter_list) | ES_2016['CAUSABAS_O'].isin(filter_list)]\n",
    "GO_2016_all=GO_2016[GO_2016['CAUSABAS'].isin(filter_list) | GO_2016['CAUSABAS_O'].isin(filter_list)]\n",
    "MA_2016_all=MA_2016[MA_2016['CAUSABAS'].isin(filter_list) | MA_2016['CAUSABAS_O'].isin(filter_list)]\n",
    "MT_2016_all=MT_2016[MT_2016['CAUSABAS'].isin(filter_list) | MT_2016['CAUSABAS_O'].isin(filter_list)]\n",
    "MS_2016_all=MS_2016[MS_2016['CAUSABAS'].isin(filter_list) | MS_2016['CAUSABAS_O'].isin(filter_list)]\n",
    "MG_2016_all=MG_2016[MG_2016['CAUSABAS'].isin(filter_list) | MG_2016['CAUSABAS_O'].isin(filter_list)]\n",
    "PA_2016_all=PA_2016[PA_2016['CAUSABAS'].isin(filter_list) | PA_2016['CAUSABAS_O'].isin(filter_list)]\n",
    "PB_2016_all=PB_2016[PB_2016['CAUSABAS'].isin(filter_list) | PB_2016['CAUSABAS_O'].isin(filter_list)]\n",
    "PR_2016_all=PR_2016[PR_2016['CAUSABAS'].isin(filter_list) | PR_2016['CAUSABAS_O'].isin(filter_list)]\n",
    "PE_2016_all=PE_2016[PE_2016['CAUSABAS'].isin(filter_list) | PE_2016['CAUSABAS_O'].isin(filter_list)]\n",
    "PI_2016_all=PI_2016[PI_2016['CAUSABAS'].isin(filter_list) | PI_2016['CAUSABAS_O'].isin(filter_list)]\n",
    "RJ_2016_all=RJ_2016[RJ_2016['CAUSABAS'].isin(filter_list) | RJ_2016['CAUSABAS_O'].isin(filter_list)]\n",
    "RN_2016_all=RN_2016[RN_2016['CAUSABAS'].isin(filter_list) | RN_2016['CAUSABAS_O'].isin(filter_list)]\n",
    "RS_2016_all=RS_2016[RS_2016['CAUSABAS'].isin(filter_list) | RS_2016['CAUSABAS_O'].isin(filter_list)]\n",
    "RO_2016_all=RO_2016[RO_2016['CAUSABAS'].isin(filter_list) | RO_2016['CAUSABAS_O'].isin(filter_list)]\n",
    "RR_2016_all=RR_2016[RR_2016['CAUSABAS'].isin(filter_list) | RR_2016['CAUSABAS_O'].isin(filter_list)]\n",
    "SC_2016_all=SC_2016[SC_2016['CAUSABAS'].isin(filter_list) | SC_2016['CAUSABAS_O'].isin(filter_list)]\n",
    "SP_2016_all=SP_2016[SP_2016['CAUSABAS'].isin(filter_list) | SP_2016['CAUSABAS_O'].isin(filter_list)]\n",
    "SE_2016_all=SE_2016[SE_2016['CAUSABAS'].isin(filter_list) | SE_2016['CAUSABAS_O'].isin(filter_list)]\n",
    "TO_2016_all=TO_2016[TO_2016['CAUSABAS'].isin(filter_list) | TO_2016['CAUSABAS_O'].isin(filter_list)]\n"
   ]
  },
  {
   "cell_type": "code",
   "execution_count": 175,
   "id": "7badaf9c",
   "metadata": {},
   "outputs": [
    {
     "data": {
      "application/javascript": [
       "\n",
       "            setTimeout(function() {\n",
       "                var nbb_cell_id = 175;\n",
       "                var nbb_unformatted_code = \"df_2016 = pd.concat(\\n    [\\nac_2016_all,\\nAL_2016_all,\\nAP_2016_all,\\nAM_2016_all,\\nBA_2016_all,\\nCE_2016_all,\\nDF_2016_all,\\nES_2016_all,\\nGO_2016_all,\\nMA_2016_all,\\nMT_2016_all,\\nMS_2016_all,\\nMG_2016_all,\\nPA_2016_all,\\nPB_2016_all,\\nPR_2016_all,\\nPE_2016_all,\\nPI_2016_all,\\nRJ_2016_all,\\nRN_2016_all,\\nRS_2016_all,\\nRO_2016_all,\\nRR_2016_all,\\nSC_2016_all,\\nSP_2016_all,\\nSE_2016_all,\\nTO_2016_all,\\n\\n    ]\\n).reset_index()\";\n",
       "                var nbb_formatted_code = \"df_2016 = pd.concat(\\n    [\\n        ac_2016_all,\\n        AL_2016_all,\\n        AP_2016_all,\\n        AM_2016_all,\\n        BA_2016_all,\\n        CE_2016_all,\\n        DF_2016_all,\\n        ES_2016_all,\\n        GO_2016_all,\\n        MA_2016_all,\\n        MT_2016_all,\\n        MS_2016_all,\\n        MG_2016_all,\\n        PA_2016_all,\\n        PB_2016_all,\\n        PR_2016_all,\\n        PE_2016_all,\\n        PI_2016_all,\\n        RJ_2016_all,\\n        RN_2016_all,\\n        RS_2016_all,\\n        RO_2016_all,\\n        RR_2016_all,\\n        SC_2016_all,\\n        SP_2016_all,\\n        SE_2016_all,\\n        TO_2016_all,\\n    ]\\n).reset_index()\";\n",
       "                var nbb_cells = Jupyter.notebook.get_cells();\n",
       "                for (var i = 0; i < nbb_cells.length; ++i) {\n",
       "                    if (nbb_cells[i].input_prompt_number == nbb_cell_id) {\n",
       "                        if (nbb_cells[i].get_text() == nbb_unformatted_code) {\n",
       "                             nbb_cells[i].set_text(nbb_formatted_code);\n",
       "                        }\n",
       "                        break;\n",
       "                    }\n",
       "                }\n",
       "            }, 500);\n",
       "            "
      ],
      "text/plain": [
       "<IPython.core.display.Javascript object>"
      ]
     },
     "metadata": {},
     "output_type": "display_data"
    }
   ],
   "source": [
    "df_2016 = pd.concat(\n",
    "    [\n",
    "        ac_2016_all,\n",
    "        AL_2016_all,\n",
    "        AP_2016_all,\n",
    "        AM_2016_all,\n",
    "        BA_2016_all,\n",
    "        CE_2016_all,\n",
    "        DF_2016_all,\n",
    "        ES_2016_all,\n",
    "        GO_2016_all,\n",
    "        MA_2016_all,\n",
    "        MT_2016_all,\n",
    "        MS_2016_all,\n",
    "        MG_2016_all,\n",
    "        PA_2016_all,\n",
    "        PB_2016_all,\n",
    "        PR_2016_all,\n",
    "        PE_2016_all,\n",
    "        PI_2016_all,\n",
    "        RJ_2016_all,\n",
    "        RN_2016_all,\n",
    "        RS_2016_all,\n",
    "        RO_2016_all,\n",
    "        RR_2016_all,\n",
    "        SC_2016_all,\n",
    "        SP_2016_all,\n",
    "        SE_2016_all,\n",
    "        TO_2016_all,\n",
    "    ]\n",
    ").reset_index()"
   ]
  },
  {
   "cell_type": "code",
   "execution_count": 176,
   "id": "f699fa3a",
   "metadata": {},
   "outputs": [
    {
     "data": {
      "application/javascript": [
       "\n",
       "            setTimeout(function() {\n",
       "                var nbb_cell_id = 176;\n",
       "                var nbb_unformatted_code = \"df_2016 = df_2016.drop([\\\"Unnamed: 0\\\", \\\"index\\\"], axis=1)\";\n",
       "                var nbb_formatted_code = \"df_2016 = df_2016.drop([\\\"Unnamed: 0\\\", \\\"index\\\"], axis=1)\";\n",
       "                var nbb_cells = Jupyter.notebook.get_cells();\n",
       "                for (var i = 0; i < nbb_cells.length; ++i) {\n",
       "                    if (nbb_cells[i].input_prompt_number == nbb_cell_id) {\n",
       "                        if (nbb_cells[i].get_text() == nbb_unformatted_code) {\n",
       "                             nbb_cells[i].set_text(nbb_formatted_code);\n",
       "                        }\n",
       "                        break;\n",
       "                    }\n",
       "                }\n",
       "            }, 500);\n",
       "            "
      ],
      "text/plain": [
       "<IPython.core.display.Javascript object>"
      ]
     },
     "metadata": {},
     "output_type": "display_data"
    }
   ],
   "source": [
    "df_2016 = df_2016.drop([\"Unnamed: 0\", \"index\"], axis=1)"
   ]
  },
  {
   "cell_type": "code",
   "execution_count": 177,
   "id": "de44ab7f",
   "metadata": {},
   "outputs": [
    {
     "data": {
      "text/html": [
       "<div>\n",
       "<style scoped>\n",
       "    .dataframe tbody tr th:only-of-type {\n",
       "        vertical-align: middle;\n",
       "    }\n",
       "\n",
       "    .dataframe tbody tr th {\n",
       "        vertical-align: top;\n",
       "    }\n",
       "\n",
       "    .dataframe thead th {\n",
       "        text-align: right;\n",
       "    }\n",
       "</style>\n",
       "<table border=\"1\" class=\"dataframe\">\n",
       "  <thead>\n",
       "    <tr style=\"text-align: right;\">\n",
       "      <th></th>\n",
       "      <th>estado</th>\n",
       "      <th>ano</th>\n",
       "      <th>DTOBITO</th>\n",
       "      <th>DTNASC</th>\n",
       "      <th>SEXO</th>\n",
       "      <th>RACACOR</th>\n",
       "      <th>ASSISTMED</th>\n",
       "      <th>ESCMAE</th>\n",
       "      <th>ESTCIV</th>\n",
       "      <th>ESC</th>\n",
       "      <th>OCUP</th>\n",
       "      <th>CODMUNRES</th>\n",
       "      <th>CAUSABAS</th>\n",
       "      <th>CAUSABAS_O</th>\n",
       "      <th>LOCOCOR</th>\n",
       "      <th>CIRURGIA</th>\n",
       "    </tr>\n",
       "  </thead>\n",
       "  <tbody>\n",
       "    <tr>\n",
       "      <th>0</th>\n",
       "      <td>AC</td>\n",
       "      <td>2016</td>\n",
       "      <td>17012016</td>\n",
       "      <td>3061992.0</td>\n",
       "      <td>1</td>\n",
       "      <td>1.0</td>\n",
       "      <td>2.0</td>\n",
       "      <td>NaN</td>\n",
       "      <td>5.0</td>\n",
       "      <td>4.0</td>\n",
       "      <td>NaN</td>\n",
       "      <td>120020</td>\n",
       "      <td>X702</td>\n",
       "      <td>X702</td>\n",
       "      <td>3</td>\n",
       "      <td>NaN</td>\n",
       "    </tr>\n",
       "    <tr>\n",
       "      <th>1</th>\n",
       "      <td>AC</td>\n",
       "      <td>2016</td>\n",
       "      <td>22012016</td>\n",
       "      <td>2121967.0</td>\n",
       "      <td>1</td>\n",
       "      <td>4.0</td>\n",
       "      <td>1.0</td>\n",
       "      <td>NaN</td>\n",
       "      <td>2.0</td>\n",
       "      <td>3.0</td>\n",
       "      <td>517420.0</td>\n",
       "      <td>120001</td>\n",
       "      <td>X689</td>\n",
       "      <td>X689</td>\n",
       "      <td>1</td>\n",
       "      <td>NaN</td>\n",
       "    </tr>\n",
       "    <tr>\n",
       "      <th>2</th>\n",
       "      <td>AC</td>\n",
       "      <td>2016</td>\n",
       "      <td>22012016</td>\n",
       "      <td>3111985.0</td>\n",
       "      <td>2</td>\n",
       "      <td>1.0</td>\n",
       "      <td>2.0</td>\n",
       "      <td>NaN</td>\n",
       "      <td>1.0</td>\n",
       "      <td>5.0</td>\n",
       "      <td>NaN</td>\n",
       "      <td>120040</td>\n",
       "      <td>X700</td>\n",
       "      <td>X700</td>\n",
       "      <td>3</td>\n",
       "      <td>NaN</td>\n",
       "    </tr>\n",
       "    <tr>\n",
       "      <th>3</th>\n",
       "      <td>AC</td>\n",
       "      <td>2016</td>\n",
       "      <td>10022016</td>\n",
       "      <td>16101998.0</td>\n",
       "      <td>1</td>\n",
       "      <td>5.0</td>\n",
       "      <td>2.0</td>\n",
       "      <td>NaN</td>\n",
       "      <td>1.0</td>\n",
       "      <td>1.0</td>\n",
       "      <td>622020.0</td>\n",
       "      <td>120034</td>\n",
       "      <td>X709</td>\n",
       "      <td>X709</td>\n",
       "      <td>5</td>\n",
       "      <td>NaN</td>\n",
       "    </tr>\n",
       "    <tr>\n",
       "      <th>4</th>\n",
       "      <td>AC</td>\n",
       "      <td>2016</td>\n",
       "      <td>28022016</td>\n",
       "      <td>16121999.0</td>\n",
       "      <td>1</td>\n",
       "      <td>5.0</td>\n",
       "      <td>2.0</td>\n",
       "      <td>NaN</td>\n",
       "      <td>1.0</td>\n",
       "      <td>2.0</td>\n",
       "      <td>622020.0</td>\n",
       "      <td>120034</td>\n",
       "      <td>X709</td>\n",
       "      <td>X709</td>\n",
       "      <td>3</td>\n",
       "      <td>NaN</td>\n",
       "    </tr>\n",
       "  </tbody>\n",
       "</table>\n",
       "</div>"
      ],
      "text/plain": [
       "  estado   ano   DTOBITO      DTNASC  SEXO  RACACOR  ASSISTMED  ESCMAE  \\\n",
       "0     AC  2016  17012016   3061992.0     1      1.0        2.0     NaN   \n",
       "1     AC  2016  22012016   2121967.0     1      4.0        1.0     NaN   \n",
       "2     AC  2016  22012016   3111985.0     2      1.0        2.0     NaN   \n",
       "3     AC  2016  10022016  16101998.0     1      5.0        2.0     NaN   \n",
       "4     AC  2016  28022016  16121999.0     1      5.0        2.0     NaN   \n",
       "\n",
       "   ESTCIV  ESC      OCUP  CODMUNRES  CAUSABAS  CAUSABAS_O  LOCOCOR  CIRURGIA  \n",
       "0     5.0  4.0       NaN     120020  X702      X702              3       NaN  \n",
       "1     2.0  3.0  517420.0     120001  X689      X689              1       NaN  \n",
       "2     1.0  5.0       NaN     120040  X700      X700              3       NaN  \n",
       "3     1.0  1.0  622020.0     120034  X709      X709              5       NaN  \n",
       "4     1.0  2.0  622020.0     120034  X709      X709              3       NaN  "
      ]
     },
     "execution_count": 177,
     "metadata": {},
     "output_type": "execute_result"
    },
    {
     "data": {
      "application/javascript": [
       "\n",
       "            setTimeout(function() {\n",
       "                var nbb_cell_id = 177;\n",
       "                var nbb_unformatted_code = \"df_2016.head()\";\n",
       "                var nbb_formatted_code = \"df_2016.head()\";\n",
       "                var nbb_cells = Jupyter.notebook.get_cells();\n",
       "                for (var i = 0; i < nbb_cells.length; ++i) {\n",
       "                    if (nbb_cells[i].input_prompt_number == nbb_cell_id) {\n",
       "                        if (nbb_cells[i].get_text() == nbb_unformatted_code) {\n",
       "                             nbb_cells[i].set_text(nbb_formatted_code);\n",
       "                        }\n",
       "                        break;\n",
       "                    }\n",
       "                }\n",
       "            }, 500);\n",
       "            "
      ],
      "text/plain": [
       "<IPython.core.display.Javascript object>"
      ]
     },
     "metadata": {},
     "output_type": "display_data"
    }
   ],
   "source": [
    "df_2016.head()"
   ]
  },
  {
   "cell_type": "code",
   "execution_count": 178,
   "id": "a1eb23ac",
   "metadata": {},
   "outputs": [
    {
     "data": {
      "application/javascript": [
       "\n",
       "            setTimeout(function() {\n",
       "                var nbb_cell_id = 178;\n",
       "                var nbb_unformatted_code = \"df_2016.to_csv(\\\"df_2016.csv\\\")\";\n",
       "                var nbb_formatted_code = \"df_2016.to_csv(\\\"df_2016.csv\\\")\";\n",
       "                var nbb_cells = Jupyter.notebook.get_cells();\n",
       "                for (var i = 0; i < nbb_cells.length; ++i) {\n",
       "                    if (nbb_cells[i].input_prompt_number == nbb_cell_id) {\n",
       "                        if (nbb_cells[i].get_text() == nbb_unformatted_code) {\n",
       "                             nbb_cells[i].set_text(nbb_formatted_code);\n",
       "                        }\n",
       "                        break;\n",
       "                    }\n",
       "                }\n",
       "            }, 500);\n",
       "            "
      ],
      "text/plain": [
       "<IPython.core.display.Javascript object>"
      ]
     },
     "metadata": {},
     "output_type": "display_data"
    }
   ],
   "source": [
    "df_2016.to_csv(\"df_2016.csv\")"
   ]
  },
  {
   "cell_type": "markdown",
   "id": "1e0391e8",
   "metadata": {},
   "source": [
    "# 2017"
   ]
  },
  {
   "cell_type": "code",
   "execution_count": 179,
   "id": "16c78cf5",
   "metadata": {},
   "outputs": [
    {
     "data": {
      "application/javascript": [
       "\n",
       "            setTimeout(function() {\n",
       "                var nbb_cell_id = 179;\n",
       "                var nbb_unformatted_code = \"ac_2017=pd.read_csv('csv/ac_2017.csv')\\nAL_2017=pd.read_csv('csv/AL_2017.csv')\\nAP_2017=pd.read_csv('csv/AP_2017.csv')\\nAM_2017=pd.read_csv('csv/AM_2017.csv')\\nBA_2017=pd.read_csv('csv/BA_2017.csv')\\nCE_2017=pd.read_csv('csv/CE_2017.csv')\\nDF_2017=pd.read_csv('csv/DF_2017.csv')\\nES_2017=pd.read_csv('csv/ES_2017.csv')\\nGO_2017=pd.read_csv('csv/GO_2017.csv')\\nMA_2017=pd.read_csv('csv/MA_2017.csv')\\nMT_2017=pd.read_csv('csv/MT_2017.csv')\\nMS_2017=pd.read_csv('csv/MS_2017.csv')\\nMG_2017=pd.read_csv('csv/MG_2017.csv')\\nPA_2017=pd.read_csv('csv/PA_2017.csv')\\nPB_2017=pd.read_csv('csv/PB_2017.csv')\\nPR_2017=pd.read_csv('csv/PR_2017.csv')\\nPE_2017=pd.read_csv('csv/PE_2017.csv')\\nPI_2017=pd.read_csv('csv/PI_2017.csv')\\nRJ_2017=pd.read_csv('csv/RJ_2017.csv')\\nRN_2017=pd.read_csv('csv/RN_2017.csv')\\nRS_2017=pd.read_csv('csv/RS_2017.csv')\\nRO_2017=pd.read_csv('csv/RO_2017.csv')\\nRR_2017=pd.read_csv('csv/RR_2017.csv')\\nSC_2017=pd.read_csv('csv/SC_2017.csv')\\nSP_2017=pd.read_csv('csv/SP_2017.csv')\\nSE_2017=pd.read_csv('csv/SE_2017.csv')\\nTO_2017=pd.read_csv('csv/TO_2017.csv')\";\n",
       "                var nbb_formatted_code = \"ac_2017 = pd.read_csv(\\\"csv/ac_2017.csv\\\")\\nAL_2017 = pd.read_csv(\\\"csv/AL_2017.csv\\\")\\nAP_2017 = pd.read_csv(\\\"csv/AP_2017.csv\\\")\\nAM_2017 = pd.read_csv(\\\"csv/AM_2017.csv\\\")\\nBA_2017 = pd.read_csv(\\\"csv/BA_2017.csv\\\")\\nCE_2017 = pd.read_csv(\\\"csv/CE_2017.csv\\\")\\nDF_2017 = pd.read_csv(\\\"csv/DF_2017.csv\\\")\\nES_2017 = pd.read_csv(\\\"csv/ES_2017.csv\\\")\\nGO_2017 = pd.read_csv(\\\"csv/GO_2017.csv\\\")\\nMA_2017 = pd.read_csv(\\\"csv/MA_2017.csv\\\")\\nMT_2017 = pd.read_csv(\\\"csv/MT_2017.csv\\\")\\nMS_2017 = pd.read_csv(\\\"csv/MS_2017.csv\\\")\\nMG_2017 = pd.read_csv(\\\"csv/MG_2017.csv\\\")\\nPA_2017 = pd.read_csv(\\\"csv/PA_2017.csv\\\")\\nPB_2017 = pd.read_csv(\\\"csv/PB_2017.csv\\\")\\nPR_2017 = pd.read_csv(\\\"csv/PR_2017.csv\\\")\\nPE_2017 = pd.read_csv(\\\"csv/PE_2017.csv\\\")\\nPI_2017 = pd.read_csv(\\\"csv/PI_2017.csv\\\")\\nRJ_2017 = pd.read_csv(\\\"csv/RJ_2017.csv\\\")\\nRN_2017 = pd.read_csv(\\\"csv/RN_2017.csv\\\")\\nRS_2017 = pd.read_csv(\\\"csv/RS_2017.csv\\\")\\nRO_2017 = pd.read_csv(\\\"csv/RO_2017.csv\\\")\\nRR_2017 = pd.read_csv(\\\"csv/RR_2017.csv\\\")\\nSC_2017 = pd.read_csv(\\\"csv/SC_2017.csv\\\")\\nSP_2017 = pd.read_csv(\\\"csv/SP_2017.csv\\\")\\nSE_2017 = pd.read_csv(\\\"csv/SE_2017.csv\\\")\\nTO_2017 = pd.read_csv(\\\"csv/TO_2017.csv\\\")\";\n",
       "                var nbb_cells = Jupyter.notebook.get_cells();\n",
       "                for (var i = 0; i < nbb_cells.length; ++i) {\n",
       "                    if (nbb_cells[i].input_prompt_number == nbb_cell_id) {\n",
       "                        if (nbb_cells[i].get_text() == nbb_unformatted_code) {\n",
       "                             nbb_cells[i].set_text(nbb_formatted_code);\n",
       "                        }\n",
       "                        break;\n",
       "                    }\n",
       "                }\n",
       "            }, 500);\n",
       "            "
      ],
      "text/plain": [
       "<IPython.core.display.Javascript object>"
      ]
     },
     "metadata": {},
     "output_type": "display_data"
    }
   ],
   "source": [
    "ac_2017=pd.read_csv('csv/ac_2017.csv')\n",
    "AL_2017=pd.read_csv('csv/AL_2017.csv')\n",
    "AP_2017=pd.read_csv('csv/AP_2017.csv')\n",
    "AM_2017=pd.read_csv('csv/AM_2017.csv')\n",
    "BA_2017=pd.read_csv('csv/BA_2017.csv')\n",
    "CE_2017=pd.read_csv('csv/CE_2017.csv')\n",
    "DF_2017=pd.read_csv('csv/DF_2017.csv')\n",
    "ES_2017=pd.read_csv('csv/ES_2017.csv')\n",
    "GO_2017=pd.read_csv('csv/GO_2017.csv')\n",
    "MA_2017=pd.read_csv('csv/MA_2017.csv')\n",
    "MT_2017=pd.read_csv('csv/MT_2017.csv')\n",
    "MS_2017=pd.read_csv('csv/MS_2017.csv')\n",
    "MG_2017=pd.read_csv('csv/MG_2017.csv')\n",
    "PA_2017=pd.read_csv('csv/PA_2017.csv')\n",
    "PB_2017=pd.read_csv('csv/PB_2017.csv')\n",
    "PR_2017=pd.read_csv('csv/PR_2017.csv')\n",
    "PE_2017=pd.read_csv('csv/PE_2017.csv')\n",
    "PI_2017=pd.read_csv('csv/PI_2017.csv')\n",
    "RJ_2017=pd.read_csv('csv/RJ_2017.csv')\n",
    "RN_2017=pd.read_csv('csv/RN_2017.csv')\n",
    "RS_2017=pd.read_csv('csv/RS_2017.csv')\n",
    "RO_2017=pd.read_csv('csv/RO_2017.csv')\n",
    "RR_2017=pd.read_csv('csv/RR_2017.csv')\n",
    "SC_2017=pd.read_csv('csv/SC_2017.csv')\n",
    "SP_2017=pd.read_csv('csv/SP_2017.csv')\n",
    "SE_2017=pd.read_csv('csv/SE_2017.csv')\n",
    "TO_2017=pd.read_csv('csv/TO_2017.csv')\n"
   ]
  },
  {
   "cell_type": "code",
   "execution_count": 181,
   "id": "1f3a3a65",
   "metadata": {},
   "outputs": [
    {
     "data": {
      "application/javascript": [
       "\n",
       "            setTimeout(function() {\n",
       "                var nbb_cell_id = 181;\n",
       "                var nbb_unformatted_code = \"ac_2017_all=ac_2017[ac_2017['CAUSABAS'].isin(filter_list) | ac_2017['CAUSABAS_O'].isin(filter_list)]\\nAL_2017_all=AL_2017[AL_2017['CAUSABAS'].isin(filter_list) | AL_2017['CAUSABAS_O'].isin(filter_list)]\\nAP_2017_all=AP_2017[AP_2017['CAUSABAS'].isin(filter_list) | AP_2017['CAUSABAS_O'].isin(filter_list)]\\nAM_2017_all=AM_2017[AM_2017['CAUSABAS'].isin(filter_list) | AM_2017['CAUSABAS_O'].isin(filter_list)]\\nBA_2017_all=BA_2017[BA_2017['CAUSABAS'].isin(filter_list) | BA_2017['CAUSABAS_O'].isin(filter_list)]\\nCE_2017_all=CE_2017[CE_2017['CAUSABAS'].isin(filter_list) | CE_2017['CAUSABAS_O'].isin(filter_list)]\\nDF_2017_all=DF_2017[DF_2017['CAUSABAS'].isin(filter_list) | DF_2017['CAUSABAS_O'].isin(filter_list)]\\nES_2017_all=ES_2017[ES_2017['CAUSABAS'].isin(filter_list) | ES_2017['CAUSABAS_O'].isin(filter_list)]\\nGO_2017_all=GO_2017[GO_2017['CAUSABAS'].isin(filter_list) | GO_2017['CAUSABAS_O'].isin(filter_list)]\\nMA_2017_all=MA_2017[MA_2017['CAUSABAS'].isin(filter_list) | MA_2017['CAUSABAS_O'].isin(filter_list)]\\nMT_2017_all=MT_2017[MT_2017['CAUSABAS'].isin(filter_list) | MT_2017['CAUSABAS_O'].isin(filter_list)]\\nMS_2017_all=MS_2017[MS_2017['CAUSABAS'].isin(filter_list) | MS_2017['CAUSABAS_O'].isin(filter_list)]\\nMG_2017_all=MG_2017[MG_2017['CAUSABAS'].isin(filter_list) | MG_2017['CAUSABAS_O'].isin(filter_list)]\\nPA_2017_all=PA_2017[PA_2017['CAUSABAS'].isin(filter_list) | PA_2017['CAUSABAS_O'].isin(filter_list)]\\nPB_2017_all=PB_2017[PB_2017['CAUSABAS'].isin(filter_list) | PB_2017['CAUSABAS_O'].isin(filter_list)]\\nPR_2017_all=PR_2017[PR_2017['CAUSABAS'].isin(filter_list) | PR_2017['CAUSABAS_O'].isin(filter_list)]\\nPE_2017_all=PE_2017[PE_2017['CAUSABAS'].isin(filter_list) | PE_2017['CAUSABAS_O'].isin(filter_list)]\\nPI_2017_all=PI_2017[PI_2017['CAUSABAS'].isin(filter_list) | PI_2017['CAUSABAS_O'].isin(filter_list)]\\nRJ_2017_all=RJ_2017[RJ_2017['CAUSABAS'].isin(filter_list) | RJ_2017['CAUSABAS_O'].isin(filter_list)]\\nRN_2017_all=RN_2017[RN_2017['CAUSABAS'].isin(filter_list) | RN_2017['CAUSABAS_O'].isin(filter_list)]\\nRS_2017_all=RS_2017[RS_2017['CAUSABAS'].isin(filter_list) | RS_2017['CAUSABAS_O'].isin(filter_list)]\\nRO_2017_all=RO_2017[RO_2017['CAUSABAS'].isin(filter_list) | RO_2017['CAUSABAS_O'].isin(filter_list)]\\nRR_2017_all=RR_2017[RR_2017['CAUSABAS'].isin(filter_list) | RR_2017['CAUSABAS_O'].isin(filter_list)]\\nSC_2017_all=SC_2017[SC_2017['CAUSABAS'].isin(filter_list) | SC_2017['CAUSABAS_O'].isin(filter_list)]\\nSP_2017_all=SP_2017[SP_2017['CAUSABAS'].isin(filter_list) | SP_2017['CAUSABAS_O'].isin(filter_list)]\\nSE_2017_all=SE_2017[SE_2017['CAUSABAS'].isin(filter_list) | SE_2017['CAUSABAS_O'].isin(filter_list)]\\nTO_2017_all=TO_2017[TO_2017['CAUSABAS'].isin(filter_list) | TO_2017['CAUSABAS_O'].isin(filter_list)]\";\n",
       "                var nbb_formatted_code = \"ac_2017_all = ac_2017[\\n    ac_2017[\\\"CAUSABAS\\\"].isin(filter_list) | ac_2017[\\\"CAUSABAS_O\\\"].isin(filter_list)\\n]\\nAL_2017_all = AL_2017[\\n    AL_2017[\\\"CAUSABAS\\\"].isin(filter_list) | AL_2017[\\\"CAUSABAS_O\\\"].isin(filter_list)\\n]\\nAP_2017_all = AP_2017[\\n    AP_2017[\\\"CAUSABAS\\\"].isin(filter_list) | AP_2017[\\\"CAUSABAS_O\\\"].isin(filter_list)\\n]\\nAM_2017_all = AM_2017[\\n    AM_2017[\\\"CAUSABAS\\\"].isin(filter_list) | AM_2017[\\\"CAUSABAS_O\\\"].isin(filter_list)\\n]\\nBA_2017_all = BA_2017[\\n    BA_2017[\\\"CAUSABAS\\\"].isin(filter_list) | BA_2017[\\\"CAUSABAS_O\\\"].isin(filter_list)\\n]\\nCE_2017_all = CE_2017[\\n    CE_2017[\\\"CAUSABAS\\\"].isin(filter_list) | CE_2017[\\\"CAUSABAS_O\\\"].isin(filter_list)\\n]\\nDF_2017_all = DF_2017[\\n    DF_2017[\\\"CAUSABAS\\\"].isin(filter_list) | DF_2017[\\\"CAUSABAS_O\\\"].isin(filter_list)\\n]\\nES_2017_all = ES_2017[\\n    ES_2017[\\\"CAUSABAS\\\"].isin(filter_list) | ES_2017[\\\"CAUSABAS_O\\\"].isin(filter_list)\\n]\\nGO_2017_all = GO_2017[\\n    GO_2017[\\\"CAUSABAS\\\"].isin(filter_list) | GO_2017[\\\"CAUSABAS_O\\\"].isin(filter_list)\\n]\\nMA_2017_all = MA_2017[\\n    MA_2017[\\\"CAUSABAS\\\"].isin(filter_list) | MA_2017[\\\"CAUSABAS_O\\\"].isin(filter_list)\\n]\\nMT_2017_all = MT_2017[\\n    MT_2017[\\\"CAUSABAS\\\"].isin(filter_list) | MT_2017[\\\"CAUSABAS_O\\\"].isin(filter_list)\\n]\\nMS_2017_all = MS_2017[\\n    MS_2017[\\\"CAUSABAS\\\"].isin(filter_list) | MS_2017[\\\"CAUSABAS_O\\\"].isin(filter_list)\\n]\\nMG_2017_all = MG_2017[\\n    MG_2017[\\\"CAUSABAS\\\"].isin(filter_list) | MG_2017[\\\"CAUSABAS_O\\\"].isin(filter_list)\\n]\\nPA_2017_all = PA_2017[\\n    PA_2017[\\\"CAUSABAS\\\"].isin(filter_list) | PA_2017[\\\"CAUSABAS_O\\\"].isin(filter_list)\\n]\\nPB_2017_all = PB_2017[\\n    PB_2017[\\\"CAUSABAS\\\"].isin(filter_list) | PB_2017[\\\"CAUSABAS_O\\\"].isin(filter_list)\\n]\\nPR_2017_all = PR_2017[\\n    PR_2017[\\\"CAUSABAS\\\"].isin(filter_list) | PR_2017[\\\"CAUSABAS_O\\\"].isin(filter_list)\\n]\\nPE_2017_all = PE_2017[\\n    PE_2017[\\\"CAUSABAS\\\"].isin(filter_list) | PE_2017[\\\"CAUSABAS_O\\\"].isin(filter_list)\\n]\\nPI_2017_all = PI_2017[\\n    PI_2017[\\\"CAUSABAS\\\"].isin(filter_list) | PI_2017[\\\"CAUSABAS_O\\\"].isin(filter_list)\\n]\\nRJ_2017_all = RJ_2017[\\n    RJ_2017[\\\"CAUSABAS\\\"].isin(filter_list) | RJ_2017[\\\"CAUSABAS_O\\\"].isin(filter_list)\\n]\\nRN_2017_all = RN_2017[\\n    RN_2017[\\\"CAUSABAS\\\"].isin(filter_list) | RN_2017[\\\"CAUSABAS_O\\\"].isin(filter_list)\\n]\\nRS_2017_all = RS_2017[\\n    RS_2017[\\\"CAUSABAS\\\"].isin(filter_list) | RS_2017[\\\"CAUSABAS_O\\\"].isin(filter_list)\\n]\\nRO_2017_all = RO_2017[\\n    RO_2017[\\\"CAUSABAS\\\"].isin(filter_list) | RO_2017[\\\"CAUSABAS_O\\\"].isin(filter_list)\\n]\\nRR_2017_all = RR_2017[\\n    RR_2017[\\\"CAUSABAS\\\"].isin(filter_list) | RR_2017[\\\"CAUSABAS_O\\\"].isin(filter_list)\\n]\\nSC_2017_all = SC_2017[\\n    SC_2017[\\\"CAUSABAS\\\"].isin(filter_list) | SC_2017[\\\"CAUSABAS_O\\\"].isin(filter_list)\\n]\\nSP_2017_all = SP_2017[\\n    SP_2017[\\\"CAUSABAS\\\"].isin(filter_list) | SP_2017[\\\"CAUSABAS_O\\\"].isin(filter_list)\\n]\\nSE_2017_all = SE_2017[\\n    SE_2017[\\\"CAUSABAS\\\"].isin(filter_list) | SE_2017[\\\"CAUSABAS_O\\\"].isin(filter_list)\\n]\\nTO_2017_all = TO_2017[\\n    TO_2017[\\\"CAUSABAS\\\"].isin(filter_list) | TO_2017[\\\"CAUSABAS_O\\\"].isin(filter_list)\\n]\";\n",
       "                var nbb_cells = Jupyter.notebook.get_cells();\n",
       "                for (var i = 0; i < nbb_cells.length; ++i) {\n",
       "                    if (nbb_cells[i].input_prompt_number == nbb_cell_id) {\n",
       "                        if (nbb_cells[i].get_text() == nbb_unformatted_code) {\n",
       "                             nbb_cells[i].set_text(nbb_formatted_code);\n",
       "                        }\n",
       "                        break;\n",
       "                    }\n",
       "                }\n",
       "            }, 500);\n",
       "            "
      ],
      "text/plain": [
       "<IPython.core.display.Javascript object>"
      ]
     },
     "metadata": {},
     "output_type": "display_data"
    }
   ],
   "source": [
    "ac_2017_all=ac_2017[ac_2017['CAUSABAS'].isin(filter_list) | ac_2017['CAUSABAS_O'].isin(filter_list)]\n",
    "AL_2017_all=AL_2017[AL_2017['CAUSABAS'].isin(filter_list) | AL_2017['CAUSABAS_O'].isin(filter_list)]\n",
    "AP_2017_all=AP_2017[AP_2017['CAUSABAS'].isin(filter_list) | AP_2017['CAUSABAS_O'].isin(filter_list)]\n",
    "AM_2017_all=AM_2017[AM_2017['CAUSABAS'].isin(filter_list) | AM_2017['CAUSABAS_O'].isin(filter_list)]\n",
    "BA_2017_all=BA_2017[BA_2017['CAUSABAS'].isin(filter_list) | BA_2017['CAUSABAS_O'].isin(filter_list)]\n",
    "CE_2017_all=CE_2017[CE_2017['CAUSABAS'].isin(filter_list) | CE_2017['CAUSABAS_O'].isin(filter_list)]\n",
    "DF_2017_all=DF_2017[DF_2017['CAUSABAS'].isin(filter_list) | DF_2017['CAUSABAS_O'].isin(filter_list)]\n",
    "ES_2017_all=ES_2017[ES_2017['CAUSABAS'].isin(filter_list) | ES_2017['CAUSABAS_O'].isin(filter_list)]\n",
    "GO_2017_all=GO_2017[GO_2017['CAUSABAS'].isin(filter_list) | GO_2017['CAUSABAS_O'].isin(filter_list)]\n",
    "MA_2017_all=MA_2017[MA_2017['CAUSABAS'].isin(filter_list) | MA_2017['CAUSABAS_O'].isin(filter_list)]\n",
    "MT_2017_all=MT_2017[MT_2017['CAUSABAS'].isin(filter_list) | MT_2017['CAUSABAS_O'].isin(filter_list)]\n",
    "MS_2017_all=MS_2017[MS_2017['CAUSABAS'].isin(filter_list) | MS_2017['CAUSABAS_O'].isin(filter_list)]\n",
    "MG_2017_all=MG_2017[MG_2017['CAUSABAS'].isin(filter_list) | MG_2017['CAUSABAS_O'].isin(filter_list)]\n",
    "PA_2017_all=PA_2017[PA_2017['CAUSABAS'].isin(filter_list) | PA_2017['CAUSABAS_O'].isin(filter_list)]\n",
    "PB_2017_all=PB_2017[PB_2017['CAUSABAS'].isin(filter_list) | PB_2017['CAUSABAS_O'].isin(filter_list)]\n",
    "PR_2017_all=PR_2017[PR_2017['CAUSABAS'].isin(filter_list) | PR_2017['CAUSABAS_O'].isin(filter_list)]\n",
    "PE_2017_all=PE_2017[PE_2017['CAUSABAS'].isin(filter_list) | PE_2017['CAUSABAS_O'].isin(filter_list)]\n",
    "PI_2017_all=PI_2017[PI_2017['CAUSABAS'].isin(filter_list) | PI_2017['CAUSABAS_O'].isin(filter_list)]\n",
    "RJ_2017_all=RJ_2017[RJ_2017['CAUSABAS'].isin(filter_list) | RJ_2017['CAUSABAS_O'].isin(filter_list)]\n",
    "RN_2017_all=RN_2017[RN_2017['CAUSABAS'].isin(filter_list) | RN_2017['CAUSABAS_O'].isin(filter_list)]\n",
    "RS_2017_all=RS_2017[RS_2017['CAUSABAS'].isin(filter_list) | RS_2017['CAUSABAS_O'].isin(filter_list)]\n",
    "RO_2017_all=RO_2017[RO_2017['CAUSABAS'].isin(filter_list) | RO_2017['CAUSABAS_O'].isin(filter_list)]\n",
    "RR_2017_all=RR_2017[RR_2017['CAUSABAS'].isin(filter_list) | RR_2017['CAUSABAS_O'].isin(filter_list)]\n",
    "SC_2017_all=SC_2017[SC_2017['CAUSABAS'].isin(filter_list) | SC_2017['CAUSABAS_O'].isin(filter_list)]\n",
    "SP_2017_all=SP_2017[SP_2017['CAUSABAS'].isin(filter_list) | SP_2017['CAUSABAS_O'].isin(filter_list)]\n",
    "SE_2017_all=SE_2017[SE_2017['CAUSABAS'].isin(filter_list) | SE_2017['CAUSABAS_O'].isin(filter_list)]\n",
    "TO_2017_all=TO_2017[TO_2017['CAUSABAS'].isin(filter_list) | TO_2017['CAUSABAS_O'].isin(filter_list)]\n"
   ]
  },
  {
   "cell_type": "code",
   "execution_count": 182,
   "id": "5d0fc2db",
   "metadata": {},
   "outputs": [
    {
     "data": {
      "application/javascript": [
       "\n",
       "            setTimeout(function() {\n",
       "                var nbb_cell_id = 182;\n",
       "                var nbb_unformatted_code = \"df_2017 = pd.concat(\\n    [\\nac_2017_all,\\nAL_2017_all,\\nAP_2017_all,\\nAM_2017_all,\\nBA_2017_all,\\nCE_2017_all,\\nDF_2017_all,\\nES_2017_all,\\nGO_2017_all,\\nMA_2017_all,\\nMT_2017_all,\\nMS_2017_all,\\nMG_2017_all,\\nPA_2017_all,\\nPB_2017_all,\\nPR_2017_all,\\nPE_2017_all,\\nPI_2017_all,\\nRJ_2017_all,\\nRN_2017_all,\\nRS_2017_all,\\nRO_2017_all,\\nRR_2017_all,\\nSC_2017_all,\\nSP_2017_all,\\nSE_2017_all,\\nTO_2017_all,\\n    ]\\n).reset_index()\";\n",
       "                var nbb_formatted_code = \"df_2017 = pd.concat(\\n    [\\n        ac_2017_all,\\n        AL_2017_all,\\n        AP_2017_all,\\n        AM_2017_all,\\n        BA_2017_all,\\n        CE_2017_all,\\n        DF_2017_all,\\n        ES_2017_all,\\n        GO_2017_all,\\n        MA_2017_all,\\n        MT_2017_all,\\n        MS_2017_all,\\n        MG_2017_all,\\n        PA_2017_all,\\n        PB_2017_all,\\n        PR_2017_all,\\n        PE_2017_all,\\n        PI_2017_all,\\n        RJ_2017_all,\\n        RN_2017_all,\\n        RS_2017_all,\\n        RO_2017_all,\\n        RR_2017_all,\\n        SC_2017_all,\\n        SP_2017_all,\\n        SE_2017_all,\\n        TO_2017_all,\\n    ]\\n).reset_index()\";\n",
       "                var nbb_cells = Jupyter.notebook.get_cells();\n",
       "                for (var i = 0; i < nbb_cells.length; ++i) {\n",
       "                    if (nbb_cells[i].input_prompt_number == nbb_cell_id) {\n",
       "                        if (nbb_cells[i].get_text() == nbb_unformatted_code) {\n",
       "                             nbb_cells[i].set_text(nbb_formatted_code);\n",
       "                        }\n",
       "                        break;\n",
       "                    }\n",
       "                }\n",
       "            }, 500);\n",
       "            "
      ],
      "text/plain": [
       "<IPython.core.display.Javascript object>"
      ]
     },
     "metadata": {},
     "output_type": "display_data"
    }
   ],
   "source": [
    "df_2017 = pd.concat(\n",
    "    [\n",
    "        ac_2017_all,\n",
    "        AL_2017_all,\n",
    "        AP_2017_all,\n",
    "        AM_2017_all,\n",
    "        BA_2017_all,\n",
    "        CE_2017_all,\n",
    "        DF_2017_all,\n",
    "        ES_2017_all,\n",
    "        GO_2017_all,\n",
    "        MA_2017_all,\n",
    "        MT_2017_all,\n",
    "        MS_2017_all,\n",
    "        MG_2017_all,\n",
    "        PA_2017_all,\n",
    "        PB_2017_all,\n",
    "        PR_2017_all,\n",
    "        PE_2017_all,\n",
    "        PI_2017_all,\n",
    "        RJ_2017_all,\n",
    "        RN_2017_all,\n",
    "        RS_2017_all,\n",
    "        RO_2017_all,\n",
    "        RR_2017_all,\n",
    "        SC_2017_all,\n",
    "        SP_2017_all,\n",
    "        SE_2017_all,\n",
    "        TO_2017_all,\n",
    "    ]\n",
    ").reset_index()"
   ]
  },
  {
   "cell_type": "code",
   "execution_count": 183,
   "id": "3de84798",
   "metadata": {},
   "outputs": [
    {
     "data": {
      "application/javascript": [
       "\n",
       "            setTimeout(function() {\n",
       "                var nbb_cell_id = 183;\n",
       "                var nbb_unformatted_code = \"df_2017 = df_2017.drop([\\\"Unnamed: 0\\\", \\\"index\\\"], axis=1)\";\n",
       "                var nbb_formatted_code = \"df_2017 = df_2017.drop([\\\"Unnamed: 0\\\", \\\"index\\\"], axis=1)\";\n",
       "                var nbb_cells = Jupyter.notebook.get_cells();\n",
       "                for (var i = 0; i < nbb_cells.length; ++i) {\n",
       "                    if (nbb_cells[i].input_prompt_number == nbb_cell_id) {\n",
       "                        if (nbb_cells[i].get_text() == nbb_unformatted_code) {\n",
       "                             nbb_cells[i].set_text(nbb_formatted_code);\n",
       "                        }\n",
       "                        break;\n",
       "                    }\n",
       "                }\n",
       "            }, 500);\n",
       "            "
      ],
      "text/plain": [
       "<IPython.core.display.Javascript object>"
      ]
     },
     "metadata": {},
     "output_type": "display_data"
    }
   ],
   "source": [
    "df_2017 = df_2017.drop([\"Unnamed: 0\", \"index\"], axis=1)"
   ]
  },
  {
   "cell_type": "code",
   "execution_count": 184,
   "id": "630c3043",
   "metadata": {},
   "outputs": [
    {
     "data": {
      "text/html": [
       "<div>\n",
       "<style scoped>\n",
       "    .dataframe tbody tr th:only-of-type {\n",
       "        vertical-align: middle;\n",
       "    }\n",
       "\n",
       "    .dataframe tbody tr th {\n",
       "        vertical-align: top;\n",
       "    }\n",
       "\n",
       "    .dataframe thead th {\n",
       "        text-align: right;\n",
       "    }\n",
       "</style>\n",
       "<table border=\"1\" class=\"dataframe\">\n",
       "  <thead>\n",
       "    <tr style=\"text-align: right;\">\n",
       "      <th></th>\n",
       "      <th>estado</th>\n",
       "      <th>ano</th>\n",
       "      <th>DTOBITO</th>\n",
       "      <th>DTNASC</th>\n",
       "      <th>SEXO</th>\n",
       "      <th>RACACOR</th>\n",
       "      <th>ASSISTMED</th>\n",
       "      <th>ESCMAE</th>\n",
       "      <th>ESTCIV</th>\n",
       "      <th>ESC</th>\n",
       "      <th>OCUP</th>\n",
       "      <th>CODMUNRES</th>\n",
       "      <th>CAUSABAS</th>\n",
       "      <th>CAUSABAS_O</th>\n",
       "      <th>LOCOCOR</th>\n",
       "      <th>CIRURGIA</th>\n",
       "    </tr>\n",
       "  </thead>\n",
       "  <tbody>\n",
       "    <tr>\n",
       "      <th>0</th>\n",
       "      <td>AC</td>\n",
       "      <td>2017</td>\n",
       "      <td>27072017</td>\n",
       "      <td>20061982.0</td>\n",
       "      <td>2</td>\n",
       "      <td>2.0</td>\n",
       "      <td>2.0</td>\n",
       "      <td>NaN</td>\n",
       "      <td>5.0</td>\n",
       "      <td>4.0</td>\n",
       "      <td>999992.0</td>\n",
       "      <td>120020</td>\n",
       "      <td>X709</td>\n",
       "      <td>X709</td>\n",
       "      <td>3</td>\n",
       "      <td>NaN</td>\n",
       "    </tr>\n",
       "    <tr>\n",
       "      <th>1</th>\n",
       "      <td>AC</td>\n",
       "      <td>2017</td>\n",
       "      <td>7012017</td>\n",
       "      <td>21041988.0</td>\n",
       "      <td>2</td>\n",
       "      <td>4.0</td>\n",
       "      <td>1.0</td>\n",
       "      <td>NaN</td>\n",
       "      <td>9.0</td>\n",
       "      <td>4.0</td>\n",
       "      <td>NaN</td>\n",
       "      <td>120070</td>\n",
       "      <td>X740</td>\n",
       "      <td>X740</td>\n",
       "      <td>3</td>\n",
       "      <td>NaN</td>\n",
       "    </tr>\n",
       "    <tr>\n",
       "      <th>2</th>\n",
       "      <td>AC</td>\n",
       "      <td>2017</td>\n",
       "      <td>13022017</td>\n",
       "      <td>14051991.0</td>\n",
       "      <td>1</td>\n",
       "      <td>1.0</td>\n",
       "      <td>2.0</td>\n",
       "      <td>NaN</td>\n",
       "      <td>1.0</td>\n",
       "      <td>NaN</td>\n",
       "      <td>NaN</td>\n",
       "      <td>120040</td>\n",
       "      <td>X700</td>\n",
       "      <td>X700</td>\n",
       "      <td>5</td>\n",
       "      <td>NaN</td>\n",
       "    </tr>\n",
       "    <tr>\n",
       "      <th>3</th>\n",
       "      <td>AC</td>\n",
       "      <td>2017</td>\n",
       "      <td>27022017</td>\n",
       "      <td>6081980.0</td>\n",
       "      <td>1</td>\n",
       "      <td>4.0</td>\n",
       "      <td>2.0</td>\n",
       "      <td>NaN</td>\n",
       "      <td>1.0</td>\n",
       "      <td>4.0</td>\n",
       "      <td>354705.0</td>\n",
       "      <td>120040</td>\n",
       "      <td>X700</td>\n",
       "      <td>X700</td>\n",
       "      <td>3</td>\n",
       "      <td>NaN</td>\n",
       "    </tr>\n",
       "    <tr>\n",
       "      <th>4</th>\n",
       "      <td>AC</td>\n",
       "      <td>2017</td>\n",
       "      <td>4092017</td>\n",
       "      <td>15081948.0</td>\n",
       "      <td>2</td>\n",
       "      <td>4.0</td>\n",
       "      <td>NaN</td>\n",
       "      <td>NaN</td>\n",
       "      <td>2.0</td>\n",
       "      <td>3.0</td>\n",
       "      <td>NaN</td>\n",
       "      <td>120040</td>\n",
       "      <td>X700</td>\n",
       "      <td>X700</td>\n",
       "      <td>3</td>\n",
       "      <td>NaN</td>\n",
       "    </tr>\n",
       "  </tbody>\n",
       "</table>\n",
       "</div>"
      ],
      "text/plain": [
       "  estado   ano   DTOBITO      DTNASC  SEXO  RACACOR  ASSISTMED  ESCMAE  \\\n",
       "0     AC  2017  27072017  20061982.0     2      2.0        2.0     NaN   \n",
       "1     AC  2017   7012017  21041988.0     2      4.0        1.0     NaN   \n",
       "2     AC  2017  13022017  14051991.0     1      1.0        2.0     NaN   \n",
       "3     AC  2017  27022017   6081980.0     1      4.0        2.0     NaN   \n",
       "4     AC  2017   4092017  15081948.0     2      4.0        NaN     NaN   \n",
       "\n",
       "   ESTCIV  ESC      OCUP  CODMUNRES  CAUSABAS  CAUSABAS_O  LOCOCOR  CIRURGIA  \n",
       "0     5.0  4.0  999992.0     120020  X709      X709              3       NaN  \n",
       "1     9.0  4.0       NaN     120070  X740      X740              3       NaN  \n",
       "2     1.0  NaN       NaN     120040  X700      X700              5       NaN  \n",
       "3     1.0  4.0  354705.0     120040  X700      X700              3       NaN  \n",
       "4     2.0  3.0       NaN     120040  X700      X700              3       NaN  "
      ]
     },
     "execution_count": 184,
     "metadata": {},
     "output_type": "execute_result"
    },
    {
     "data": {
      "application/javascript": [
       "\n",
       "            setTimeout(function() {\n",
       "                var nbb_cell_id = 184;\n",
       "                var nbb_unformatted_code = \"df_2017.head()\";\n",
       "                var nbb_formatted_code = \"df_2017.head()\";\n",
       "                var nbb_cells = Jupyter.notebook.get_cells();\n",
       "                for (var i = 0; i < nbb_cells.length; ++i) {\n",
       "                    if (nbb_cells[i].input_prompt_number == nbb_cell_id) {\n",
       "                        if (nbb_cells[i].get_text() == nbb_unformatted_code) {\n",
       "                             nbb_cells[i].set_text(nbb_formatted_code);\n",
       "                        }\n",
       "                        break;\n",
       "                    }\n",
       "                }\n",
       "            }, 500);\n",
       "            "
      ],
      "text/plain": [
       "<IPython.core.display.Javascript object>"
      ]
     },
     "metadata": {},
     "output_type": "display_data"
    }
   ],
   "source": [
    "df_2017.head()"
   ]
  },
  {
   "cell_type": "code",
   "execution_count": 185,
   "id": "b6d41c7d",
   "metadata": {},
   "outputs": [
    {
     "data": {
      "application/javascript": [
       "\n",
       "            setTimeout(function() {\n",
       "                var nbb_cell_id = 185;\n",
       "                var nbb_unformatted_code = \"df_2017.to_csv(\\\"df_2017.csv\\\")\";\n",
       "                var nbb_formatted_code = \"df_2017.to_csv(\\\"df_2017.csv\\\")\";\n",
       "                var nbb_cells = Jupyter.notebook.get_cells();\n",
       "                for (var i = 0; i < nbb_cells.length; ++i) {\n",
       "                    if (nbb_cells[i].input_prompt_number == nbb_cell_id) {\n",
       "                        if (nbb_cells[i].get_text() == nbb_unformatted_code) {\n",
       "                             nbb_cells[i].set_text(nbb_formatted_code);\n",
       "                        }\n",
       "                        break;\n",
       "                    }\n",
       "                }\n",
       "            }, 500);\n",
       "            "
      ],
      "text/plain": [
       "<IPython.core.display.Javascript object>"
      ]
     },
     "metadata": {},
     "output_type": "display_data"
    }
   ],
   "source": [
    "df_2017.to_csv(\"df_2017.csv\")"
   ]
  },
  {
   "cell_type": "markdown",
   "id": "4ab9285b",
   "metadata": {},
   "source": [
    "# 2018"
   ]
  },
  {
   "cell_type": "code",
   "execution_count": 205,
   "id": "a7b246c9",
   "metadata": {},
   "outputs": [
    {
     "data": {
      "application/javascript": [
       "\n",
       "            setTimeout(function() {\n",
       "                var nbb_cell_id = 205;\n",
       "                var nbb_unformatted_code = \"ac_2018=pd.read_csv('csv/ac_2018.csv')\\nAL_2018=pd.read_csv('csv/AL_2018.csv')\\nAP_2018=pd.read_csv('csv/AP_2018.csv')\\nAM_2018=pd.read_csv('csv/AM_2018.csv')\\nBA_2018=pd.read_csv('csv/BA_2018.csv')\\nCE_2018=pd.read_csv('csv/CE_2018.csv')\\nDF_2018=pd.read_csv('csv/DF_2018.csv')\\nES_2018=pd.read_csv('csv/ES_2018.csv')\\nGO_2018=pd.read_csv('csv/GO_2018.csv')\\nMA_2018=pd.read_csv('csv/MA_2018.csv')\\nMT_2018=pd.read_csv('csv/MT_2018.csv')\\nMS_2018=pd.read_csv('csv/MS_2018.csv')\\nMG_2018=pd.read_csv('csv/MG_2018.csv')\\nPB_2018=pd.read_csv('csv/PB_2018.csv')\\nPR_2018=pd.read_csv('csv/PR_2018.csv')\\nPE_2018=pd.read_csv('csv/PE_2018.csv')\\nPI_2018=pd.read_csv('csv/PI_2018.csv')\\nRJ_2018=pd.read_csv('csv/RJ_2018.csv')\\nRN_2018=pd.read_csv('csv/RN_2018.csv')\\nRS_2018=pd.read_csv('csv/RS_2018.csv')\\nRO_2018=pd.read_csv('csv/RO_2018.csv')\\nRR_2018=pd.read_csv('csv/RR_2018.csv')\\nSC_2018=pd.read_csv('csv/SC_2018.csv')\\nSP_2018=pd.read_csv('csv/SP_2018.csv')\\nSE_2018=pd.read_csv('csv/SE_2018.csv')\\nTO_2018=pd.read_csv('csv/TO_2018.csv')\";\n",
       "                var nbb_formatted_code = \"ac_2018 = pd.read_csv(\\\"csv/ac_2018.csv\\\")\\nAL_2018 = pd.read_csv(\\\"csv/AL_2018.csv\\\")\\nAP_2018 = pd.read_csv(\\\"csv/AP_2018.csv\\\")\\nAM_2018 = pd.read_csv(\\\"csv/AM_2018.csv\\\")\\nBA_2018 = pd.read_csv(\\\"csv/BA_2018.csv\\\")\\nCE_2018 = pd.read_csv(\\\"csv/CE_2018.csv\\\")\\nDF_2018 = pd.read_csv(\\\"csv/DF_2018.csv\\\")\\nES_2018 = pd.read_csv(\\\"csv/ES_2018.csv\\\")\\nGO_2018 = pd.read_csv(\\\"csv/GO_2018.csv\\\")\\nMA_2018 = pd.read_csv(\\\"csv/MA_2018.csv\\\")\\nMT_2018 = pd.read_csv(\\\"csv/MT_2018.csv\\\")\\nMS_2018 = pd.read_csv(\\\"csv/MS_2018.csv\\\")\\nMG_2018 = pd.read_csv(\\\"csv/MG_2018.csv\\\")\\nPB_2018 = pd.read_csv(\\\"csv/PB_2018.csv\\\")\\nPR_2018 = pd.read_csv(\\\"csv/PR_2018.csv\\\")\\nPE_2018 = pd.read_csv(\\\"csv/PE_2018.csv\\\")\\nPI_2018 = pd.read_csv(\\\"csv/PI_2018.csv\\\")\\nRJ_2018 = pd.read_csv(\\\"csv/RJ_2018.csv\\\")\\nRN_2018 = pd.read_csv(\\\"csv/RN_2018.csv\\\")\\nRS_2018 = pd.read_csv(\\\"csv/RS_2018.csv\\\")\\nRO_2018 = pd.read_csv(\\\"csv/RO_2018.csv\\\")\\nRR_2018 = pd.read_csv(\\\"csv/RR_2018.csv\\\")\\nSC_2018 = pd.read_csv(\\\"csv/SC_2018.csv\\\")\\nSP_2018 = pd.read_csv(\\\"csv/SP_2018.csv\\\")\\nSE_2018 = pd.read_csv(\\\"csv/SE_2018.csv\\\")\\nTO_2018 = pd.read_csv(\\\"csv/TO_2018.csv\\\")\";\n",
       "                var nbb_cells = Jupyter.notebook.get_cells();\n",
       "                for (var i = 0; i < nbb_cells.length; ++i) {\n",
       "                    if (nbb_cells[i].input_prompt_number == nbb_cell_id) {\n",
       "                        if (nbb_cells[i].get_text() == nbb_unformatted_code) {\n",
       "                             nbb_cells[i].set_text(nbb_formatted_code);\n",
       "                        }\n",
       "                        break;\n",
       "                    }\n",
       "                }\n",
       "            }, 500);\n",
       "            "
      ],
      "text/plain": [
       "<IPython.core.display.Javascript object>"
      ]
     },
     "metadata": {},
     "output_type": "display_data"
    }
   ],
   "source": [
    "ac_2018=pd.read_csv('csv/ac_2018.csv')\n",
    "AL_2018=pd.read_csv('csv/AL_2018.csv')\n",
    "AP_2018=pd.read_csv('csv/AP_2018.csv')\n",
    "AM_2018=pd.read_csv('csv/AM_2018.csv')\n",
    "BA_2018=pd.read_csv('csv/BA_2018.csv')\n",
    "CE_2018=pd.read_csv('csv/CE_2018.csv')\n",
    "DF_2018=pd.read_csv('csv/DF_2018.csv')\n",
    "ES_2018=pd.read_csv('csv/ES_2018.csv')\n",
    "GO_2018=pd.read_csv('csv/GO_2018.csv')\n",
    "MA_2018=pd.read_csv('csv/MA_2018.csv')\n",
    "MT_2018=pd.read_csv('csv/MT_2018.csv')\n",
    "MS_2018=pd.read_csv('csv/MS_2018.csv')\n",
    "MG_2018=pd.read_csv('csv/MG_2018.csv')\n",
    "PB_2018=pd.read_csv('csv/PB_2018.csv')\n",
    "PR_2018=pd.read_csv('csv/PR_2018.csv')\n",
    "PE_2018=pd.read_csv('csv/PE_2018.csv')\n",
    "PI_2018=pd.read_csv('csv/PI_2018.csv')\n",
    "RJ_2018=pd.read_csv('csv/RJ_2018.csv')\n",
    "RN_2018=pd.read_csv('csv/RN_2018.csv')\n",
    "RS_2018=pd.read_csv('csv/RS_2018.csv')\n",
    "RO_2018=pd.read_csv('csv/RO_2018.csv')\n",
    "RR_2018=pd.read_csv('csv/RR_2018.csv')\n",
    "SC_2018=pd.read_csv('csv/SC_2018.csv')\n",
    "SP_2018=pd.read_csv('csv/SP_2018.csv')\n",
    "SE_2018=pd.read_csv('csv/SE_2018.csv')\n",
    "TO_2018=pd.read_csv('csv/TO_2018.csv')\n"
   ]
  },
  {
   "cell_type": "code",
   "execution_count": 206,
   "id": "e75ad352",
   "metadata": {},
   "outputs": [
    {
     "data": {
      "text/plain": [
       "array(['I64 ', 'I089', 'E142', ..., 'F164', 'E42 ', 'P241'], dtype=object)"
      ]
     },
     "execution_count": 206,
     "metadata": {},
     "output_type": "execute_result"
    },
    {
     "data": {
      "application/javascript": [
       "\n",
       "            setTimeout(function() {\n",
       "                var nbb_cell_id = 206;\n",
       "                var nbb_unformatted_code = \"SP_2018[\\\"CAUSABAS\\\"].unique()\";\n",
       "                var nbb_formatted_code = \"SP_2018[\\\"CAUSABAS\\\"].unique()\";\n",
       "                var nbb_cells = Jupyter.notebook.get_cells();\n",
       "                for (var i = 0; i < nbb_cells.length; ++i) {\n",
       "                    if (nbb_cells[i].input_prompt_number == nbb_cell_id) {\n",
       "                        if (nbb_cells[i].get_text() == nbb_unformatted_code) {\n",
       "                             nbb_cells[i].set_text(nbb_formatted_code);\n",
       "                        }\n",
       "                        break;\n",
       "                    }\n",
       "                }\n",
       "            }, 500);\n",
       "            "
      ],
      "text/plain": [
       "<IPython.core.display.Javascript object>"
      ]
     },
     "metadata": {},
     "output_type": "display_data"
    }
   ],
   "source": [
    "SP_2018[\"CAUSABAS\"].unique()"
   ]
  },
  {
   "cell_type": "code",
   "execution_count": 211,
   "id": "1729a7da",
   "metadata": {},
   "outputs": [
    {
     "data": {
      "application/javascript": [
       "\n",
       "            setTimeout(function() {\n",
       "                var nbb_cell_id = 211;\n",
       "                var nbb_unformatted_code = \"ac_2018_all=ac_2018[ac_2018['CAUSABAS'].isin(filter_list2) | ac_2018['CAUSABAS_O'].isin(filter_list2)]\\nAL_2018_all=AL_2018[AL_2018['CAUSABAS'].isin(filter_list2) | AL_2018['CAUSABAS_O'].isin(filter_list2)]\\nAP_2018_all=AP_2018[AP_2018['CAUSABAS'].isin(filter_list2) | AP_2018['CAUSABAS_O'].isin(filter_list2)]\\nAM_2018_all=AM_2018[AM_2018['CAUSABAS'].isin(filter_list2) | AM_2018['CAUSABAS_O'].isin(filter_list2)]\\nBA_2018_all=BA_2018[BA_2018['CAUSABAS'].isin(filter_list2) | BA_2018['CAUSABAS_O'].isin(filter_list2)]\\nCE_2018_all=CE_2018[CE_2018['CAUSABAS'].isin(filter_list2) | CE_2018['CAUSABAS_O'].isin(filter_list2)]\\nDF_2018_all=DF_2018[DF_2018['CAUSABAS'].isin(filter_list2) | DF_2018['CAUSABAS_O'].isin(filter_list2)]\\nES_2018_all=ES_2018[ES_2018['CAUSABAS'].isin(filter_list2) | ES_2018['CAUSABAS_O'].isin(filter_list2)]\\nGO_2018_all=GO_2018[GO_2018['CAUSABAS'].isin(filter_list2) | GO_2018['CAUSABAS_O'].isin(filter_list2)]\\nMA_2018_all=MA_2018[MA_2018['CAUSABAS'].isin(filter_list2) | MA_2018['CAUSABAS_O'].isin(filter_list2)]\\nMT_2018_all=MT_2018[MT_2018['CAUSABAS'].isin(filter_list2) | MT_2018['CAUSABAS_O'].isin(filter_list2)]\\nMS_2018_all=MS_2018[MS_2018['CAUSABAS'].isin(filter_list2) | MS_2018['CAUSABAS_O'].isin(filter_list2)]\\nMG_2018_all=MG_2018[MG_2018['CAUSABAS'].isin(filter_list2) | MG_2018['CAUSABAS_O'].isin(filter_list2)]\\nPB_2018_all=PB_2018[PB_2018['CAUSABAS'].isin(filter_list2) | PB_2018['CAUSABAS_O'].isin(filter_list2)]\\nPR_2018_all=PR_2018[PR_2018['CAUSABAS'].isin(filter_list2) | PR_2018['CAUSABAS_O'].isin(filter_list2)]\\nPE_2018_all=PE_2018[PE_2018['CAUSABAS'].isin(filter_list2) | PE_2018['CAUSABAS_O'].isin(filter_list2)]\\nPI_2018_all=PI_2018[PI_2018['CAUSABAS'].isin(filter_list2) | PI_2018['CAUSABAS_O'].isin(filter_list2)]\\nRJ_2018_all=RJ_2018[RJ_2018['CAUSABAS'].isin(filter_list2) | RJ_2018['CAUSABAS_O'].isin(filter_list2)]\\nRN_2018_all=RN_2018[RN_2018['CAUSABAS'].isin(filter_list2) | RN_2018['CAUSABAS_O'].isin(filter_list2)]\\nRS_2018_all=RS_2018[RS_2018['CAUSABAS'].isin(filter_list2) | RS_2018['CAUSABAS_O'].isin(filter_list2)]\\nRO_2018_all=RO_2018[RO_2018['CAUSABAS'].isin(filter_list2) | RO_2018['CAUSABAS_O'].isin(filter_list2)]\\nRR_2018_all=RR_2018[RR_2018['CAUSABAS'].isin(filter_list2) | RR_2018['CAUSABAS_O'].isin(filter_list2)]\\nSC_2018_all=SC_2018[SC_2018['CAUSABAS'].isin(filter_list2) | SC_2018['CAUSABAS_O'].isin(filter_list2)]\\nSP_2018_all=SP_2018[SP_2018['CAUSABAS'].isin(filter_list2) | SP_2018['CAUSABAS_O'].isin(filter_list2)]\\nSE_2018_all=SE_2018[SE_2018['CAUSABAS'].isin(filter_list2) | SE_2018['CAUSABAS_O'].isin(filter_list2)]\\nTO_2018_all=TO_2018[TO_2018['CAUSABAS'].isin(filter_list2) | TO_2018['CAUSABAS_O'].isin(filter_list2)]\";\n",
       "                var nbb_formatted_code = \"ac_2018_all = ac_2018[\\n    ac_2018[\\\"CAUSABAS\\\"].isin(filter_list2) | ac_2018[\\\"CAUSABAS_O\\\"].isin(filter_list2)\\n]\\nAL_2018_all = AL_2018[\\n    AL_2018[\\\"CAUSABAS\\\"].isin(filter_list2) | AL_2018[\\\"CAUSABAS_O\\\"].isin(filter_list2)\\n]\\nAP_2018_all = AP_2018[\\n    AP_2018[\\\"CAUSABAS\\\"].isin(filter_list2) | AP_2018[\\\"CAUSABAS_O\\\"].isin(filter_list2)\\n]\\nAM_2018_all = AM_2018[\\n    AM_2018[\\\"CAUSABAS\\\"].isin(filter_list2) | AM_2018[\\\"CAUSABAS_O\\\"].isin(filter_list2)\\n]\\nBA_2018_all = BA_2018[\\n    BA_2018[\\\"CAUSABAS\\\"].isin(filter_list2) | BA_2018[\\\"CAUSABAS_O\\\"].isin(filter_list2)\\n]\\nCE_2018_all = CE_2018[\\n    CE_2018[\\\"CAUSABAS\\\"].isin(filter_list2) | CE_2018[\\\"CAUSABAS_O\\\"].isin(filter_list2)\\n]\\nDF_2018_all = DF_2018[\\n    DF_2018[\\\"CAUSABAS\\\"].isin(filter_list2) | DF_2018[\\\"CAUSABAS_O\\\"].isin(filter_list2)\\n]\\nES_2018_all = ES_2018[\\n    ES_2018[\\\"CAUSABAS\\\"].isin(filter_list2) | ES_2018[\\\"CAUSABAS_O\\\"].isin(filter_list2)\\n]\\nGO_2018_all = GO_2018[\\n    GO_2018[\\\"CAUSABAS\\\"].isin(filter_list2) | GO_2018[\\\"CAUSABAS_O\\\"].isin(filter_list2)\\n]\\nMA_2018_all = MA_2018[\\n    MA_2018[\\\"CAUSABAS\\\"].isin(filter_list2) | MA_2018[\\\"CAUSABAS_O\\\"].isin(filter_list2)\\n]\\nMT_2018_all = MT_2018[\\n    MT_2018[\\\"CAUSABAS\\\"].isin(filter_list2) | MT_2018[\\\"CAUSABAS_O\\\"].isin(filter_list2)\\n]\\nMS_2018_all = MS_2018[\\n    MS_2018[\\\"CAUSABAS\\\"].isin(filter_list2) | MS_2018[\\\"CAUSABAS_O\\\"].isin(filter_list2)\\n]\\nMG_2018_all = MG_2018[\\n    MG_2018[\\\"CAUSABAS\\\"].isin(filter_list2) | MG_2018[\\\"CAUSABAS_O\\\"].isin(filter_list2)\\n]\\nPB_2018_all = PB_2018[\\n    PB_2018[\\\"CAUSABAS\\\"].isin(filter_list2) | PB_2018[\\\"CAUSABAS_O\\\"].isin(filter_list2)\\n]\\nPR_2018_all = PR_2018[\\n    PR_2018[\\\"CAUSABAS\\\"].isin(filter_list2) | PR_2018[\\\"CAUSABAS_O\\\"].isin(filter_list2)\\n]\\nPE_2018_all = PE_2018[\\n    PE_2018[\\\"CAUSABAS\\\"].isin(filter_list2) | PE_2018[\\\"CAUSABAS_O\\\"].isin(filter_list2)\\n]\\nPI_2018_all = PI_2018[\\n    PI_2018[\\\"CAUSABAS\\\"].isin(filter_list2) | PI_2018[\\\"CAUSABAS_O\\\"].isin(filter_list2)\\n]\\nRJ_2018_all = RJ_2018[\\n    RJ_2018[\\\"CAUSABAS\\\"].isin(filter_list2) | RJ_2018[\\\"CAUSABAS_O\\\"].isin(filter_list2)\\n]\\nRN_2018_all = RN_2018[\\n    RN_2018[\\\"CAUSABAS\\\"].isin(filter_list2) | RN_2018[\\\"CAUSABAS_O\\\"].isin(filter_list2)\\n]\\nRS_2018_all = RS_2018[\\n    RS_2018[\\\"CAUSABAS\\\"].isin(filter_list2) | RS_2018[\\\"CAUSABAS_O\\\"].isin(filter_list2)\\n]\\nRO_2018_all = RO_2018[\\n    RO_2018[\\\"CAUSABAS\\\"].isin(filter_list2) | RO_2018[\\\"CAUSABAS_O\\\"].isin(filter_list2)\\n]\\nRR_2018_all = RR_2018[\\n    RR_2018[\\\"CAUSABAS\\\"].isin(filter_list2) | RR_2018[\\\"CAUSABAS_O\\\"].isin(filter_list2)\\n]\\nSC_2018_all = SC_2018[\\n    SC_2018[\\\"CAUSABAS\\\"].isin(filter_list2) | SC_2018[\\\"CAUSABAS_O\\\"].isin(filter_list2)\\n]\\nSP_2018_all = SP_2018[\\n    SP_2018[\\\"CAUSABAS\\\"].isin(filter_list2) | SP_2018[\\\"CAUSABAS_O\\\"].isin(filter_list2)\\n]\\nSE_2018_all = SE_2018[\\n    SE_2018[\\\"CAUSABAS\\\"].isin(filter_list2) | SE_2018[\\\"CAUSABAS_O\\\"].isin(filter_list2)\\n]\\nTO_2018_all = TO_2018[\\n    TO_2018[\\\"CAUSABAS\\\"].isin(filter_list2) | TO_2018[\\\"CAUSABAS_O\\\"].isin(filter_list2)\\n]\";\n",
       "                var nbb_cells = Jupyter.notebook.get_cells();\n",
       "                for (var i = 0; i < nbb_cells.length; ++i) {\n",
       "                    if (nbb_cells[i].input_prompt_number == nbb_cell_id) {\n",
       "                        if (nbb_cells[i].get_text() == nbb_unformatted_code) {\n",
       "                             nbb_cells[i].set_text(nbb_formatted_code);\n",
       "                        }\n",
       "                        break;\n",
       "                    }\n",
       "                }\n",
       "            }, 500);\n",
       "            "
      ],
      "text/plain": [
       "<IPython.core.display.Javascript object>"
      ]
     },
     "metadata": {},
     "output_type": "display_data"
    }
   ],
   "source": [
    "ac_2018_all=ac_2018[ac_2018['CAUSABAS'].isin(filter_list2) | ac_2018['CAUSABAS_O'].isin(filter_list2)]\n",
    "AL_2018_all=AL_2018[AL_2018['CAUSABAS'].isin(filter_list2) | AL_2018['CAUSABAS_O'].isin(filter_list2)]\n",
    "AP_2018_all=AP_2018[AP_2018['CAUSABAS'].isin(filter_list2) | AP_2018['CAUSABAS_O'].isin(filter_list2)]\n",
    "AM_2018_all=AM_2018[AM_2018['CAUSABAS'].isin(filter_list2) | AM_2018['CAUSABAS_O'].isin(filter_list2)]\n",
    "BA_2018_all=BA_2018[BA_2018['CAUSABAS'].isin(filter_list2) | BA_2018['CAUSABAS_O'].isin(filter_list2)]\n",
    "CE_2018_all=CE_2018[CE_2018['CAUSABAS'].isin(filter_list2) | CE_2018['CAUSABAS_O'].isin(filter_list2)]\n",
    "DF_2018_all=DF_2018[DF_2018['CAUSABAS'].isin(filter_list2) | DF_2018['CAUSABAS_O'].isin(filter_list2)]\n",
    "ES_2018_all=ES_2018[ES_2018['CAUSABAS'].isin(filter_list2) | ES_2018['CAUSABAS_O'].isin(filter_list2)]\n",
    "GO_2018_all=GO_2018[GO_2018['CAUSABAS'].isin(filter_list2) | GO_2018['CAUSABAS_O'].isin(filter_list2)]\n",
    "MA_2018_all=MA_2018[MA_2018['CAUSABAS'].isin(filter_list2) | MA_2018['CAUSABAS_O'].isin(filter_list2)]\n",
    "MT_2018_all=MT_2018[MT_2018['CAUSABAS'].isin(filter_list2) | MT_2018['CAUSABAS_O'].isin(filter_list2)]\n",
    "MS_2018_all=MS_2018[MS_2018['CAUSABAS'].isin(filter_list2) | MS_2018['CAUSABAS_O'].isin(filter_list2)]\n",
    "MG_2018_all=MG_2018[MG_2018['CAUSABAS'].isin(filter_list2) | MG_2018['CAUSABAS_O'].isin(filter_list2)]\n",
    "PB_2018_all=PB_2018[PB_2018['CAUSABAS'].isin(filter_list2) | PB_2018['CAUSABAS_O'].isin(filter_list2)]\n",
    "PR_2018_all=PR_2018[PR_2018['CAUSABAS'].isin(filter_list2) | PR_2018['CAUSABAS_O'].isin(filter_list2)]\n",
    "PE_2018_all=PE_2018[PE_2018['CAUSABAS'].isin(filter_list2) | PE_2018['CAUSABAS_O'].isin(filter_list2)]\n",
    "PI_2018_all=PI_2018[PI_2018['CAUSABAS'].isin(filter_list2) | PI_2018['CAUSABAS_O'].isin(filter_list2)]\n",
    "RJ_2018_all=RJ_2018[RJ_2018['CAUSABAS'].isin(filter_list2) | RJ_2018['CAUSABAS_O'].isin(filter_list2)]\n",
    "RN_2018_all=RN_2018[RN_2018['CAUSABAS'].isin(filter_list2) | RN_2018['CAUSABAS_O'].isin(filter_list2)]\n",
    "RS_2018_all=RS_2018[RS_2018['CAUSABAS'].isin(filter_list2) | RS_2018['CAUSABAS_O'].isin(filter_list2)]\n",
    "RO_2018_all=RO_2018[RO_2018['CAUSABAS'].isin(filter_list2) | RO_2018['CAUSABAS_O'].isin(filter_list2)]\n",
    "RR_2018_all=RR_2018[RR_2018['CAUSABAS'].isin(filter_list2) | RR_2018['CAUSABAS_O'].isin(filter_list2)]\n",
    "SC_2018_all=SC_2018[SC_2018['CAUSABAS'].isin(filter_list2) | SC_2018['CAUSABAS_O'].isin(filter_list2)]\n",
    "SP_2018_all=SP_2018[SP_2018['CAUSABAS'].isin(filter_list2) | SP_2018['CAUSABAS_O'].isin(filter_list2)]\n",
    "SE_2018_all=SE_2018[SE_2018['CAUSABAS'].isin(filter_list2) | SE_2018['CAUSABAS_O'].isin(filter_list2)]\n",
    "TO_2018_all=TO_2018[TO_2018['CAUSABAS'].isin(filter_list2) | TO_2018['CAUSABAS_O'].isin(filter_list2)]\n"
   ]
  },
  {
   "cell_type": "code",
   "execution_count": 212,
   "id": "d2b08fb8",
   "metadata": {},
   "outputs": [
    {
     "data": {
      "application/javascript": [
       "\n",
       "            setTimeout(function() {\n",
       "                var nbb_cell_id = 212;\n",
       "                var nbb_unformatted_code = \"df_2018 = pd.concat(\\n    [\\n        ac_2018_all,\\n        AL_2018_all,\\n        AP_2018_all,\\n        AM_2018_all,\\n        BA_2018_all,\\n        CE_2018_all,\\n        DF_2018_all,\\n        ES_2018_all,\\n        GO_2018_all,\\n        MA_2018_all,\\n        MT_2018_all,\\n        MS_2018_all,\\n        MG_2018_all,\\n        PB_2018_all,\\n        PR_2018_all,\\n        PE_2018_all,\\n        PI_2018_all,\\n        RJ_2018_all,\\n        RN_2018_all,\\n        RS_2018_all,\\n        RO_2018_all,\\n        RR_2018_all,\\n        SC_2018_all,\\n        SP_2018_all,\\n        SE_2018_all,\\n        TO_2018_all,\\n    ]\\n).reset_index()\";\n",
       "                var nbb_formatted_code = \"df_2018 = pd.concat(\\n    [\\n        ac_2018_all,\\n        AL_2018_all,\\n        AP_2018_all,\\n        AM_2018_all,\\n        BA_2018_all,\\n        CE_2018_all,\\n        DF_2018_all,\\n        ES_2018_all,\\n        GO_2018_all,\\n        MA_2018_all,\\n        MT_2018_all,\\n        MS_2018_all,\\n        MG_2018_all,\\n        PB_2018_all,\\n        PR_2018_all,\\n        PE_2018_all,\\n        PI_2018_all,\\n        RJ_2018_all,\\n        RN_2018_all,\\n        RS_2018_all,\\n        RO_2018_all,\\n        RR_2018_all,\\n        SC_2018_all,\\n        SP_2018_all,\\n        SE_2018_all,\\n        TO_2018_all,\\n    ]\\n).reset_index()\";\n",
       "                var nbb_cells = Jupyter.notebook.get_cells();\n",
       "                for (var i = 0; i < nbb_cells.length; ++i) {\n",
       "                    if (nbb_cells[i].input_prompt_number == nbb_cell_id) {\n",
       "                        if (nbb_cells[i].get_text() == nbb_unformatted_code) {\n",
       "                             nbb_cells[i].set_text(nbb_formatted_code);\n",
       "                        }\n",
       "                        break;\n",
       "                    }\n",
       "                }\n",
       "            }, 500);\n",
       "            "
      ],
      "text/plain": [
       "<IPython.core.display.Javascript object>"
      ]
     },
     "metadata": {},
     "output_type": "display_data"
    }
   ],
   "source": [
    "df_2018 = pd.concat(\n",
    "    [\n",
    "        ac_2018_all,\n",
    "        AL_2018_all,\n",
    "        AP_2018_all,\n",
    "        AM_2018_all,\n",
    "        BA_2018_all,\n",
    "        CE_2018_all,\n",
    "        DF_2018_all,\n",
    "        ES_2018_all,\n",
    "        GO_2018_all,\n",
    "        MA_2018_all,\n",
    "        MT_2018_all,\n",
    "        MS_2018_all,\n",
    "        MG_2018_all,\n",
    "        PB_2018_all,\n",
    "        PR_2018_all,\n",
    "        PE_2018_all,\n",
    "        PI_2018_all,\n",
    "        RJ_2018_all,\n",
    "        RN_2018_all,\n",
    "        RS_2018_all,\n",
    "        RO_2018_all,\n",
    "        RR_2018_all,\n",
    "        SC_2018_all,\n",
    "        SP_2018_all,\n",
    "        SE_2018_all,\n",
    "        TO_2018_all,\n",
    "    ]\n",
    ").reset_index()"
   ]
  },
  {
   "cell_type": "code",
   "execution_count": 213,
   "id": "209e1700",
   "metadata": {},
   "outputs": [
    {
     "data": {
      "application/javascript": [
       "\n",
       "            setTimeout(function() {\n",
       "                var nbb_cell_id = 213;\n",
       "                var nbb_unformatted_code = \"df_2018 = df_2018.drop([\\\"Unnamed: 0\\\", \\\"index\\\"], axis=1)\";\n",
       "                var nbb_formatted_code = \"df_2018 = df_2018.drop([\\\"Unnamed: 0\\\", \\\"index\\\"], axis=1)\";\n",
       "                var nbb_cells = Jupyter.notebook.get_cells();\n",
       "                for (var i = 0; i < nbb_cells.length; ++i) {\n",
       "                    if (nbb_cells[i].input_prompt_number == nbb_cell_id) {\n",
       "                        if (nbb_cells[i].get_text() == nbb_unformatted_code) {\n",
       "                             nbb_cells[i].set_text(nbb_formatted_code);\n",
       "                        }\n",
       "                        break;\n",
       "                    }\n",
       "                }\n",
       "            }, 500);\n",
       "            "
      ],
      "text/plain": [
       "<IPython.core.display.Javascript object>"
      ]
     },
     "metadata": {},
     "output_type": "display_data"
    }
   ],
   "source": [
    "df_2018 = df_2018.drop([\"Unnamed: 0\", \"index\"], axis=1)"
   ]
  },
  {
   "cell_type": "code",
   "execution_count": 214,
   "id": "aebcf6a7",
   "metadata": {},
   "outputs": [
    {
     "data": {
      "text/html": [
       "<div>\n",
       "<style scoped>\n",
       "    .dataframe tbody tr th:only-of-type {\n",
       "        vertical-align: middle;\n",
       "    }\n",
       "\n",
       "    .dataframe tbody tr th {\n",
       "        vertical-align: top;\n",
       "    }\n",
       "\n",
       "    .dataframe thead th {\n",
       "        text-align: right;\n",
       "    }\n",
       "</style>\n",
       "<table border=\"1\" class=\"dataframe\">\n",
       "  <thead>\n",
       "    <tr style=\"text-align: right;\">\n",
       "      <th></th>\n",
       "      <th>estado</th>\n",
       "      <th>ano</th>\n",
       "      <th>DTOBITO</th>\n",
       "      <th>DTNASC</th>\n",
       "      <th>SEXO</th>\n",
       "      <th>RACACOR</th>\n",
       "      <th>ASSISTMED</th>\n",
       "      <th>ESCMAE</th>\n",
       "      <th>ESTCIV</th>\n",
       "      <th>ESC</th>\n",
       "      <th>OCUP</th>\n",
       "      <th>CODMUNRES</th>\n",
       "      <th>CAUSABAS</th>\n",
       "      <th>CAUSABAS_O</th>\n",
       "      <th>LOCOCOR</th>\n",
       "      <th>CIRURGIA</th>\n",
       "    </tr>\n",
       "  </thead>\n",
       "  <tbody>\n",
       "    <tr>\n",
       "      <th>0</th>\n",
       "      <td>AC</td>\n",
       "      <td>2018</td>\n",
       "      <td>6112018</td>\n",
       "      <td>13021994.0</td>\n",
       "      <td>1</td>\n",
       "      <td>5.0</td>\n",
       "      <td>2.0</td>\n",
       "      <td>NaN</td>\n",
       "      <td>1.0</td>\n",
       "      <td>1.0</td>\n",
       "      <td>622020.0</td>\n",
       "      <td>120034</td>\n",
       "      <td>X700</td>\n",
       "      <td>X700</td>\n",
       "      <td>4</td>\n",
       "      <td>NaN</td>\n",
       "    </tr>\n",
       "    <tr>\n",
       "      <th>1</th>\n",
       "      <td>AC</td>\n",
       "      <td>2018</td>\n",
       "      <td>2012018</td>\n",
       "      <td>17061997.0</td>\n",
       "      <td>1</td>\n",
       "      <td>4.0</td>\n",
       "      <td>NaN</td>\n",
       "      <td>NaN</td>\n",
       "      <td>5.0</td>\n",
       "      <td>4.0</td>\n",
       "      <td>999994.0</td>\n",
       "      <td>120030</td>\n",
       "      <td>X709</td>\n",
       "      <td>X70</td>\n",
       "      <td>3</td>\n",
       "      <td>NaN</td>\n",
       "    </tr>\n",
       "    <tr>\n",
       "      <th>2</th>\n",
       "      <td>AC</td>\n",
       "      <td>2018</td>\n",
       "      <td>15012018</td>\n",
       "      <td>14011990.0</td>\n",
       "      <td>1</td>\n",
       "      <td>4.0</td>\n",
       "      <td>NaN</td>\n",
       "      <td>NaN</td>\n",
       "      <td>5.0</td>\n",
       "      <td>3.0</td>\n",
       "      <td>NaN</td>\n",
       "      <td>120035</td>\n",
       "      <td>X700</td>\n",
       "      <td>X700</td>\n",
       "      <td>3</td>\n",
       "      <td>NaN</td>\n",
       "    </tr>\n",
       "    <tr>\n",
       "      <th>3</th>\n",
       "      <td>AC</td>\n",
       "      <td>2018</td>\n",
       "      <td>17032018</td>\n",
       "      <td>7011982.0</td>\n",
       "      <td>1</td>\n",
       "      <td>4.0</td>\n",
       "      <td>NaN</td>\n",
       "      <td>NaN</td>\n",
       "      <td>5.0</td>\n",
       "      <td>NaN</td>\n",
       "      <td>622020.0</td>\n",
       "      <td>120035</td>\n",
       "      <td>X700</td>\n",
       "      <td>X700</td>\n",
       "      <td>3</td>\n",
       "      <td>NaN</td>\n",
       "    </tr>\n",
       "    <tr>\n",
       "      <th>4</th>\n",
       "      <td>AC</td>\n",
       "      <td>2018</td>\n",
       "      <td>27032018</td>\n",
       "      <td>5071976.0</td>\n",
       "      <td>2</td>\n",
       "      <td>4.0</td>\n",
       "      <td>2.0</td>\n",
       "      <td>NaN</td>\n",
       "      <td>5.0</td>\n",
       "      <td>5.0</td>\n",
       "      <td>NaN</td>\n",
       "      <td>120035</td>\n",
       "      <td>X700</td>\n",
       "      <td>X700</td>\n",
       "      <td>3</td>\n",
       "      <td>NaN</td>\n",
       "    </tr>\n",
       "  </tbody>\n",
       "</table>\n",
       "</div>"
      ],
      "text/plain": [
       "  estado   ano   DTOBITO      DTNASC  SEXO  RACACOR  ASSISTMED  ESCMAE  \\\n",
       "0     AC  2018   6112018  13021994.0     1      5.0        2.0     NaN   \n",
       "1     AC  2018   2012018  17061997.0     1      4.0        NaN     NaN   \n",
       "2     AC  2018  15012018  14011990.0     1      4.0        NaN     NaN   \n",
       "3     AC  2018  17032018   7011982.0     1      4.0        NaN     NaN   \n",
       "4     AC  2018  27032018   5071976.0     2      4.0        2.0     NaN   \n",
       "\n",
       "   ESTCIV  ESC      OCUP  CODMUNRES CAUSABAS CAUSABAS_O  LOCOCOR  CIRURGIA  \n",
       "0     1.0  1.0  622020.0     120034     X700       X700        4       NaN  \n",
       "1     5.0  4.0  999994.0     120030     X709       X70         3       NaN  \n",
       "2     5.0  3.0       NaN     120035     X700       X700        3       NaN  \n",
       "3     5.0  NaN  622020.0     120035     X700       X700        3       NaN  \n",
       "4     5.0  5.0       NaN     120035     X700       X700        3       NaN  "
      ]
     },
     "execution_count": 214,
     "metadata": {},
     "output_type": "execute_result"
    },
    {
     "data": {
      "application/javascript": [
       "\n",
       "            setTimeout(function() {\n",
       "                var nbb_cell_id = 214;\n",
       "                var nbb_unformatted_code = \"df_2018.head()\";\n",
       "                var nbb_formatted_code = \"df_2018.head()\";\n",
       "                var nbb_cells = Jupyter.notebook.get_cells();\n",
       "                for (var i = 0; i < nbb_cells.length; ++i) {\n",
       "                    if (nbb_cells[i].input_prompt_number == nbb_cell_id) {\n",
       "                        if (nbb_cells[i].get_text() == nbb_unformatted_code) {\n",
       "                             nbb_cells[i].set_text(nbb_formatted_code);\n",
       "                        }\n",
       "                        break;\n",
       "                    }\n",
       "                }\n",
       "            }, 500);\n",
       "            "
      ],
      "text/plain": [
       "<IPython.core.display.Javascript object>"
      ]
     },
     "metadata": {},
     "output_type": "display_data"
    }
   ],
   "source": [
    "df_2018.head()"
   ]
  },
  {
   "cell_type": "code",
   "execution_count": 215,
   "id": "203f3b97",
   "metadata": {},
   "outputs": [
    {
     "name": "stdout",
     "output_type": "stream",
     "text": [
      "<class 'pandas.core.frame.DataFrame'>\n",
      "RangeIndex: 12417 entries, 0 to 12416\n",
      "Data columns (total 16 columns):\n",
      " #   Column      Non-Null Count  Dtype  \n",
      "---  ------      --------------  -----  \n",
      " 0   estado      12417 non-null  object \n",
      " 1   ano         12417 non-null  int64  \n",
      " 2   DTOBITO     12417 non-null  int64  \n",
      " 3   DTNASC      12371 non-null  float64\n",
      " 4   SEXO        12417 non-null  int64  \n",
      " 5   RACACOR     12237 non-null  float64\n",
      " 6   ASSISTMED   10032 non-null  float64\n",
      " 7   ESCMAE      0 non-null      float64\n",
      " 8   ESTCIV      12093 non-null  float64\n",
      " 9   ESC         11635 non-null  float64\n",
      " 10  OCUP        10300 non-null  float64\n",
      " 11  CODMUNRES   12417 non-null  int64  \n",
      " 12  CAUSABAS    12417 non-null  object \n",
      " 13  CAUSABAS_O  12401 non-null  object \n",
      " 14  LOCOCOR     12417 non-null  int64  \n",
      " 15  CIRURGIA    12 non-null     float64\n",
      "dtypes: float64(8), int64(5), object(3)\n",
      "memory usage: 1.5+ MB\n"
     ]
    },
    {
     "data": {
      "application/javascript": [
       "\n",
       "            setTimeout(function() {\n",
       "                var nbb_cell_id = 215;\n",
       "                var nbb_unformatted_code = \"df_2018.info()\";\n",
       "                var nbb_formatted_code = \"df_2018.info()\";\n",
       "                var nbb_cells = Jupyter.notebook.get_cells();\n",
       "                for (var i = 0; i < nbb_cells.length; ++i) {\n",
       "                    if (nbb_cells[i].input_prompt_number == nbb_cell_id) {\n",
       "                        if (nbb_cells[i].get_text() == nbb_unformatted_code) {\n",
       "                             nbb_cells[i].set_text(nbb_formatted_code);\n",
       "                        }\n",
       "                        break;\n",
       "                    }\n",
       "                }\n",
       "            }, 500);\n",
       "            "
      ],
      "text/plain": [
       "<IPython.core.display.Javascript object>"
      ]
     },
     "metadata": {},
     "output_type": "display_data"
    }
   ],
   "source": [
    "df_2018.info()"
   ]
  },
  {
   "cell_type": "code",
   "execution_count": 216,
   "id": "eee50f75",
   "metadata": {},
   "outputs": [
    {
     "data": {
      "application/javascript": [
       "\n",
       "            setTimeout(function() {\n",
       "                var nbb_cell_id = 216;\n",
       "                var nbb_unformatted_code = \"df_2018.to_csv(\\\"df_2018.csv\\\")\";\n",
       "                var nbb_formatted_code = \"df_2018.to_csv(\\\"df_2018.csv\\\")\";\n",
       "                var nbb_cells = Jupyter.notebook.get_cells();\n",
       "                for (var i = 0; i < nbb_cells.length; ++i) {\n",
       "                    if (nbb_cells[i].input_prompt_number == nbb_cell_id) {\n",
       "                        if (nbb_cells[i].get_text() == nbb_unformatted_code) {\n",
       "                             nbb_cells[i].set_text(nbb_formatted_code);\n",
       "                        }\n",
       "                        break;\n",
       "                    }\n",
       "                }\n",
       "            }, 500);\n",
       "            "
      ],
      "text/plain": [
       "<IPython.core.display.Javascript object>"
      ]
     },
     "metadata": {},
     "output_type": "display_data"
    }
   ],
   "source": [
    "df_2018.to_csv(\"df_2018.csv\")"
   ]
  },
  {
   "cell_type": "markdown",
   "id": "99bb2b36",
   "metadata": {},
   "source": [
    "# 2019"
   ]
  },
  {
   "cell_type": "code",
   "execution_count": 217,
   "id": "3b0ec72b",
   "metadata": {},
   "outputs": [
    {
     "data": {
      "application/javascript": [
       "\n",
       "            setTimeout(function() {\n",
       "                var nbb_cell_id = 217;\n",
       "                var nbb_unformatted_code = \"ac_2019=pd.read_csv('csv/ac_2019.csv')\\nAL_2019=pd.read_csv('csv/AL_2019.csv')\\nAP_2019=pd.read_csv('csv/AP_2019.csv')\\nAM_2019=pd.read_csv('csv/AM_2019.csv')\\nBA_2019=pd.read_csv('csv/BA_2019.csv')\\nCE_2019=pd.read_csv('csv/CE_2019.csv')\\nDF_2019=pd.read_csv('csv/DF_2019.csv')\\nES_2019=pd.read_csv('csv/ES_2019.csv')\\nGO_2019=pd.read_csv('csv/GO_2019.csv')\\nMA_2019=pd.read_csv('csv/MA_2019.csv')\\nMT_2019=pd.read_csv('csv/MT_2019.csv')\\nMS_2019=pd.read_csv('csv/MS_2019.csv')\\nMG_2019=pd.read_csv('csv/MG_2019.csv')\\nPA_2019=pd.read_csv('csv/PA_2019.csv')\\nPB_2019=pd.read_csv('csv/PB_2019.csv')\\nPR_2019=pd.read_csv('csv/PR_2019.csv')\\nPE_2019=pd.read_csv('csv/PE_2019.csv')\\nPI_2019=pd.read_csv('csv/PI_2019.csv')\\nRJ_2019=pd.read_csv('csv/RJ_2019.csv')\\nRN_2019=pd.read_csv('csv/RN_2019.csv')\\nRS_2019=pd.read_csv('csv/RS_2019.csv')\\nRO_2019=pd.read_csv('csv/RO_2019.csv')\\nRR_2019=pd.read_csv('csv/RR_2019.csv')\\nSC_2019=pd.read_csv('csv/SC_2019.csv')\\nSP_2019=pd.read_csv('csv/SP_2019.csv')\\nSE_2019=pd.read_csv('csv/SE_2019.csv')\\nTO_2019=pd.read_csv('csv/TO_2019.csv')\";\n",
       "                var nbb_formatted_code = \"ac_2019 = pd.read_csv(\\\"csv/ac_2019.csv\\\")\\nAL_2019 = pd.read_csv(\\\"csv/AL_2019.csv\\\")\\nAP_2019 = pd.read_csv(\\\"csv/AP_2019.csv\\\")\\nAM_2019 = pd.read_csv(\\\"csv/AM_2019.csv\\\")\\nBA_2019 = pd.read_csv(\\\"csv/BA_2019.csv\\\")\\nCE_2019 = pd.read_csv(\\\"csv/CE_2019.csv\\\")\\nDF_2019 = pd.read_csv(\\\"csv/DF_2019.csv\\\")\\nES_2019 = pd.read_csv(\\\"csv/ES_2019.csv\\\")\\nGO_2019 = pd.read_csv(\\\"csv/GO_2019.csv\\\")\\nMA_2019 = pd.read_csv(\\\"csv/MA_2019.csv\\\")\\nMT_2019 = pd.read_csv(\\\"csv/MT_2019.csv\\\")\\nMS_2019 = pd.read_csv(\\\"csv/MS_2019.csv\\\")\\nMG_2019 = pd.read_csv(\\\"csv/MG_2019.csv\\\")\\nPA_2019 = pd.read_csv(\\\"csv/PA_2019.csv\\\")\\nPB_2019 = pd.read_csv(\\\"csv/PB_2019.csv\\\")\\nPR_2019 = pd.read_csv(\\\"csv/PR_2019.csv\\\")\\nPE_2019 = pd.read_csv(\\\"csv/PE_2019.csv\\\")\\nPI_2019 = pd.read_csv(\\\"csv/PI_2019.csv\\\")\\nRJ_2019 = pd.read_csv(\\\"csv/RJ_2019.csv\\\")\\nRN_2019 = pd.read_csv(\\\"csv/RN_2019.csv\\\")\\nRS_2019 = pd.read_csv(\\\"csv/RS_2019.csv\\\")\\nRO_2019 = pd.read_csv(\\\"csv/RO_2019.csv\\\")\\nRR_2019 = pd.read_csv(\\\"csv/RR_2019.csv\\\")\\nSC_2019 = pd.read_csv(\\\"csv/SC_2019.csv\\\")\\nSP_2019 = pd.read_csv(\\\"csv/SP_2019.csv\\\")\\nSE_2019 = pd.read_csv(\\\"csv/SE_2019.csv\\\")\\nTO_2019 = pd.read_csv(\\\"csv/TO_2019.csv\\\")\";\n",
       "                var nbb_cells = Jupyter.notebook.get_cells();\n",
       "                for (var i = 0; i < nbb_cells.length; ++i) {\n",
       "                    if (nbb_cells[i].input_prompt_number == nbb_cell_id) {\n",
       "                        if (nbb_cells[i].get_text() == nbb_unformatted_code) {\n",
       "                             nbb_cells[i].set_text(nbb_formatted_code);\n",
       "                        }\n",
       "                        break;\n",
       "                    }\n",
       "                }\n",
       "            }, 500);\n",
       "            "
      ],
      "text/plain": [
       "<IPython.core.display.Javascript object>"
      ]
     },
     "metadata": {},
     "output_type": "display_data"
    }
   ],
   "source": [
    "ac_2019=pd.read_csv('csv/ac_2019.csv')\n",
    "AL_2019=pd.read_csv('csv/AL_2019.csv')\n",
    "AP_2019=pd.read_csv('csv/AP_2019.csv')\n",
    "AM_2019=pd.read_csv('csv/AM_2019.csv')\n",
    "BA_2019=pd.read_csv('csv/BA_2019.csv')\n",
    "CE_2019=pd.read_csv('csv/CE_2019.csv')\n",
    "DF_2019=pd.read_csv('csv/DF_2019.csv')\n",
    "ES_2019=pd.read_csv('csv/ES_2019.csv')\n",
    "GO_2019=pd.read_csv('csv/GO_2019.csv')\n",
    "MA_2019=pd.read_csv('csv/MA_2019.csv')\n",
    "MT_2019=pd.read_csv('csv/MT_2019.csv')\n",
    "MS_2019=pd.read_csv('csv/MS_2019.csv')\n",
    "MG_2019=pd.read_csv('csv/MG_2019.csv')\n",
    "PA_2019=pd.read_csv('csv/PA_2019.csv')\n",
    "PB_2019=pd.read_csv('csv/PB_2019.csv')\n",
    "PR_2019=pd.read_csv('csv/PR_2019.csv')\n",
    "PE_2019=pd.read_csv('csv/PE_2019.csv')\n",
    "PI_2019=pd.read_csv('csv/PI_2019.csv')\n",
    "RJ_2019=pd.read_csv('csv/RJ_2019.csv')\n",
    "RN_2019=pd.read_csv('csv/RN_2019.csv')\n",
    "RS_2019=pd.read_csv('csv/RS_2019.csv')\n",
    "RO_2019=pd.read_csv('csv/RO_2019.csv')\n",
    "RR_2019=pd.read_csv('csv/RR_2019.csv')\n",
    "SC_2019=pd.read_csv('csv/SC_2019.csv')\n",
    "SP_2019=pd.read_csv('csv/SP_2019.csv')\n",
    "SE_2019=pd.read_csv('csv/SE_2019.csv')\n",
    "TO_2019=pd.read_csv('csv/TO_2019.csv')\n"
   ]
  },
  {
   "cell_type": "code",
   "execution_count": 222,
   "id": "9d0f9f7b",
   "metadata": {},
   "outputs": [
    {
     "data": {
      "application/javascript": [
       "\n",
       "            setTimeout(function() {\n",
       "                var nbb_cell_id = 222;\n",
       "                var nbb_unformatted_code = \"ac_2019_all=ac_2019[ac_2019['CAUSABAS'].isin(filter_list2) | ac_2019['CAUSABAS_O'].isin(filter_list2)]\\nAL_2019_all=AL_2019[AL_2019['CAUSABAS'].isin(filter_list2) | AL_2019['CAUSABAS_O'].isin(filter_list2)]\\nAP_2019_all=AP_2019[AP_2019['CAUSABAS'].isin(filter_list2) | AP_2019['CAUSABAS_O'].isin(filter_list2)]\\nAM_2019_all=AM_2019[AM_2019['CAUSABAS'].isin(filter_list2) | AM_2019['CAUSABAS_O'].isin(filter_list2)]\\nBA_2019_all=BA_2019[BA_2019['CAUSABAS'].isin(filter_list2) | BA_2019['CAUSABAS_O'].isin(filter_list2)]\\nCE_2019_all=CE_2019[CE_2019['CAUSABAS'].isin(filter_list2) | CE_2019['CAUSABAS_O'].isin(filter_list2)]\\nDF_2019_all=DF_2019[DF_2019['CAUSABAS'].isin(filter_list2) | DF_2019['CAUSABAS_O'].isin(filter_list2)]\\nES_2019_all=ES_2019[ES_2019['CAUSABAS'].isin(filter_list2) | ES_2019['CAUSABAS_O'].isin(filter_list2)]\\nGO_2019_all=GO_2019[GO_2019['CAUSABAS'].isin(filter_list2) | GO_2019['CAUSABAS_O'].isin(filter_list2)]\\nMA_2019_all=MA_2019[MA_2019['CAUSABAS'].isin(filter_list2) | MA_2019['CAUSABAS_O'].isin(filter_list2)]\\nMT_2019_all=MT_2019[MT_2019['CAUSABAS'].isin(filter_list2) | MT_2019['CAUSABAS_O'].isin(filter_list2)]\\nMS_2019_all=MS_2019[MS_2019['CAUSABAS'].isin(filter_list2) | MS_2019['CAUSABAS_O'].isin(filter_list2)]\\nMG_2019_all=MG_2019[MG_2019['CAUSABAS'].isin(filter_list2) | MG_2019['CAUSABAS_O'].isin(filter_list2)]\\nPA_2019_all=PA_2019[PA_2019['CAUSABAS'].isin(filter_list2) | PA_2019['CAUSABAS_O'].isin(filter_list2)]\\nPB_2019_all=PB_2019[PB_2019['CAUSABAS'].isin(filter_list2) | PB_2019['CAUSABAS_O'].isin(filter_list2)]\\nPR_2019_all=PR_2019[PR_2019['CAUSABAS'].isin(filter_list2) | PR_2019['CAUSABAS_O'].isin(filter_list2)]\\nPE_2019_all=PE_2019[PE_2019['CAUSABAS'].isin(filter_list2) | PE_2019['CAUSABAS_O'].isin(filter_list2)]\\nPI_2019_all=PI_2019[PI_2019['CAUSABAS'].isin(filter_list2) | PI_2019['CAUSABAS_O'].isin(filter_list2)]\\nRJ_2019_all=RJ_2019[RJ_2019['CAUSABAS'].isin(filter_list2) | RJ_2019['CAUSABAS_O'].isin(filter_list2)]\\nRN_2019_all=RN_2019[RN_2019['CAUSABAS'].isin(filter_list2) | RN_2019['CAUSABAS_O'].isin(filter_list2)]\\nRS_2019_all=RS_2019[RS_2019['CAUSABAS'].isin(filter_list2) | RS_2019['CAUSABAS_O'].isin(filter_list2)]\\nRO_2019_all=RO_2019[RO_2019['CAUSABAS'].isin(filter_list2) | RO_2019['CAUSABAS_O'].isin(filter_list2)]\\nRR_2019_all=RR_2019[RR_2019['CAUSABAS'].isin(filter_list2) | RR_2019['CAUSABAS_O'].isin(filter_list2)]\\nSC_2019_all=SC_2019[SC_2019['CAUSABAS'].isin(filter_list2) | SC_2019['CAUSABAS_O'].isin(filter_list2)]\\nSP_2019_all=SP_2019[SP_2019['CAUSABAS'].isin(filter_list2) | SP_2019['CAUSABAS_O'].isin(filter_list2)]\\nSE_2019_all=SE_2019[SE_2019['CAUSABAS'].isin(filter_list2) | SE_2019['CAUSABAS_O'].isin(filter_list2)]\\nTO_2019_all=TO_2019[TO_2019['CAUSABAS'].isin(filter_list2) | TO_2019['CAUSABAS_O'].isin(filter_list2)]\";\n",
       "                var nbb_formatted_code = \"ac_2019_all = ac_2019[\\n    ac_2019[\\\"CAUSABAS\\\"].isin(filter_list2) | ac_2019[\\\"CAUSABAS_O\\\"].isin(filter_list2)\\n]\\nAL_2019_all = AL_2019[\\n    AL_2019[\\\"CAUSABAS\\\"].isin(filter_list2) | AL_2019[\\\"CAUSABAS_O\\\"].isin(filter_list2)\\n]\\nAP_2019_all = AP_2019[\\n    AP_2019[\\\"CAUSABAS\\\"].isin(filter_list2) | AP_2019[\\\"CAUSABAS_O\\\"].isin(filter_list2)\\n]\\nAM_2019_all = AM_2019[\\n    AM_2019[\\\"CAUSABAS\\\"].isin(filter_list2) | AM_2019[\\\"CAUSABAS_O\\\"].isin(filter_list2)\\n]\\nBA_2019_all = BA_2019[\\n    BA_2019[\\\"CAUSABAS\\\"].isin(filter_list2) | BA_2019[\\\"CAUSABAS_O\\\"].isin(filter_list2)\\n]\\nCE_2019_all = CE_2019[\\n    CE_2019[\\\"CAUSABAS\\\"].isin(filter_list2) | CE_2019[\\\"CAUSABAS_O\\\"].isin(filter_list2)\\n]\\nDF_2019_all = DF_2019[\\n    DF_2019[\\\"CAUSABAS\\\"].isin(filter_list2) | DF_2019[\\\"CAUSABAS_O\\\"].isin(filter_list2)\\n]\\nES_2019_all = ES_2019[\\n    ES_2019[\\\"CAUSABAS\\\"].isin(filter_list2) | ES_2019[\\\"CAUSABAS_O\\\"].isin(filter_list2)\\n]\\nGO_2019_all = GO_2019[\\n    GO_2019[\\\"CAUSABAS\\\"].isin(filter_list2) | GO_2019[\\\"CAUSABAS_O\\\"].isin(filter_list2)\\n]\\nMA_2019_all = MA_2019[\\n    MA_2019[\\\"CAUSABAS\\\"].isin(filter_list2) | MA_2019[\\\"CAUSABAS_O\\\"].isin(filter_list2)\\n]\\nMT_2019_all = MT_2019[\\n    MT_2019[\\\"CAUSABAS\\\"].isin(filter_list2) | MT_2019[\\\"CAUSABAS_O\\\"].isin(filter_list2)\\n]\\nMS_2019_all = MS_2019[\\n    MS_2019[\\\"CAUSABAS\\\"].isin(filter_list2) | MS_2019[\\\"CAUSABAS_O\\\"].isin(filter_list2)\\n]\\nMG_2019_all = MG_2019[\\n    MG_2019[\\\"CAUSABAS\\\"].isin(filter_list2) | MG_2019[\\\"CAUSABAS_O\\\"].isin(filter_list2)\\n]\\nPA_2019_all = PA_2019[\\n    PA_2019[\\\"CAUSABAS\\\"].isin(filter_list2) | PA_2019[\\\"CAUSABAS_O\\\"].isin(filter_list2)\\n]\\nPB_2019_all = PB_2019[\\n    PB_2019[\\\"CAUSABAS\\\"].isin(filter_list2) | PB_2019[\\\"CAUSABAS_O\\\"].isin(filter_list2)\\n]\\nPR_2019_all = PR_2019[\\n    PR_2019[\\\"CAUSABAS\\\"].isin(filter_list2) | PR_2019[\\\"CAUSABAS_O\\\"].isin(filter_list2)\\n]\\nPE_2019_all = PE_2019[\\n    PE_2019[\\\"CAUSABAS\\\"].isin(filter_list2) | PE_2019[\\\"CAUSABAS_O\\\"].isin(filter_list2)\\n]\\nPI_2019_all = PI_2019[\\n    PI_2019[\\\"CAUSABAS\\\"].isin(filter_list2) | PI_2019[\\\"CAUSABAS_O\\\"].isin(filter_list2)\\n]\\nRJ_2019_all = RJ_2019[\\n    RJ_2019[\\\"CAUSABAS\\\"].isin(filter_list2) | RJ_2019[\\\"CAUSABAS_O\\\"].isin(filter_list2)\\n]\\nRN_2019_all = RN_2019[\\n    RN_2019[\\\"CAUSABAS\\\"].isin(filter_list2) | RN_2019[\\\"CAUSABAS_O\\\"].isin(filter_list2)\\n]\\nRS_2019_all = RS_2019[\\n    RS_2019[\\\"CAUSABAS\\\"].isin(filter_list2) | RS_2019[\\\"CAUSABAS_O\\\"].isin(filter_list2)\\n]\\nRO_2019_all = RO_2019[\\n    RO_2019[\\\"CAUSABAS\\\"].isin(filter_list2) | RO_2019[\\\"CAUSABAS_O\\\"].isin(filter_list2)\\n]\\nRR_2019_all = RR_2019[\\n    RR_2019[\\\"CAUSABAS\\\"].isin(filter_list2) | RR_2019[\\\"CAUSABAS_O\\\"].isin(filter_list2)\\n]\\nSC_2019_all = SC_2019[\\n    SC_2019[\\\"CAUSABAS\\\"].isin(filter_list2) | SC_2019[\\\"CAUSABAS_O\\\"].isin(filter_list2)\\n]\\nSP_2019_all = SP_2019[\\n    SP_2019[\\\"CAUSABAS\\\"].isin(filter_list2) | SP_2019[\\\"CAUSABAS_O\\\"].isin(filter_list2)\\n]\\nSE_2019_all = SE_2019[\\n    SE_2019[\\\"CAUSABAS\\\"].isin(filter_list2) | SE_2019[\\\"CAUSABAS_O\\\"].isin(filter_list2)\\n]\\nTO_2019_all = TO_2019[\\n    TO_2019[\\\"CAUSABAS\\\"].isin(filter_list2) | TO_2019[\\\"CAUSABAS_O\\\"].isin(filter_list2)\\n]\";\n",
       "                var nbb_cells = Jupyter.notebook.get_cells();\n",
       "                for (var i = 0; i < nbb_cells.length; ++i) {\n",
       "                    if (nbb_cells[i].input_prompt_number == nbb_cell_id) {\n",
       "                        if (nbb_cells[i].get_text() == nbb_unformatted_code) {\n",
       "                             nbb_cells[i].set_text(nbb_formatted_code);\n",
       "                        }\n",
       "                        break;\n",
       "                    }\n",
       "                }\n",
       "            }, 500);\n",
       "            "
      ],
      "text/plain": [
       "<IPython.core.display.Javascript object>"
      ]
     },
     "metadata": {},
     "output_type": "display_data"
    }
   ],
   "source": [
    "ac_2019_all=ac_2019[ac_2019['CAUSABAS'].isin(filter_list2) | ac_2019['CAUSABAS_O'].isin(filter_list2)]\n",
    "AL_2019_all=AL_2019[AL_2019['CAUSABAS'].isin(filter_list2) | AL_2019['CAUSABAS_O'].isin(filter_list2)]\n",
    "AP_2019_all=AP_2019[AP_2019['CAUSABAS'].isin(filter_list2) | AP_2019['CAUSABAS_O'].isin(filter_list2)]\n",
    "AM_2019_all=AM_2019[AM_2019['CAUSABAS'].isin(filter_list2) | AM_2019['CAUSABAS_O'].isin(filter_list2)]\n",
    "BA_2019_all=BA_2019[BA_2019['CAUSABAS'].isin(filter_list2) | BA_2019['CAUSABAS_O'].isin(filter_list2)]\n",
    "CE_2019_all=CE_2019[CE_2019['CAUSABAS'].isin(filter_list2) | CE_2019['CAUSABAS_O'].isin(filter_list2)]\n",
    "DF_2019_all=DF_2019[DF_2019['CAUSABAS'].isin(filter_list2) | DF_2019['CAUSABAS_O'].isin(filter_list2)]\n",
    "ES_2019_all=ES_2019[ES_2019['CAUSABAS'].isin(filter_list2) | ES_2019['CAUSABAS_O'].isin(filter_list2)]\n",
    "GO_2019_all=GO_2019[GO_2019['CAUSABAS'].isin(filter_list2) | GO_2019['CAUSABAS_O'].isin(filter_list2)]\n",
    "MA_2019_all=MA_2019[MA_2019['CAUSABAS'].isin(filter_list2) | MA_2019['CAUSABAS_O'].isin(filter_list2)]\n",
    "MT_2019_all=MT_2019[MT_2019['CAUSABAS'].isin(filter_list2) | MT_2019['CAUSABAS_O'].isin(filter_list2)]\n",
    "MS_2019_all=MS_2019[MS_2019['CAUSABAS'].isin(filter_list2) | MS_2019['CAUSABAS_O'].isin(filter_list2)]\n",
    "MG_2019_all=MG_2019[MG_2019['CAUSABAS'].isin(filter_list2) | MG_2019['CAUSABAS_O'].isin(filter_list2)]\n",
    "PA_2019_all=PA_2019[PA_2019['CAUSABAS'].isin(filter_list2) | PA_2019['CAUSABAS_O'].isin(filter_list2)]\n",
    "PB_2019_all=PB_2019[PB_2019['CAUSABAS'].isin(filter_list2) | PB_2019['CAUSABAS_O'].isin(filter_list2)]\n",
    "PR_2019_all=PR_2019[PR_2019['CAUSABAS'].isin(filter_list2) | PR_2019['CAUSABAS_O'].isin(filter_list2)]\n",
    "PE_2019_all=PE_2019[PE_2019['CAUSABAS'].isin(filter_list2) | PE_2019['CAUSABAS_O'].isin(filter_list2)]\n",
    "PI_2019_all=PI_2019[PI_2019['CAUSABAS'].isin(filter_list2) | PI_2019['CAUSABAS_O'].isin(filter_list2)]\n",
    "RJ_2019_all=RJ_2019[RJ_2019['CAUSABAS'].isin(filter_list2) | RJ_2019['CAUSABAS_O'].isin(filter_list2)]\n",
    "RN_2019_all=RN_2019[RN_2019['CAUSABAS'].isin(filter_list2) | RN_2019['CAUSABAS_O'].isin(filter_list2)]\n",
    "RS_2019_all=RS_2019[RS_2019['CAUSABAS'].isin(filter_list2) | RS_2019['CAUSABAS_O'].isin(filter_list2)]\n",
    "RO_2019_all=RO_2019[RO_2019['CAUSABAS'].isin(filter_list2) | RO_2019['CAUSABAS_O'].isin(filter_list2)]\n",
    "RR_2019_all=RR_2019[RR_2019['CAUSABAS'].isin(filter_list2) | RR_2019['CAUSABAS_O'].isin(filter_list2)]\n",
    "SC_2019_all=SC_2019[SC_2019['CAUSABAS'].isin(filter_list2) | SC_2019['CAUSABAS_O'].isin(filter_list2)]\n",
    "SP_2019_all=SP_2019[SP_2019['CAUSABAS'].isin(filter_list2) | SP_2019['CAUSABAS_O'].isin(filter_list2)]\n",
    "SE_2019_all=SE_2019[SE_2019['CAUSABAS'].isin(filter_list2) | SE_2019['CAUSABAS_O'].isin(filter_list2)]\n",
    "TO_2019_all=TO_2019[TO_2019['CAUSABAS'].isin(filter_list2) | TO_2019['CAUSABAS_O'].isin(filter_list2)]\n",
    "\n"
   ]
  },
  {
   "cell_type": "code",
   "execution_count": 224,
   "id": "2e60d711",
   "metadata": {},
   "outputs": [
    {
     "data": {
      "application/javascript": [
       "\n",
       "            setTimeout(function() {\n",
       "                var nbb_cell_id = 224;\n",
       "                var nbb_unformatted_code = \"df_2019 = pd.concat(\\n    [\\nac_2019_all,\\nAL_2019_all,\\nAP_2019_all,\\nAM_2019_all,\\nBA_2019_all,\\nCE_2019_all,\\nDF_2019_all,\\nES_2019_all,\\nGO_2019_all,\\nMA_2019_all,\\nMT_2019_all,\\nMS_2019_all,\\nMG_2019_all,\\nPA_2019_all,\\nPB_2019_all,\\nPR_2019_all,\\nPE_2019_all,\\nPI_2019_all,\\nRJ_2019_all,\\nRN_2019_all,\\nRS_2019_all,\\nRO_2019_all,\\nRR_2019_all,\\nSC_2019_all,\\nSP_2019_all,\\nSE_2019_all,\\nTO_2019_all,\\n\\n    ]\\n).reset_index()\";\n",
       "                var nbb_formatted_code = \"df_2019 = pd.concat(\\n    [\\n        ac_2019_all,\\n        AL_2019_all,\\n        AP_2019_all,\\n        AM_2019_all,\\n        BA_2019_all,\\n        CE_2019_all,\\n        DF_2019_all,\\n        ES_2019_all,\\n        GO_2019_all,\\n        MA_2019_all,\\n        MT_2019_all,\\n        MS_2019_all,\\n        MG_2019_all,\\n        PA_2019_all,\\n        PB_2019_all,\\n        PR_2019_all,\\n        PE_2019_all,\\n        PI_2019_all,\\n        RJ_2019_all,\\n        RN_2019_all,\\n        RS_2019_all,\\n        RO_2019_all,\\n        RR_2019_all,\\n        SC_2019_all,\\n        SP_2019_all,\\n        SE_2019_all,\\n        TO_2019_all,\\n    ]\\n).reset_index()\";\n",
       "                var nbb_cells = Jupyter.notebook.get_cells();\n",
       "                for (var i = 0; i < nbb_cells.length; ++i) {\n",
       "                    if (nbb_cells[i].input_prompt_number == nbb_cell_id) {\n",
       "                        if (nbb_cells[i].get_text() == nbb_unformatted_code) {\n",
       "                             nbb_cells[i].set_text(nbb_formatted_code);\n",
       "                        }\n",
       "                        break;\n",
       "                    }\n",
       "                }\n",
       "            }, 500);\n",
       "            "
      ],
      "text/plain": [
       "<IPython.core.display.Javascript object>"
      ]
     },
     "metadata": {},
     "output_type": "display_data"
    }
   ],
   "source": [
    "df_2019 = pd.concat(\n",
    "    [\n",
    "        ac_2019_all,\n",
    "        AL_2019_all,\n",
    "        AP_2019_all,\n",
    "        AM_2019_all,\n",
    "        BA_2019_all,\n",
    "        CE_2019_all,\n",
    "        DF_2019_all,\n",
    "        ES_2019_all,\n",
    "        GO_2019_all,\n",
    "        MA_2019_all,\n",
    "        MT_2019_all,\n",
    "        MS_2019_all,\n",
    "        MG_2019_all,\n",
    "        PA_2019_all,\n",
    "        PB_2019_all,\n",
    "        PR_2019_all,\n",
    "        PE_2019_all,\n",
    "        PI_2019_all,\n",
    "        RJ_2019_all,\n",
    "        RN_2019_all,\n",
    "        RS_2019_all,\n",
    "        RO_2019_all,\n",
    "        RR_2019_all,\n",
    "        SC_2019_all,\n",
    "        SP_2019_all,\n",
    "        SE_2019_all,\n",
    "        TO_2019_all,\n",
    "    ]\n",
    ").reset_index()"
   ]
  },
  {
   "cell_type": "code",
   "execution_count": 225,
   "id": "89c613d6",
   "metadata": {},
   "outputs": [
    {
     "data": {
      "application/javascript": [
       "\n",
       "            setTimeout(function() {\n",
       "                var nbb_cell_id = 225;\n",
       "                var nbb_unformatted_code = \"df_2019 = df_2019.drop([\\\"Unnamed: 0\\\", \\\"index\\\"], axis=1)\";\n",
       "                var nbb_formatted_code = \"df_2019 = df_2019.drop([\\\"Unnamed: 0\\\", \\\"index\\\"], axis=1)\";\n",
       "                var nbb_cells = Jupyter.notebook.get_cells();\n",
       "                for (var i = 0; i < nbb_cells.length; ++i) {\n",
       "                    if (nbb_cells[i].input_prompt_number == nbb_cell_id) {\n",
       "                        if (nbb_cells[i].get_text() == nbb_unformatted_code) {\n",
       "                             nbb_cells[i].set_text(nbb_formatted_code);\n",
       "                        }\n",
       "                        break;\n",
       "                    }\n",
       "                }\n",
       "            }, 500);\n",
       "            "
      ],
      "text/plain": [
       "<IPython.core.display.Javascript object>"
      ]
     },
     "metadata": {},
     "output_type": "display_data"
    }
   ],
   "source": [
    "df_2019 = df_2019.drop([\"Unnamed: 0\", \"index\"], axis=1)"
   ]
  },
  {
   "cell_type": "code",
   "execution_count": 226,
   "id": "ba096043",
   "metadata": {},
   "outputs": [
    {
     "name": "stdout",
     "output_type": "stream",
     "text": [
      "<class 'pandas.core.frame.DataFrame'>\n",
      "RangeIndex: 13556 entries, 0 to 13555\n",
      "Data columns (total 16 columns):\n",
      " #   Column      Non-Null Count  Dtype  \n",
      "---  ------      --------------  -----  \n",
      " 0   estado      13556 non-null  object \n",
      " 1   ano         13556 non-null  int64  \n",
      " 2   DTOBITO     13556 non-null  int64  \n",
      " 3   DTNASC      13526 non-null  float64\n",
      " 4   SEXO        13556 non-null  int64  \n",
      " 5   RACACOR     13378 non-null  float64\n",
      " 6   ASSISTMED   11074 non-null  float64\n",
      " 7   ESCMAE      0 non-null      float64\n",
      " 8   ESTCIV      13185 non-null  float64\n",
      " 9   ESC         12816 non-null  float64\n",
      " 10  OCUP        11339 non-null  float64\n",
      " 11  CODMUNRES   13556 non-null  int64  \n",
      " 12  CAUSABAS    13556 non-null  object \n",
      " 13  CAUSABAS_O  13534 non-null  object \n",
      " 14  LOCOCOR     13556 non-null  int64  \n",
      " 15  CIRURGIA    10 non-null     float64\n",
      "dtypes: float64(8), int64(5), object(3)\n",
      "memory usage: 1.7+ MB\n"
     ]
    },
    {
     "data": {
      "application/javascript": [
       "\n",
       "            setTimeout(function() {\n",
       "                var nbb_cell_id = 226;\n",
       "                var nbb_unformatted_code = \"df_2019.info()\";\n",
       "                var nbb_formatted_code = \"df_2019.info()\";\n",
       "                var nbb_cells = Jupyter.notebook.get_cells();\n",
       "                for (var i = 0; i < nbb_cells.length; ++i) {\n",
       "                    if (nbb_cells[i].input_prompt_number == nbb_cell_id) {\n",
       "                        if (nbb_cells[i].get_text() == nbb_unformatted_code) {\n",
       "                             nbb_cells[i].set_text(nbb_formatted_code);\n",
       "                        }\n",
       "                        break;\n",
       "                    }\n",
       "                }\n",
       "            }, 500);\n",
       "            "
      ],
      "text/plain": [
       "<IPython.core.display.Javascript object>"
      ]
     },
     "metadata": {},
     "output_type": "display_data"
    }
   ],
   "source": [
    "df_2019.info()"
   ]
  },
  {
   "cell_type": "code",
   "execution_count": 227,
   "id": "171ae1b7",
   "metadata": {},
   "outputs": [
    {
     "data": {
      "application/javascript": [
       "\n",
       "            setTimeout(function() {\n",
       "                var nbb_cell_id = 227;\n",
       "                var nbb_unformatted_code = \"df_2019.to_csv('df_2019.csv')\";\n",
       "                var nbb_formatted_code = \"df_2019.to_csv(\\\"df_2019.csv\\\")\";\n",
       "                var nbb_cells = Jupyter.notebook.get_cells();\n",
       "                for (var i = 0; i < nbb_cells.length; ++i) {\n",
       "                    if (nbb_cells[i].input_prompt_number == nbb_cell_id) {\n",
       "                        if (nbb_cells[i].get_text() == nbb_unformatted_code) {\n",
       "                             nbb_cells[i].set_text(nbb_formatted_code);\n",
       "                        }\n",
       "                        break;\n",
       "                    }\n",
       "                }\n",
       "            }, 500);\n",
       "            "
      ],
      "text/plain": [
       "<IPython.core.display.Javascript object>"
      ]
     },
     "metadata": {},
     "output_type": "display_data"
    }
   ],
   "source": [
    "df_2019.to_csv(\"df_2019.csv\")"
   ]
  },
  {
   "cell_type": "markdown",
   "id": "8a71feb9",
   "metadata": {},
   "source": [
    "# 2020"
   ]
  },
  {
   "cell_type": "code",
   "execution_count": 228,
   "id": "84ec1ef2",
   "metadata": {},
   "outputs": [
    {
     "data": {
      "application/javascript": [
       "\n",
       "            setTimeout(function() {\n",
       "                var nbb_cell_id = 228;\n",
       "                var nbb_unformatted_code = \"ac_2020=pd.read_csv('csv/ac_2020.csv')\\nAL_2020=pd.read_csv('csv/AL_2020.csv')\\nAP_2020=pd.read_csv('csv/AP_2020.csv')\\nAM_2020=pd.read_csv('csv/AM_2020.csv')\\nBA_2020=pd.read_csv('csv/BA_2020.csv')\\nCE_2020=pd.read_csv('csv/CE_2020.csv')\\nDF_2020=pd.read_csv('csv/DF_2020.csv')\\nES_2020=pd.read_csv('csv/ES_2020.csv')\\nGO_2020=pd.read_csv('csv/GO_2020.csv')\\nMA_2020=pd.read_csv('csv/MA_2020.csv')\\nMT_2020=pd.read_csv('csv/MT_2020.csv')\\nMS_2020=pd.read_csv('csv/MS_2020.csv')\\nMG_2020=pd.read_csv('csv/MG_2020.csv')\\nPA_2020=pd.read_csv('csv/PA_2020.csv')\\nPB_2020=pd.read_csv('csv/PB_2020.csv')\\nPR_2020=pd.read_csv('csv/PR_2020.csv')\\nPE_2020=pd.read_csv('csv/PE_2020.csv')\\nPI_2020=pd.read_csv('csv/PI_2020.csv')\\nRJ_2020=pd.read_csv('csv/RJ_2020.csv')\\nRN_2020=pd.read_csv('csv/RN_2020.csv')\\nRS_2020=pd.read_csv('csv/RS_2020.csv')\\nRO_2020=pd.read_csv('csv/RO_2020.csv')\\nRR_2020=pd.read_csv('csv/RR_2020.csv')\\nSC_2020=pd.read_csv('csv/SC_2020.csv')\\nSP_2020=pd.read_csv('csv/SP_2020.csv')\\nSE_2020=pd.read_csv('csv/SE_2020.csv')\\nTO_2020=pd.read_csv('csv/TO_2020.csv')\";\n",
       "                var nbb_formatted_code = \"ac_2020 = pd.read_csv(\\\"csv/ac_2020.csv\\\")\\nAL_2020 = pd.read_csv(\\\"csv/AL_2020.csv\\\")\\nAP_2020 = pd.read_csv(\\\"csv/AP_2020.csv\\\")\\nAM_2020 = pd.read_csv(\\\"csv/AM_2020.csv\\\")\\nBA_2020 = pd.read_csv(\\\"csv/BA_2020.csv\\\")\\nCE_2020 = pd.read_csv(\\\"csv/CE_2020.csv\\\")\\nDF_2020 = pd.read_csv(\\\"csv/DF_2020.csv\\\")\\nES_2020 = pd.read_csv(\\\"csv/ES_2020.csv\\\")\\nGO_2020 = pd.read_csv(\\\"csv/GO_2020.csv\\\")\\nMA_2020 = pd.read_csv(\\\"csv/MA_2020.csv\\\")\\nMT_2020 = pd.read_csv(\\\"csv/MT_2020.csv\\\")\\nMS_2020 = pd.read_csv(\\\"csv/MS_2020.csv\\\")\\nMG_2020 = pd.read_csv(\\\"csv/MG_2020.csv\\\")\\nPA_2020 = pd.read_csv(\\\"csv/PA_2020.csv\\\")\\nPB_2020 = pd.read_csv(\\\"csv/PB_2020.csv\\\")\\nPR_2020 = pd.read_csv(\\\"csv/PR_2020.csv\\\")\\nPE_2020 = pd.read_csv(\\\"csv/PE_2020.csv\\\")\\nPI_2020 = pd.read_csv(\\\"csv/PI_2020.csv\\\")\\nRJ_2020 = pd.read_csv(\\\"csv/RJ_2020.csv\\\")\\nRN_2020 = pd.read_csv(\\\"csv/RN_2020.csv\\\")\\nRS_2020 = pd.read_csv(\\\"csv/RS_2020.csv\\\")\\nRO_2020 = pd.read_csv(\\\"csv/RO_2020.csv\\\")\\nRR_2020 = pd.read_csv(\\\"csv/RR_2020.csv\\\")\\nSC_2020 = pd.read_csv(\\\"csv/SC_2020.csv\\\")\\nSP_2020 = pd.read_csv(\\\"csv/SP_2020.csv\\\")\\nSE_2020 = pd.read_csv(\\\"csv/SE_2020.csv\\\")\\nTO_2020 = pd.read_csv(\\\"csv/TO_2020.csv\\\")\";\n",
       "                var nbb_cells = Jupyter.notebook.get_cells();\n",
       "                for (var i = 0; i < nbb_cells.length; ++i) {\n",
       "                    if (nbb_cells[i].input_prompt_number == nbb_cell_id) {\n",
       "                        if (nbb_cells[i].get_text() == nbb_unformatted_code) {\n",
       "                             nbb_cells[i].set_text(nbb_formatted_code);\n",
       "                        }\n",
       "                        break;\n",
       "                    }\n",
       "                }\n",
       "            }, 500);\n",
       "            "
      ],
      "text/plain": [
       "<IPython.core.display.Javascript object>"
      ]
     },
     "metadata": {},
     "output_type": "display_data"
    }
   ],
   "source": [
    "ac_2020=pd.read_csv('csv/ac_2020.csv')\n",
    "AL_2020=pd.read_csv('csv/AL_2020.csv')\n",
    "AP_2020=pd.read_csv('csv/AP_2020.csv')\n",
    "AM_2020=pd.read_csv('csv/AM_2020.csv')\n",
    "BA_2020=pd.read_csv('csv/BA_2020.csv')\n",
    "CE_2020=pd.read_csv('csv/CE_2020.csv')\n",
    "DF_2020=pd.read_csv('csv/DF_2020.csv')\n",
    "ES_2020=pd.read_csv('csv/ES_2020.csv')\n",
    "GO_2020=pd.read_csv('csv/GO_2020.csv')\n",
    "MA_2020=pd.read_csv('csv/MA_2020.csv')\n",
    "MT_2020=pd.read_csv('csv/MT_2020.csv')\n",
    "MS_2020=pd.read_csv('csv/MS_2020.csv')\n",
    "MG_2020=pd.read_csv('csv/MG_2020.csv')\n",
    "PA_2020=pd.read_csv('csv/PA_2020.csv')\n",
    "PB_2020=pd.read_csv('csv/PB_2020.csv')\n",
    "PR_2020=pd.read_csv('csv/PR_2020.csv')\n",
    "PE_2020=pd.read_csv('csv/PE_2020.csv')\n",
    "PI_2020=pd.read_csv('csv/PI_2020.csv')\n",
    "RJ_2020=pd.read_csv('csv/RJ_2020.csv')\n",
    "RN_2020=pd.read_csv('csv/RN_2020.csv')\n",
    "RS_2020=pd.read_csv('csv/RS_2020.csv')\n",
    "RO_2020=pd.read_csv('csv/RO_2020.csv')\n",
    "RR_2020=pd.read_csv('csv/RR_2020.csv')\n",
    "SC_2020=pd.read_csv('csv/SC_2020.csv')\n",
    "SP_2020=pd.read_csv('csv/SP_2020.csv')\n",
    "SE_2020=pd.read_csv('csv/SE_2020.csv')\n",
    "TO_2020=pd.read_csv('csv/TO_2020.csv')\n"
   ]
  },
  {
   "cell_type": "code",
   "execution_count": 234,
   "id": "37c16d49",
   "metadata": {},
   "outputs": [
    {
     "data": {
      "application/javascript": [
       "\n",
       "            setTimeout(function() {\n",
       "                var nbb_cell_id = 234;\n",
       "                var nbb_unformatted_code = \"ac_2020_all=ac_2020[ac_2020['CAUSABAS'].isin(filter_list2) | ac_2020['CAUSABAS_O'].isin(filter_list2)]\\nAL_2020_all=AL_2020[AL_2020['CAUSABAS'].isin(filter_list2) | AL_2020['CAUSABAS_O'].isin(filter_list2)]\\nAP_2020_all=AP_2020[AP_2020['CAUSABAS'].isin(filter_list2) | AP_2020['CAUSABAS_O'].isin(filter_list2)]\\nAM_2020_all=AM_2020[AM_2020['CAUSABAS'].isin(filter_list2) | AM_2020['CAUSABAS_O'].isin(filter_list2)]\\nBA_2020_all=BA_2020[BA_2020['CAUSABAS'].isin(filter_list2) | BA_2020['CAUSABAS_O'].isin(filter_list2)]\\nCE_2020_all=CE_2020[CE_2020['CAUSABAS'].isin(filter_list2) | CE_2020['CAUSABAS_O'].isin(filter_list2)]\\nDF_2020_all=DF_2020[DF_2020['CAUSABAS'].isin(filter_list2) | DF_2020['CAUSABAS_O'].isin(filter_list2)]\\nES_2020_all=ES_2020[ES_2020['CAUSABAS'].isin(filter_list2) | ES_2020['CAUSABAS_O'].isin(filter_list2)]\\nGO_2020_all=GO_2020[GO_2020['CAUSABAS'].isin(filter_list2) | GO_2020['CAUSABAS_O'].isin(filter_list2)]\\nMA_2020_all=MA_2020[MA_2020['CAUSABAS'].isin(filter_list2) | MA_2020['CAUSABAS_O'].isin(filter_list2)]\\nMT_2020_all=MT_2020[MT_2020['CAUSABAS'].isin(filter_list2) | MT_2020['CAUSABAS_O'].isin(filter_list2)]\\nMS_2020_all=MS_2020[MS_2020['CAUSABAS'].isin(filter_list2) | MS_2020['CAUSABAS_O'].isin(filter_list2)]\\nMG_2020_all=MG_2020[MG_2020['CAUSABAS'].isin(filter_list2) | MG_2020['CAUSABAS_O'].isin(filter_list2)]\\nPA_2020_all=PA_2020[PA_2020['CAUSABAS'].isin(filter_list2) | PA_2020['CAUSABAS_O'].isin(filter_list2)]\\nPB_2020_all=PB_2020[PB_2020['CAUSABAS'].isin(filter_list2) | PB_2020['CAUSABAS_O'].isin(filter_list2)]\\nPR_2020_all=PR_2020[PR_2020['CAUSABAS'].isin(filter_list2) | PR_2020['CAUSABAS_O'].isin(filter_list2)]\\nPE_2020_all=PE_2020[PE_2020['CAUSABAS'].isin(filter_list2) | PE_2020['CAUSABAS_O'].isin(filter_list2)]\\nPI_2020_all=PI_2020[PI_2020['CAUSABAS'].isin(filter_list2) | PI_2020['CAUSABAS_O'].isin(filter_list2)]\\nRJ_2020_all=RJ_2020[RJ_2020['CAUSABAS'].isin(filter_list2) | RJ_2020['CAUSABAS_O'].isin(filter_list2)]\\nRN_2020_all=RN_2020[RN_2020['CAUSABAS'].isin(filter_list2) | RN_2020['CAUSABAS_O'].isin(filter_list2)]\\nRS_2020_all=RS_2020[RS_2020['CAUSABAS'].isin(filter_list2) | RS_2020['CAUSABAS_O'].isin(filter_list2)]\\nRO_2020_all=RO_2020[RO_2020['CAUSABAS'].isin(filter_list2) | RO_2020['CAUSABAS_O'].isin(filter_list2)]\\nRR_2020_all=RR_2020[RR_2020['CAUSABAS'].isin(filter_list2) | RR_2020['CAUSABAS_O'].isin(filter_list2)]\\nSC_2020_all=SC_2020[SC_2020['CAUSABAS'].isin(filter_list2) | SC_2020['CAUSABAS_O'].isin(filter_list2)]\\nSP_2020_all=SP_2020[SP_2020['CAUSABAS'].isin(filter_list2) | SP_2020['CAUSABAS_O'].isin(filter_list2)]\\nSE_2020_all=SE_2020[SE_2020['CAUSABAS'].isin(filter_list2) | SE_2020['CAUSABAS_O'].isin(filter_list2)]\\nTO_2020_all=TO_2020[TO_2020['CAUSABAS'].isin(filter_list2) | TO_2020['CAUSABAS_O'].isin(filter_list2)]\";\n",
       "                var nbb_formatted_code = \"ac_2020_all = ac_2020[\\n    ac_2020[\\\"CAUSABAS\\\"].isin(filter_list2) | ac_2020[\\\"CAUSABAS_O\\\"].isin(filter_list2)\\n]\\nAL_2020_all = AL_2020[\\n    AL_2020[\\\"CAUSABAS\\\"].isin(filter_list2) | AL_2020[\\\"CAUSABAS_O\\\"].isin(filter_list2)\\n]\\nAP_2020_all = AP_2020[\\n    AP_2020[\\\"CAUSABAS\\\"].isin(filter_list2) | AP_2020[\\\"CAUSABAS_O\\\"].isin(filter_list2)\\n]\\nAM_2020_all = AM_2020[\\n    AM_2020[\\\"CAUSABAS\\\"].isin(filter_list2) | AM_2020[\\\"CAUSABAS_O\\\"].isin(filter_list2)\\n]\\nBA_2020_all = BA_2020[\\n    BA_2020[\\\"CAUSABAS\\\"].isin(filter_list2) | BA_2020[\\\"CAUSABAS_O\\\"].isin(filter_list2)\\n]\\nCE_2020_all = CE_2020[\\n    CE_2020[\\\"CAUSABAS\\\"].isin(filter_list2) | CE_2020[\\\"CAUSABAS_O\\\"].isin(filter_list2)\\n]\\nDF_2020_all = DF_2020[\\n    DF_2020[\\\"CAUSABAS\\\"].isin(filter_list2) | DF_2020[\\\"CAUSABAS_O\\\"].isin(filter_list2)\\n]\\nES_2020_all = ES_2020[\\n    ES_2020[\\\"CAUSABAS\\\"].isin(filter_list2) | ES_2020[\\\"CAUSABAS_O\\\"].isin(filter_list2)\\n]\\nGO_2020_all = GO_2020[\\n    GO_2020[\\\"CAUSABAS\\\"].isin(filter_list2) | GO_2020[\\\"CAUSABAS_O\\\"].isin(filter_list2)\\n]\\nMA_2020_all = MA_2020[\\n    MA_2020[\\\"CAUSABAS\\\"].isin(filter_list2) | MA_2020[\\\"CAUSABAS_O\\\"].isin(filter_list2)\\n]\\nMT_2020_all = MT_2020[\\n    MT_2020[\\\"CAUSABAS\\\"].isin(filter_list2) | MT_2020[\\\"CAUSABAS_O\\\"].isin(filter_list2)\\n]\\nMS_2020_all = MS_2020[\\n    MS_2020[\\\"CAUSABAS\\\"].isin(filter_list2) | MS_2020[\\\"CAUSABAS_O\\\"].isin(filter_list2)\\n]\\nMG_2020_all = MG_2020[\\n    MG_2020[\\\"CAUSABAS\\\"].isin(filter_list2) | MG_2020[\\\"CAUSABAS_O\\\"].isin(filter_list2)\\n]\\nPA_2020_all = PA_2020[\\n    PA_2020[\\\"CAUSABAS\\\"].isin(filter_list2) | PA_2020[\\\"CAUSABAS_O\\\"].isin(filter_list2)\\n]\\nPB_2020_all = PB_2020[\\n    PB_2020[\\\"CAUSABAS\\\"].isin(filter_list2) | PB_2020[\\\"CAUSABAS_O\\\"].isin(filter_list2)\\n]\\nPR_2020_all = PR_2020[\\n    PR_2020[\\\"CAUSABAS\\\"].isin(filter_list2) | PR_2020[\\\"CAUSABAS_O\\\"].isin(filter_list2)\\n]\\nPE_2020_all = PE_2020[\\n    PE_2020[\\\"CAUSABAS\\\"].isin(filter_list2) | PE_2020[\\\"CAUSABAS_O\\\"].isin(filter_list2)\\n]\\nPI_2020_all = PI_2020[\\n    PI_2020[\\\"CAUSABAS\\\"].isin(filter_list2) | PI_2020[\\\"CAUSABAS_O\\\"].isin(filter_list2)\\n]\\nRJ_2020_all = RJ_2020[\\n    RJ_2020[\\\"CAUSABAS\\\"].isin(filter_list2) | RJ_2020[\\\"CAUSABAS_O\\\"].isin(filter_list2)\\n]\\nRN_2020_all = RN_2020[\\n    RN_2020[\\\"CAUSABAS\\\"].isin(filter_list2) | RN_2020[\\\"CAUSABAS_O\\\"].isin(filter_list2)\\n]\\nRS_2020_all = RS_2020[\\n    RS_2020[\\\"CAUSABAS\\\"].isin(filter_list2) | RS_2020[\\\"CAUSABAS_O\\\"].isin(filter_list2)\\n]\\nRO_2020_all = RO_2020[\\n    RO_2020[\\\"CAUSABAS\\\"].isin(filter_list2) | RO_2020[\\\"CAUSABAS_O\\\"].isin(filter_list2)\\n]\\nRR_2020_all = RR_2020[\\n    RR_2020[\\\"CAUSABAS\\\"].isin(filter_list2) | RR_2020[\\\"CAUSABAS_O\\\"].isin(filter_list2)\\n]\\nSC_2020_all = SC_2020[\\n    SC_2020[\\\"CAUSABAS\\\"].isin(filter_list2) | SC_2020[\\\"CAUSABAS_O\\\"].isin(filter_list2)\\n]\\nSP_2020_all = SP_2020[\\n    SP_2020[\\\"CAUSABAS\\\"].isin(filter_list2) | SP_2020[\\\"CAUSABAS_O\\\"].isin(filter_list2)\\n]\\nSE_2020_all = SE_2020[\\n    SE_2020[\\\"CAUSABAS\\\"].isin(filter_list2) | SE_2020[\\\"CAUSABAS_O\\\"].isin(filter_list2)\\n]\\nTO_2020_all = TO_2020[\\n    TO_2020[\\\"CAUSABAS\\\"].isin(filter_list2) | TO_2020[\\\"CAUSABAS_O\\\"].isin(filter_list2)\\n]\";\n",
       "                var nbb_cells = Jupyter.notebook.get_cells();\n",
       "                for (var i = 0; i < nbb_cells.length; ++i) {\n",
       "                    if (nbb_cells[i].input_prompt_number == nbb_cell_id) {\n",
       "                        if (nbb_cells[i].get_text() == nbb_unformatted_code) {\n",
       "                             nbb_cells[i].set_text(nbb_formatted_code);\n",
       "                        }\n",
       "                        break;\n",
       "                    }\n",
       "                }\n",
       "            }, 500);\n",
       "            "
      ],
      "text/plain": [
       "<IPython.core.display.Javascript object>"
      ]
     },
     "metadata": {},
     "output_type": "display_data"
    }
   ],
   "source": [
    "ac_2020_all=ac_2020[ac_2020['CAUSABAS'].isin(filter_list2) | ac_2020['CAUSABAS_O'].isin(filter_list2)]\n",
    "AL_2020_all=AL_2020[AL_2020['CAUSABAS'].isin(filter_list2) | AL_2020['CAUSABAS_O'].isin(filter_list2)]\n",
    "AP_2020_all=AP_2020[AP_2020['CAUSABAS'].isin(filter_list2) | AP_2020['CAUSABAS_O'].isin(filter_list2)]\n",
    "AM_2020_all=AM_2020[AM_2020['CAUSABAS'].isin(filter_list2) | AM_2020['CAUSABAS_O'].isin(filter_list2)]\n",
    "BA_2020_all=BA_2020[BA_2020['CAUSABAS'].isin(filter_list2) | BA_2020['CAUSABAS_O'].isin(filter_list2)]\n",
    "CE_2020_all=CE_2020[CE_2020['CAUSABAS'].isin(filter_list2) | CE_2020['CAUSABAS_O'].isin(filter_list2)]\n",
    "DF_2020_all=DF_2020[DF_2020['CAUSABAS'].isin(filter_list2) | DF_2020['CAUSABAS_O'].isin(filter_list2)]\n",
    "ES_2020_all=ES_2020[ES_2020['CAUSABAS'].isin(filter_list2) | ES_2020['CAUSABAS_O'].isin(filter_list2)]\n",
    "GO_2020_all=GO_2020[GO_2020['CAUSABAS'].isin(filter_list2) | GO_2020['CAUSABAS_O'].isin(filter_list2)]\n",
    "MA_2020_all=MA_2020[MA_2020['CAUSABAS'].isin(filter_list2) | MA_2020['CAUSABAS_O'].isin(filter_list2)]\n",
    "MT_2020_all=MT_2020[MT_2020['CAUSABAS'].isin(filter_list2) | MT_2020['CAUSABAS_O'].isin(filter_list2)]\n",
    "MS_2020_all=MS_2020[MS_2020['CAUSABAS'].isin(filter_list2) | MS_2020['CAUSABAS_O'].isin(filter_list2)]\n",
    "MG_2020_all=MG_2020[MG_2020['CAUSABAS'].isin(filter_list2) | MG_2020['CAUSABAS_O'].isin(filter_list2)]\n",
    "PA_2020_all=PA_2020[PA_2020['CAUSABAS'].isin(filter_list2) | PA_2020['CAUSABAS_O'].isin(filter_list2)]\n",
    "PB_2020_all=PB_2020[PB_2020['CAUSABAS'].isin(filter_list2) | PB_2020['CAUSABAS_O'].isin(filter_list2)]\n",
    "PR_2020_all=PR_2020[PR_2020['CAUSABAS'].isin(filter_list2) | PR_2020['CAUSABAS_O'].isin(filter_list2)]\n",
    "PE_2020_all=PE_2020[PE_2020['CAUSABAS'].isin(filter_list2) | PE_2020['CAUSABAS_O'].isin(filter_list2)]\n",
    "PI_2020_all=PI_2020[PI_2020['CAUSABAS'].isin(filter_list2) | PI_2020['CAUSABAS_O'].isin(filter_list2)]\n",
    "RJ_2020_all=RJ_2020[RJ_2020['CAUSABAS'].isin(filter_list2) | RJ_2020['CAUSABAS_O'].isin(filter_list2)]\n",
    "RN_2020_all=RN_2020[RN_2020['CAUSABAS'].isin(filter_list2) | RN_2020['CAUSABAS_O'].isin(filter_list2)]\n",
    "RS_2020_all=RS_2020[RS_2020['CAUSABAS'].isin(filter_list2) | RS_2020['CAUSABAS_O'].isin(filter_list2)]\n",
    "RO_2020_all=RO_2020[RO_2020['CAUSABAS'].isin(filter_list2) | RO_2020['CAUSABAS_O'].isin(filter_list2)]\n",
    "RR_2020_all=RR_2020[RR_2020['CAUSABAS'].isin(filter_list2) | RR_2020['CAUSABAS_O'].isin(filter_list2)]\n",
    "SC_2020_all=SC_2020[SC_2020['CAUSABAS'].isin(filter_list2) | SC_2020['CAUSABAS_O'].isin(filter_list2)]\n",
    "SP_2020_all=SP_2020[SP_2020['CAUSABAS'].isin(filter_list2) | SP_2020['CAUSABAS_O'].isin(filter_list2)]\n",
    "SE_2020_all=SE_2020[SE_2020['CAUSABAS'].isin(filter_list2) | SE_2020['CAUSABAS_O'].isin(filter_list2)]\n",
    "TO_2020_all=TO_2020[TO_2020['CAUSABAS'].isin(filter_list2) | TO_2020['CAUSABAS_O'].isin(filter_list2)]\n",
    "\n"
   ]
  },
  {
   "cell_type": "code",
   "execution_count": 235,
   "id": "706b6796",
   "metadata": {},
   "outputs": [
    {
     "data": {
      "application/javascript": [
       "\n",
       "            setTimeout(function() {\n",
       "                var nbb_cell_id = 235;\n",
       "                var nbb_unformatted_code = \"df_2020 = pd.concat(\\n    [\\n        ac_2020_all,\\n        AL_2020_all,\\n        AP_2020_all,\\n        AM_2020_all,\\n        BA_2020_all,\\n        CE_2020_all,\\n        DF_2020_all,\\n        ES_2020_all,\\n        GO_2020_all,\\n        MA_2020_all,\\n        MT_2020_all,\\n        MS_2020_all,\\n        MG_2020_all,\\n        PA_2020_all,\\n        PB_2020_all,\\n        PR_2020_all,\\n        PE_2020_all,\\n        PI_2020_all,\\n        RJ_2020_all,\\n        RN_2020_all,\\n        RS_2020_all,\\n        RO_2020_all,\\n        RR_2020_all,\\n        SC_2020_all,\\n        SP_2020_all,\\n        SE_2020_all,\\n        TO_2020_all,\\n    ]\\n).reset_index()\";\n",
       "                var nbb_formatted_code = \"df_2020 = pd.concat(\\n    [\\n        ac_2020_all,\\n        AL_2020_all,\\n        AP_2020_all,\\n        AM_2020_all,\\n        BA_2020_all,\\n        CE_2020_all,\\n        DF_2020_all,\\n        ES_2020_all,\\n        GO_2020_all,\\n        MA_2020_all,\\n        MT_2020_all,\\n        MS_2020_all,\\n        MG_2020_all,\\n        PA_2020_all,\\n        PB_2020_all,\\n        PR_2020_all,\\n        PE_2020_all,\\n        PI_2020_all,\\n        RJ_2020_all,\\n        RN_2020_all,\\n        RS_2020_all,\\n        RO_2020_all,\\n        RR_2020_all,\\n        SC_2020_all,\\n        SP_2020_all,\\n        SE_2020_all,\\n        TO_2020_all,\\n    ]\\n).reset_index()\";\n",
       "                var nbb_cells = Jupyter.notebook.get_cells();\n",
       "                for (var i = 0; i < nbb_cells.length; ++i) {\n",
       "                    if (nbb_cells[i].input_prompt_number == nbb_cell_id) {\n",
       "                        if (nbb_cells[i].get_text() == nbb_unformatted_code) {\n",
       "                             nbb_cells[i].set_text(nbb_formatted_code);\n",
       "                        }\n",
       "                        break;\n",
       "                    }\n",
       "                }\n",
       "            }, 500);\n",
       "            "
      ],
      "text/plain": [
       "<IPython.core.display.Javascript object>"
      ]
     },
     "metadata": {},
     "output_type": "display_data"
    }
   ],
   "source": [
    "df_2020 = pd.concat(\n",
    "    [\n",
    "        ac_2020_all,\n",
    "        AL_2020_all,\n",
    "        AP_2020_all,\n",
    "        AM_2020_all,\n",
    "        BA_2020_all,\n",
    "        CE_2020_all,\n",
    "        DF_2020_all,\n",
    "        ES_2020_all,\n",
    "        GO_2020_all,\n",
    "        MA_2020_all,\n",
    "        MT_2020_all,\n",
    "        MS_2020_all,\n",
    "        MG_2020_all,\n",
    "        PA_2020_all,\n",
    "        PB_2020_all,\n",
    "        PR_2020_all,\n",
    "        PE_2020_all,\n",
    "        PI_2020_all,\n",
    "        RJ_2020_all,\n",
    "        RN_2020_all,\n",
    "        RS_2020_all,\n",
    "        RO_2020_all,\n",
    "        RR_2020_all,\n",
    "        SC_2020_all,\n",
    "        SP_2020_all,\n",
    "        SE_2020_all,\n",
    "        TO_2020_all,\n",
    "    ]\n",
    ").reset_index()"
   ]
  },
  {
   "cell_type": "code",
   "execution_count": 236,
   "id": "cd02e296",
   "metadata": {},
   "outputs": [
    {
     "data": {
      "application/javascript": [
       "\n",
       "            setTimeout(function() {\n",
       "                var nbb_cell_id = 236;\n",
       "                var nbb_unformatted_code = \"df_2020 = df_2020.drop([\\\"Unnamed: 0\\\", \\\"index\\\"], axis=1)\";\n",
       "                var nbb_formatted_code = \"df_2020 = df_2020.drop([\\\"Unnamed: 0\\\", \\\"index\\\"], axis=1)\";\n",
       "                var nbb_cells = Jupyter.notebook.get_cells();\n",
       "                for (var i = 0; i < nbb_cells.length; ++i) {\n",
       "                    if (nbb_cells[i].input_prompt_number == nbb_cell_id) {\n",
       "                        if (nbb_cells[i].get_text() == nbb_unformatted_code) {\n",
       "                             nbb_cells[i].set_text(nbb_formatted_code);\n",
       "                        }\n",
       "                        break;\n",
       "                    }\n",
       "                }\n",
       "            }, 500);\n",
       "            "
      ],
      "text/plain": [
       "<IPython.core.display.Javascript object>"
      ]
     },
     "metadata": {},
     "output_type": "display_data"
    }
   ],
   "source": [
    "df_2020 = df_2020.drop([\"Unnamed: 0\", \"index\"], axis=1)"
   ]
  },
  {
   "cell_type": "code",
   "execution_count": 237,
   "id": "b5ea9ed8",
   "metadata": {},
   "outputs": [
    {
     "name": "stdout",
     "output_type": "stream",
     "text": [
      "<class 'pandas.core.frame.DataFrame'>\n",
      "RangeIndex: 13869 entries, 0 to 13868\n",
      "Data columns (total 16 columns):\n",
      " #   Column      Non-Null Count  Dtype  \n",
      "---  ------      --------------  -----  \n",
      " 0   estado      13869 non-null  object \n",
      " 1   ano         13869 non-null  int64  \n",
      " 2   DTOBITO     13869 non-null  int64  \n",
      " 3   DTNASC      13834 non-null  float64\n",
      " 4   SEXO        13869 non-null  int64  \n",
      " 5   RACACOR     13715 non-null  float64\n",
      " 6   ASSISTMED   11234 non-null  float64\n",
      " 7   ESCMAE      1 non-null      float64\n",
      " 8   ESTCIV      13522 non-null  float64\n",
      " 9   ESC         13153 non-null  float64\n",
      " 10  OCUP        11630 non-null  float64\n",
      " 11  CODMUNRES   13869 non-null  int64  \n",
      " 12  CAUSABAS    13869 non-null  object \n",
      " 13  CAUSABAS_O  13825 non-null  object \n",
      " 14  LOCOCOR     13869 non-null  int64  \n",
      " 15  CIRURGIA    22 non-null     float64\n",
      "dtypes: float64(8), int64(5), object(3)\n",
      "memory usage: 1.7+ MB\n"
     ]
    },
    {
     "data": {
      "application/javascript": [
       "\n",
       "            setTimeout(function() {\n",
       "                var nbb_cell_id = 237;\n",
       "                var nbb_unformatted_code = \"df_2020.info()\";\n",
       "                var nbb_formatted_code = \"df_2020.info()\";\n",
       "                var nbb_cells = Jupyter.notebook.get_cells();\n",
       "                for (var i = 0; i < nbb_cells.length; ++i) {\n",
       "                    if (nbb_cells[i].input_prompt_number == nbb_cell_id) {\n",
       "                        if (nbb_cells[i].get_text() == nbb_unformatted_code) {\n",
       "                             nbb_cells[i].set_text(nbb_formatted_code);\n",
       "                        }\n",
       "                        break;\n",
       "                    }\n",
       "                }\n",
       "            }, 500);\n",
       "            "
      ],
      "text/plain": [
       "<IPython.core.display.Javascript object>"
      ]
     },
     "metadata": {},
     "output_type": "display_data"
    }
   ],
   "source": [
    "df_2020.info()"
   ]
  },
  {
   "cell_type": "code",
   "execution_count": 238,
   "id": "3d44865a",
   "metadata": {},
   "outputs": [
    {
     "data": {
      "application/javascript": [
       "\n",
       "            setTimeout(function() {\n",
       "                var nbb_cell_id = 238;\n",
       "                var nbb_unformatted_code = \"df_2020.to_csv('df_2020.csv')\";\n",
       "                var nbb_formatted_code = \"df_2020.to_csv(\\\"df_2020.csv\\\")\";\n",
       "                var nbb_cells = Jupyter.notebook.get_cells();\n",
       "                for (var i = 0; i < nbb_cells.length; ++i) {\n",
       "                    if (nbb_cells[i].input_prompt_number == nbb_cell_id) {\n",
       "                        if (nbb_cells[i].get_text() == nbb_unformatted_code) {\n",
       "                             nbb_cells[i].set_text(nbb_formatted_code);\n",
       "                        }\n",
       "                        break;\n",
       "                    }\n",
       "                }\n",
       "            }, 500);\n",
       "            "
      ],
      "text/plain": [
       "<IPython.core.display.Javascript object>"
      ]
     },
     "metadata": {},
     "output_type": "display_data"
    }
   ],
   "source": [
    "df_2020.to_csv(\"df_2020.csv\")"
   ]
  },
  {
   "cell_type": "markdown",
   "id": "a8ba58bd",
   "metadata": {},
   "source": [
    "# 2021\n"
   ]
  },
  {
   "cell_type": "code",
   "execution_count": 239,
   "id": "85dafa62",
   "metadata": {},
   "outputs": [
    {
     "data": {
      "application/javascript": [
       "\n",
       "            setTimeout(function() {\n",
       "                var nbb_cell_id = 239;\n",
       "                var nbb_unformatted_code = \"ac_2021=pd.read_csv('csv/ac_2021.csv')\\nAL_2021=pd.read_csv('csv/AL_2021.csv')\\nAP_2021=pd.read_csv('csv/AP_2021.csv')\\nAM_2021=pd.read_csv('csv/AM_2021.csv')\\nBA_2021=pd.read_csv('csv/BA_2021.csv')\\nCE_2021=pd.read_csv('csv/CE_2021.csv')\\nDF_2021=pd.read_csv('csv/DF_2021.csv')\\nES_2021=pd.read_csv('csv/ES_2021.csv')\\nGO_2021=pd.read_csv('csv/GO_2021.csv')\\nMA_2021=pd.read_csv('csv/MA_2021.csv')\\nMT_2021=pd.read_csv('csv/MT_2021.csv')\\nMS_2021=pd.read_csv('csv/MS_2021.csv')\\nMG_2021=pd.read_csv('csv/MG_2021.csv')\\nPA_2021=pd.read_csv('csv/PA_2021.csv')\\nPB_2021=pd.read_csv('csv/PB_2021.csv')\\nPR_2021=pd.read_csv('csv/PR_2021.csv')\\nPE_2021=pd.read_csv('csv/PE_2021.csv')\\nPI_2021=pd.read_csv('csv/PI_2021.csv')\\nRJ_2021=pd.read_csv('csv/RJ_2021.csv')\\nRN_2021=pd.read_csv('csv/RN_2021.csv')\\nRS_2021=pd.read_csv('csv/RS_2021.csv')\\nRO_2021=pd.read_csv('csv/RO_2021.csv')\\nRR_2021=pd.read_csv('csv/RR_2021.csv')\\nSC_2021=pd.read_csv('csv/SC_2021.csv')\\nSP_2021=pd.read_csv('csv/SP_2021.csv')\\nSE_2021=pd.read_csv('csv/SE_2021.csv')\\nTO_2021=pd.read_csv('csv/TO_2021.csv')\";\n",
       "                var nbb_formatted_code = \"ac_2021 = pd.read_csv(\\\"csv/ac_2021.csv\\\")\\nAL_2021 = pd.read_csv(\\\"csv/AL_2021.csv\\\")\\nAP_2021 = pd.read_csv(\\\"csv/AP_2021.csv\\\")\\nAM_2021 = pd.read_csv(\\\"csv/AM_2021.csv\\\")\\nBA_2021 = pd.read_csv(\\\"csv/BA_2021.csv\\\")\\nCE_2021 = pd.read_csv(\\\"csv/CE_2021.csv\\\")\\nDF_2021 = pd.read_csv(\\\"csv/DF_2021.csv\\\")\\nES_2021 = pd.read_csv(\\\"csv/ES_2021.csv\\\")\\nGO_2021 = pd.read_csv(\\\"csv/GO_2021.csv\\\")\\nMA_2021 = pd.read_csv(\\\"csv/MA_2021.csv\\\")\\nMT_2021 = pd.read_csv(\\\"csv/MT_2021.csv\\\")\\nMS_2021 = pd.read_csv(\\\"csv/MS_2021.csv\\\")\\nMG_2021 = pd.read_csv(\\\"csv/MG_2021.csv\\\")\\nPA_2021 = pd.read_csv(\\\"csv/PA_2021.csv\\\")\\nPB_2021 = pd.read_csv(\\\"csv/PB_2021.csv\\\")\\nPR_2021 = pd.read_csv(\\\"csv/PR_2021.csv\\\")\\nPE_2021 = pd.read_csv(\\\"csv/PE_2021.csv\\\")\\nPI_2021 = pd.read_csv(\\\"csv/PI_2021.csv\\\")\\nRJ_2021 = pd.read_csv(\\\"csv/RJ_2021.csv\\\")\\nRN_2021 = pd.read_csv(\\\"csv/RN_2021.csv\\\")\\nRS_2021 = pd.read_csv(\\\"csv/RS_2021.csv\\\")\\nRO_2021 = pd.read_csv(\\\"csv/RO_2021.csv\\\")\\nRR_2021 = pd.read_csv(\\\"csv/RR_2021.csv\\\")\\nSC_2021 = pd.read_csv(\\\"csv/SC_2021.csv\\\")\\nSP_2021 = pd.read_csv(\\\"csv/SP_2021.csv\\\")\\nSE_2021 = pd.read_csv(\\\"csv/SE_2021.csv\\\")\\nTO_2021 = pd.read_csv(\\\"csv/TO_2021.csv\\\")\";\n",
       "                var nbb_cells = Jupyter.notebook.get_cells();\n",
       "                for (var i = 0; i < nbb_cells.length; ++i) {\n",
       "                    if (nbb_cells[i].input_prompt_number == nbb_cell_id) {\n",
       "                        if (nbb_cells[i].get_text() == nbb_unformatted_code) {\n",
       "                             nbb_cells[i].set_text(nbb_formatted_code);\n",
       "                        }\n",
       "                        break;\n",
       "                    }\n",
       "                }\n",
       "            }, 500);\n",
       "            "
      ],
      "text/plain": [
       "<IPython.core.display.Javascript object>"
      ]
     },
     "metadata": {},
     "output_type": "display_data"
    }
   ],
   "source": [
    "ac_2021=pd.read_csv('csv/ac_2021.csv')\n",
    "AL_2021=pd.read_csv('csv/AL_2021.csv')\n",
    "AP_2021=pd.read_csv('csv/AP_2021.csv')\n",
    "AM_2021=pd.read_csv('csv/AM_2021.csv')\n",
    "BA_2021=pd.read_csv('csv/BA_2021.csv')\n",
    "CE_2021=pd.read_csv('csv/CE_2021.csv')\n",
    "DF_2021=pd.read_csv('csv/DF_2021.csv')\n",
    "ES_2021=pd.read_csv('csv/ES_2021.csv')\n",
    "GO_2021=pd.read_csv('csv/GO_2021.csv')\n",
    "MA_2021=pd.read_csv('csv/MA_2021.csv')\n",
    "MT_2021=pd.read_csv('csv/MT_2021.csv')\n",
    "MS_2021=pd.read_csv('csv/MS_2021.csv')\n",
    "MG_2021=pd.read_csv('csv/MG_2021.csv')\n",
    "PA_2021=pd.read_csv('csv/PA_2021.csv')\n",
    "PB_2021=pd.read_csv('csv/PB_2021.csv')\n",
    "PR_2021=pd.read_csv('csv/PR_2021.csv')\n",
    "PE_2021=pd.read_csv('csv/PE_2021.csv')\n",
    "PI_2021=pd.read_csv('csv/PI_2021.csv')\n",
    "RJ_2021=pd.read_csv('csv/RJ_2021.csv')\n",
    "RN_2021=pd.read_csv('csv/RN_2021.csv')\n",
    "RS_2021=pd.read_csv('csv/RS_2021.csv')\n",
    "RO_2021=pd.read_csv('csv/RO_2021.csv')\n",
    "RR_2021=pd.read_csv('csv/RR_2021.csv')\n",
    "SC_2021=pd.read_csv('csv/SC_2021.csv')\n",
    "SP_2021=pd.read_csv('csv/SP_2021.csv')\n",
    "SE_2021=pd.read_csv('csv/SE_2021.csv')\n",
    "TO_2021=pd.read_csv('csv/TO_2021.csv')\n"
   ]
  },
  {
   "cell_type": "code",
   "execution_count": 241,
   "id": "37b174de",
   "metadata": {},
   "outputs": [
    {
     "data": {
      "application/javascript": [
       "\n",
       "            setTimeout(function() {\n",
       "                var nbb_cell_id = 241;\n",
       "                var nbb_unformatted_code = \"ac_2021_all=ac_2021[ac_2021['CAUSABAS'].isin(filter_list2) | ac_2021['CAUSABAS_O'].isin(filter_list2)]\\nAL_2021_all=AL_2021[AL_2021['CAUSABAS'].isin(filter_list2) | AL_2021['CAUSABAS_O'].isin(filter_list2)]\\nAP_2021_all=AP_2021[AP_2021['CAUSABAS'].isin(filter_list2) | AP_2021['CAUSABAS_O'].isin(filter_list2)]\\nAM_2021_all=AM_2021[AM_2021['CAUSABAS'].isin(filter_list2) | AM_2021['CAUSABAS_O'].isin(filter_list2)]\\nBA_2021_all=BA_2021[BA_2021['CAUSABAS'].isin(filter_list2) | BA_2021['CAUSABAS_O'].isin(filter_list2)]\\nCE_2021_all=CE_2021[CE_2021['CAUSABAS'].isin(filter_list2) | CE_2021['CAUSABAS_O'].isin(filter_list2)]\\nDF_2021_all=DF_2021[DF_2021['CAUSABAS'].isin(filter_list2) | DF_2021['CAUSABAS_O'].isin(filter_list2)]\\nES_2021_all=ES_2021[ES_2021['CAUSABAS'].isin(filter_list2) | ES_2021['CAUSABAS_O'].isin(filter_list2)]\\nGO_2021_all=GO_2021[GO_2021['CAUSABAS'].isin(filter_list2) | GO_2021['CAUSABAS_O'].isin(filter_list2)]\\nMA_2021_all=MA_2021[MA_2021['CAUSABAS'].isin(filter_list2) | MA_2021['CAUSABAS_O'].isin(filter_list2)]\\nMT_2021_all=MT_2021[MT_2021['CAUSABAS'].isin(filter_list2) | MT_2021['CAUSABAS_O'].isin(filter_list2)]\\nMS_2021_all=MS_2021[MS_2021['CAUSABAS'].isin(filter_list2) | MS_2021['CAUSABAS_O'].isin(filter_list2)]\\nMG_2021_all=MG_2021[MG_2021['CAUSABAS'].isin(filter_list2) | MG_2021['CAUSABAS_O'].isin(filter_list2)]\\nPA_2021_all=PA_2021[PA_2021['CAUSABAS'].isin(filter_list2) | PA_2021['CAUSABAS_O'].isin(filter_list2)]\\nPB_2021_all=PB_2021[PB_2021['CAUSABAS'].isin(filter_list2) | PB_2021['CAUSABAS_O'].isin(filter_list2)]\\nPR_2021_all=PR_2021[PR_2021['CAUSABAS'].isin(filter_list2) | PR_2021['CAUSABAS_O'].isin(filter_list2)]\\nPE_2021_all=PE_2021[PE_2021['CAUSABAS'].isin(filter_list2) | PE_2021['CAUSABAS_O'].isin(filter_list2)]\\nPI_2021_all=PI_2021[PI_2021['CAUSABAS'].isin(filter_list2) | PI_2021['CAUSABAS_O'].isin(filter_list2)]\\nRJ_2021_all=RJ_2021[RJ_2021['CAUSABAS'].isin(filter_list2) | RJ_2021['CAUSABAS_O'].isin(filter_list2)]\\nRN_2021_all=RN_2021[RN_2021['CAUSABAS'].isin(filter_list2) | RN_2021['CAUSABAS_O'].isin(filter_list2)]\\nRS_2021_all=RS_2021[RS_2021['CAUSABAS'].isin(filter_list2) | RS_2021['CAUSABAS_O'].isin(filter_list2)]\\nRO_2021_all=RO_2021[RO_2021['CAUSABAS'].isin(filter_list2) | RO_2021['CAUSABAS_O'].isin(filter_list2)]\\nRR_2021_all=RR_2021[RR_2021['CAUSABAS'].isin(filter_list2) | RR_2021['CAUSABAS_O'].isin(filter_list2)]\\nSC_2021_all=SC_2021[SC_2021['CAUSABAS'].isin(filter_list2) | SC_2021['CAUSABAS_O'].isin(filter_list2)]\\nSP_2021_all=SP_2021[SP_2021['CAUSABAS'].isin(filter_list2) | SP_2021['CAUSABAS_O'].isin(filter_list2)]\\nSE_2021_all=SE_2021[SE_2021['CAUSABAS'].isin(filter_list2) | SE_2021['CAUSABAS_O'].isin(filter_list2)]\\nTO_2021_all=TO_2021[TO_2021['CAUSABAS'].isin(filter_list2) | TO_2021['CAUSABAS_O'].isin(filter_list2)]\";\n",
       "                var nbb_formatted_code = \"ac_2021_all = ac_2021[\\n    ac_2021[\\\"CAUSABAS\\\"].isin(filter_list2) | ac_2021[\\\"CAUSABAS_O\\\"].isin(filter_list2)\\n]\\nAL_2021_all = AL_2021[\\n    AL_2021[\\\"CAUSABAS\\\"].isin(filter_list2) | AL_2021[\\\"CAUSABAS_O\\\"].isin(filter_list2)\\n]\\nAP_2021_all = AP_2021[\\n    AP_2021[\\\"CAUSABAS\\\"].isin(filter_list2) | AP_2021[\\\"CAUSABAS_O\\\"].isin(filter_list2)\\n]\\nAM_2021_all = AM_2021[\\n    AM_2021[\\\"CAUSABAS\\\"].isin(filter_list2) | AM_2021[\\\"CAUSABAS_O\\\"].isin(filter_list2)\\n]\\nBA_2021_all = BA_2021[\\n    BA_2021[\\\"CAUSABAS\\\"].isin(filter_list2) | BA_2021[\\\"CAUSABAS_O\\\"].isin(filter_list2)\\n]\\nCE_2021_all = CE_2021[\\n    CE_2021[\\\"CAUSABAS\\\"].isin(filter_list2) | CE_2021[\\\"CAUSABAS_O\\\"].isin(filter_list2)\\n]\\nDF_2021_all = DF_2021[\\n    DF_2021[\\\"CAUSABAS\\\"].isin(filter_list2) | DF_2021[\\\"CAUSABAS_O\\\"].isin(filter_list2)\\n]\\nES_2021_all = ES_2021[\\n    ES_2021[\\\"CAUSABAS\\\"].isin(filter_list2) | ES_2021[\\\"CAUSABAS_O\\\"].isin(filter_list2)\\n]\\nGO_2021_all = GO_2021[\\n    GO_2021[\\\"CAUSABAS\\\"].isin(filter_list2) | GO_2021[\\\"CAUSABAS_O\\\"].isin(filter_list2)\\n]\\nMA_2021_all = MA_2021[\\n    MA_2021[\\\"CAUSABAS\\\"].isin(filter_list2) | MA_2021[\\\"CAUSABAS_O\\\"].isin(filter_list2)\\n]\\nMT_2021_all = MT_2021[\\n    MT_2021[\\\"CAUSABAS\\\"].isin(filter_list2) | MT_2021[\\\"CAUSABAS_O\\\"].isin(filter_list2)\\n]\\nMS_2021_all = MS_2021[\\n    MS_2021[\\\"CAUSABAS\\\"].isin(filter_list2) | MS_2021[\\\"CAUSABAS_O\\\"].isin(filter_list2)\\n]\\nMG_2021_all = MG_2021[\\n    MG_2021[\\\"CAUSABAS\\\"].isin(filter_list2) | MG_2021[\\\"CAUSABAS_O\\\"].isin(filter_list2)\\n]\\nPA_2021_all = PA_2021[\\n    PA_2021[\\\"CAUSABAS\\\"].isin(filter_list2) | PA_2021[\\\"CAUSABAS_O\\\"].isin(filter_list2)\\n]\\nPB_2021_all = PB_2021[\\n    PB_2021[\\\"CAUSABAS\\\"].isin(filter_list2) | PB_2021[\\\"CAUSABAS_O\\\"].isin(filter_list2)\\n]\\nPR_2021_all = PR_2021[\\n    PR_2021[\\\"CAUSABAS\\\"].isin(filter_list2) | PR_2021[\\\"CAUSABAS_O\\\"].isin(filter_list2)\\n]\\nPE_2021_all = PE_2021[\\n    PE_2021[\\\"CAUSABAS\\\"].isin(filter_list2) | PE_2021[\\\"CAUSABAS_O\\\"].isin(filter_list2)\\n]\\nPI_2021_all = PI_2021[\\n    PI_2021[\\\"CAUSABAS\\\"].isin(filter_list2) | PI_2021[\\\"CAUSABAS_O\\\"].isin(filter_list2)\\n]\\nRJ_2021_all = RJ_2021[\\n    RJ_2021[\\\"CAUSABAS\\\"].isin(filter_list2) | RJ_2021[\\\"CAUSABAS_O\\\"].isin(filter_list2)\\n]\\nRN_2021_all = RN_2021[\\n    RN_2021[\\\"CAUSABAS\\\"].isin(filter_list2) | RN_2021[\\\"CAUSABAS_O\\\"].isin(filter_list2)\\n]\\nRS_2021_all = RS_2021[\\n    RS_2021[\\\"CAUSABAS\\\"].isin(filter_list2) | RS_2021[\\\"CAUSABAS_O\\\"].isin(filter_list2)\\n]\\nRO_2021_all = RO_2021[\\n    RO_2021[\\\"CAUSABAS\\\"].isin(filter_list2) | RO_2021[\\\"CAUSABAS_O\\\"].isin(filter_list2)\\n]\\nRR_2021_all = RR_2021[\\n    RR_2021[\\\"CAUSABAS\\\"].isin(filter_list2) | RR_2021[\\\"CAUSABAS_O\\\"].isin(filter_list2)\\n]\\nSC_2021_all = SC_2021[\\n    SC_2021[\\\"CAUSABAS\\\"].isin(filter_list2) | SC_2021[\\\"CAUSABAS_O\\\"].isin(filter_list2)\\n]\\nSP_2021_all = SP_2021[\\n    SP_2021[\\\"CAUSABAS\\\"].isin(filter_list2) | SP_2021[\\\"CAUSABAS_O\\\"].isin(filter_list2)\\n]\\nSE_2021_all = SE_2021[\\n    SE_2021[\\\"CAUSABAS\\\"].isin(filter_list2) | SE_2021[\\\"CAUSABAS_O\\\"].isin(filter_list2)\\n]\\nTO_2021_all = TO_2021[\\n    TO_2021[\\\"CAUSABAS\\\"].isin(filter_list2) | TO_2021[\\\"CAUSABAS_O\\\"].isin(filter_list2)\\n]\";\n",
       "                var nbb_cells = Jupyter.notebook.get_cells();\n",
       "                for (var i = 0; i < nbb_cells.length; ++i) {\n",
       "                    if (nbb_cells[i].input_prompt_number == nbb_cell_id) {\n",
       "                        if (nbb_cells[i].get_text() == nbb_unformatted_code) {\n",
       "                             nbb_cells[i].set_text(nbb_formatted_code);\n",
       "                        }\n",
       "                        break;\n",
       "                    }\n",
       "                }\n",
       "            }, 500);\n",
       "            "
      ],
      "text/plain": [
       "<IPython.core.display.Javascript object>"
      ]
     },
     "metadata": {},
     "output_type": "display_data"
    }
   ],
   "source": [
    "ac_2021_all=ac_2021[ac_2021['CAUSABAS'].isin(filter_list2) | ac_2021['CAUSABAS_O'].isin(filter_list2)]\n",
    "AL_2021_all=AL_2021[AL_2021['CAUSABAS'].isin(filter_list2) | AL_2021['CAUSABAS_O'].isin(filter_list2)]\n",
    "AP_2021_all=AP_2021[AP_2021['CAUSABAS'].isin(filter_list2) | AP_2021['CAUSABAS_O'].isin(filter_list2)]\n",
    "AM_2021_all=AM_2021[AM_2021['CAUSABAS'].isin(filter_list2) | AM_2021['CAUSABAS_O'].isin(filter_list2)]\n",
    "BA_2021_all=BA_2021[BA_2021['CAUSABAS'].isin(filter_list2) | BA_2021['CAUSABAS_O'].isin(filter_list2)]\n",
    "CE_2021_all=CE_2021[CE_2021['CAUSABAS'].isin(filter_list2) | CE_2021['CAUSABAS_O'].isin(filter_list2)]\n",
    "DF_2021_all=DF_2021[DF_2021['CAUSABAS'].isin(filter_list2) | DF_2021['CAUSABAS_O'].isin(filter_list2)]\n",
    "ES_2021_all=ES_2021[ES_2021['CAUSABAS'].isin(filter_list2) | ES_2021['CAUSABAS_O'].isin(filter_list2)]\n",
    "GO_2021_all=GO_2021[GO_2021['CAUSABAS'].isin(filter_list2) | GO_2021['CAUSABAS_O'].isin(filter_list2)]\n",
    "MA_2021_all=MA_2021[MA_2021['CAUSABAS'].isin(filter_list2) | MA_2021['CAUSABAS_O'].isin(filter_list2)]\n",
    "MT_2021_all=MT_2021[MT_2021['CAUSABAS'].isin(filter_list2) | MT_2021['CAUSABAS_O'].isin(filter_list2)]\n",
    "MS_2021_all=MS_2021[MS_2021['CAUSABAS'].isin(filter_list2) | MS_2021['CAUSABAS_O'].isin(filter_list2)]\n",
    "MG_2021_all=MG_2021[MG_2021['CAUSABAS'].isin(filter_list2) | MG_2021['CAUSABAS_O'].isin(filter_list2)]\n",
    "PA_2021_all=PA_2021[PA_2021['CAUSABAS'].isin(filter_list2) | PA_2021['CAUSABAS_O'].isin(filter_list2)]\n",
    "PB_2021_all=PB_2021[PB_2021['CAUSABAS'].isin(filter_list2) | PB_2021['CAUSABAS_O'].isin(filter_list2)]\n",
    "PR_2021_all=PR_2021[PR_2021['CAUSABAS'].isin(filter_list2) | PR_2021['CAUSABAS_O'].isin(filter_list2)]\n",
    "PE_2021_all=PE_2021[PE_2021['CAUSABAS'].isin(filter_list2) | PE_2021['CAUSABAS_O'].isin(filter_list2)]\n",
    "PI_2021_all=PI_2021[PI_2021['CAUSABAS'].isin(filter_list2) | PI_2021['CAUSABAS_O'].isin(filter_list2)]\n",
    "RJ_2021_all=RJ_2021[RJ_2021['CAUSABAS'].isin(filter_list2) | RJ_2021['CAUSABAS_O'].isin(filter_list2)]\n",
    "RN_2021_all=RN_2021[RN_2021['CAUSABAS'].isin(filter_list2) | RN_2021['CAUSABAS_O'].isin(filter_list2)]\n",
    "RS_2021_all=RS_2021[RS_2021['CAUSABAS'].isin(filter_list2) | RS_2021['CAUSABAS_O'].isin(filter_list2)]\n",
    "RO_2021_all=RO_2021[RO_2021['CAUSABAS'].isin(filter_list2) | RO_2021['CAUSABAS_O'].isin(filter_list2)]\n",
    "RR_2021_all=RR_2021[RR_2021['CAUSABAS'].isin(filter_list2) | RR_2021['CAUSABAS_O'].isin(filter_list2)]\n",
    "SC_2021_all=SC_2021[SC_2021['CAUSABAS'].isin(filter_list2) | SC_2021['CAUSABAS_O'].isin(filter_list2)]\n",
    "SP_2021_all=SP_2021[SP_2021['CAUSABAS'].isin(filter_list2) | SP_2021['CAUSABAS_O'].isin(filter_list2)]\n",
    "SE_2021_all=SE_2021[SE_2021['CAUSABAS'].isin(filter_list2) | SE_2021['CAUSABAS_O'].isin(filter_list2)]\n",
    "TO_2021_all=TO_2021[TO_2021['CAUSABAS'].isin(filter_list2) | TO_2021['CAUSABAS_O'].isin(filter_list2)]\n"
   ]
  },
  {
   "cell_type": "code",
   "execution_count": 242,
   "id": "8edc5d1b",
   "metadata": {},
   "outputs": [
    {
     "data": {
      "application/javascript": [
       "\n",
       "            setTimeout(function() {\n",
       "                var nbb_cell_id = 242;\n",
       "                var nbb_unformatted_code = \"df_2021 = pd.concat(\\n    [\\nac_2021_all,\\nAL_2021_all,\\nAP_2021_all,\\nAM_2021_all,\\nBA_2021_all,\\nCE_2021_all,\\nDF_2021_all,\\nES_2021_all,\\nGO_2021_all,\\nMA_2021_all,\\nMT_2021_all,\\nMS_2021_all,\\nMG_2021_all,\\nPA_2021_all,\\nPB_2021_all,\\nPR_2021_all,\\nPE_2021_all,\\nPI_2021_all,\\nRJ_2021_all,\\nRN_2021_all,\\nRS_2021_all,\\nRO_2021_all,\\nRR_2021_all,\\nSC_2021_all,\\nSP_2021_all,\\nSE_2021_all,\\nTO_2021_all,\\n\\n    ]\\n).reset_index()\";\n",
       "                var nbb_formatted_code = \"df_2021 = pd.concat(\\n    [\\n        ac_2021_all,\\n        AL_2021_all,\\n        AP_2021_all,\\n        AM_2021_all,\\n        BA_2021_all,\\n        CE_2021_all,\\n        DF_2021_all,\\n        ES_2021_all,\\n        GO_2021_all,\\n        MA_2021_all,\\n        MT_2021_all,\\n        MS_2021_all,\\n        MG_2021_all,\\n        PA_2021_all,\\n        PB_2021_all,\\n        PR_2021_all,\\n        PE_2021_all,\\n        PI_2021_all,\\n        RJ_2021_all,\\n        RN_2021_all,\\n        RS_2021_all,\\n        RO_2021_all,\\n        RR_2021_all,\\n        SC_2021_all,\\n        SP_2021_all,\\n        SE_2021_all,\\n        TO_2021_all,\\n    ]\\n).reset_index()\";\n",
       "                var nbb_cells = Jupyter.notebook.get_cells();\n",
       "                for (var i = 0; i < nbb_cells.length; ++i) {\n",
       "                    if (nbb_cells[i].input_prompt_number == nbb_cell_id) {\n",
       "                        if (nbb_cells[i].get_text() == nbb_unformatted_code) {\n",
       "                             nbb_cells[i].set_text(nbb_formatted_code);\n",
       "                        }\n",
       "                        break;\n",
       "                    }\n",
       "                }\n",
       "            }, 500);\n",
       "            "
      ],
      "text/plain": [
       "<IPython.core.display.Javascript object>"
      ]
     },
     "metadata": {},
     "output_type": "display_data"
    }
   ],
   "source": [
    "df_2021 = pd.concat(\n",
    "    [\n",
    "        ac_2021_all,\n",
    "        AL_2021_all,\n",
    "        AP_2021_all,\n",
    "        AM_2021_all,\n",
    "        BA_2021_all,\n",
    "        CE_2021_all,\n",
    "        DF_2021_all,\n",
    "        ES_2021_all,\n",
    "        GO_2021_all,\n",
    "        MA_2021_all,\n",
    "        MT_2021_all,\n",
    "        MS_2021_all,\n",
    "        MG_2021_all,\n",
    "        PA_2021_all,\n",
    "        PB_2021_all,\n",
    "        PR_2021_all,\n",
    "        PE_2021_all,\n",
    "        PI_2021_all,\n",
    "        RJ_2021_all,\n",
    "        RN_2021_all,\n",
    "        RS_2021_all,\n",
    "        RO_2021_all,\n",
    "        RR_2021_all,\n",
    "        SC_2021_all,\n",
    "        SP_2021_all,\n",
    "        SE_2021_all,\n",
    "        TO_2021_all,\n",
    "    ]\n",
    ").reset_index()"
   ]
  },
  {
   "cell_type": "code",
   "execution_count": 243,
   "id": "eebe5d92",
   "metadata": {},
   "outputs": [
    {
     "data": {
      "application/javascript": [
       "\n",
       "            setTimeout(function() {\n",
       "                var nbb_cell_id = 243;\n",
       "                var nbb_unformatted_code = \"df_2021 = df_2021.drop([\\\"Unnamed: 0\\\", \\\"index\\\"], axis=1)\";\n",
       "                var nbb_formatted_code = \"df_2021 = df_2021.drop([\\\"Unnamed: 0\\\", \\\"index\\\"], axis=1)\";\n",
       "                var nbb_cells = Jupyter.notebook.get_cells();\n",
       "                for (var i = 0; i < nbb_cells.length; ++i) {\n",
       "                    if (nbb_cells[i].input_prompt_number == nbb_cell_id) {\n",
       "                        if (nbb_cells[i].get_text() == nbb_unformatted_code) {\n",
       "                             nbb_cells[i].set_text(nbb_formatted_code);\n",
       "                        }\n",
       "                        break;\n",
       "                    }\n",
       "                }\n",
       "            }, 500);\n",
       "            "
      ],
      "text/plain": [
       "<IPython.core.display.Javascript object>"
      ]
     },
     "metadata": {},
     "output_type": "display_data"
    }
   ],
   "source": [
    "df_2021 = df_2021.drop([\"Unnamed: 0\", \"index\"], axis=1)"
   ]
  },
  {
   "cell_type": "code",
   "execution_count": 244,
   "id": "4fc03267",
   "metadata": {},
   "outputs": [
    {
     "name": "stdout",
     "output_type": "stream",
     "text": [
      "<class 'pandas.core.frame.DataFrame'>\n",
      "RangeIndex: 15534 entries, 0 to 15533\n",
      "Data columns (total 16 columns):\n",
      " #   Column      Non-Null Count  Dtype  \n",
      "---  ------      --------------  -----  \n",
      " 0   estado      15534 non-null  object \n",
      " 1   ano         15534 non-null  int64  \n",
      " 2   DTOBITO     15534 non-null  int64  \n",
      " 3   DTNASC      15495 non-null  float64\n",
      " 4   SEXO        15534 non-null  int64  \n",
      " 5   RACACOR     15305 non-null  float64\n",
      " 6   ASSISTMED   12626 non-null  float64\n",
      " 7   ESCMAE      0 non-null      float64\n",
      " 8   ESTCIV      15125 non-null  float64\n",
      " 9   ESC         14739 non-null  float64\n",
      " 10  OCUP        12733 non-null  float64\n",
      " 11  CODMUNRES   15534 non-null  int64  \n",
      " 12  CAUSABAS    15534 non-null  object \n",
      " 13  CAUSABAS_O  15528 non-null  object \n",
      " 14  LOCOCOR     15534 non-null  int64  \n",
      " 15  CIRURGIA    18 non-null     float64\n",
      "dtypes: float64(8), int64(5), object(3)\n",
      "memory usage: 1.9+ MB\n"
     ]
    },
    {
     "data": {
      "application/javascript": [
       "\n",
       "            setTimeout(function() {\n",
       "                var nbb_cell_id = 244;\n",
       "                var nbb_unformatted_code = \"df_2021.info()\";\n",
       "                var nbb_formatted_code = \"df_2021.info()\";\n",
       "                var nbb_cells = Jupyter.notebook.get_cells();\n",
       "                for (var i = 0; i < nbb_cells.length; ++i) {\n",
       "                    if (nbb_cells[i].input_prompt_number == nbb_cell_id) {\n",
       "                        if (nbb_cells[i].get_text() == nbb_unformatted_code) {\n",
       "                             nbb_cells[i].set_text(nbb_formatted_code);\n",
       "                        }\n",
       "                        break;\n",
       "                    }\n",
       "                }\n",
       "            }, 500);\n",
       "            "
      ],
      "text/plain": [
       "<IPython.core.display.Javascript object>"
      ]
     },
     "metadata": {},
     "output_type": "display_data"
    }
   ],
   "source": [
    "df_2021.info()"
   ]
  },
  {
   "cell_type": "code",
   "execution_count": 245,
   "id": "e8793e0a",
   "metadata": {},
   "outputs": [
    {
     "data": {
      "application/javascript": [
       "\n",
       "            setTimeout(function() {\n",
       "                var nbb_cell_id = 245;\n",
       "                var nbb_unformatted_code = \"df_2021.to_csv(\\\"df_2021.csv\\\")\";\n",
       "                var nbb_formatted_code = \"df_2021.to_csv(\\\"df_2021.csv\\\")\";\n",
       "                var nbb_cells = Jupyter.notebook.get_cells();\n",
       "                for (var i = 0; i < nbb_cells.length; ++i) {\n",
       "                    if (nbb_cells[i].input_prompt_number == nbb_cell_id) {\n",
       "                        if (nbb_cells[i].get_text() == nbb_unformatted_code) {\n",
       "                             nbb_cells[i].set_text(nbb_formatted_code);\n",
       "                        }\n",
       "                        break;\n",
       "                    }\n",
       "                }\n",
       "            }, 500);\n",
       "            "
      ],
      "text/plain": [
       "<IPython.core.display.Javascript object>"
      ]
     },
     "metadata": {},
     "output_type": "display_data"
    }
   ],
   "source": [
    "df_2021.to_csv(\"df_2021.csv\")"
   ]
  },
  {
   "cell_type": "code",
   "execution_count": 3,
   "id": "af934c04",
   "metadata": {},
   "outputs": [
    {
     "data": {
      "application/javascript": [
       "\n",
       "            setTimeout(function() {\n",
       "                var nbb_cell_id = 3;\n",
       "                var nbb_unformatted_code = \"df_2010 = pd.read_csv('df_2010.csv')\\ndf_2011 = pd.read_csv('df_2011.csv')\\ndf_2012 = pd.read_csv('df_2012.csv')\\ndf_2013 = pd.read_csv('df_2013.csv')\\ndf_2014 = pd.read_csv('df_2014.csv')\\ndf_2015 = pd.read_csv('df_2015.csv')\\ndf_2016 = pd.read_csv('df_2016.csv')\\ndf_2017 = pd.read_csv('df_2017.csv')\\ndf_2018 = pd.read_csv('df_2018.csv')\\ndf_2019 = pd.read_csv('df_2019.csv')\\ndf_2020 = pd.read_csv('df_2020.csv')\\ndf_2021 = pd.read_csv('df_2021.csv')\";\n",
       "                var nbb_formatted_code = \"df_2010 = pd.read_csv(\\\"df_2010.csv\\\")\\ndf_2011 = pd.read_csv(\\\"df_2011.csv\\\")\\ndf_2012 = pd.read_csv(\\\"df_2012.csv\\\")\\ndf_2013 = pd.read_csv(\\\"df_2013.csv\\\")\\ndf_2014 = pd.read_csv(\\\"df_2014.csv\\\")\\ndf_2015 = pd.read_csv(\\\"df_2015.csv\\\")\\ndf_2016 = pd.read_csv(\\\"df_2016.csv\\\")\\ndf_2017 = pd.read_csv(\\\"df_2017.csv\\\")\\ndf_2018 = pd.read_csv(\\\"df_2018.csv\\\")\\ndf_2019 = pd.read_csv(\\\"df_2019.csv\\\")\\ndf_2020 = pd.read_csv(\\\"df_2020.csv\\\")\\ndf_2021 = pd.read_csv(\\\"df_2021.csv\\\")\";\n",
       "                var nbb_cells = Jupyter.notebook.get_cells();\n",
       "                for (var i = 0; i < nbb_cells.length; ++i) {\n",
       "                    if (nbb_cells[i].input_prompt_number == nbb_cell_id) {\n",
       "                        if (nbb_cells[i].get_text() == nbb_unformatted_code) {\n",
       "                             nbb_cells[i].set_text(nbb_formatted_code);\n",
       "                        }\n",
       "                        break;\n",
       "                    }\n",
       "                }\n",
       "            }, 500);\n",
       "            "
      ],
      "text/plain": [
       "<IPython.core.display.Javascript object>"
      ]
     },
     "metadata": {},
     "output_type": "display_data"
    }
   ],
   "source": [
    "df_2010 = pd.read_csv(\"df_2010.csv\")\n",
    "df_2011 = pd.read_csv(\"df_2011.csv\")\n",
    "df_2012 = pd.read_csv(\"df_2012.csv\")\n",
    "df_2013 = pd.read_csv(\"df_2013.csv\")\n",
    "df_2014 = pd.read_csv(\"df_2014.csv\")\n",
    "df_2015 = pd.read_csv(\"df_2015.csv\")\n",
    "df_2016 = pd.read_csv(\"df_2016.csv\")\n",
    "df_2017 = pd.read_csv(\"df_2017.csv\")\n",
    "df_2018 = pd.read_csv(\"df_2018.csv\")\n",
    "df_2019 = pd.read_csv(\"df_2019.csv\")\n",
    "df_2020 = pd.read_csv(\"df_2020.csv\")\n",
    "df_2021 = pd.read_csv(\"df_2021.csv\")"
   ]
  },
  {
   "cell_type": "code",
   "execution_count": 4,
   "id": "c54b997e",
   "metadata": {},
   "outputs": [
    {
     "name": "stdout",
     "output_type": "stream",
     "text": [
      "<class 'pandas.core.frame.DataFrame'>\n",
      "RangeIndex: 141315 entries, 0 to 141314\n",
      "Data columns (total 19 columns):\n",
      " #   Column        Non-Null Count   Dtype  \n",
      "---  ------        --------------   -----  \n",
      " 0   Unnamed: 0    141315 non-null  int64  \n",
      " 1   estado        141315 non-null  object \n",
      " 2   ano           141315 non-null  int64  \n",
      " 3   DTOBITO       141315 non-null  int64  \n",
      " 4   DTNASC        140734 non-null  float64\n",
      " 5   SEXO          141315 non-null  int64  \n",
      " 6   RACACOR       137772 non-null  float64\n",
      " 7   ASSISTMED     101776 non-null  float64\n",
      " 8   ESCMAE        15 non-null      float64\n",
      " 9   ESTCIV        137066 non-null  float64\n",
      " 10  ESC           132148 non-null  float64\n",
      " 11  OCUP          111662 non-null  float64\n",
      " 12  CODMUNRES     141315 non-null  int64  \n",
      " 13  CAUSABAS      141315 non-null  object \n",
      " 14  CAUSABAS_O    140978 non-null  object \n",
      " 15  LOCOCOR       141315 non-null  float64\n",
      " 16  CIRURGIA      9280 non-null    float64\n",
      " 17  Unnamed: 0.1  9855 non-null    float64\n",
      " 18  index         9855 non-null    float64\n",
      "dtypes: float64(11), int64(5), object(3)\n",
      "memory usage: 20.5+ MB\n"
     ]
    },
    {
     "data": {
      "application/javascript": [
       "\n",
       "            setTimeout(function() {\n",
       "                var nbb_cell_id = 4;\n",
       "                var nbb_unformatted_code = \"df = pd.concat([df_2010, df_2011, df_2012,\\n                df_2013, df_2014, df_2015,\\n                df_2016, df_2017, df_2018, df_2019, df_2020, df_2021\\n               ], ignore_index = True)\\n\\ndf.info()\\n\\ndf_inicial = df\";\n",
       "                var nbb_formatted_code = \"df = pd.concat(\\n    [\\n        df_2010,\\n        df_2011,\\n        df_2012,\\n        df_2013,\\n        df_2014,\\n        df_2015,\\n        df_2016,\\n        df_2017,\\n        df_2018,\\n        df_2019,\\n        df_2020,\\n        df_2021,\\n    ],\\n    ignore_index=True,\\n)\\n\\ndf.info()\\n\\ndf_inicial = df\";\n",
       "                var nbb_cells = Jupyter.notebook.get_cells();\n",
       "                for (var i = 0; i < nbb_cells.length; ++i) {\n",
       "                    if (nbb_cells[i].input_prompt_number == nbb_cell_id) {\n",
       "                        if (nbb_cells[i].get_text() == nbb_unformatted_code) {\n",
       "                             nbb_cells[i].set_text(nbb_formatted_code);\n",
       "                        }\n",
       "                        break;\n",
       "                    }\n",
       "                }\n",
       "            }, 500);\n",
       "            "
      ],
      "text/plain": [
       "<IPython.core.display.Javascript object>"
      ]
     },
     "metadata": {},
     "output_type": "display_data"
    }
   ],
   "source": [
    "df = pd.concat(\n",
    "    [\n",
    "        df_2010,\n",
    "        df_2011,\n",
    "        df_2012,\n",
    "        df_2013,\n",
    "        df_2014,\n",
    "        df_2015,\n",
    "        df_2016,\n",
    "        df_2017,\n",
    "        df_2018,\n",
    "        df_2019,\n",
    "        df_2020,\n",
    "        df_2021,\n",
    "    ],\n",
    "    ignore_index=True,\n",
    ")\n",
    "\n",
    "df.info()\n",
    "\n",
    "df_inicial = df"
   ]
  },
  {
   "cell_type": "markdown",
   "id": "ff90ece8",
   "metadata": {},
   "source": [
    "# Limpando dados"
   ]
  },
  {
   "cell_type": "code",
   "execution_count": 5,
   "id": "cdc2f4e3",
   "metadata": {},
   "outputs": [
    {
     "data": {
      "application/javascript": [
       "\n",
       "            setTimeout(function() {\n",
       "                var nbb_cell_id = 5;\n",
       "                var nbb_unformatted_code = \"# V\\u00e1rios valores vieram como float. Em quest\\u00e3o disso, opera\\u00e7\\u00f5es de substitui\\u00e7\\u00e3o n\\u00e3o puderam ser realizadas.\\n\\ndf = df.fillna(0)\\n\\n# Organizando sexo\\ndf['SEXO'] = df['SEXO'].astype(str)\\ndf['SEXO'] = df['SEXO'].map(lambda x: x.rstrip('.0'))\\n\\n# Organizando ra\\u00e7a/cor\\ndf['RACACOR'] = df['RACACOR'].astype(str)\\ndf['RACACOR'] = df['RACACOR'].map(lambda x: x.rstrip('.0'))\\n\\n# Organizando estado civil\\ndf['ESTCIV'] = df['ESTCIV'].astype(str)\\ndf['ESTCIV'] = df['ESTCIV'].map(lambda x: x.rstrip('.0'))\\n\\n# Organizando escolaridade\\ndf['ESC'] = df['ESC'].astype(str)\\ndf['ESC'] = df['ESC'].map(lambda x: x.rstrip('.0'))\\n\\n# Organizando local da ocorr\\u00eancia\\ndf['LOCOCOR'] = df['LOCOCOR'].astype(str)\\ndf['LOCOCOR'] = df['LOCOCOR'].map(lambda x: x.rstrip('.0'))\\n\\n# Organizando assist\\u00eancia m\\u00e9dia (sim, n\\u00e3o)\\ndf['ASSISTMED'] = df['ASSISTMED'].astype(str)\\ndf['ASSISTMED'] = df['ASSISTMED'].map(lambda x: x.rstrip('.0'))\\n\\n# Organizando escolaridade da m\\u00e3e\\ndf['ESCMAE'] = df['ESCMAE'].astype(str)\\ndf['ESCMAE'] = df['ESCMAE'].map(lambda x: x.rstrip('.0'))\\n\\n# Organizando cirurgia (sim, n\\u00e3o)\\ndf['CIRURGIA'] = df['CIRURGIA'].astype(str)\\ndf['CIRURGIA'] = df['CIRURGIA'].map(lambda x: x.rstrip('.0'))\";\n",
       "                var nbb_formatted_code = \"# V\\u00e1rios valores vieram como float. Em quest\\u00e3o disso, opera\\u00e7\\u00f5es de substitui\\u00e7\\u00e3o n\\u00e3o puderam ser realizadas.\\n\\ndf = df.fillna(0)\\n\\n# Organizando sexo\\ndf[\\\"SEXO\\\"] = df[\\\"SEXO\\\"].astype(str)\\ndf[\\\"SEXO\\\"] = df[\\\"SEXO\\\"].map(lambda x: x.rstrip(\\\".0\\\"))\\n\\n# Organizando ra\\u00e7a/cor\\ndf[\\\"RACACOR\\\"] = df[\\\"RACACOR\\\"].astype(str)\\ndf[\\\"RACACOR\\\"] = df[\\\"RACACOR\\\"].map(lambda x: x.rstrip(\\\".0\\\"))\\n\\n# Organizando estado civil\\ndf[\\\"ESTCIV\\\"] = df[\\\"ESTCIV\\\"].astype(str)\\ndf[\\\"ESTCIV\\\"] = df[\\\"ESTCIV\\\"].map(lambda x: x.rstrip(\\\".0\\\"))\\n\\n# Organizando escolaridade\\ndf[\\\"ESC\\\"] = df[\\\"ESC\\\"].astype(str)\\ndf[\\\"ESC\\\"] = df[\\\"ESC\\\"].map(lambda x: x.rstrip(\\\".0\\\"))\\n\\n# Organizando local da ocorr\\u00eancia\\ndf[\\\"LOCOCOR\\\"] = df[\\\"LOCOCOR\\\"].astype(str)\\ndf[\\\"LOCOCOR\\\"] = df[\\\"LOCOCOR\\\"].map(lambda x: x.rstrip(\\\".0\\\"))\\n\\n# Organizando assist\\u00eancia m\\u00e9dia (sim, n\\u00e3o)\\ndf[\\\"ASSISTMED\\\"] = df[\\\"ASSISTMED\\\"].astype(str)\\ndf[\\\"ASSISTMED\\\"] = df[\\\"ASSISTMED\\\"].map(lambda x: x.rstrip(\\\".0\\\"))\\n\\n# Organizando escolaridade da m\\u00e3e\\ndf[\\\"ESCMAE\\\"] = df[\\\"ESCMAE\\\"].astype(str)\\ndf[\\\"ESCMAE\\\"] = df[\\\"ESCMAE\\\"].map(lambda x: x.rstrip(\\\".0\\\"))\\n\\n# Organizando cirurgia (sim, n\\u00e3o)\\ndf[\\\"CIRURGIA\\\"] = df[\\\"CIRURGIA\\\"].astype(str)\\ndf[\\\"CIRURGIA\\\"] = df[\\\"CIRURGIA\\\"].map(lambda x: x.rstrip(\\\".0\\\"))\";\n",
       "                var nbb_cells = Jupyter.notebook.get_cells();\n",
       "                for (var i = 0; i < nbb_cells.length; ++i) {\n",
       "                    if (nbb_cells[i].input_prompt_number == nbb_cell_id) {\n",
       "                        if (nbb_cells[i].get_text() == nbb_unformatted_code) {\n",
       "                             nbb_cells[i].set_text(nbb_formatted_code);\n",
       "                        }\n",
       "                        break;\n",
       "                    }\n",
       "                }\n",
       "            }, 500);\n",
       "            "
      ],
      "text/plain": [
       "<IPython.core.display.Javascript object>"
      ]
     },
     "metadata": {},
     "output_type": "display_data"
    }
   ],
   "source": [
    "# Vários valores vieram como float. Em questão disso, operações de substituição não puderam ser realizadas.\n",
    "\n",
    "df = df.fillna(0)\n",
    "\n",
    "# Organizando sexo\n",
    "df[\"SEXO\"] = df[\"SEXO\"].astype(str)\n",
    "df[\"SEXO\"] = df[\"SEXO\"].map(lambda x: x.rstrip(\".0\"))\n",
    "\n",
    "# Organizando raça/cor\n",
    "df[\"RACACOR\"] = df[\"RACACOR\"].astype(str)\n",
    "df[\"RACACOR\"] = df[\"RACACOR\"].map(lambda x: x.rstrip(\".0\"))\n",
    "\n",
    "# Organizando estado civil\n",
    "df[\"ESTCIV\"] = df[\"ESTCIV\"].astype(str)\n",
    "df[\"ESTCIV\"] = df[\"ESTCIV\"].map(lambda x: x.rstrip(\".0\"))\n",
    "\n",
    "# Organizando escolaridade\n",
    "df[\"ESC\"] = df[\"ESC\"].astype(str)\n",
    "df[\"ESC\"] = df[\"ESC\"].map(lambda x: x.rstrip(\".0\"))\n",
    "\n",
    "# Organizando local da ocorrência\n",
    "df[\"LOCOCOR\"] = df[\"LOCOCOR\"].astype(str)\n",
    "df[\"LOCOCOR\"] = df[\"LOCOCOR\"].map(lambda x: x.rstrip(\".0\"))\n",
    "\n",
    "# Organizando assistência média (sim, não)\n",
    "df[\"ASSISTMED\"] = df[\"ASSISTMED\"].astype(str)\n",
    "df[\"ASSISTMED\"] = df[\"ASSISTMED\"].map(lambda x: x.rstrip(\".0\"))\n",
    "\n",
    "# Organizando escolaridade da mãe\n",
    "df[\"ESCMAE\"] = df[\"ESCMAE\"].astype(str)\n",
    "df[\"ESCMAE\"] = df[\"ESCMAE\"].map(lambda x: x.rstrip(\".0\"))\n",
    "\n",
    "# Organizando cirurgia (sim, não)\n",
    "df[\"CIRURGIA\"] = df[\"CIRURGIA\"].astype(str)\n",
    "df[\"CIRURGIA\"] = df[\"CIRURGIA\"].map(lambda x: x.rstrip(\".0\"))"
   ]
  },
  {
   "cell_type": "code",
   "execution_count": 6,
   "id": "d8f566e2",
   "metadata": {},
   "outputs": [
    {
     "data": {
      "application/javascript": [
       "\n",
       "            setTimeout(function() {\n",
       "                var nbb_cell_id = 6;\n",
       "                var nbb_unformatted_code = \"# Criando dicion\\u00e1rios\\ndicSEXO = {\\n    1 : 'Masculino',\\n    2 : 'Feminino',\\n    0 : 'NA',\\n    9 : 'NA'\\n}\\n\\ndicRACACOR = {\\n    1 : 'Branca',\\n    2 : 'Preta',\\n    3 : 'Amarela',\\n    4 : 'Parda',\\n    5 : 'Ind\\u00edgena',\\n    0 : 'NaN', \\n    6 : 'NaN',\\n    7 : 'NaN',\\n    8 : 'NaN',\\n    9 : 'NaN'\\n}\\n\\ndicESTCIV = {\\n    1 : 'Solteiro',\\n    2 : 'Casado',\\n    3 : 'Vi\\u00favo',\\n    4 : 'Separado judicialmente',\\n    5 : 'Uni\\u00e3o consensual',\\n    0 : 'NaN', \\n    6 : 'NaN',\\n    7 : 'NaN',\\n    8 : 'NaN',\\n    9 : 'NaN'\\n}\\n\\ndicESC = {\\n    1 : 'Nenhuma',\\n    2 : '1 a 3 anos',\\n    3 : '4 a 7 anos',\\n    4 : '8 a 11 anos',\\n    5 : '12 e mais',\\n    8 : 'De 9 a 11 anos',\\n    0 : 'NaN',\\n    6 : 'NaN',\\n    7 : 'NaN',\\n    9 : 'NaN',\\n    ''  : 'NaN'\\n}\\n\\ndictLOCOCOR = {\\n    1 : 'Hospital',\\n    2 : 'Outro estabelecimento de sa\\u00fade',\\n    3 : 'Domic\\u00edlio',\\n    4 : 'Via p\\u00fablica',\\n    5 : 'Outros',\\n    9 : 'NaN'\\n}\\n\\ndictASSISTMED = {\\n    1 : 'Sim',\\n    2 : 'N\\u00e3o',\\n    9 : 'NaN'\\n}\\n\\ndicESCMAE = {\\n    1 : 'Nenhuma',\\n    2 : '1 a 3 anos',\\n    3 : '4 a 7 anos',\\n    4 : '8 a 11 anos',\\n    5 : '12 e mais',\\n    8 : 'De 9 a 11 anos',\\n    0 : 'NaN',\\n    6 : 'NaN',\\n    7 : 'NaN',\\n    9 : 'NaN',\\n    ''  : 'NaN' \\n}\\n\\n\\ndicCIRURGIA = {\\n    1 : 'Sim',\\n    2 : 'N\\u00e3o',\\n    9 : 'NaN'\\n}\\n\\ndf = df_inicial.replace(\\n    {'SEXO' : dicSEXO, \\n     'RACACOR' : dicRACACOR, \\n     'ESTCIV' : dicESTCIV, \\n     'ESC' : dicESC, \\n     'LOCOCOR' : dictLOCOCOR, \\n     'ASSISTMED' : dictASSISTMED,\\n     'ESCMAE' : dicESCMAE,\\n     'CIRURGIA' : dicCIRURGIA\\n    })\";\n",
       "                var nbb_formatted_code = \"# Criando dicion\\u00e1rios\\ndicSEXO = {1: \\\"Masculino\\\", 2: \\\"Feminino\\\", 0: \\\"NA\\\", 9: \\\"NA\\\"}\\n\\ndicRACACOR = {\\n    1: \\\"Branca\\\",\\n    2: \\\"Preta\\\",\\n    3: \\\"Amarela\\\",\\n    4: \\\"Parda\\\",\\n    5: \\\"Ind\\u00edgena\\\",\\n    0: \\\"NaN\\\",\\n    6: \\\"NaN\\\",\\n    7: \\\"NaN\\\",\\n    8: \\\"NaN\\\",\\n    9: \\\"NaN\\\",\\n}\\n\\ndicESTCIV = {\\n    1: \\\"Solteiro\\\",\\n    2: \\\"Casado\\\",\\n    3: \\\"Vi\\u00favo\\\",\\n    4: \\\"Separado judicialmente\\\",\\n    5: \\\"Uni\\u00e3o consensual\\\",\\n    0: \\\"NaN\\\",\\n    6: \\\"NaN\\\",\\n    7: \\\"NaN\\\",\\n    8: \\\"NaN\\\",\\n    9: \\\"NaN\\\",\\n}\\n\\ndicESC = {\\n    1: \\\"Nenhuma\\\",\\n    2: \\\"1 a 3 anos\\\",\\n    3: \\\"4 a 7 anos\\\",\\n    4: \\\"8 a 11 anos\\\",\\n    5: \\\"12 e mais\\\",\\n    8: \\\"De 9 a 11 anos\\\",\\n    0: \\\"NaN\\\",\\n    6: \\\"NaN\\\",\\n    7: \\\"NaN\\\",\\n    9: \\\"NaN\\\",\\n    \\\"\\\": \\\"NaN\\\",\\n}\\n\\ndictLOCOCOR = {\\n    1: \\\"Hospital\\\",\\n    2: \\\"Outro estabelecimento de sa\\u00fade\\\",\\n    3: \\\"Domic\\u00edlio\\\",\\n    4: \\\"Via p\\u00fablica\\\",\\n    5: \\\"Outros\\\",\\n    9: \\\"NaN\\\",\\n}\\n\\ndictASSISTMED = {1: \\\"Sim\\\", 2: \\\"N\\u00e3o\\\", 9: \\\"NaN\\\"}\\n\\ndicESCMAE = {\\n    1: \\\"Nenhuma\\\",\\n    2: \\\"1 a 3 anos\\\",\\n    3: \\\"4 a 7 anos\\\",\\n    4: \\\"8 a 11 anos\\\",\\n    5: \\\"12 e mais\\\",\\n    8: \\\"De 9 a 11 anos\\\",\\n    0: \\\"NaN\\\",\\n    6: \\\"NaN\\\",\\n    7: \\\"NaN\\\",\\n    9: \\\"NaN\\\",\\n    \\\"\\\": \\\"NaN\\\",\\n}\\n\\n\\ndicCIRURGIA = {1: \\\"Sim\\\", 2: \\\"N\\u00e3o\\\", 9: \\\"NaN\\\"}\\n\\ndf = df_inicial.replace(\\n    {\\n        \\\"SEXO\\\": dicSEXO,\\n        \\\"RACACOR\\\": dicRACACOR,\\n        \\\"ESTCIV\\\": dicESTCIV,\\n        \\\"ESC\\\": dicESC,\\n        \\\"LOCOCOR\\\": dictLOCOCOR,\\n        \\\"ASSISTMED\\\": dictASSISTMED,\\n        \\\"ESCMAE\\\": dicESCMAE,\\n        \\\"CIRURGIA\\\": dicCIRURGIA,\\n    }\\n)\";\n",
       "                var nbb_cells = Jupyter.notebook.get_cells();\n",
       "                for (var i = 0; i < nbb_cells.length; ++i) {\n",
       "                    if (nbb_cells[i].input_prompt_number == nbb_cell_id) {\n",
       "                        if (nbb_cells[i].get_text() == nbb_unformatted_code) {\n",
       "                             nbb_cells[i].set_text(nbb_formatted_code);\n",
       "                        }\n",
       "                        break;\n",
       "                    }\n",
       "                }\n",
       "            }, 500);\n",
       "            "
      ],
      "text/plain": [
       "<IPython.core.display.Javascript object>"
      ]
     },
     "metadata": {},
     "output_type": "display_data"
    }
   ],
   "source": [
    "# Criando dicionários\n",
    "dicSEXO = {1: \"Masculino\", 2: \"Feminino\", 0: \"NA\", 9: \"NA\"}\n",
    "\n",
    "dicRACACOR = {\n",
    "    1: \"Branca\",\n",
    "    2: \"Preta\",\n",
    "    3: \"Amarela\",\n",
    "    4: \"Parda\",\n",
    "    5: \"Indígena\",\n",
    "    0: \"NaN\",\n",
    "    6: \"NaN\",\n",
    "    7: \"NaN\",\n",
    "    8: \"NaN\",\n",
    "    9: \"NaN\",\n",
    "}\n",
    "\n",
    "dicESTCIV = {\n",
    "    1: \"Solteiro\",\n",
    "    2: \"Casado\",\n",
    "    3: \"Viúvo\",\n",
    "    4: \"Separado judicialmente\",\n",
    "    5: \"União consensual\",\n",
    "    0: \"NaN\",\n",
    "    6: \"NaN\",\n",
    "    7: \"NaN\",\n",
    "    8: \"NaN\",\n",
    "    9: \"NaN\",\n",
    "}\n",
    "\n",
    "dicESC = {\n",
    "    1: \"Nenhuma\",\n",
    "    2: \"1 a 3 anos\",\n",
    "    3: \"4 a 7 anos\",\n",
    "    4: \"8 a 11 anos\",\n",
    "    5: \"12 e mais\",\n",
    "    8: \"De 9 a 11 anos\",\n",
    "    0: \"NaN\",\n",
    "    6: \"NaN\",\n",
    "    7: \"NaN\",\n",
    "    9: \"NaN\",\n",
    "    \"\": \"NaN\",\n",
    "}\n",
    "\n",
    "dictLOCOCOR = {\n",
    "    1: \"Hospital\",\n",
    "    2: \"Outro estabelecimento de saúde\",\n",
    "    3: \"Domicílio\",\n",
    "    4: \"Via pública\",\n",
    "    5: \"Outros\",\n",
    "    9: \"NaN\",\n",
    "}\n",
    "\n",
    "dictASSISTMED = {1: \"Sim\", 2: \"Não\", 9: \"NaN\"}\n",
    "\n",
    "dicESCMAE = {\n",
    "    1: \"Nenhuma\",\n",
    "    2: \"1 a 3 anos\",\n",
    "    3: \"4 a 7 anos\",\n",
    "    4: \"8 a 11 anos\",\n",
    "    5: \"12 e mais\",\n",
    "    8: \"De 9 a 11 anos\",\n",
    "    0: \"NaN\",\n",
    "    6: \"NaN\",\n",
    "    7: \"NaN\",\n",
    "    9: \"NaN\",\n",
    "    \"\": \"NaN\",\n",
    "}\n",
    "\n",
    "\n",
    "dicCIRURGIA = {1: \"Sim\", 2: \"Não\", 9: \"NaN\"}\n",
    "\n",
    "df = df_inicial.replace(\n",
    "    {\n",
    "        \"SEXO\": dicSEXO,\n",
    "        \"RACACOR\": dicRACACOR,\n",
    "        \"ESTCIV\": dicESTCIV,\n",
    "        \"ESC\": dicESC,\n",
    "        \"LOCOCOR\": dictLOCOCOR,\n",
    "        \"ASSISTMED\": dictASSISTMED,\n",
    "        \"ESCMAE\": dicESCMAE,\n",
    "        \"CIRURGIA\": dicCIRURGIA,\n",
    "    }\n",
    ")"
   ]
  },
  {
   "cell_type": "code",
   "execution_count": 7,
   "id": "7611d98d",
   "metadata": {},
   "outputs": [
    {
     "data": {
      "application/javascript": [
       "\n",
       "            setTimeout(function() {\n",
       "                var nbb_cell_id = 7;\n",
       "                var nbb_unformatted_code = \"# Organizando datas\\ndf['DTNASC'] = df['DTNASC'].astype(str)\\ndf['DTNASC'] = df['DTNASC'].map(lambda x: x.rstrip('.0'))\\ndf['DTOBITO'] = df['DTOBITO'].astype(str)\";\n",
       "                var nbb_formatted_code = \"# Organizando datas\\ndf[\\\"DTNASC\\\"] = df[\\\"DTNASC\\\"].astype(str)\\ndf[\\\"DTNASC\\\"] = df[\\\"DTNASC\\\"].map(lambda x: x.rstrip(\\\".0\\\"))\\ndf[\\\"DTOBITO\\\"] = df[\\\"DTOBITO\\\"].astype(str)\";\n",
       "                var nbb_cells = Jupyter.notebook.get_cells();\n",
       "                for (var i = 0; i < nbb_cells.length; ++i) {\n",
       "                    if (nbb_cells[i].input_prompt_number == nbb_cell_id) {\n",
       "                        if (nbb_cells[i].get_text() == nbb_unformatted_code) {\n",
       "                             nbb_cells[i].set_text(nbb_formatted_code);\n",
       "                        }\n",
       "                        break;\n",
       "                    }\n",
       "                }\n",
       "            }, 500);\n",
       "            "
      ],
      "text/plain": [
       "<IPython.core.display.Javascript object>"
      ]
     },
     "metadata": {},
     "output_type": "display_data"
    }
   ],
   "source": [
    "# Organizando datas\n",
    "df[\"DTNASC\"] = df[\"DTNASC\"].astype(str)\n",
    "df[\"DTNASC\"] = df[\"DTNASC\"].map(lambda x: x.rstrip(\".0\"))\n",
    "df[\"DTOBITO\"] = df[\"DTOBITO\"].astype(str)"
   ]
  },
  {
   "cell_type": "code",
   "execution_count": 8,
   "id": "df58f15a",
   "metadata": {},
   "outputs": [
    {
     "data": {
      "application/javascript": [
       "\n",
       "            setTimeout(function() {\n",
       "                var nbb_cell_id = 8;\n",
       "                var nbb_unformatted_code = \"# Arrumando n\\u00famero de casas\\ndf['DTOBITO'] = df['DTOBITO'].apply(lambda x: x.zfill(8))\\ndf['DTNASC'] = df['DTNASC'].apply(lambda x: x.zfill(8))\";\n",
       "                var nbb_formatted_code = \"# Arrumando n\\u00famero de casas\\ndf[\\\"DTOBITO\\\"] = df[\\\"DTOBITO\\\"].apply(lambda x: x.zfill(8))\\ndf[\\\"DTNASC\\\"] = df[\\\"DTNASC\\\"].apply(lambda x: x.zfill(8))\";\n",
       "                var nbb_cells = Jupyter.notebook.get_cells();\n",
       "                for (var i = 0; i < nbb_cells.length; ++i) {\n",
       "                    if (nbb_cells[i].input_prompt_number == nbb_cell_id) {\n",
       "                        if (nbb_cells[i].get_text() == nbb_unformatted_code) {\n",
       "                             nbb_cells[i].set_text(nbb_formatted_code);\n",
       "                        }\n",
       "                        break;\n",
       "                    }\n",
       "                }\n",
       "            }, 500);\n",
       "            "
      ],
      "text/plain": [
       "<IPython.core.display.Javascript object>"
      ]
     },
     "metadata": {},
     "output_type": "display_data"
    }
   ],
   "source": [
    "# Arrumando número de casas\n",
    "df[\"DTOBITO\"] = df[\"DTOBITO\"].apply(lambda x: x.zfill(8))\n",
    "df[\"DTNASC\"] = df[\"DTNASC\"].apply(lambda x: x.zfill(8))"
   ]
  },
  {
   "cell_type": "code",
   "execution_count": 9,
   "id": "8a74ca42",
   "metadata": {},
   "outputs": [
    {
     "data": {
      "application/javascript": [
       "\n",
       "            setTimeout(function() {\n",
       "                var nbb_cell_id = 9;\n",
       "                var nbb_unformatted_code = \"# Arrumando ocupa\\u00e7\\u00e3o\\ndf['OCUP'] = df['OCUP'].astype(str)\\ndf['OCUP'] = df['OCUP'].apply(lambda x: x.zfill(6))\\n\\nurl_cbo = 'https://raw.githubusercontent.com/daltonbc96/python/master/CBO.csv'\\n\\nCBO2002  = pd.read_csv(url_cbo).set_index('CODIGO').to_dict()\\n\\ndf['OCUP'] = df['OCUP'].fillna(0).astype(str)\\ndf['OCUP'] = df['OCUP'].map(lambda x: x.rstrip('.0'))\\n\\ndf['OCUP'] = df['OCUP'].replace('000nan', 0).astype(int)\\ndf['OCUP'] = df['OCUP'].replace('', 0)\\ndf['OCUP'] = df['OCUP'].replace(CBO2002['OCUPACAO'])\\ndf['OCUP'] = df['OCUP'].replace(0, 'NaN')\";\n",
       "                var nbb_formatted_code = \"# Arrumando ocupa\\u00e7\\u00e3o\\ndf[\\\"OCUP\\\"] = df[\\\"OCUP\\\"].astype(str)\\ndf[\\\"OCUP\\\"] = df[\\\"OCUP\\\"].apply(lambda x: x.zfill(6))\\n\\nurl_cbo = \\\"https://raw.githubusercontent.com/daltonbc96/python/master/CBO.csv\\\"\\n\\nCBO2002 = pd.read_csv(url_cbo).set_index(\\\"CODIGO\\\").to_dict()\\n\\ndf[\\\"OCUP\\\"] = df[\\\"OCUP\\\"].fillna(0).astype(str)\\ndf[\\\"OCUP\\\"] = df[\\\"OCUP\\\"].map(lambda x: x.rstrip(\\\".0\\\"))\\n\\ndf[\\\"OCUP\\\"] = df[\\\"OCUP\\\"].replace(\\\"000nan\\\", 0).astype(int)\\ndf[\\\"OCUP\\\"] = df[\\\"OCUP\\\"].replace(\\\"\\\", 0)\\ndf[\\\"OCUP\\\"] = df[\\\"OCUP\\\"].replace(CBO2002[\\\"OCUPACAO\\\"])\\ndf[\\\"OCUP\\\"] = df[\\\"OCUP\\\"].replace(0, \\\"NaN\\\")\";\n",
       "                var nbb_cells = Jupyter.notebook.get_cells();\n",
       "                for (var i = 0; i < nbb_cells.length; ++i) {\n",
       "                    if (nbb_cells[i].input_prompt_number == nbb_cell_id) {\n",
       "                        if (nbb_cells[i].get_text() == nbb_unformatted_code) {\n",
       "                             nbb_cells[i].set_text(nbb_formatted_code);\n",
       "                        }\n",
       "                        break;\n",
       "                    }\n",
       "                }\n",
       "            }, 500);\n",
       "            "
      ],
      "text/plain": [
       "<IPython.core.display.Javascript object>"
      ]
     },
     "metadata": {},
     "output_type": "display_data"
    }
   ],
   "source": [
    "# Arrumando ocupação\n",
    "df[\"OCUP\"] = df[\"OCUP\"].astype(str)\n",
    "df[\"OCUP\"] = df[\"OCUP\"].apply(lambda x: x.zfill(6))\n",
    "\n",
    "url_cbo = \"https://raw.githubusercontent.com/daltonbc96/python/master/CBO.csv\"\n",
    "\n",
    "CBO2002 = pd.read_csv(url_cbo).set_index(\"CODIGO\").to_dict()\n",
    "\n",
    "df[\"OCUP\"] = df[\"OCUP\"].fillna(0).astype(str)\n",
    "df[\"OCUP\"] = df[\"OCUP\"].map(lambda x: x.rstrip(\".0\"))\n",
    "\n",
    "df[\"OCUP\"] = df[\"OCUP\"].replace(\"000nan\", 0).astype(int)\n",
    "df[\"OCUP\"] = df[\"OCUP\"].replace(\"\", 0)\n",
    "df[\"OCUP\"] = df[\"OCUP\"].replace(CBO2002[\"OCUPACAO\"])\n",
    "df[\"OCUP\"] = df[\"OCUP\"].replace(0, \"NaN\")"
   ]
  },
  {
   "cell_type": "code",
   "execution_count": 10,
   "id": "d90ae0fe",
   "metadata": {},
   "outputs": [
    {
     "name": "stderr",
     "output_type": "stream",
     "text": [
      "C:\\Users\\Willian\\AppData\\Local\\Temp\\ipykernel_15932\\56558885.py:3: FutureWarning: The error_bad_lines argument has been deprecated and will be removed in a future version. Use on_bad_lines in the future.\n",
      "\n",
      "\n",
      "  municipios  = pd.read_csv(url_mun,\n"
     ]
    },
    {
     "data": {
      "application/javascript": [
       "\n",
       "            setTimeout(function() {\n",
       "                var nbb_cell_id = 10;\n",
       "                var nbb_unformatted_code = \"url_mun = 'http://blog.mds.gov.br/redesuas/wp-content/uploads/2018/06/Lista_Munic%C3%ADpios_com_IBGE_Brasil_Versao_CSV.csv'\\n\\nmunicipios  = pd.read_csv(url_mun,\\n                          error_bad_lines = False,\\n                          sep = ';',\\n                          encoding = 'latin-1', \\n                          usecols = ['IBGE','Munic\\u00edpio']).set_index('IBGE').to_dict()\\n\\ndf['CODMUNRES'] = df['CODMUNRES'].astype(int).replace(municipios['Munic\\u00edpio'])\";\n",
       "                var nbb_formatted_code = \"url_mun = \\\"http://blog.mds.gov.br/redesuas/wp-content/uploads/2018/06/Lista_Munic%C3%ADpios_com_IBGE_Brasil_Versao_CSV.csv\\\"\\n\\nmunicipios = (\\n    pd.read_csv(\\n        url_mun,\\n        error_bad_lines=False,\\n        sep=\\\";\\\",\\n        encoding=\\\"latin-1\\\",\\n        usecols=[\\\"IBGE\\\", \\\"Munic\\u00edpio\\\"],\\n    )\\n    .set_index(\\\"IBGE\\\")\\n    .to_dict()\\n)\\n\\ndf[\\\"CODMUNRES\\\"] = df[\\\"CODMUNRES\\\"].astype(int).replace(municipios[\\\"Munic\\u00edpio\\\"])\";\n",
       "                var nbb_cells = Jupyter.notebook.get_cells();\n",
       "                for (var i = 0; i < nbb_cells.length; ++i) {\n",
       "                    if (nbb_cells[i].input_prompt_number == nbb_cell_id) {\n",
       "                        if (nbb_cells[i].get_text() == nbb_unformatted_code) {\n",
       "                             nbb_cells[i].set_text(nbb_formatted_code);\n",
       "                        }\n",
       "                        break;\n",
       "                    }\n",
       "                }\n",
       "            }, 500);\n",
       "            "
      ],
      "text/plain": [
       "<IPython.core.display.Javascript object>"
      ]
     },
     "metadata": {},
     "output_type": "display_data"
    }
   ],
   "source": [
    "url_mun = \"http://blog.mds.gov.br/redesuas/wp-content/uploads/2018/06/Lista_Munic%C3%ADpios_com_IBGE_Brasil_Versao_CSV.csv\"\n",
    "\n",
    "municipios = (\n",
    "    pd.read_csv(\n",
    "        url_mun,\n",
    "        error_bad_lines=False,\n",
    "        sep=\";\",\n",
    "        encoding=\"latin-1\",\n",
    "        usecols=[\"IBGE\", \"Município\"],\n",
    "    )\n",
    "    .set_index(\"IBGE\")\n",
    "    .to_dict()\n",
    ")\n",
    "\n",
    "df[\"CODMUNRES\"] = df[\"CODMUNRES\"].astype(int).replace(municipios[\"Município\"])"
   ]
  },
  {
   "cell_type": "code",
   "execution_count": 11,
   "id": "310279c2",
   "metadata": {},
   "outputs": [
    {
     "data": {
      "text/html": [
       "<div>\n",
       "<style scoped>\n",
       "    .dataframe tbody tr th:only-of-type {\n",
       "        vertical-align: middle;\n",
       "    }\n",
       "\n",
       "    .dataframe tbody tr th {\n",
       "        vertical-align: top;\n",
       "    }\n",
       "\n",
       "    .dataframe thead th {\n",
       "        text-align: right;\n",
       "    }\n",
       "</style>\n",
       "<table border=\"1\" class=\"dataframe\">\n",
       "  <thead>\n",
       "    <tr style=\"text-align: right;\">\n",
       "      <th></th>\n",
       "      <th>Unnamed: 0</th>\n",
       "      <th>estado</th>\n",
       "      <th>ano</th>\n",
       "      <th>DTOBITO</th>\n",
       "      <th>DTNASC</th>\n",
       "      <th>SEXO</th>\n",
       "      <th>RACACOR</th>\n",
       "      <th>ASSISTMED</th>\n",
       "      <th>ESCMAE</th>\n",
       "      <th>ESTCIV</th>\n",
       "      <th>ESC</th>\n",
       "      <th>OCUP</th>\n",
       "      <th>CODMUNRES</th>\n",
       "      <th>CAUSABAS</th>\n",
       "      <th>CAUSABAS_O</th>\n",
       "      <th>LOCOCOR</th>\n",
       "      <th>CIRURGIA</th>\n",
       "      <th>Unnamed: 0.1</th>\n",
       "      <th>index</th>\n",
       "    </tr>\n",
       "  </thead>\n",
       "  <tbody>\n",
       "    <tr>\n",
       "      <th>0</th>\n",
       "      <td>0</td>\n",
       "      <td>AC</td>\n",
       "      <td>2010</td>\n",
       "      <td>31012010</td>\n",
       "      <td>09111999</td>\n",
       "      <td>Masculino</td>\n",
       "      <td>Parda</td>\n",
       "      <td>NaN</td>\n",
       "      <td>NaN</td>\n",
       "      <td>Solteiro</td>\n",
       "      <td>1 a 3 anos</td>\n",
       "      <td>ESTUDANTE</td>\n",
       "      <td>Tarauacá</td>\n",
       "      <td>X780</td>\n",
       "      <td>X780</td>\n",
       "      <td>Via pública</td>\n",
       "      <td>Não</td>\n",
       "      <td>NaN</td>\n",
       "      <td>NaN</td>\n",
       "    </tr>\n",
       "    <tr>\n",
       "      <th>1</th>\n",
       "      <td>1</td>\n",
       "      <td>AC</td>\n",
       "      <td>2010</td>\n",
       "      <td>07022010</td>\n",
       "      <td>23091985</td>\n",
       "      <td>Masculino</td>\n",
       "      <td>Parda</td>\n",
       "      <td>NaN</td>\n",
       "      <td>NaN</td>\n",
       "      <td>Solteiro</td>\n",
       "      <td>1 a 3 anos</td>\n",
       "      <td>ESTUDANTE</td>\n",
       "      <td>Tarauacá</td>\n",
       "      <td>X780</td>\n",
       "      <td>X780</td>\n",
       "      <td>Hospital</td>\n",
       "      <td>Não</td>\n",
       "      <td>NaN</td>\n",
       "      <td>NaN</td>\n",
       "    </tr>\n",
       "    <tr>\n",
       "      <th>2</th>\n",
       "      <td>2</td>\n",
       "      <td>AC</td>\n",
       "      <td>2010</td>\n",
       "      <td>19022010</td>\n",
       "      <td>06081995</td>\n",
       "      <td>Masculino</td>\n",
       "      <td>Parda</td>\n",
       "      <td>NaN</td>\n",
       "      <td>NaN</td>\n",
       "      <td>Solteiro</td>\n",
       "      <td>1 a 3 anos</td>\n",
       "      <td>ESTUDANTE</td>\n",
       "      <td>Tarauacá</td>\n",
       "      <td>X780</td>\n",
       "      <td>X780</td>\n",
       "      <td>Hospital</td>\n",
       "      <td>Não</td>\n",
       "      <td>NaN</td>\n",
       "      <td>NaN</td>\n",
       "    </tr>\n",
       "    <tr>\n",
       "      <th>3</th>\n",
       "      <td>3</td>\n",
       "      <td>AC</td>\n",
       "      <td>2010</td>\n",
       "      <td>20042010</td>\n",
       "      <td>25121983</td>\n",
       "      <td>Feminino</td>\n",
       "      <td>Parda</td>\n",
       "      <td>NaN</td>\n",
       "      <td>NaN</td>\n",
       "      <td>Casado</td>\n",
       "      <td>1 a 3 anos</td>\n",
       "      <td>DONA DE CASA</td>\n",
       "      <td>Tarauacá</td>\n",
       "      <td>X780</td>\n",
       "      <td>X780</td>\n",
       "      <td>Domicílio</td>\n",
       "      <td>Não</td>\n",
       "      <td>NaN</td>\n",
       "      <td>NaN</td>\n",
       "    </tr>\n",
       "    <tr>\n",
       "      <th>4</th>\n",
       "      <td>4</td>\n",
       "      <td>AC</td>\n",
       "      <td>2010</td>\n",
       "      <td>24072010</td>\n",
       "      <td>13051982</td>\n",
       "      <td>Masculino</td>\n",
       "      <td>Parda</td>\n",
       "      <td>NaN</td>\n",
       "      <td>NaN</td>\n",
       "      <td>Casado</td>\n",
       "      <td>NaN</td>\n",
       "      <td>DONA DE CASA</td>\n",
       "      <td>Tarauacá</td>\n",
       "      <td>X720</td>\n",
       "      <td>X720</td>\n",
       "      <td>Domicílio</td>\n",
       "      <td>Não</td>\n",
       "      <td>NaN</td>\n",
       "      <td>NaN</td>\n",
       "    </tr>\n",
       "    <tr>\n",
       "      <th>5</th>\n",
       "      <td>5</td>\n",
       "      <td>AC</td>\n",
       "      <td>2010</td>\n",
       "      <td>30042010</td>\n",
       "      <td>13071967</td>\n",
       "      <td>Feminino</td>\n",
       "      <td>Preta</td>\n",
       "      <td>NaN</td>\n",
       "      <td>NaN</td>\n",
       "      <td>Solteiro</td>\n",
       "      <td>4 a 7 anos</td>\n",
       "      <td>DONA DE CASA</td>\n",
       "      <td>Tarauacá</td>\n",
       "      <td>X780</td>\n",
       "      <td>X780</td>\n",
       "      <td>Hospital</td>\n",
       "      <td>Não</td>\n",
       "      <td>NaN</td>\n",
       "      <td>NaN</td>\n",
       "    </tr>\n",
       "    <tr>\n",
       "      <th>6</th>\n",
       "      <td>6</td>\n",
       "      <td>AC</td>\n",
       "      <td>2010</td>\n",
       "      <td>15012010</td>\n",
       "      <td>05091979</td>\n",
       "      <td>Masculino</td>\n",
       "      <td>Parda</td>\n",
       "      <td>NaN</td>\n",
       "      <td>NaN</td>\n",
       "      <td>Solteiro</td>\n",
       "      <td>4 a 7 anos</td>\n",
       "      <td>NaN</td>\n",
       "      <td>Rio Branco</td>\n",
       "      <td>X700</td>\n",
       "      <td>X700</td>\n",
       "      <td>Domicílio</td>\n",
       "      <td>Não</td>\n",
       "      <td>NaN</td>\n",
       "      <td>NaN</td>\n",
       "    </tr>\n",
       "    <tr>\n",
       "      <th>7</th>\n",
       "      <td>7</td>\n",
       "      <td>AC</td>\n",
       "      <td>2010</td>\n",
       "      <td>16012010</td>\n",
       "      <td>19011994</td>\n",
       "      <td>Masculino</td>\n",
       "      <td>Parda</td>\n",
       "      <td>NaN</td>\n",
       "      <td>NaN</td>\n",
       "      <td>Solteiro</td>\n",
       "      <td>NaN</td>\n",
       "      <td>NaN</td>\n",
       "      <td>Rio Branco</td>\n",
       "      <td>X700</td>\n",
       "      <td>X700</td>\n",
       "      <td>Domicílio</td>\n",
       "      <td>Não</td>\n",
       "      <td>NaN</td>\n",
       "      <td>NaN</td>\n",
       "    </tr>\n",
       "    <tr>\n",
       "      <th>8</th>\n",
       "      <td>8</td>\n",
       "      <td>AC</td>\n",
       "      <td>2010</td>\n",
       "      <td>15092010</td>\n",
       "      <td>14041952</td>\n",
       "      <td>Masculino</td>\n",
       "      <td>Parda</td>\n",
       "      <td>NaN</td>\n",
       "      <td>NaN</td>\n",
       "      <td>Solteiro</td>\n",
       "      <td>NaN</td>\n",
       "      <td>NaN</td>\n",
       "      <td>Rio Branco</td>\n",
       "      <td>X629</td>\n",
       "      <td>R99</td>\n",
       "      <td>Domicílio</td>\n",
       "      <td>NaN</td>\n",
       "      <td>NaN</td>\n",
       "      <td>NaN</td>\n",
       "    </tr>\n",
       "    <tr>\n",
       "      <th>9</th>\n",
       "      <td>9</td>\n",
       "      <td>AC</td>\n",
       "      <td>2010</td>\n",
       "      <td>03092010</td>\n",
       "      <td>14081968</td>\n",
       "      <td>Masculino</td>\n",
       "      <td>Parda</td>\n",
       "      <td>NaN</td>\n",
       "      <td>NaN</td>\n",
       "      <td>Solteiro</td>\n",
       "      <td>NaN</td>\n",
       "      <td>NaN</td>\n",
       "      <td>Epitaciolândia</td>\n",
       "      <td>X747</td>\n",
       "      <td>X747</td>\n",
       "      <td>Domicílio</td>\n",
       "      <td>Não</td>\n",
       "      <td>NaN</td>\n",
       "      <td>NaN</td>\n",
       "    </tr>\n",
       "    <tr>\n",
       "      <th>10</th>\n",
       "      <td>10</td>\n",
       "      <td>AC</td>\n",
       "      <td>2010</td>\n",
       "      <td>05092010</td>\n",
       "      <td>23111971</td>\n",
       "      <td>Masculino</td>\n",
       "      <td>Parda</td>\n",
       "      <td>NaN</td>\n",
       "      <td>NaN</td>\n",
       "      <td>Solteiro</td>\n",
       "      <td>NaN</td>\n",
       "      <td>NaN</td>\n",
       "      <td>Rio Branco</td>\n",
       "      <td>X700</td>\n",
       "      <td>X700</td>\n",
       "      <td>Domicílio</td>\n",
       "      <td>NaN</td>\n",
       "      <td>NaN</td>\n",
       "      <td>NaN</td>\n",
       "    </tr>\n",
       "    <tr>\n",
       "      <th>11</th>\n",
       "      <td>11</td>\n",
       "      <td>AC</td>\n",
       "      <td>2010</td>\n",
       "      <td>25082010</td>\n",
       "      <td>15021954</td>\n",
       "      <td>Masculino</td>\n",
       "      <td>NaN</td>\n",
       "      <td>NaN</td>\n",
       "      <td>NaN</td>\n",
       "      <td>NaN</td>\n",
       "      <td>NaN</td>\n",
       "      <td>NaN</td>\n",
       "      <td>Rio Branco</td>\n",
       "      <td>X700</td>\n",
       "      <td>X700</td>\n",
       "      <td>Domicílio</td>\n",
       "      <td>NaN</td>\n",
       "      <td>NaN</td>\n",
       "      <td>NaN</td>\n",
       "    </tr>\n",
       "    <tr>\n",
       "      <th>12</th>\n",
       "      <td>12</td>\n",
       "      <td>AC</td>\n",
       "      <td>2010</td>\n",
       "      <td>08102010</td>\n",
       "      <td>25121971</td>\n",
       "      <td>Feminino</td>\n",
       "      <td>NaN</td>\n",
       "      <td>NaN</td>\n",
       "      <td>NaN</td>\n",
       "      <td>Casado</td>\n",
       "      <td>NaN</td>\n",
       "      <td>NaN</td>\n",
       "      <td>Rio Branco</td>\n",
       "      <td>X699</td>\n",
       "      <td>X699</td>\n",
       "      <td>Domicílio</td>\n",
       "      <td>Não</td>\n",
       "      <td>NaN</td>\n",
       "      <td>NaN</td>\n",
       "    </tr>\n",
       "    <tr>\n",
       "      <th>13</th>\n",
       "      <td>13</td>\n",
       "      <td>AC</td>\n",
       "      <td>2010</td>\n",
       "      <td>22102010</td>\n",
       "      <td>02501199</td>\n",
       "      <td>Masculino</td>\n",
       "      <td>Parda</td>\n",
       "      <td>NaN</td>\n",
       "      <td>NaN</td>\n",
       "      <td>Solteiro</td>\n",
       "      <td>NaN</td>\n",
       "      <td>NaN</td>\n",
       "      <td>Rio Branco</td>\n",
       "      <td>X709</td>\n",
       "      <td>X709</td>\n",
       "      <td>Domicílio</td>\n",
       "      <td>NaN</td>\n",
       "      <td>NaN</td>\n",
       "      <td>NaN</td>\n",
       "    </tr>\n",
       "    <tr>\n",
       "      <th>14</th>\n",
       "      <td>14</td>\n",
       "      <td>AC</td>\n",
       "      <td>2010</td>\n",
       "      <td>18102010</td>\n",
       "      <td>06101984</td>\n",
       "      <td>Masculino</td>\n",
       "      <td>Parda</td>\n",
       "      <td>NaN</td>\n",
       "      <td>NaN</td>\n",
       "      <td>Solteiro</td>\n",
       "      <td>NaN</td>\n",
       "      <td>NaN</td>\n",
       "      <td>Porto Acre</td>\n",
       "      <td>X740</td>\n",
       "      <td>X740</td>\n",
       "      <td>Outros</td>\n",
       "      <td>NaN</td>\n",
       "      <td>NaN</td>\n",
       "      <td>NaN</td>\n",
       "    </tr>\n",
       "    <tr>\n",
       "      <th>15</th>\n",
       "      <td>15</td>\n",
       "      <td>AC</td>\n",
       "      <td>2010</td>\n",
       "      <td>25102010</td>\n",
       "      <td>14091995</td>\n",
       "      <td>Masculino</td>\n",
       "      <td>Branca</td>\n",
       "      <td>NaN</td>\n",
       "      <td>NaN</td>\n",
       "      <td>Solteiro</td>\n",
       "      <td>NaN</td>\n",
       "      <td>NaN</td>\n",
       "      <td>Rio Branco</td>\n",
       "      <td>X749</td>\n",
       "      <td>X749</td>\n",
       "      <td>Domicílio</td>\n",
       "      <td>Não</td>\n",
       "      <td>NaN</td>\n",
       "      <td>NaN</td>\n",
       "    </tr>\n",
       "    <tr>\n",
       "      <th>16</th>\n",
       "      <td>16</td>\n",
       "      <td>AC</td>\n",
       "      <td>2010</td>\n",
       "      <td>11052010</td>\n",
       "      <td>21121948</td>\n",
       "      <td>Masculino</td>\n",
       "      <td>Branca</td>\n",
       "      <td>NaN</td>\n",
       "      <td>NaN</td>\n",
       "      <td>Solteiro</td>\n",
       "      <td>NaN</td>\n",
       "      <td>APOSENTADO/PENSIONISTA</td>\n",
       "      <td>Rio Branco</td>\n",
       "      <td>X629</td>\n",
       "      <td>R98</td>\n",
       "      <td>Domicílio</td>\n",
       "      <td>NaN</td>\n",
       "      <td>NaN</td>\n",
       "      <td>NaN</td>\n",
       "    </tr>\n",
       "    <tr>\n",
       "      <th>17</th>\n",
       "      <td>17</td>\n",
       "      <td>AC</td>\n",
       "      <td>2010</td>\n",
       "      <td>15012010</td>\n",
       "      <td>31121995</td>\n",
       "      <td>Feminino</td>\n",
       "      <td>Amarela</td>\n",
       "      <td>NaN</td>\n",
       "      <td>NaN</td>\n",
       "      <td>Solteiro</td>\n",
       "      <td>NaN</td>\n",
       "      <td>ESTUDANTE</td>\n",
       "      <td>Rio Branco</td>\n",
       "      <td>X689</td>\n",
       "      <td>X689</td>\n",
       "      <td>Hospital</td>\n",
       "      <td>Não</td>\n",
       "      <td>NaN</td>\n",
       "      <td>NaN</td>\n",
       "    </tr>\n",
       "    <tr>\n",
       "      <th>18</th>\n",
       "      <td>18</td>\n",
       "      <td>AC</td>\n",
       "      <td>2010</td>\n",
       "      <td>18032010</td>\n",
       "      <td>06071981</td>\n",
       "      <td>Masculino</td>\n",
       "      <td>NaN</td>\n",
       "      <td>NaN</td>\n",
       "      <td>NaN</td>\n",
       "      <td>NaN</td>\n",
       "      <td>NaN</td>\n",
       "      <td>NaN</td>\n",
       "      <td>Rio Branco</td>\n",
       "      <td>X709</td>\n",
       "      <td>X709</td>\n",
       "      <td>Domicílio</td>\n",
       "      <td>NaN</td>\n",
       "      <td>NaN</td>\n",
       "      <td>NaN</td>\n",
       "    </tr>\n",
       "    <tr>\n",
       "      <th>19</th>\n",
       "      <td>19</td>\n",
       "      <td>AC</td>\n",
       "      <td>2010</td>\n",
       "      <td>19032010</td>\n",
       "      <td>06081987</td>\n",
       "      <td>Masculino</td>\n",
       "      <td>Parda</td>\n",
       "      <td>NaN</td>\n",
       "      <td>NaN</td>\n",
       "      <td>Solteiro</td>\n",
       "      <td>8 a 11 anos</td>\n",
       "      <td>ESTUDANTE</td>\n",
       "      <td>Rio Branco</td>\n",
       "      <td>X700</td>\n",
       "      <td>X700</td>\n",
       "      <td>Domicílio</td>\n",
       "      <td>Não</td>\n",
       "      <td>NaN</td>\n",
       "      <td>NaN</td>\n",
       "    </tr>\n",
       "  </tbody>\n",
       "</table>\n",
       "</div>"
      ],
      "text/plain": [
       "    Unnamed: 0 estado   ano   DTOBITO    DTNASC       SEXO  RACACOR ASSISTMED  \\\n",
       "0            0     AC  2010  31012010  09111999  Masculino    Parda       NaN   \n",
       "1            1     AC  2010  07022010  23091985  Masculino    Parda       NaN   \n",
       "2            2     AC  2010  19022010  06081995  Masculino    Parda       NaN   \n",
       "3            3     AC  2010  20042010  25121983   Feminino    Parda       NaN   \n",
       "4            4     AC  2010  24072010  13051982  Masculino    Parda       NaN   \n",
       "5            5     AC  2010  30042010  13071967   Feminino    Preta       NaN   \n",
       "6            6     AC  2010  15012010  05091979  Masculino    Parda       NaN   \n",
       "7            7     AC  2010  16012010  19011994  Masculino    Parda       NaN   \n",
       "8            8     AC  2010  15092010  14041952  Masculino    Parda       NaN   \n",
       "9            9     AC  2010  03092010  14081968  Masculino    Parda       NaN   \n",
       "10          10     AC  2010  05092010  23111971  Masculino    Parda       NaN   \n",
       "11          11     AC  2010  25082010  15021954  Masculino      NaN       NaN   \n",
       "12          12     AC  2010  08102010  25121971   Feminino      NaN       NaN   \n",
       "13          13     AC  2010  22102010  02501199  Masculino    Parda       NaN   \n",
       "14          14     AC  2010  18102010  06101984  Masculino    Parda       NaN   \n",
       "15          15     AC  2010  25102010  14091995  Masculino   Branca       NaN   \n",
       "16          16     AC  2010  11052010  21121948  Masculino   Branca       NaN   \n",
       "17          17     AC  2010  15012010  31121995   Feminino  Amarela       NaN   \n",
       "18          18     AC  2010  18032010  06071981  Masculino      NaN       NaN   \n",
       "19          19     AC  2010  19032010  06081987  Masculino    Parda       NaN   \n",
       "\n",
       "   ESCMAE    ESTCIV          ESC                    OCUP       CODMUNRES  \\\n",
       "0     NaN  Solteiro   1 a 3 anos               ESTUDANTE        Tarauacá   \n",
       "1     NaN  Solteiro   1 a 3 anos               ESTUDANTE        Tarauacá   \n",
       "2     NaN  Solteiro   1 a 3 anos               ESTUDANTE        Tarauacá   \n",
       "3     NaN    Casado   1 a 3 anos            DONA DE CASA        Tarauacá   \n",
       "4     NaN    Casado          NaN            DONA DE CASA        Tarauacá   \n",
       "5     NaN  Solteiro   4 a 7 anos            DONA DE CASA        Tarauacá   \n",
       "6     NaN  Solteiro   4 a 7 anos                     NaN      Rio Branco   \n",
       "7     NaN  Solteiro          NaN                     NaN      Rio Branco   \n",
       "8     NaN  Solteiro          NaN                     NaN      Rio Branco   \n",
       "9     NaN  Solteiro          NaN                     NaN  Epitaciolândia   \n",
       "10    NaN  Solteiro          NaN                     NaN      Rio Branco   \n",
       "11    NaN       NaN          NaN                     NaN      Rio Branco   \n",
       "12    NaN    Casado          NaN                     NaN      Rio Branco   \n",
       "13    NaN  Solteiro          NaN                     NaN      Rio Branco   \n",
       "14    NaN  Solteiro          NaN                     NaN      Porto Acre   \n",
       "15    NaN  Solteiro          NaN                     NaN      Rio Branco   \n",
       "16    NaN  Solteiro          NaN  APOSENTADO/PENSIONISTA      Rio Branco   \n",
       "17    NaN  Solteiro          NaN               ESTUDANTE      Rio Branco   \n",
       "18    NaN       NaN          NaN                     NaN      Rio Branco   \n",
       "19    NaN  Solteiro  8 a 11 anos               ESTUDANTE      Rio Branco   \n",
       "\n",
       "    CAUSABAS  CAUSABAS_O      LOCOCOR CIRURGIA  Unnamed: 0.1  index  \n",
       "0   X780      X780        Via pública      Não           NaN    NaN  \n",
       "1   X780      X780           Hospital      Não           NaN    NaN  \n",
       "2   X780      X780           Hospital      Não           NaN    NaN  \n",
       "3   X780      X780          Domicílio      Não           NaN    NaN  \n",
       "4   X720      X720          Domicílio      Não           NaN    NaN  \n",
       "5   X780      X780           Hospital      Não           NaN    NaN  \n",
       "6   X700      X700          Domicílio      Não           NaN    NaN  \n",
       "7   X700      X700          Domicílio      Não           NaN    NaN  \n",
       "8   X629      R99           Domicílio      NaN           NaN    NaN  \n",
       "9   X747      X747          Domicílio      Não           NaN    NaN  \n",
       "10  X700      X700          Domicílio      NaN           NaN    NaN  \n",
       "11  X700      X700          Domicílio      NaN           NaN    NaN  \n",
       "12  X699      X699          Domicílio      Não           NaN    NaN  \n",
       "13  X709      X709          Domicílio      NaN           NaN    NaN  \n",
       "14  X740      X740             Outros      NaN           NaN    NaN  \n",
       "15  X749      X749          Domicílio      Não           NaN    NaN  \n",
       "16  X629      R98           Domicílio      NaN           NaN    NaN  \n",
       "17  X689      X689           Hospital      Não           NaN    NaN  \n",
       "18  X709      X709          Domicílio      NaN           NaN    NaN  \n",
       "19  X700      X700          Domicílio      Não           NaN    NaN  "
      ]
     },
     "execution_count": 11,
     "metadata": {},
     "output_type": "execute_result"
    },
    {
     "data": {
      "application/javascript": [
       "\n",
       "            setTimeout(function() {\n",
       "                var nbb_cell_id = 11;\n",
       "                var nbb_unformatted_code = \"df.head(n = 20)\";\n",
       "                var nbb_formatted_code = \"df.head(n=20)\";\n",
       "                var nbb_cells = Jupyter.notebook.get_cells();\n",
       "                for (var i = 0; i < nbb_cells.length; ++i) {\n",
       "                    if (nbb_cells[i].input_prompt_number == nbb_cell_id) {\n",
       "                        if (nbb_cells[i].get_text() == nbb_unformatted_code) {\n",
       "                             nbb_cells[i].set_text(nbb_formatted_code);\n",
       "                        }\n",
       "                        break;\n",
       "                    }\n",
       "                }\n",
       "            }, 500);\n",
       "            "
      ],
      "text/plain": [
       "<IPython.core.display.Javascript object>"
      ]
     },
     "metadata": {},
     "output_type": "display_data"
    }
   ],
   "source": [
    "df.head(n=20)"
   ]
  },
  {
   "cell_type": "code",
   "execution_count": 12,
   "id": "b9a7a611",
   "metadata": {},
   "outputs": [
    {
     "data": {
      "text/plain": [
       "(141315, 19)"
      ]
     },
     "execution_count": 12,
     "metadata": {},
     "output_type": "execute_result"
    },
    {
     "data": {
      "application/javascript": [
       "\n",
       "            setTimeout(function() {\n",
       "                var nbb_cell_id = 12;\n",
       "                var nbb_unformatted_code = \"df.shape\";\n",
       "                var nbb_formatted_code = \"df.shape\";\n",
       "                var nbb_cells = Jupyter.notebook.get_cells();\n",
       "                for (var i = 0; i < nbb_cells.length; ++i) {\n",
       "                    if (nbb_cells[i].input_prompt_number == nbb_cell_id) {\n",
       "                        if (nbb_cells[i].get_text() == nbb_unformatted_code) {\n",
       "                             nbb_cells[i].set_text(nbb_formatted_code);\n",
       "                        }\n",
       "                        break;\n",
       "                    }\n",
       "                }\n",
       "            }, 500);\n",
       "            "
      ],
      "text/plain": [
       "<IPython.core.display.Javascript object>"
      ]
     },
     "metadata": {},
     "output_type": "display_data"
    }
   ],
   "source": [
    "df.shape"
   ]
  },
  {
   "cell_type": "code",
   "execution_count": 13,
   "id": "7adb026a",
   "metadata": {},
   "outputs": [
    {
     "data": {
      "application/javascript": [
       "\n",
       "            setTimeout(function() {\n",
       "                var nbb_cell_id = 13;\n",
       "                var nbb_unformatted_code = \"df = df.drop([\\\"Unnamed: 0\\\", \\\"index\\\", \\\"Unnamed: 0.1\\\", \\\"CIRURGIA\\\", \\\"ESCMAE\\\"], axis=1)\";\n",
       "                var nbb_formatted_code = \"df = df.drop([\\\"Unnamed: 0\\\", \\\"index\\\", \\\"Unnamed: 0.1\\\", \\\"CIRURGIA\\\", \\\"ESCMAE\\\"], axis=1)\";\n",
       "                var nbb_cells = Jupyter.notebook.get_cells();\n",
       "                for (var i = 0; i < nbb_cells.length; ++i) {\n",
       "                    if (nbb_cells[i].input_prompt_number == nbb_cell_id) {\n",
       "                        if (nbb_cells[i].get_text() == nbb_unformatted_code) {\n",
       "                             nbb_cells[i].set_text(nbb_formatted_code);\n",
       "                        }\n",
       "                        break;\n",
       "                    }\n",
       "                }\n",
       "            }, 500);\n",
       "            "
      ],
      "text/plain": [
       "<IPython.core.display.Javascript object>"
      ]
     },
     "metadata": {},
     "output_type": "display_data"
    }
   ],
   "source": [
    "df = df.drop([\"Unnamed: 0\", \"index\", \"Unnamed: 0.1\", \"CIRURGIA\", \"ESCMAE\"], axis=1)"
   ]
  },
  {
   "cell_type": "code",
   "execution_count": 14,
   "id": "c2b00f77",
   "metadata": {},
   "outputs": [
    {
     "data": {
      "text/plain": [
       "(141315, 14)"
      ]
     },
     "execution_count": 14,
     "metadata": {},
     "output_type": "execute_result"
    },
    {
     "data": {
      "application/javascript": [
       "\n",
       "            setTimeout(function() {\n",
       "                var nbb_cell_id = 14;\n",
       "                var nbb_unformatted_code = \"df.shape\";\n",
       "                var nbb_formatted_code = \"df.shape\";\n",
       "                var nbb_cells = Jupyter.notebook.get_cells();\n",
       "                for (var i = 0; i < nbb_cells.length; ++i) {\n",
       "                    if (nbb_cells[i].input_prompt_number == nbb_cell_id) {\n",
       "                        if (nbb_cells[i].get_text() == nbb_unformatted_code) {\n",
       "                             nbb_cells[i].set_text(nbb_formatted_code);\n",
       "                        }\n",
       "                        break;\n",
       "                    }\n",
       "                }\n",
       "            }, 500);\n",
       "            "
      ],
      "text/plain": [
       "<IPython.core.display.Javascript object>"
      ]
     },
     "metadata": {},
     "output_type": "display_data"
    }
   ],
   "source": [
    "df.shape"
   ]
  },
  {
   "cell_type": "code",
   "execution_count": 15,
   "id": "fb7b28f0",
   "metadata": {},
   "outputs": [
    {
     "data": {
      "application/javascript": [
       "\n",
       "            setTimeout(function() {\n",
       "                var nbb_cell_id = 15;\n",
       "                var nbb_unformatted_code = \"df.to_csv('df_All.csv')\";\n",
       "                var nbb_formatted_code = \"df.to_csv(\\\"df_All.csv\\\")\";\n",
       "                var nbb_cells = Jupyter.notebook.get_cells();\n",
       "                for (var i = 0; i < nbb_cells.length; ++i) {\n",
       "                    if (nbb_cells[i].input_prompt_number == nbb_cell_id) {\n",
       "                        if (nbb_cells[i].get_text() == nbb_unformatted_code) {\n",
       "                             nbb_cells[i].set_text(nbb_formatted_code);\n",
       "                        }\n",
       "                        break;\n",
       "                    }\n",
       "                }\n",
       "            }, 500);\n",
       "            "
      ],
      "text/plain": [
       "<IPython.core.display.Javascript object>"
      ]
     },
     "metadata": {},
     "output_type": "display_data"
    }
   ],
   "source": [
    "df.to_csv(\"df_All.csv\")"
   ]
  },
  {
   "cell_type": "code",
   "execution_count": null,
   "id": "42c1e6cd",
   "metadata": {},
   "outputs": [],
   "source": []
  }
 ],
 "metadata": {
  "kernelspec": {
   "display_name": "Python 3 (ipykernel)",
   "language": "python",
   "name": "python3"
  },
  "language_info": {
   "codemirror_mode": {
    "name": "ipython",
    "version": 3
   },
   "file_extension": ".py",
   "mimetype": "text/x-python",
   "name": "python",
   "nbconvert_exporter": "python",
   "pygments_lexer": "ipython3",
   "version": "3.9.7"
  }
 },
 "nbformat": 4,
 "nbformat_minor": 5
}
