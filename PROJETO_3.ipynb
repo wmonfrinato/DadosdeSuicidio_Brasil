{
  "nbformat": 4,
  "nbformat_minor": 0,
  "metadata": {
    "colab": {
      "provenance": []
    },
    "kernelspec": {
      "name": "python3",
      "display_name": "Python 3"
    },
    "language_info": {
      "name": "python"
    }
  },
  "cells": [
    {
      "cell_type": "code",
      "execution_count": null,
      "metadata": {
        "id": "RfHsj1j1vTtD"
      },
      "outputs": [],
      "source": [
        "from pysus.online_data import SIM, parquets_to_dataframe\n",
        "from pysus.preprocessing.decoders import decodifica_idade_SIM, translate_variables_SIM\n",
        "from pysus.online_data.SIM import download"
      ]
    },
    {
      "cell_type": "code",
      "source": [
        "pip install pysus"
      ],
      "metadata": {
        "id": "bs74c6KQvUkZ"
      },
      "execution_count": null,
      "outputs": []
    },
    {
      "cell_type": "code",
      "source": [
        "import datetime\n",
        "import pandas as pd\n",
        "%config Completer.use_jedi = False # this speeds up autocomplete\n",
        "import numpy as np"
      ],
      "metadata": {
        "id": "XKO5-E_pvZ34"
      },
      "execution_count": null,
      "outputs": []
    },
    {
      "cell_type": "code",
      "source": [
        "df = parquets_to_dataframe(SIM.download('AL',2019))\n",
        "df"
      ],
      "metadata": {
        "id": "2Eo-5pXivuSU"
      },
      "execution_count": null,
      "outputs": []
    },
    {
      "cell_type": "code",
      "source": [
        "estados = ['AC','AL','AP','AM','BA','CE','DF','ES','GO',\n",
        "          'MA','MT','MS','MG','PA','PB','PR','PE','PI',\n",
        "          'RJ','RN','RS','RO','RR','SC','SP','SE','TO']\n",
        "\n",
        "ano = [2010]\n"
      ],
      "metadata": {
        "id": "ZI3WFM9Sv1nJ"
      },
      "execution_count": null,
      "outputs": []
    },
    {
      "cell_type": "markdown",
      "source": [
        "# 2010\n"
      ],
      "metadata": {
        "id": "i6uMHVM6O0oN"
      }
    },
    {
      "cell_type": "code",
      "source": [],
      "metadata": {
        "id": "rje0B_hbO_zD"
      },
      "execution_count": null,
      "outputs": []
    },
    {
      "cell_type": "markdown",
      "source": [
        "# ACRE"
      ],
      "metadata": {
        "id": "mr1OF-MgacOq"
      }
    },
    {
      "cell_type": "code",
      "source": [
        "ac_2010 = parquets_to_dataframe(download('AC', 2010))\n",
        "ac_2011 = parquets_to_dataframe(download('AC', 2011))\n",
        "ac_2012 = parquets_to_dataframe(download('AC', 2012))\n",
        "ac_2013 = parquets_to_dataframe(download('AC', 2013))\n",
        "ac_2014 = parquets_to_dataframe(download('AC', 2014))\n",
        "ac_2015 = parquets_to_dataframe(download('AC', 2015))\n",
        "ac_2016 = parquets_to_dataframe(download('AC', 2016))\n",
        "ac_2017 = parquets_to_dataframe(download('AC', 2017))\n",
        "ac_2018 = parquets_to_dataframe(download('AC', 2018))\n",
        "ac_2019 = parquets_to_dataframe(download('AC', 2019))\n",
        "ac_2020 = parquets_to_dataframe(download('AC', 2020))\n",
        "ac_2021 = parquets_to_dataframe(download('AC', 2021))"
      ],
      "metadata": {
        "id": "bf6xMpVMyT9j"
      },
      "execution_count": null,
      "outputs": []
    },
    {
      "cell_type": "code",
      "source": [
        "# Imprime o número de linhas e colunas de cada DataFrame\n",
        "for ac_ano in [ac_2010, ac_2011, ac_2012, ac_2013, ac_2014, ac_2015, ac_2016, ac_2017, ac_2018, ac_2019, ac_2020, ac_2021]:\n",
        "    print(f\"O DataFrame tem {ac_ano.shape[0]} linhas e {ac_ano.shape[1]} colunas\")"
      ],
      "metadata": {
        "colab": {
          "base_uri": "https://localhost:8080/"
        },
        "id": "BcR4ntjPWlNw",
        "outputId": "cde810aa-b9c3-4371-b75c-90bc653ae155"
      },
      "execution_count": null,
      "outputs": [
        {
          "output_type": "stream",
          "name": "stdout",
          "text": [
            "O DataFrame tem 3009 linhas e 59 colunas\n",
            "O DataFrame tem 3157 linhas e 62 colunas\n",
            "O DataFrame tem 3293 linhas e 77 colunas\n",
            "O DataFrame tem 3318 linhas e 73 colunas\n",
            "O DataFrame tem 3476 linhas e 88 colunas\n",
            "O DataFrame tem 3517 linhas e 88 colunas\n",
            "O DataFrame tem 3763 linhas e 88 colunas\n",
            "O DataFrame tem 3832 linhas e 88 colunas\n",
            "O DataFrame tem 4094 linhas e 88 colunas\n",
            "O DataFrame tem 4098 linhas e 87 colunas\n",
            "O DataFrame tem 4860 linhas e 87 colunas\n",
            "O DataFrame tem 5496 linhas e 87 colunas\n"
          ]
        }
      ]
    },
    {
      "cell_type": "code",
      "source": [
        "ac_2010['estado'] = 'AC'\n",
        "ac_2010['ano'] = 2010\n",
        "\n",
        "ac_2011['estado'] = 'AC'\n",
        "ac_2011['ano'] = 2011\n",
        "\n",
        "ac_2012['estado'] = 'AC'\n",
        "ac_2012['ano'] = 2012\n",
        "\n",
        "ac_2013['estado'] = 'AC'\n",
        "ac_2013['ano'] = 2013\n",
        "\n",
        "ac_2014['estado'] = 'AC'\n",
        "ac_2014['ano'] = 2014\n",
        "\n",
        "ac_2015['estado'] = 'AC'\n",
        "ac_2015['ano'] = 2015\n",
        "\n",
        "ac_2016['estado'] = 'AC'\n",
        "ac_2016['ano'] = 2016\n",
        "\n",
        "ac_2017['estado'] = 'AC'\n",
        "ac_2017['ano'] = 2017\n",
        "\n",
        "ac_2018['estado'] = 'AC'\n",
        "ac_2018['ano'] = 2018\n",
        "\n",
        "ac_2019['estado'] = 'AC'\n",
        "ac_2019['ano'] = 2019\n",
        "\n",
        "ac_2020['estado'] = 'AC'\n",
        "ac_2020['ano'] = 2020\n",
        "\n",
        "ac_2021['estado'] = 'AC'\n",
        "ac_2021['ano'] = 2021\n"
      ],
      "metadata": {
        "id": "oieR_NsEWrvx"
      },
      "execution_count": null,
      "outputs": []
    },
    {
      "cell_type": "code",
      "source": [
        "cols_to_keep = ['estado', 'ano', 'DTOBITO', 'DTNASC', 'SEXO', 'RACACOR',\n",
        "                'ASSISTMED', 'ESCMAE', 'ESTCIV', 'ESC', 'OCUP', 'CODMUNRES',\n",
        "                'CAUSABAS', 'CAUSABAS_O', 'LOCOCOR', 'CIRURGIA']\n"
      ],
      "metadata": {
        "id": "IpbdcF6oWrsn"
      },
      "execution_count": null,
      "outputs": []
    },
    {
      "cell_type": "code",
      "source": [
        "ac_2010 = ac_2010[cols_to_keep]\n",
        "ac_2011 = ac_2011[cols_to_keep]\n",
        "ac_2012 = ac_2012[cols_to_keep]\n",
        "ac_2013 = ac_2013[cols_to_keep]\n",
        "ac_2014 = ac_2014[cols_to_keep]"
      ],
      "metadata": {
        "colab": {
          "base_uri": "https://localhost:8080/",
          "height": 423
        },
        "id": "9U2o4hUCWro4",
        "outputId": "496bb8c2-443c-4180-e444-999c8d2b0c6e"
      },
      "execution_count": null,
      "outputs": [
        {
          "output_type": "execute_result",
          "data": {
            "text/plain": [
              "     estado   ano   DTOBITO    DTNASC  SEXO  RACACOR ASSISTMED  ESCMAE  \\\n",
              "0        AC  2010  06082010  09041945     2                              \n",
              "1        AC  2010  06082010  20011912     1                              \n",
              "2        AC  2010  02102010  17032010     2  4                           \n",
              "3        AC  2010  07042010  07042010     2  1                  1        \n",
              "4        AC  2010  13052010  04081971     1  1                           \n",
              "...     ...   ...       ...       ...   ...      ...       ...     ...   \n",
              "3004     AC  2010  28092010  20041958     2  4                           \n",
              "3005     AC  2010  14102010  24031928     1  1                           \n",
              "3006     AC  2010  21112010  11121955     2  1                           \n",
              "3007     AC  2010  10112010  07071955     1  1                           \n",
              "3008     AC  2010  10102010  07051976     2  4                           \n",
              "\n",
              "      ESTCIV  ESC OCUP  CODMUNRES  CAUSABAS  CAUSABAS_O  LOCOCOR  CIRURGIA  \n",
              "0     1       1            120040  R98       R98         3                  \n",
              "1     1       2            120040  I219      R98         3                  \n",
              "2                          120040  R98       R98         3                  \n",
              "3                          120042  P969      O689        4        2         \n",
              "4     1       3            120020  X999      X999        4        2         \n",
              "...      ...  ...  ...        ...       ...         ...      ...       ...  \n",
              "3004          0            120040  I619      I619        1                  \n",
              "3005  2       0            120040  I219      I219        1                  \n",
              "3006          0            120040  C349      C349        1                  \n",
              "3007                       120000  C787      C787        1                  \n",
              "3008  3       9            120040  I609      I609        1        9         \n",
              "\n",
              "[3009 rows x 16 columns]"
            ],
            "text/html": [
              "\n",
              "  <div id=\"df-71458a4d-bd5c-4b2b-a5d9-b06ec1397f93\">\n",
              "    <div class=\"colab-df-container\">\n",
              "      <div>\n",
              "<style scoped>\n",
              "    .dataframe tbody tr th:only-of-type {\n",
              "        vertical-align: middle;\n",
              "    }\n",
              "\n",
              "    .dataframe tbody tr th {\n",
              "        vertical-align: top;\n",
              "    }\n",
              "\n",
              "    .dataframe thead th {\n",
              "        text-align: right;\n",
              "    }\n",
              "</style>\n",
              "<table border=\"1\" class=\"dataframe\">\n",
              "  <thead>\n",
              "    <tr style=\"text-align: right;\">\n",
              "      <th></th>\n",
              "      <th>estado</th>\n",
              "      <th>ano</th>\n",
              "      <th>DTOBITO</th>\n",
              "      <th>DTNASC</th>\n",
              "      <th>SEXO</th>\n",
              "      <th>RACACOR</th>\n",
              "      <th>ASSISTMED</th>\n",
              "      <th>ESCMAE</th>\n",
              "      <th>ESTCIV</th>\n",
              "      <th>ESC</th>\n",
              "      <th>OCUP</th>\n",
              "      <th>CODMUNRES</th>\n",
              "      <th>CAUSABAS</th>\n",
              "      <th>CAUSABAS_O</th>\n",
              "      <th>LOCOCOR</th>\n",
              "      <th>CIRURGIA</th>\n",
              "    </tr>\n",
              "  </thead>\n",
              "  <tbody>\n",
              "    <tr>\n",
              "      <th>0</th>\n",
              "      <td>AC</td>\n",
              "      <td>2010</td>\n",
              "      <td>06082010</td>\n",
              "      <td>09041945</td>\n",
              "      <td>2</td>\n",
              "      <td></td>\n",
              "      <td></td>\n",
              "      <td></td>\n",
              "      <td>1</td>\n",
              "      <td>1</td>\n",
              "      <td></td>\n",
              "      <td>120040</td>\n",
              "      <td>R98</td>\n",
              "      <td>R98</td>\n",
              "      <td>3</td>\n",
              "      <td></td>\n",
              "    </tr>\n",
              "    <tr>\n",
              "      <th>1</th>\n",
              "      <td>AC</td>\n",
              "      <td>2010</td>\n",
              "      <td>06082010</td>\n",
              "      <td>20011912</td>\n",
              "      <td>1</td>\n",
              "      <td></td>\n",
              "      <td></td>\n",
              "      <td></td>\n",
              "      <td>1</td>\n",
              "      <td>2</td>\n",
              "      <td></td>\n",
              "      <td>120040</td>\n",
              "      <td>I219</td>\n",
              "      <td>R98</td>\n",
              "      <td>3</td>\n",
              "      <td></td>\n",
              "    </tr>\n",
              "    <tr>\n",
              "      <th>2</th>\n",
              "      <td>AC</td>\n",
              "      <td>2010</td>\n",
              "      <td>02102010</td>\n",
              "      <td>17032010</td>\n",
              "      <td>2</td>\n",
              "      <td>4</td>\n",
              "      <td></td>\n",
              "      <td></td>\n",
              "      <td></td>\n",
              "      <td></td>\n",
              "      <td></td>\n",
              "      <td>120040</td>\n",
              "      <td>R98</td>\n",
              "      <td>R98</td>\n",
              "      <td>3</td>\n",
              "      <td></td>\n",
              "    </tr>\n",
              "    <tr>\n",
              "      <th>3</th>\n",
              "      <td>AC</td>\n",
              "      <td>2010</td>\n",
              "      <td>07042010</td>\n",
              "      <td>07042010</td>\n",
              "      <td>2</td>\n",
              "      <td>1</td>\n",
              "      <td></td>\n",
              "      <td>1</td>\n",
              "      <td></td>\n",
              "      <td></td>\n",
              "      <td></td>\n",
              "      <td>120042</td>\n",
              "      <td>P969</td>\n",
              "      <td>O689</td>\n",
              "      <td>4</td>\n",
              "      <td>2</td>\n",
              "    </tr>\n",
              "    <tr>\n",
              "      <th>4</th>\n",
              "      <td>AC</td>\n",
              "      <td>2010</td>\n",
              "      <td>13052010</td>\n",
              "      <td>04081971</td>\n",
              "      <td>1</td>\n",
              "      <td>1</td>\n",
              "      <td></td>\n",
              "      <td></td>\n",
              "      <td>1</td>\n",
              "      <td>3</td>\n",
              "      <td></td>\n",
              "      <td>120020</td>\n",
              "      <td>X999</td>\n",
              "      <td>X999</td>\n",
              "      <td>4</td>\n",
              "      <td>2</td>\n",
              "    </tr>\n",
              "    <tr>\n",
              "      <th>...</th>\n",
              "      <td>...</td>\n",
              "      <td>...</td>\n",
              "      <td>...</td>\n",
              "      <td>...</td>\n",
              "      <td>...</td>\n",
              "      <td>...</td>\n",
              "      <td>...</td>\n",
              "      <td>...</td>\n",
              "      <td>...</td>\n",
              "      <td>...</td>\n",
              "      <td>...</td>\n",
              "      <td>...</td>\n",
              "      <td>...</td>\n",
              "      <td>...</td>\n",
              "      <td>...</td>\n",
              "      <td>...</td>\n",
              "    </tr>\n",
              "    <tr>\n",
              "      <th>3004</th>\n",
              "      <td>AC</td>\n",
              "      <td>2010</td>\n",
              "      <td>28092010</td>\n",
              "      <td>20041958</td>\n",
              "      <td>2</td>\n",
              "      <td>4</td>\n",
              "      <td></td>\n",
              "      <td></td>\n",
              "      <td></td>\n",
              "      <td>0</td>\n",
              "      <td></td>\n",
              "      <td>120040</td>\n",
              "      <td>I619</td>\n",
              "      <td>I619</td>\n",
              "      <td>1</td>\n",
              "      <td></td>\n",
              "    </tr>\n",
              "    <tr>\n",
              "      <th>3005</th>\n",
              "      <td>AC</td>\n",
              "      <td>2010</td>\n",
              "      <td>14102010</td>\n",
              "      <td>24031928</td>\n",
              "      <td>1</td>\n",
              "      <td>1</td>\n",
              "      <td></td>\n",
              "      <td></td>\n",
              "      <td>2</td>\n",
              "      <td>0</td>\n",
              "      <td></td>\n",
              "      <td>120040</td>\n",
              "      <td>I219</td>\n",
              "      <td>I219</td>\n",
              "      <td>1</td>\n",
              "      <td></td>\n",
              "    </tr>\n",
              "    <tr>\n",
              "      <th>3006</th>\n",
              "      <td>AC</td>\n",
              "      <td>2010</td>\n",
              "      <td>21112010</td>\n",
              "      <td>11121955</td>\n",
              "      <td>2</td>\n",
              "      <td>1</td>\n",
              "      <td></td>\n",
              "      <td></td>\n",
              "      <td></td>\n",
              "      <td>0</td>\n",
              "      <td></td>\n",
              "      <td>120040</td>\n",
              "      <td>C349</td>\n",
              "      <td>C349</td>\n",
              "      <td>1</td>\n",
              "      <td></td>\n",
              "    </tr>\n",
              "    <tr>\n",
              "      <th>3007</th>\n",
              "      <td>AC</td>\n",
              "      <td>2010</td>\n",
              "      <td>10112010</td>\n",
              "      <td>07071955</td>\n",
              "      <td>1</td>\n",
              "      <td>1</td>\n",
              "      <td></td>\n",
              "      <td></td>\n",
              "      <td></td>\n",
              "      <td></td>\n",
              "      <td></td>\n",
              "      <td>120000</td>\n",
              "      <td>C787</td>\n",
              "      <td>C787</td>\n",
              "      <td>1</td>\n",
              "      <td></td>\n",
              "    </tr>\n",
              "    <tr>\n",
              "      <th>3008</th>\n",
              "      <td>AC</td>\n",
              "      <td>2010</td>\n",
              "      <td>10102010</td>\n",
              "      <td>07051976</td>\n",
              "      <td>2</td>\n",
              "      <td>4</td>\n",
              "      <td></td>\n",
              "      <td></td>\n",
              "      <td>3</td>\n",
              "      <td>9</td>\n",
              "      <td></td>\n",
              "      <td>120040</td>\n",
              "      <td>I609</td>\n",
              "      <td>I609</td>\n",
              "      <td>1</td>\n",
              "      <td>9</td>\n",
              "    </tr>\n",
              "  </tbody>\n",
              "</table>\n",
              "<p>3009 rows × 16 columns</p>\n",
              "</div>\n",
              "      <button class=\"colab-df-convert\" onclick=\"convertToInteractive('df-71458a4d-bd5c-4b2b-a5d9-b06ec1397f93')\"\n",
              "              title=\"Convert this dataframe to an interactive table.\"\n",
              "              style=\"display:none;\">\n",
              "        \n",
              "  <svg xmlns=\"http://www.w3.org/2000/svg\" height=\"24px\"viewBox=\"0 0 24 24\"\n",
              "       width=\"24px\">\n",
              "    <path d=\"M0 0h24v24H0V0z\" fill=\"none\"/>\n",
              "    <path d=\"M18.56 5.44l.94 2.06.94-2.06 2.06-.94-2.06-.94-.94-2.06-.94 2.06-2.06.94zm-11 1L8.5 8.5l.94-2.06 2.06-.94-2.06-.94L8.5 2.5l-.94 2.06-2.06.94zm10 10l.94 2.06.94-2.06 2.06-.94-2.06-.94-.94-2.06-.94 2.06-2.06.94z\"/><path d=\"M17.41 7.96l-1.37-1.37c-.4-.4-.92-.59-1.43-.59-.52 0-1.04.2-1.43.59L10.3 9.45l-7.72 7.72c-.78.78-.78 2.05 0 2.83L4 21.41c.39.39.9.59 1.41.59.51 0 1.02-.2 1.41-.59l7.78-7.78 2.81-2.81c.8-.78.8-2.07 0-2.86zM5.41 20L4 18.59l7.72-7.72 1.47 1.35L5.41 20z\"/>\n",
              "  </svg>\n",
              "      </button>\n",
              "      \n",
              "  <style>\n",
              "    .colab-df-container {\n",
              "      display:flex;\n",
              "      flex-wrap:wrap;\n",
              "      gap: 12px;\n",
              "    }\n",
              "\n",
              "    .colab-df-convert {\n",
              "      background-color: #E8F0FE;\n",
              "      border: none;\n",
              "      border-radius: 50%;\n",
              "      cursor: pointer;\n",
              "      display: none;\n",
              "      fill: #1967D2;\n",
              "      height: 32px;\n",
              "      padding: 0 0 0 0;\n",
              "      width: 32px;\n",
              "    }\n",
              "\n",
              "    .colab-df-convert:hover {\n",
              "      background-color: #E2EBFA;\n",
              "      box-shadow: 0px 1px 2px rgba(60, 64, 67, 0.3), 0px 1px 3px 1px rgba(60, 64, 67, 0.15);\n",
              "      fill: #174EA6;\n",
              "    }\n",
              "\n",
              "    [theme=dark] .colab-df-convert {\n",
              "      background-color: #3B4455;\n",
              "      fill: #D2E3FC;\n",
              "    }\n",
              "\n",
              "    [theme=dark] .colab-df-convert:hover {\n",
              "      background-color: #434B5C;\n",
              "      box-shadow: 0px 1px 3px 1px rgba(0, 0, 0, 0.15);\n",
              "      filter: drop-shadow(0px 1px 2px rgba(0, 0, 0, 0.3));\n",
              "      fill: #FFFFFF;\n",
              "    }\n",
              "  </style>\n",
              "\n",
              "      <script>\n",
              "        const buttonEl =\n",
              "          document.querySelector('#df-71458a4d-bd5c-4b2b-a5d9-b06ec1397f93 button.colab-df-convert');\n",
              "        buttonEl.style.display =\n",
              "          google.colab.kernel.accessAllowed ? 'block' : 'none';\n",
              "\n",
              "        async function convertToInteractive(key) {\n",
              "          const element = document.querySelector('#df-71458a4d-bd5c-4b2b-a5d9-b06ec1397f93');\n",
              "          const dataTable =\n",
              "            await google.colab.kernel.invokeFunction('convertToInteractive',\n",
              "                                                     [key], {});\n",
              "          if (!dataTable) return;\n",
              "\n",
              "          const docLinkHtml = 'Like what you see? Visit the ' +\n",
              "            '<a target=\"_blank\" href=https://colab.research.google.com/notebooks/data_table.ipynb>data table notebook</a>'\n",
              "            + ' to learn more about interactive tables.';\n",
              "          element.innerHTML = '';\n",
              "          dataTable['output_type'] = 'display_data';\n",
              "          await google.colab.output.renderOutput(dataTable, element);\n",
              "          const docLink = document.createElement('div');\n",
              "          docLink.innerHTML = docLinkHtml;\n",
              "          element.appendChild(docLink);\n",
              "        }\n",
              "      </script>\n",
              "    </div>\n",
              "  </div>\n",
              "  "
            ]
          },
          "metadata": {},
          "execution_count": 12
        }
      ]
    },
    {
      "cell_type": "code",
      "source": [
        "ac_2010 = ac_2010[cols_to_keep]\n",
        "ac_2011 = ac_2011[cols_to_keep]\n",
        "ac_2012 = ac_2012[cols_to_keep]\n",
        "ac_2013 = ac_2013[cols_to_keep]\n",
        "ac_2014 = ac_2014[cols_to_keep]\n",
        "ac_2015 = ac_2015[cols_to_keep]\n",
        "ac_2016 = ac_2016[cols_to_keep]\n",
        "ac_2017 = ac_2017[cols_to_keep]\n",
        "ac_2018 = ac_2018[cols_to_keep]\n",
        "ac_2019 = ac_2019[cols_to_keep]\n",
        "ac_2020 = ac_2020[cols_to_keep]\n",
        "ac_2021 = ac_2021[cols_to_keep]"
      ],
      "metadata": {
        "id": "5flvvgj7Wrgo"
      },
      "execution_count": null,
      "outputs": []
    },
    {
      "cell_type": "code",
      "source": [
        "ac_all = pd.concat([ac_2010, ac_2011, ac_2012, ac_2013, ac_2014, ac_2015, ac_2016, ac_2017, ac_2018, ac_2019, ac_2020, ac_2021])"
      ],
      "metadata": {
        "id": "IsYg1kRGYuRT"
      },
      "execution_count": null,
      "outputs": []
    },
    {
      "cell_type": "code",
      "source": [
        "ac_all.to_csv('ac_all.csv')"
      ],
      "metadata": {
        "id": "bgU-Tn7nY579"
      },
      "execution_count": null,
      "outputs": []
    },
    {
      "cell_type": "code",
      "source": [
        "dfs = [ac_2010, ac_2011, ac_2012, ac_2013, ac_2014, ac_2015, ac_2016, ac_2017, ac_2018, ac_2019, ac_2020, ac_2021]\n",
        "for i, df in enumerate(dfs):\n",
        "    filename = f\"ac_{i+2010}.csv\"\n",
        "    df.to_csv(filename, index=False)\n",
        "    print(f\"{filename} salvo com sucesso!\")"
      ],
      "metadata": {
        "colab": {
          "base_uri": "https://localhost:8080/"
        },
        "id": "g0EdZFNvQMqz",
        "outputId": "83c29b30-f4c4-4a0d-d8e6-361474c8257a"
      },
      "execution_count": null,
      "outputs": [
        {
          "output_type": "stream",
          "name": "stdout",
          "text": [
            "ac_2010.csv salvo com sucesso!\n",
            "ac_2011.csv salvo com sucesso!\n",
            "ac_2012.csv salvo com sucesso!\n",
            "ac_2013.csv salvo com sucesso!\n",
            "ac_2014.csv salvo com sucesso!\n",
            "ac_2015.csv salvo com sucesso!\n",
            "ac_2016.csv salvo com sucesso!\n",
            "ac_2017.csv salvo com sucesso!\n",
            "ac_2018.csv salvo com sucesso!\n",
            "ac_2019.csv salvo com sucesso!\n",
            "ac_2020.csv salvo com sucesso!\n",
            "ac_2021.csv salvo com sucesso!\n"
          ]
        }
      ]
    },
    {
      "cell_type": "markdown",
      "source": [
        "# ALAGOAS"
      ],
      "metadata": {
        "id": "UXKPVT1-aYdt"
      }
    },
    {
      "cell_type": "code",
      "source": [
        "AL_2010 = parquets_to_dataframe(download('AL', 2010))\n",
        "AL_2011 = parquets_to_dataframe(download('AL', 2011))\n",
        "AL_2012 = parquets_to_dataframe(download('AL', 2012))\n",
        "AL_2013 = parquets_to_dataframe(download('AL', 2013))\n",
        "AL_2014 = parquets_to_dataframe(download('AL', 2014))\n",
        "AL_2015 = parquets_to_dataframe(download('AL', 2015))\n",
        "AL_2016 = parquets_to_dataframe(download('AL', 2016))\n",
        "AL_2017 = parquets_to_dataframe(download('AL', 2017))\n",
        "AL_2018 = parquets_to_dataframe(download('AL', 2018))\n",
        "AL_2019 = parquets_to_dataframe(download('AL', 2019))\n",
        "AL_2020 = parquets_to_dataframe(download('AL', 2020))\n",
        "AL_2021 = parquets_to_dataframe(download('AL', 2021))\n"
      ],
      "metadata": {
        "id": "6-4K3M1mzaA_"
      },
      "execution_count": null,
      "outputs": []
    },
    {
      "cell_type": "code",
      "source": [
        "AL_2010['estado'] = 'AL'\n",
        "AL_2010['ano'] = 2010\n",
        "\n",
        "AL_2011['estado'] = 'AL'\n",
        "AL_2011['ano'] = 2011\n",
        "\n",
        "AL_2012['estado'] = 'AL'\n",
        "AL_2012['ano'] = 2012\n",
        "\n",
        "AL_2013['estado'] = 'AL'\n",
        "AL_2013['ano'] = 2013\n",
        "\n",
        "AL_2014['estado'] = 'AL'\n",
        "AL_2014['ano'] = 2014\n",
        "\n",
        "AL_2015['estado'] = 'AL'\n",
        "AL_2015['ano'] = 2015\n",
        "\n",
        "AL_2016['estado'] = 'AL'\n",
        "AL_2016['ano'] = 2016\n",
        "\n",
        "AL_2017['estado'] = 'AL'\n",
        "AL_2017['ano'] = 2017\n",
        "\n",
        "AL_2018['estado'] = 'AL'\n",
        "AL_2018['ano'] = 2018\n",
        "\n",
        "AL_2019['estado'] = 'AL'\n",
        "AL_2019['ano'] = 2019\n",
        "\n",
        "AL_2020['estado'] = 'AL'\n",
        "AL_2020['ano'] = 2020\n",
        "\n",
        "AL_2021['estado'] = 'AL'\n",
        "AL_2021['ano'] = 2021"
      ],
      "metadata": {
        "id": "CIvh5LJPZMal"
      },
      "execution_count": null,
      "outputs": []
    },
    {
      "cell_type": "code",
      "source": [
        "AL_2010 = AL_2010[cols_to_keep]\n",
        "AL_2011 = AL_2011[cols_to_keep]\n",
        "AL_2012 = AL_2012[cols_to_keep]\n",
        "AL_2013 = AL_2013[cols_to_keep]\n",
        "AL_2014 = AL_2014[cols_to_keep]\n",
        "AL_2015 = AL_2015[cols_to_keep]\n",
        "AL_2016 = AL_2016[cols_to_keep]\n",
        "AL_2017 = AL_2017[cols_to_keep]\n",
        "AL_2018 = AL_2018[cols_to_keep]\n",
        "AL_2019 = AL_2019[cols_to_keep]\n",
        "AL_2020 = AL_2020[cols_to_keep]\n",
        "AL_2021 = AL_2021[cols_to_keep]"
      ],
      "metadata": {
        "id": "9_mjWzVpZMXI"
      },
      "execution_count": null,
      "outputs": []
    },
    {
      "cell_type": "code",
      "source": [
        "AL_all = pd.concat([AL_2010, AL_2011, AL_2012, AL_2013, AL_2014, AL_2015, AL_2016, AL_2017, AL_2018, AL_2019, AL_2020, AL_2021])"
      ],
      "metadata": {
        "id": "KwLjHX86ZMUZ"
      },
      "execution_count": null,
      "outputs": []
    },
    {
      "cell_type": "code",
      "source": [
        "AL_all.to_csv('AL_all.csv')"
      ],
      "metadata": {
        "id": "grZ-BvLUZMRO"
      },
      "execution_count": null,
      "outputs": []
    },
    {
      "cell_type": "code",
      "source": [],
      "metadata": {
        "id": "3dSSuXR7ZMN8"
      },
      "execution_count": null,
      "outputs": []
    },
    {
      "cell_type": "code",
      "source": [],
      "metadata": {
        "id": "D713oYI1ZMK8"
      },
      "execution_count": null,
      "outputs": []
    },
    {
      "cell_type": "code",
      "source": [],
      "metadata": {
        "id": "JiFfVAi9ZMIf"
      },
      "execution_count": null,
      "outputs": []
    },
    {
      "cell_type": "code",
      "source": [],
      "metadata": {
        "id": "FMwALvbqZMFe"
      },
      "execution_count": null,
      "outputs": []
    },
    {
      "cell_type": "code",
      "source": [],
      "metadata": {
        "id": "WjOnOKiUZMCf"
      },
      "execution_count": null,
      "outputs": []
    },
    {
      "cell_type": "code",
      "source": [],
      "metadata": {
        "id": "cTTtEmMkZL_1"
      },
      "execution_count": null,
      "outputs": []
    },
    {
      "cell_type": "code",
      "source": [],
      "metadata": {
        "id": "jRWEEyggZL4V"
      },
      "execution_count": null,
      "outputs": []
    },
    {
      "cell_type": "markdown",
      "source": [
        "# AMAPA"
      ],
      "metadata": {
        "id": "exOOwERjaqeK"
      }
    },
    {
      "cell_type": "code",
      "source": [
        "AP_2010 = parquets_to_dataframe(download('AP', 2010))\n",
        "AP_2011 = parquets_to_dataframe(download('AP', 2011))\n",
        "AP_2012 = parquets_to_dataframe(download('AP', 2012))\n",
        "AP_2013 = parquets_to_dataframe(download('AP', 2013))\n",
        "AP_2014 = parquets_to_dataframe(download('AP', 2014))\n",
        "AP_2015 = parquets_to_dataframe(download('AP', 2015))\n",
        "AP_2016 = parquets_to_dataframe(download('AP', 2016))\n",
        "AP_2017 = parquets_to_dataframe(download('AP', 2017))\n",
        "AP_2018 = parquets_to_dataframe(download('AP', 2018))\n",
        "AP_2019 = parquets_to_dataframe(download('AP', 2019))\n",
        "AP_2020 = parquets_to_dataframe(download('AP', 2020))\n",
        "AP_2021 = parquets_to_dataframe(download('AP', 2021))\n"
      ],
      "metadata": {
        "id": "9JKkIxEvztIX"
      },
      "execution_count": null,
      "outputs": []
    },
    {
      "cell_type": "code",
      "source": [
        "AP_2010['estado'] = 'AP'\n",
        "AP_2010['ano'] = 2010\n",
        "\n",
        "AP_2011['estado'] = 'AP'\n",
        "AP_2011['ano'] = 2011\n",
        "\n",
        "AP_2012['estado'] = 'AP'\n",
        "AP_2012['ano'] = 2012\n",
        "\n",
        "AP_2013['estado'] = 'AP'\n",
        "AP_2013['ano'] = 2013\n",
        "\n",
        "AP_2014['estado'] = 'AP'\n",
        "AP_2014['ano'] = 2014\n",
        "\n",
        "AP_2015['estado'] = 'AP'\n",
        "AP_2015['ano'] = 2015\n",
        "\n",
        "AP_2016['estado'] = 'AP'\n",
        "AP_2016['ano'] = 2016\n",
        "\n",
        "AP_2017['estado'] = 'AP'\n",
        "AP_2017['ano'] = 2017\n",
        "\n",
        "AP_2018['estado'] = 'AP'\n",
        "AP_2018['ano'] = 2018\n",
        "\n",
        "AP_2019['estado'] = 'AP'\n",
        "AP_2019['ano'] = 2019\n",
        "\n",
        "AP_2020['estado'] = 'AP'\n",
        "AP_2020['ano'] = 2020\n",
        "\n",
        "AP_2021['estado'] = 'AP'\n",
        "AP_2021['ano'] = 2021"
      ],
      "metadata": {
        "id": "BFwYQfJnasn6"
      },
      "execution_count": null,
      "outputs": []
    },
    {
      "cell_type": "code",
      "source": [
        "AP_2010 = AP_2010[cols_to_keep]\n",
        "AP_2011 = AP_2011[cols_to_keep]\n",
        "AP_2012 = AP_2012[cols_to_keep]\n",
        "AP_2013 = AP_2013[cols_to_keep]\n",
        "AP_2014 = AP_2014[cols_to_keep]\n",
        "AP_2015 = AP_2015[cols_to_keep]\n",
        "AP_2016 = AP_2016[cols_to_keep]\n",
        "AP_2017 = AP_2017[cols_to_keep]\n",
        "AP_2018 = AP_2018[cols_to_keep]\n",
        "AP_2019 = AP_2019[cols_to_keep]\n",
        "AP_2020 = AP_2020[cols_to_keep]\n",
        "AP_2021 = AP_2021[cols_to_keep]"
      ],
      "metadata": {
        "id": "1i8xCIWpaskv"
      },
      "execution_count": null,
      "outputs": []
    },
    {
      "cell_type": "code",
      "source": [
        "AP_all = pd.concat([AP_2010, AP_2011, AP_2012, AP_2013, AP_2014, AP_2015, AP_2016, AP_2017, AP_2018, AP_2019, AP_2020, AP_2021])"
      ],
      "metadata": {
        "id": "fx-xjz2kasiU"
      },
      "execution_count": null,
      "outputs": []
    },
    {
      "cell_type": "code",
      "source": [
        "AP_all.to_csv('AP_all.csv')"
      ],
      "metadata": {
        "id": "sX51FUK4asfu"
      },
      "execution_count": null,
      "outputs": []
    },
    {
      "cell_type": "code",
      "source": [],
      "metadata": {
        "id": "x4s6FV6casdk"
      },
      "execution_count": null,
      "outputs": []
    },
    {
      "cell_type": "code",
      "source": [],
      "metadata": {
        "id": "lqQ9kEd0asaV"
      },
      "execution_count": null,
      "outputs": []
    },
    {
      "cell_type": "code",
      "source": [],
      "metadata": {
        "id": "YMlAHm9OasXy"
      },
      "execution_count": null,
      "outputs": []
    },
    {
      "cell_type": "code",
      "source": [],
      "metadata": {
        "id": "i5V5Tv5LasVH"
      },
      "execution_count": null,
      "outputs": []
    },
    {
      "cell_type": "code",
      "source": [],
      "metadata": {
        "id": "laGwcB9GasNf"
      },
      "execution_count": null,
      "outputs": []
    },
    {
      "cell_type": "markdown",
      "source": [
        "# AMAZONAS"
      ],
      "metadata": {
        "id": "HG_2HJ75eaqT"
      }
    },
    {
      "cell_type": "code",
      "source": [
        "AM_2010 = parquets_to_dataframe(download('AM', 2010))\n",
        "AM_2011 = parquets_to_dataframe(download('AM', 2011))\n",
        "AM_2012 = parquets_to_dataframe(download('AM', 2012))\n",
        "AM_2013 = parquets_to_dataframe(download('AM', 2013))\n",
        "AM_2014 = parquets_to_dataframe(download('AM', 2014))\n",
        "AM_2015 = parquets_to_dataframe(download('AM', 2015))\n",
        "AM_2016 = parquets_to_dataframe(download('AM', 2016))\n",
        "AM_2017 = parquets_to_dataframe(download('AM', 2017))\n",
        "AM_2018 = parquets_to_dataframe(download('AM', 2018))\n",
        "AM_2019 = parquets_to_dataframe(download('AM', 2019))\n",
        "AM_2020 = parquets_to_dataframe(download('AM', 2020))\n",
        "AM_2021 = parquets_to_dataframe(download('AM', 2021))\n"
      ],
      "metadata": {
        "id": "AIoHUgTLztk3"
      },
      "execution_count": null,
      "outputs": []
    },
    {
      "cell_type": "code",
      "source": [
        "AM_2010['estado'] = 'AM'\n",
        "AM_2010['ano'] = 2010\n",
        "\n",
        "AM_2011['estado'] = 'AM'\n",
        "AM_2011['ano'] = 2011\n",
        "\n",
        "AM_2012['estado'] = 'AM'\n",
        "AM_2012['ano'] = 2012\n",
        "\n",
        "AM_2013['estado'] = 'AM'\n",
        "AM_2013['ano'] = 2013\n",
        "\n",
        "AM_2014['estado'] = 'AM'\n",
        "AM_2014['ano'] = 2014\n",
        "\n",
        "AM_2015['estado'] = 'AM'\n",
        "AM_2015['ano'] = 2015\n",
        "\n",
        "AM_2016['estado'] = 'AM'\n",
        "AM_2016['ano'] = 2016\n",
        "\n",
        "AM_2017['estado'] = 'AM'\n",
        "AM_2017['ano'] = 2017\n",
        "\n",
        "AM_2018['estado'] = 'AM'\n",
        "AM_2018['ano'] = 2018\n",
        "\n",
        "AM_2019['estado'] = 'AM'\n",
        "AM_2019['ano'] = 2019\n",
        "\n",
        "AM_2020['estado'] = 'AM'\n",
        "AM_2020['ano'] = 2020\n",
        "\n",
        "AM_2021['estado'] = 'AM'\n",
        "AM_2021['ano'] = 2021"
      ],
      "metadata": {
        "id": "tnjzWXmIedkJ"
      },
      "execution_count": null,
      "outputs": []
    },
    {
      "cell_type": "code",
      "source": [
        "AM_2010 = AM_2010[cols_to_keep]\n",
        "AM_2011 = AM_2011[cols_to_keep]\n",
        "AM_2012 = AM_2012[cols_to_keep]\n",
        "AM_2013 = AM_2013[cols_to_keep]\n",
        "AM_2014 = AM_2014[cols_to_keep]\n",
        "AM_2015 = AM_2015[cols_to_keep]\n",
        "AM_2016 = AM_2016[cols_to_keep]\n",
        "AM_2017 = AM_2017[cols_to_keep]\n",
        "AM_2018 = AM_2018[cols_to_keep]\n",
        "AM_2019 = AM_2019[cols_to_keep]\n",
        "AM_2020 = AM_2020[cols_to_keep]\n",
        "AM_2021 = AM_2021[cols_to_keep]"
      ],
      "metadata": {
        "id": "0-sguU0pedgf"
      },
      "execution_count": null,
      "outputs": []
    },
    {
      "cell_type": "code",
      "source": [
        "AM_All = pd.concat([AM_2010, AM_2011, AM_2012, AM_2013, AM_2014, AM_2015, AM_2016, AM_2017, AM_2018, AM_2019, AM_2020, AM_2021])"
      ],
      "metadata": {
        "id": "xVohKaynedeF"
      },
      "execution_count": null,
      "outputs": []
    },
    {
      "cell_type": "code",
      "source": [
        "AM_All.to_csv('AM_All.csv')"
      ],
      "metadata": {
        "id": "G5NlVXC3edbW"
      },
      "execution_count": null,
      "outputs": []
    },
    {
      "cell_type": "code",
      "source": [],
      "metadata": {
        "id": "TD_1viuWedYp"
      },
      "execution_count": null,
      "outputs": []
    },
    {
      "cell_type": "code",
      "source": [],
      "metadata": {
        "id": "-P6E8EnBedPt"
      },
      "execution_count": null,
      "outputs": []
    },
    {
      "cell_type": "markdown",
      "source": [
        "# Bahia"
      ],
      "metadata": {
        "id": "ULCStnKyfHty"
      }
    },
    {
      "cell_type": "code",
      "source": [
        "BA_2010 = parquets_to_dataframe(download('BA', 2010))\n",
        "BA_2011 = parquets_to_dataframe(download('BA', 2011))\n",
        "BA_2012 = parquets_to_dataframe(download('BA', 2012))\n",
        "BA_2013 = parquets_to_dataframe(download('BA', 2013))\n",
        "BA_2014 = parquets_to_dataframe(download('BA', 2014))\n",
        "BA_2015 = parquets_to_dataframe(download('BA', 2015))\n",
        "BA_2016 = parquets_to_dataframe(download('BA', 2016))\n",
        "BA_2017 = parquets_to_dataframe(download('BA', 2017))\n",
        "BA_2018 = parquets_to_dataframe(download('BA', 2018))\n",
        "BA_2019 = parquets_to_dataframe(download('BA', 2019))\n",
        "BA_2020 = parquets_to_dataframe(download('BA', 2020))\n",
        "BA_2021 = parquets_to_dataframe(download('BA', 2021))\n"
      ],
      "metadata": {
        "id": "eNFadr_NzyuH"
      },
      "execution_count": null,
      "outputs": []
    },
    {
      "cell_type": "code",
      "source": [
        "BA_2010['estado'] = 'BA'\n",
        "BA_2010['ano'] = 2010\n",
        "\n",
        "BA_2011['estado'] = 'BA'\n",
        "BA_2011['ano'] = 2011\n",
        "\n",
        "BA_2012['estado'] = 'BA'\n",
        "BA_2012['ano'] = 2012\n",
        "\n",
        "BA_2013['estado'] = 'BA'\n",
        "BA_2013['ano'] = 2013\n",
        "\n",
        "BA_2014['estado'] = 'BA'\n",
        "BA_2014['ano'] = 2014\n",
        "\n",
        "BA_2015['estado'] = 'BA'\n",
        "BA_2015['ano'] = 2015\n",
        "\n",
        "BA_2016['estado'] = 'BA'\n",
        "BA_2016['ano'] = 2016\n",
        "\n",
        "BA_2017['estado'] = 'BA'\n",
        "BA_2017['ano'] = 2017\n",
        "\n",
        "BA_2018['estado'] = 'BA'\n",
        "BA_2018['ano'] = 2018\n",
        "\n",
        "BA_2019['estado'] = 'BA'\n",
        "BA_2019['ano'] = 2019\n",
        "\n",
        "BA_2020['estado'] = 'BA'\n",
        "BA_2020['ano'] = 2020\n",
        "\n",
        "BA_2021['estado'] = 'BA'\n",
        "BA_2021['ano'] = 2021"
      ],
      "metadata": {
        "id": "xNw8BY2KfKCf"
      },
      "execution_count": null,
      "outputs": []
    },
    {
      "cell_type": "code",
      "source": [
        "BA_2010 = BA_2010[cols_to_keep]\n",
        "BA_2011 = BA_2011[cols_to_keep]\n",
        "BA_2012 = BA_2012[cols_to_keep]\n",
        "BA_2013 = BA_2013[cols_to_keep]\n",
        "BA_2014 = BA_2014[cols_to_keep]\n",
        "BA_2015 = BA_2015[cols_to_keep]\n",
        "BA_2016 = BA_2016[cols_to_keep]\n",
        "BA_2017 = BA_2017[cols_to_keep]\n",
        "BA_2018 = BA_2018[cols_to_keep]\n",
        "BA_2019 = BA_2019[cols_to_keep]\n",
        "BA_2020 = BA_2020[cols_to_keep]\n",
        "BA_2021 = BA_2021[cols_to_keep]"
      ],
      "metadata": {
        "id": "a8AGZj4IfJ_W"
      },
      "execution_count": null,
      "outputs": []
    },
    {
      "cell_type": "code",
      "source": [
        "BA_All = pd.concat([BA_2010, BA_2011, BA_2012, BA_2013, BA_2014, BA_2015, BA_2016, BA_2017, BA_2018, BA_2019, BA_2020, BA_2021])"
      ],
      "metadata": {
        "id": "GhL-FoRKfJ8j"
      },
      "execution_count": null,
      "outputs": []
    },
    {
      "cell_type": "code",
      "source": [
        "BA_All.to_csv('BA_All.csv')"
      ],
      "metadata": {
        "id": "5DIkeTG2fJ5i"
      },
      "execution_count": null,
      "outputs": []
    },
    {
      "cell_type": "code",
      "source": [],
      "metadata": {
        "id": "Fmv57NHzfJxC"
      },
      "execution_count": null,
      "outputs": []
    },
    {
      "cell_type": "markdown",
      "source": [
        "# CEARA"
      ],
      "metadata": {
        "id": "HpfYhZxwi6UY"
      }
    },
    {
      "cell_type": "code",
      "source": [
        "CE_2010 = parquets_to_dataframe(download('CE', 2010))\n",
        "CE_2011 = parquets_to_dataframe(download('CE', 2011))\n",
        "CE_2012 = parquets_to_dataframe(download('CE', 2012))\n",
        "CE_2013 = parquets_to_dataframe(download('CE', 2013))\n",
        "CE_2014 = parquets_to_dataframe(download('CE', 2014))\n",
        "CE_2015 = parquets_to_dataframe(download('CE', 2015))\n",
        "CE_2016 = parquets_to_dataframe(download('CE', 2016))\n",
        "CE_2017 = parquets_to_dataframe(download('CE', 2017))\n",
        "CE_2018 = parquets_to_dataframe(download('CE', 2018))\n",
        "CE_2019 = parquets_to_dataframe(download('CE', 2019))\n",
        "CE_2020 = parquets_to_dataframe(download('CE', 2020))\n",
        "CE_2021 = parquets_to_dataframe(download('CE', 2021))"
      ],
      "metadata": {
        "id": "f9KfopCo0I-8"
      },
      "execution_count": null,
      "outputs": []
    },
    {
      "cell_type": "code",
      "source": [
        "\n",
        "CE_2010['estado'] = 'CE'\n",
        "CE_2010['ano'] = 2010\n",
        "\n",
        "CE_2011['estado'] = 'CE'\n",
        "CE_2011['ano'] = 2011\n",
        "\n",
        "CE_2012['estado'] = 'CE'\n",
        "CE_2012['ano'] = 2012\n",
        "\n",
        "CE_2013['estado'] = 'CE'\n",
        "CE_2013['ano'] = 2013\n",
        "\n",
        "CE_2014['estado'] = 'CE'\n",
        "CE_2014['ano'] = 2014\n",
        "\n",
        "CE_2015['estado'] = 'CE'\n",
        "CE_2015['ano'] = 2015\n",
        "\n",
        "CE_2016['estado'] = 'CE'\n",
        "CE_2016['ano'] = 2016\n",
        "\n",
        "CE_2017['estado'] = 'CE'\n",
        "CE_2017['ano'] = 2017\n",
        "\n",
        "CE_2018['estado'] = 'CE'\n",
        "CE_2018['ano'] = 2018\n",
        "\n",
        "CE_2019['estado'] = 'CE'\n",
        "CE_2019['ano'] = 2019\n",
        "\n",
        "CE_2020['estado'] = 'CE'\n",
        "CE_2020['ano'] = 2020\n",
        "\n",
        "CE_2021['estado'] = 'CE'\n",
        "CE_2021['ano'] = 2021\n"
      ],
      "metadata": {
        "id": "9UxoKkFWjHy6"
      },
      "execution_count": null,
      "outputs": []
    },
    {
      "cell_type": "code",
      "source": [
        "CE_2010 = CE_2010[cols_to_keep]\n",
        "CE_2011 = CE_2011[cols_to_keep]\n",
        "CE_2012 = CE_2012[cols_to_keep]\n",
        "CE_2013 = CE_2013[cols_to_keep]\n",
        "CE_2014 = CE_2014[cols_to_keep]\n",
        "CE_2015 = CE_2015[cols_to_keep]\n",
        "CE_2016 = CE_2016[cols_to_keep]\n",
        "CE_2017 = CE_2017[cols_to_keep]\n",
        "CE_2018 = CE_2018[cols_to_keep]\n",
        "CE_2019 = CE_2019[cols_to_keep]\n",
        "CE_2020 = CE_2020[cols_to_keep]\n",
        "CE_2021 = CE_2021[cols_to_keep]\n",
        "\n"
      ],
      "metadata": {
        "id": "Z74RTqnXjHwp"
      },
      "execution_count": null,
      "outputs": []
    },
    {
      "cell_type": "code",
      "source": [
        "\n",
        "CE_All = pd.concat([CE_2010, CE_2011, CE_2012, CE_2013, CE_2014, CE_2015, CE_2016, CE_2017, CE_2018, CE_2019, CE_2020, CE_2021])"
      ],
      "metadata": {
        "id": "FaWSOB2QjHty"
      },
      "execution_count": null,
      "outputs": []
    },
    {
      "cell_type": "code",
      "source": [
        "CE_All.to_csv('CE_All.csv')"
      ],
      "metadata": {
        "id": "AErv6TkXjHrX"
      },
      "execution_count": null,
      "outputs": []
    },
    {
      "cell_type": "code",
      "source": [],
      "metadata": {
        "id": "kPXRzo3djHo4"
      },
      "execution_count": null,
      "outputs": []
    },
    {
      "cell_type": "code",
      "source": [],
      "metadata": {
        "id": "puxq5FALjHl3"
      },
      "execution_count": null,
      "outputs": []
    },
    {
      "cell_type": "code",
      "source": [],
      "metadata": {
        "id": "NY86VC10jHcp"
      },
      "execution_count": null,
      "outputs": []
    },
    {
      "cell_type": "markdown",
      "source": [
        "# DISTRITO FEDERAL"
      ],
      "metadata": {
        "id": "jE6rYesujWXD"
      }
    },
    {
      "cell_type": "code",
      "source": [
        "DF_2010 = parquets_to_dataframe(download('DF', 2010))\n",
        "DF_2011 = parquets_to_dataframe(download('DF', 2011))\n",
        "DF_2012 = parquets_to_dataframe(download('DF', 2012))\n",
        "DF_2013 = parquets_to_dataframe(download('DF', 2013))\n",
        "DF_2014 = parquets_to_dataframe(download('DF', 2014))\n",
        "DF_2015 = parquets_to_dataframe(download('DF', 2015))\n",
        "DF_2016 = parquets_to_dataframe(download('DF', 2016))\n",
        "DF_2017 = parquets_to_dataframe(download('DF', 2017))\n",
        "DF_2018 = parquets_to_dataframe(download('DF', 2018))\n",
        "DF_2019 = parquets_to_dataframe(download('DF', 2019))\n",
        "DF_2020 = parquets_to_dataframe(download('DF', 2020))\n",
        "DF_2021 = parquets_to_dataframe(download('DF', 2021))"
      ],
      "metadata": {
        "id": "S6TzMAF60fxv"
      },
      "execution_count": null,
      "outputs": []
    },
    {
      "cell_type": "code",
      "source": [
        "\n",
        "DF_2010['estado'] = 'DF'\n",
        "DF_2010['ano'] = 2010\n",
        "\n",
        "DF_2011['estado'] = 'DF'\n",
        "DF_2011['ano'] = 2011\n",
        "\n",
        "DF_2012['estado'] = 'DF'\n",
        "DF_2012['ano'] = 2012\n",
        "\n",
        "DF_2013['estado'] = 'DF'\n",
        "DF_2013['ano'] = 2013\n",
        "\n",
        "DF_2014['estado'] = 'DF'\n",
        "DF_2014['ano'] = 2014\n",
        "\n",
        "DF_2015['estado'] = 'DF'\n",
        "DF_2015['ano'] = 2015\n",
        "\n",
        "DF_2016['estado'] = 'DF'\n",
        "DF_2016['ano'] = 2016\n",
        "\n",
        "DF_2017['estado'] = 'DF'\n",
        "DF_2017['ano'] = 2017\n",
        "\n",
        "DF_2018['estado'] = 'DF'\n",
        "DF_2018['ano'] = 2018\n",
        "\n",
        "DF_2019['estado'] = 'DF'\n",
        "DF_2019['ano'] = 2019\n",
        "\n",
        "DF_2020['estado'] = 'DF'\n",
        "DF_2020['ano'] = 2020\n",
        "\n",
        "DF_2021['estado'] = 'DF'\n",
        "DF_2021['ano'] = 2021\n",
        "\n"
      ],
      "metadata": {
        "id": "gpwTWCLMjZ5Q"
      },
      "execution_count": null,
      "outputs": []
    },
    {
      "cell_type": "code",
      "source": [
        "\n",
        "DF_2010 = DF_2010[cols_to_keep]\n",
        "DF_2011 = DF_2011[cols_to_keep]\n",
        "DF_2012 = DF_2012[cols_to_keep]\n",
        "DF_2013 = DF_2013[cols_to_keep]\n",
        "DF_2014 = DF_2014[cols_to_keep]\n",
        "DF_2015 = DF_2015[cols_to_keep]\n",
        "DF_2016 = DF_2016[cols_to_keep]\n",
        "DF_2017 = DF_2017[cols_to_keep]\n",
        "DF_2018 = DF_2018[cols_to_keep]\n",
        "DF_2019 = DF_2019[cols_to_keep]\n",
        "DF_2020 = DF_2020[cols_to_keep]\n",
        "DF_2021 = DF_2021[cols_to_keep]\n",
        "\n"
      ],
      "metadata": {
        "id": "2gU6Z4UpjZ3G"
      },
      "execution_count": null,
      "outputs": []
    },
    {
      "cell_type": "code",
      "source": [
        "DF_All = pd.concat([DF_2010, DF_2011, DF_2012, DF_2013, DF_2014, DF_2015, DF_2016, DF_2017, DF_2018, DF_2019, DF_2020, DF_2021])\n",
        "\n"
      ],
      "metadata": {
        "id": "g76jkcXijZ0W"
      },
      "execution_count": null,
      "outputs": []
    },
    {
      "cell_type": "code",
      "source": [
        "\n",
        "DF_All.to_csv('DF_All.csv')"
      ],
      "metadata": {
        "id": "xdmmKlgnjZxq"
      },
      "execution_count": null,
      "outputs": []
    },
    {
      "cell_type": "code",
      "source": [],
      "metadata": {
        "id": "3MupeIwsjZvA"
      },
      "execution_count": null,
      "outputs": []
    },
    {
      "cell_type": "code",
      "source": [],
      "metadata": {
        "id": "VlTCJcZhjZss"
      },
      "execution_count": null,
      "outputs": []
    },
    {
      "cell_type": "code",
      "source": [],
      "metadata": {
        "id": "16x2DubDjZpy"
      },
      "execution_count": null,
      "outputs": []
    },
    {
      "cell_type": "code",
      "source": [],
      "metadata": {
        "id": "0T4tcFBWjZnW"
      },
      "execution_count": null,
      "outputs": []
    },
    {
      "cell_type": "code",
      "source": [],
      "metadata": {
        "id": "BDyXj4e-jZkm"
      },
      "execution_count": null,
      "outputs": []
    },
    {
      "cell_type": "code",
      "source": [],
      "metadata": {
        "id": "0nkeAUIHjZcE"
      },
      "execution_count": null,
      "outputs": []
    },
    {
      "cell_type": "markdown",
      "source": [
        "# ESPIRITO SANTO"
      ],
      "metadata": {
        "id": "ltdfV10HjpIC"
      }
    },
    {
      "cell_type": "code",
      "source": [
        "ES_2010 = parquets_to_dataframe(download('ES', 2010))\n",
        "ES_2011 = parquets_to_dataframe(download('ES', 2011))\n",
        "ES_2012 = parquets_to_dataframe(download('ES', 2012))\n",
        "ES_2013 = parquets_to_dataframe(download('ES', 2013))\n",
        "ES_2014 = parquets_to_dataframe(download('ES', 2014))\n",
        "ES_2015 = parquets_to_dataframe(download('ES', 2015))\n",
        "ES_2016 = parquets_to_dataframe(download('ES', 2016))\n",
        "ES_2017 = parquets_to_dataframe(download('ES', 2017))\n",
        "ES_2018 = parquets_to_dataframe(download('ES', 2018))\n",
        "ES_2019 = parquets_to_dataframe(download('ES', 2019))\n",
        "ES_2020 = parquets_to_dataframe(download('ES', 2020))\n",
        "ES_2021 = parquets_to_dataframe(download('ES', 2021))"
      ],
      "metadata": {
        "id": "QhbHx6B10vgC"
      },
      "execution_count": null,
      "outputs": []
    },
    {
      "cell_type": "code",
      "source": [
        "ES_2010['estado'] = 'ES'\n",
        "ES_2010['ano'] = 2010\n",
        "\n",
        "ES_2011['estado'] = 'ES'\n",
        "ES_2011['ano'] = 2011\n",
        "\n",
        "ES_2012['estado'] = 'ES'\n",
        "ES_2012['ano'] = 2012\n",
        "\n",
        "ES_2013['estado'] = 'ES'\n",
        "ES_2013['ano'] = 2013\n",
        "\n",
        "ES_2014['estado'] = 'ES'\n",
        "ES_2014['ano'] = 2014\n",
        "\n",
        "ES_2015['estado'] = 'ES'\n",
        "ES_2015['ano'] = 2015\n",
        "\n",
        "ES_2016['estado'] = 'ES'\n",
        "ES_2016['ano'] = 2016\n",
        "\n",
        "ES_2017['estado'] = 'ES'\n",
        "ES_2017['ano'] = 2017\n",
        "\n",
        "ES_2018['estado'] = 'ES'\n",
        "ES_2018['ano'] = 2018\n",
        "\n",
        "ES_2019['estado'] = 'ES'\n",
        "ES_2019['ano'] = 2019\n",
        "\n",
        "ES_2020['estado'] = 'ES'\n",
        "ES_2020['ano'] = 2020\n",
        "\n",
        "ES_2021['estado'] = 'ES'\n",
        "ES_2021['ano'] = 2021\n"
      ],
      "metadata": {
        "id": "xPS-Rn20jrJx"
      },
      "execution_count": null,
      "outputs": []
    },
    {
      "cell_type": "code",
      "source": [
        "\n",
        "\n",
        "ES_2010 = ES_2010[cols_to_keep]\n",
        "ES_2011 = ES_2011[cols_to_keep]\n",
        "ES_2012 = ES_2012[cols_to_keep]\n",
        "ES_2013 = ES_2013[cols_to_keep]\n",
        "ES_2014 = ES_2014[cols_to_keep]\n",
        "ES_2015 = ES_2015[cols_to_keep]\n",
        "ES_2016 = ES_2016[cols_to_keep]\n",
        "ES_2017 = ES_2017[cols_to_keep]\n",
        "ES_2018 = ES_2018[cols_to_keep]\n",
        "ES_2019 = ES_2019[cols_to_keep]\n",
        "ES_2020 = ES_2020[cols_to_keep]\n",
        "ES_2021 = ES_2021[cols_to_keep]\n",
        "\n"
      ],
      "metadata": {
        "id": "tbpv-ObrjrG7"
      },
      "execution_count": null,
      "outputs": []
    },
    {
      "cell_type": "code",
      "source": [
        "\n",
        "ES_All = pd.concat([ES_2010, ES_2011, ES_2012, ES_2013, ES_2014, ES_2015, ES_2016, ES_2017, ES_2018, ES_2019, ES_2020, ES_2021])\n",
        "\n"
      ],
      "metadata": {
        "id": "G0HHzBIJjrEO"
      },
      "execution_count": null,
      "outputs": []
    },
    {
      "cell_type": "code",
      "source": [
        "\n",
        "ES_All.to_csv('ES_All.csv')"
      ],
      "metadata": {
        "id": "Pw02DJ3KjrBk"
      },
      "execution_count": null,
      "outputs": []
    },
    {
      "cell_type": "code",
      "source": [],
      "metadata": {
        "id": "lGJGfinajq5Z"
      },
      "execution_count": null,
      "outputs": []
    },
    {
      "cell_type": "markdown",
      "source": [
        "# GOIAS"
      ],
      "metadata": {
        "id": "dq60l9mrkYnv"
      }
    },
    {
      "cell_type": "code",
      "source": [
        "GO_2010 = parquets_to_dataframe(download('GO', 2010))\n",
        "GO_2011 = parquets_to_dataframe(download('GO', 2011))\n",
        "GO_2012 = parquets_to_dataframe(download('GO', 2012))\n",
        "GO_2013 = parquets_to_dataframe(download('GO', 2013))\n",
        "GO_2014 = parquets_to_dataframe(download('GO', 2014))\n",
        "GO_2015 = parquets_to_dataframe(download('GO', 2015))\n",
        "GO_2016 = parquets_to_dataframe(download('GO', 2016))\n",
        "GO_2017 = parquets_to_dataframe(download('GO', 2017))\n",
        "GO_2018 = parquets_to_dataframe(download('GO', 2018))\n",
        "GO_2019 = parquets_to_dataframe(download('GO', 2019))\n",
        "GO_2020 = parquets_to_dataframe(download('GO', 2020))\n",
        "GO_2021 = parquets_to_dataframe(download('GO', 2021))"
      ],
      "metadata": {
        "id": "TBx8deKu0zAZ"
      },
      "execution_count": null,
      "outputs": []
    },
    {
      "cell_type": "code",
      "source": [
        "GO_2010['estado'] = 'GO'\n",
        "GO_2010['ano'] = 2010\n",
        "\n",
        "GO_2011['estado'] = 'GO'\n",
        "GO_2011['ano'] = 2011\n",
        "\n",
        "GO_2012['estado'] = 'GO'\n",
        "GO_2012['ano'] = 2012\n",
        "\n",
        "GO_2013['estado'] = 'GO'\n",
        "GO_2013['ano'] = 2013\n",
        "\n",
        "GO_2014['estado'] = 'GO'\n",
        "GO_2014['ano'] = 2014\n",
        "\n",
        "GO_2015['estado'] = 'GO'\n",
        "GO_2015['ano'] = 2015\n",
        "\n",
        "GO_2016['estado'] = 'GO'\n",
        "GO_2016['ano'] = 2016\n",
        "\n",
        "GO_2017['estado'] = 'GO'\n",
        "GO_2017['ano'] = 2017\n",
        "\n",
        "GO_2018['estado'] = 'GO'\n",
        "GO_2018['ano'] = 2018\n",
        "\n",
        "GO_2019['estado'] = 'GO'\n",
        "GO_2019['ano'] = 2019\n",
        "\n",
        "GO_2020['estado'] = 'GO'\n",
        "GO_2020['ano'] = 2020\n",
        "\n",
        "GO_2021['estado'] = 'GO'\n",
        "GO_2021['ano'] = 2021\n",
        "\n"
      ],
      "metadata": {
        "id": "hl7BTN9vka5A"
      },
      "execution_count": null,
      "outputs": []
    },
    {
      "cell_type": "code",
      "source": [
        "\n",
        "GO_2010 = GO_2010[cols_to_keep]\n",
        "GO_2011 = GO_2011[cols_to_keep]\n",
        "GO_2012 = GO_2012[cols_to_keep]\n",
        "GO_2013 = GO_2013[cols_to_keep]\n",
        "GO_2014 = GO_2014[cols_to_keep]\n",
        "GO_2015 = GO_2015[cols_to_keep]\n",
        "GO_2016 = GO_2016[cols_to_keep]\n",
        "GO_2017 = GO_2017[cols_to_keep]\n",
        "GO_2018 = GO_2018[cols_to_keep]\n",
        "GO_2019 = GO_2019[cols_to_keep]\n",
        "GO_2020 = GO_2020[cols_to_keep]\n",
        "GO_2021 = GO_2021[cols_to_keep]\n",
        "\n"
      ],
      "metadata": {
        "id": "ZlIxwP3Rka11"
      },
      "execution_count": null,
      "outputs": []
    },
    {
      "cell_type": "code",
      "source": [
        "\n",
        "GO_All = pd.concat([GO_2010, GO_2011, GO_2012, GO_2013, GO_2014, GO_2015, GO_2016, GO_2017, GO_2018, GO_2019, GO_2020, GO_2021])\n",
        "\n",
        "\n"
      ],
      "metadata": {
        "id": "i1bh4aR3kazQ"
      },
      "execution_count": null,
      "outputs": []
    },
    {
      "cell_type": "code",
      "source": [
        "GO_All.to_csv('GO_All.csv')"
      ],
      "metadata": {
        "id": "ti0sf_vlkaw2"
      },
      "execution_count": null,
      "outputs": []
    },
    {
      "cell_type": "code",
      "source": [],
      "metadata": {
        "id": "aJfy6qw3kauc"
      },
      "execution_count": null,
      "outputs": []
    },
    {
      "cell_type": "code",
      "source": [],
      "metadata": {
        "id": "9dXWASA0kaor"
      },
      "execution_count": null,
      "outputs": []
    },
    {
      "cell_type": "markdown",
      "source": [
        "# MARANHÃO"
      ],
      "metadata": {
        "id": "_LpJphMdlFNU"
      }
    },
    {
      "cell_type": "code",
      "source": [
        "MA_2010 = parquets_to_dataframe(download('MA', 2010))\n",
        "MA_2011 = parquets_to_dataframe(download('MA', 2011))\n",
        "MA_2012 = parquets_to_dataframe(download('MA', 2012))\n",
        "MA_2013 = parquets_to_dataframe(download('MA', 2013))\n",
        "MA_2014 = parquets_to_dataframe(download('MA', 2014))\n",
        "MA_2015 = parquets_to_dataframe(download('MA', 2015))\n",
        "MA_2016 = parquets_to_dataframe(download('MA', 2016))\n",
        "MA_2017 = parquets_to_dataframe(download('MA', 2017))\n",
        "MA_2018 = parquets_to_dataframe(download('MA', 2018))\n",
        "MA_2019 = parquets_to_dataframe(download('MA', 2019))\n",
        "MA_2020 = parquets_to_dataframe(download('MA', 2020))\n",
        "MA_2021 = parquets_to_dataframe(download('MA', 2021))"
      ],
      "metadata": {
        "id": "9mZgrXR003uq"
      },
      "execution_count": null,
      "outputs": []
    },
    {
      "cell_type": "code",
      "source": [
        "MA_2010['estado'] = 'MA'\n",
        "MA_2010['ano'] = 2010\n",
        "\n",
        "MA_2011['estado'] = 'MA'\n",
        "MA_2011['ano'] = 2011\n",
        "\n",
        "MA_2012['estado'] = 'MA'\n",
        "MA_2012['ano'] = 2012\n",
        "\n",
        "MA_2013['estado'] = 'MA'\n",
        "MA_2013['ano'] = 2013\n",
        "\n",
        "MA_2014['estado'] = 'MA'\n",
        "MA_2014['ano'] = 2014\n",
        "\n",
        "MA_2015['estado'] = 'MA'\n",
        "MA_2015['ano'] = 2015\n",
        "\n",
        "MA_2016['estado'] = 'MA'\n",
        "MA_2016['ano'] = 2016\n",
        "\n",
        "MA_2017['estado'] = 'MA'\n",
        "MA_2017['ano'] = 2017\n",
        "\n",
        "MA_2018['estado'] = 'MA'\n",
        "MA_2018['ano'] = 2018\n",
        "\n",
        "MA_2019['estado'] = 'MA'\n",
        "MA_2019['ano'] = 2019\n",
        "\n",
        "MA_2020['estado'] = 'MA'\n",
        "MA_2020['ano'] = 2020\n",
        "\n",
        "MA_2021['estado'] = 'MA'\n",
        "MA_2021['ano'] = 2021\n",
        "\n"
      ],
      "metadata": {
        "id": "SwkfA2XhlJM6"
      },
      "execution_count": null,
      "outputs": []
    },
    {
      "cell_type": "code",
      "source": [
        "\n",
        "MA_2010 = MA_2010[cols_to_keep]\n",
        "MA_2011 = MA_2011[cols_to_keep]\n",
        "MA_2012 = MA_2012[cols_to_keep]\n",
        "MA_2013 = MA_2013[cols_to_keep]\n",
        "MA_2014 = MA_2014[cols_to_keep]\n",
        "MA_2015 = MA_2015[cols_to_keep]\n",
        "MA_2016 = MA_2016[cols_to_keep]\n",
        "MA_2017 = MA_2017[cols_to_keep]\n",
        "MA_2018 = MA_2018[cols_to_keep]\n",
        "MA_2019 = MA_2019[cols_to_keep]\n",
        "MA_2020 = MA_2020[cols_to_keep]\n",
        "MA_2021 = MA_2021[cols_to_keep]\n",
        "\n"
      ],
      "metadata": {
        "id": "QY1ZMhDFlJKU"
      },
      "execution_count": null,
      "outputs": []
    },
    {
      "cell_type": "code",
      "source": [
        "\n",
        "MA_All = pd.concat([MA_2010, MA_2011, MA_2012, MA_2013, MA_2014, MA_2015, MA_2016, MA_2017, MA_2018, MA_2019, MA_2020, MA_2021])\n",
        "\n",
        "\n"
      ],
      "metadata": {
        "id": "iSPeKBO8lJHR"
      },
      "execution_count": null,
      "outputs": []
    },
    {
      "cell_type": "code",
      "source": [
        "MA_All.to_csv('MA_All.csv')"
      ],
      "metadata": {
        "id": "wiBatIoPlJEa"
      },
      "execution_count": null,
      "outputs": []
    },
    {
      "cell_type": "code",
      "source": [],
      "metadata": {
        "id": "eURGmgTGlJBa"
      },
      "execution_count": null,
      "outputs": []
    },
    {
      "cell_type": "code",
      "source": [],
      "metadata": {
        "id": "erWCZMWJlI-g"
      },
      "execution_count": null,
      "outputs": []
    },
    {
      "cell_type": "code",
      "source": [],
      "metadata": {
        "id": "uwqpRdXclI7p"
      },
      "execution_count": null,
      "outputs": []
    },
    {
      "cell_type": "code",
      "source": [],
      "metadata": {
        "id": "Y3I5RxFUlI48"
      },
      "execution_count": null,
      "outputs": []
    },
    {
      "cell_type": "code",
      "source": [],
      "metadata": {
        "id": "Z9mYpPkZlI2C"
      },
      "execution_count": null,
      "outputs": []
    },
    {
      "cell_type": "code",
      "source": [],
      "metadata": {
        "id": "Q-KeSzTplIuA"
      },
      "execution_count": null,
      "outputs": []
    },
    {
      "cell_type": "code",
      "source": [],
      "metadata": {
        "id": "wrNp-ilMllpE"
      },
      "execution_count": null,
      "outputs": []
    },
    {
      "cell_type": "markdown",
      "source": [
        "# MATO GROSSO"
      ],
      "metadata": {
        "id": "SWYild_4lmBa"
      }
    },
    {
      "cell_type": "code",
      "source": [
        "MT_2010 = parquets_to_dataframe(download('MT', 2010))\n",
        "MT_2011 = parquets_to_dataframe(download('MT', 2011))\n",
        "MT_2012 = parquets_to_dataframe(download('MT', 2012))\n",
        "MT_2013 = parquets_to_dataframe(download('MT', 2013))\n",
        "MT_2014 = parquets_to_dataframe(download('MT', 2014))\n",
        "MT_2015 = parquets_to_dataframe(download('MT', 2015))\n",
        "MT_2016 = parquets_to_dataframe(download('MT', 2016))\n",
        "MT_2017 = parquets_to_dataframe(download('MT', 2017))\n",
        "MT_2018 = parquets_to_dataframe(download('MT', 2018))\n",
        "MT_2019 = parquets_to_dataframe(download('MT', 2019))\n",
        "MT_2020 = parquets_to_dataframe(download('MT', 2020))\n",
        "MT_2021 = parquets_to_dataframe(download('MT', 2021))"
      ],
      "metadata": {
        "id": "6vJvp3F208pr"
      },
      "execution_count": null,
      "outputs": []
    },
    {
      "cell_type": "code",
      "source": [
        "MT_2010['estado'] = 'MT'\n",
        "MT_2010['ano'] = 2010\n",
        "\n",
        "MT_2011['estado'] = 'MT'\n",
        "MT_2011['ano'] = 2011\n",
        "\n",
        "MT_2012['estado'] = 'MT'\n",
        "MT_2012['ano'] = 2012\n",
        "\n",
        "MT_2013['estado'] = 'MT'\n",
        "MT_2013['ano'] = 2013\n",
        "\n",
        "MT_2014['estado'] = 'MT'\n",
        "MT_2014['ano'] = 2014\n",
        "\n",
        "MT_2015['estado'] = 'MT'\n",
        "MT_2015['ano'] = 2015\n",
        "\n",
        "MT_2016['estado'] = 'MT'\n",
        "MT_2016['ano'] = 2016\n",
        "\n",
        "MT_2017['estado'] = 'MT'\n",
        "MT_2017['ano'] = 2017\n",
        "\n",
        "MT_2018['estado'] = 'MT'\n",
        "MT_2018['ano'] = 2018\n",
        "\n",
        "MT_2019['estado'] = 'MT'\n",
        "MT_2019['ano'] = 2019\n",
        "\n",
        "MT_2020['estado'] = 'MT'\n",
        "MT_2020['ano'] = 2020\n",
        "\n",
        "MT_2021['estado'] = 'MT'\n",
        "MT_2021['ano'] = 2021\n"
      ],
      "metadata": {
        "id": "tEuFgJNvlnyt"
      },
      "execution_count": null,
      "outputs": []
    },
    {
      "cell_type": "code",
      "source": [
        "MT_2010 = MT_2010[cols_to_keep]\n",
        "MT_2011 = MT_2011[cols_to_keep]\n",
        "MT_2012 = MT_2012[cols_to_keep]\n",
        "MT_2013 = MT_2013[cols_to_keep]\n",
        "MT_2014 = MT_2014[cols_to_keep]\n",
        "MT_2015 = MT_2015[cols_to_keep]\n",
        "MT_2016 = MT_2016[cols_to_keep]\n",
        "MT_2017 = MT_2017[cols_to_keep]\n",
        "MT_2018 = MT_2018[cols_to_keep]\n",
        "MT_2019 = MT_2019[cols_to_keep]\n",
        "MT_2020 = MT_2020[cols_to_keep]\n",
        "MT_2021 = MT_2021[cols_to_keep]\n"
      ],
      "metadata": {
        "id": "G4xKgu6_lnv4"
      },
      "execution_count": null,
      "outputs": []
    },
    {
      "cell_type": "code",
      "source": [
        "MT_All = pd.concat([MT_2010, MT_2011, MT_2012, MT_2013, MT_2014, MT_2015, MT_2016, MT_2017, MT_2018, MT_2019, MT_2020, MT_2021])\n"
      ],
      "metadata": {
        "id": "t52J1fGolntV"
      },
      "execution_count": null,
      "outputs": []
    },
    {
      "cell_type": "code",
      "source": [
        "MT_All.to_csv('MT_All.csv')"
      ],
      "metadata": {
        "id": "6S3ARMZGlnqn"
      },
      "execution_count": null,
      "outputs": []
    },
    {
      "cell_type": "code",
      "source": [],
      "metadata": {
        "id": "al3I1131lnnz"
      },
      "execution_count": null,
      "outputs": []
    },
    {
      "cell_type": "code",
      "source": [],
      "metadata": {
        "id": "MOCouxXxlnkm"
      },
      "execution_count": null,
      "outputs": []
    },
    {
      "cell_type": "code",
      "source": [],
      "metadata": {
        "id": "tdKGBz_plnel"
      },
      "execution_count": null,
      "outputs": []
    },
    {
      "cell_type": "markdown",
      "source": [
        "#MATO GROSSO DO SUL"
      ],
      "metadata": {
        "id": "ZhHQ8Xirl4_d"
      }
    },
    {
      "cell_type": "code",
      "source": [
        "MS_2010 = parquets_to_dataframe(download('MS', 2010))\n",
        "MS_2011 = parquets_to_dataframe(download('MS', 2011))\n",
        "MS_2012 = parquets_to_dataframe(download('MS', 2012))\n",
        "MS_2013 = parquets_to_dataframe(download('MS', 2013))\n",
        "MS_2014 = parquets_to_dataframe(download('MS', 2014))\n",
        "MS_2015 = parquets_to_dataframe(download('MS', 2015))\n",
        "MS_2016 = parquets_to_dataframe(download('MS', 2016))\n",
        "MS_2017 = parquets_to_dataframe(download('MS', 2017))\n",
        "MS_2018 = parquets_to_dataframe(download('MS', 2018))\n",
        "MS_2019 = parquets_to_dataframe(download('MS', 2019))\n",
        "MS_2020 = parquets_to_dataframe(download('MS', 2020))\n",
        "MS_2021 = parquets_to_dataframe(download('MS', 2021))"
      ],
      "metadata": {
        "id": "y_LKLcVF1Asz"
      },
      "execution_count": null,
      "outputs": []
    },
    {
      "cell_type": "code",
      "source": [
        "MS_2010['estado'] = 'MS'\n",
        "MS_2010['ano'] = 2010\n",
        "\n",
        "MS_2011['estado'] = 'MS'\n",
        "MS_2011['ano'] = 2011\n",
        "\n",
        "MS_2012['estado'] = 'MS'\n",
        "MS_2012['ano'] = 2012\n",
        "\n",
        "MS_2013['estado'] = 'MS'\n",
        "MS_2013['ano'] = 2013\n",
        "\n",
        "MS_2014['estado'] = 'MS'\n",
        "MS_2014['ano'] = 2014\n",
        "\n",
        "MS_2015['estado'] = 'MS'\n",
        "MS_2015['ano'] = 2015\n",
        "\n",
        "MS_2016['estado'] = 'MS'\n",
        "MS_2016['ano'] = 2016\n",
        "\n",
        "MS_2017['estado'] = 'MS'\n",
        "MS_2017['ano'] = 2017\n",
        "\n",
        "MS_2018['estado'] = 'MS'\n",
        "MS_2018['ano'] = 2018\n",
        "\n",
        "MS_2019['estado'] = 'MS'\n",
        "MS_2019['ano'] = 2019\n",
        "\n",
        "MS_2020['estado'] = 'MS'\n",
        "MS_2020['ano'] = 2020\n",
        "\n",
        "MS_2021['estado'] = 'MS'\n",
        "MS_2021['ano'] = 2021\n"
      ],
      "metadata": {
        "id": "RRA0Y0kKl7Vz"
      },
      "execution_count": null,
      "outputs": []
    },
    {
      "cell_type": "code",
      "source": [
        "\n",
        "\n",
        "MS_2010 = MS_2010[cols_to_keep]\n",
        "MS_2011 = MS_2011[cols_to_keep]\n",
        "MS_2012 = MS_2012[cols_to_keep]\n",
        "MS_2013 = MS_2013[cols_to_keep]\n",
        "MS_2014 = MS_2014[cols_to_keep]\n",
        "MS_2015 = MS_2015[cols_to_keep]\n",
        "MS_2016 = MS_2016[cols_to_keep]\n",
        "MS_2017 = MS_2017[cols_to_keep]\n",
        "MS_2018 = MS_2018[cols_to_keep]\n",
        "MS_2019 = MS_2019[cols_to_keep]\n",
        "MS_2020 = MS_2020[cols_to_keep]\n",
        "MS_2021 = MS_2021[cols_to_keep]\n",
        "\n"
      ],
      "metadata": {
        "id": "oD_m6mXvl7TA"
      },
      "execution_count": null,
      "outputs": []
    },
    {
      "cell_type": "code",
      "source": [
        "\n",
        "MS_All = pd.concat([MS_2010, MS_2011, MS_2012, MS_2013, MS_2014, MS_2015, MS_2016, MS_2017, MS_2018, MS_2019, MS_2020, MS_2021])\n",
        "\n",
        "\n"
      ],
      "metadata": {
        "id": "Wm2cKhvpl7QW"
      },
      "execution_count": null,
      "outputs": []
    },
    {
      "cell_type": "code",
      "source": [
        "MS_All.to_csv('MS_All.csv')"
      ],
      "metadata": {
        "id": "VyBnUZ0ll7Nz"
      },
      "execution_count": null,
      "outputs": []
    },
    {
      "cell_type": "code",
      "source": [],
      "metadata": {
        "id": "hhlPBwgtl7Kz"
      },
      "execution_count": null,
      "outputs": []
    },
    {
      "cell_type": "code",
      "source": [],
      "metadata": {
        "id": "GeeuGZmyl7Cp"
      },
      "execution_count": null,
      "outputs": []
    },
    {
      "cell_type": "markdown",
      "source": [
        "# MINAS GERAIS"
      ],
      "metadata": {
        "id": "Ao5SgsXfmEqA"
      }
    },
    {
      "cell_type": "code",
      "source": [
        "MG_2010 = parquets_to_dataframe(download('MG', 2010))\n",
        "MG_2011 = parquets_to_dataframe(download('MG', 2011))\n",
        "MG_2012 = parquets_to_dataframe(download('MG', 2012))\n",
        "MG_2013 = parquets_to_dataframe(download('MG', 2013))\n",
        "MG_2014 = parquets_to_dataframe(download('MG', 2014))\n",
        "MG_2015 = parquets_to_dataframe(download('MG', 2015))\n",
        "MG_2016 = parquets_to_dataframe(download('MG', 2016))\n",
        "MG_2017 = parquets_to_dataframe(download('MG', 2017))\n",
        "MG_2018 = parquets_to_dataframe(download('MG', 2018))\n",
        "MG_2019 = parquets_to_dataframe(download('MG', 2019))\n",
        "MG_2020 = parquets_to_dataframe(download('MG', 2020))\n",
        "MG_2021 = parquets_to_dataframe(download('MG', 2021))"
      ],
      "metadata": {
        "id": "TFev9iVB1EKM"
      },
      "execution_count": null,
      "outputs": []
    },
    {
      "cell_type": "code",
      "source": [
        "MG_2010['estado'] = 'MG'\n",
        "MG_2010['ano'] = 2010\n",
        "\n",
        "MG_2011['estado'] = 'MG'\n",
        "MG_2011['ano'] = 2011\n",
        "\n",
        "MG_2012['estado'] = 'MG'\n",
        "MG_2012['ano'] = 2012\n",
        "\n",
        "MG_2013['estado'] = 'MG'\n",
        "MG_2013['ano'] = 2013\n",
        "\n",
        "MG_2014['estado'] = 'MG'\n",
        "MG_2014['ano'] = 2014\n",
        "\n",
        "MG_2015['estado'] = 'MG'\n",
        "MG_2015['ano'] = 2015\n",
        "\n",
        "MG_2016['estado'] = 'MG'\n",
        "MG_2016['ano'] = 2016\n",
        "\n",
        "MG_2017['estado'] = 'MG'\n",
        "MG_2017['ano'] = 2017\n",
        "\n",
        "MG_2018['estado'] = 'MG'\n",
        "MG_2018['ano'] = 2018\n",
        "\n",
        "MG_2019['estado'] = 'MG'\n",
        "MG_2019['ano'] = 2019\n",
        "\n",
        "MG_2020['estado'] = 'MG'\n",
        "MG_2020['ano'] = 2020\n",
        "\n",
        "MG_2021['estado'] = 'MG'\n",
        "MG_2021['ano'] = 2021\n",
        "\n"
      ],
      "metadata": {
        "id": "oPf1gCBKmNPQ"
      },
      "execution_count": null,
      "outputs": []
    },
    {
      "cell_type": "code",
      "source": [
        "\n",
        "MG_2010 = MG_2010[cols_to_keep]\n",
        "MG_2011 = MG_2011[cols_to_keep]\n",
        "MG_2012 = MG_2012[cols_to_keep]\n",
        "MG_2013 = MG_2013[cols_to_keep]\n",
        "MG_2014 = MG_2014[cols_to_keep]\n",
        "MG_2015 = MG_2015[cols_to_keep]\n",
        "MG_2016 = MG_2016[cols_to_keep]\n",
        "MG_2017 = MG_2017[cols_to_keep]\n",
        "MG_2018 = MG_2018[cols_to_keep]\n",
        "MG_2019 = MG_2019[cols_to_keep]\n",
        "MG_2020 = MG_2020[cols_to_keep]\n",
        "MG_2021 = MG_2021[cols_to_keep]\n",
        "\n",
        "\n"
      ],
      "metadata": {
        "id": "EeVeqxMqmNMI"
      },
      "execution_count": null,
      "outputs": []
    },
    {
      "cell_type": "code",
      "source": [
        "MG_All = pd.concat([MG_2010, MG_2011, MG_2012, MG_2013, MG_2014, MG_2015, MG_2016, MG_2017, MG_2018, MG_2019, MG_2020, MG_2021])\n",
        "\n",
        "\n"
      ],
      "metadata": {
        "id": "o7TzO67fmNJy"
      },
      "execution_count": null,
      "outputs": []
    },
    {
      "cell_type": "code",
      "source": [
        "MG_All.to_csv('MG_All.csv')"
      ],
      "metadata": {
        "id": "EYK67WKSmNGs"
      },
      "execution_count": null,
      "outputs": []
    },
    {
      "cell_type": "code",
      "source": [],
      "metadata": {
        "id": "_yCcPzXpmND4"
      },
      "execution_count": null,
      "outputs": []
    },
    {
      "cell_type": "code",
      "source": [],
      "metadata": {
        "id": "6FKZplWDmNBH"
      },
      "execution_count": null,
      "outputs": []
    },
    {
      "cell_type": "code",
      "source": [],
      "metadata": {
        "id": "L1ueEtRDmM37"
      },
      "execution_count": null,
      "outputs": []
    },
    {
      "cell_type": "code",
      "source": [],
      "metadata": {
        "id": "8fOwDgDkmx2C"
      },
      "execution_count": null,
      "outputs": []
    },
    {
      "cell_type": "markdown",
      "source": [
        "# PARA"
      ],
      "metadata": {
        "id": "WXbQzxRbmyPH"
      }
    },
    {
      "cell_type": "code",
      "source": [
        "PA_2010 = parquets_to_dataframe(download('PA', 2010))\n",
        "PA_2011 = parquets_to_dataframe(download('PA', 2011))\n",
        "PA_2012 = parquets_to_dataframe(download('PA', 2012))\n",
        "PA_2013 = parquets_to_dataframe(download('PA', 2013))\n",
        "PA_2014 = parquets_to_dataframe(download('PA', 2014))\n",
        "PA_2015 = parquets_to_dataframe(download('PA', 2015))\n",
        "PA_2016 = parquets_to_dataframe(download('PA', 2016))\n",
        "PA_2017 = parquets_to_dataframe(download('PA', 2017))\n",
        "PA_2018 = parquets_to_dataframe(download('PA', 2018))\n",
        "PA_2019 = parquets_to_dataframe(download('PA', 2019))\n",
        "PA_2020 = parquets_to_dataframe(download('PA', 2020))\n",
        "PA_2021 = parquets_to_dataframe(download('PA', 2021))"
      ],
      "metadata": {
        "id": "X8nqoYWb1IE1",
        "colab": {
          "base_uri": "https://localhost:8080/"
        },
        "outputId": "04f89c56-99ef-4bc3-f11b-487b256c7844"
      },
      "execution_count": null,
      "outputs": [
        {
          "output_type": "stream",
          "name": "stderr",
          "text": [
            "ERROR:root:No objects to concatenate\n"
          ]
        }
      ]
    },
    {
      "cell_type": "code",
      "source": [
        "PA_2019 = parquets_to_dataframe(download('PA', 2019))"
      ],
      "metadata": {
        "id": "tCIbLLs7sU8O"
      },
      "execution_count": null,
      "outputs": []
    },
    {
      "cell_type": "code",
      "source": [
        "PA_2010['estado'] = 'PA'\n",
        "PA_2010['ano'] = 2010\n",
        "\n",
        "PA_2011['estado'] = 'PA'\n",
        "PA_2011['ano'] = 2011\n",
        "\n",
        "PA_2012['estado'] = 'PA'\n",
        "PA_2012['ano'] = 2012\n",
        "\n",
        "PA_2013['estado'] = 'PA'\n",
        "PA_2013['ano'] = 2013\n",
        "\n",
        "PA_2014['estado'] = 'PA'\n",
        "PA_2014['ano'] = 2014\n",
        "\n",
        "PA_2015['estado'] = 'PA'\n",
        "PA_2015['ano'] = 2015\n",
        "\n",
        "PA_2016['estado'] = 'PA'\n",
        "PA_2016['ano'] = 2016\n",
        "\n",
        "PA_2017['estado'] = 'PA'\n",
        "PA_2017['ano'] = 2017\n",
        "\n",
        "#PA_2018['estado'] = 'PA'\n",
        "#PA_2018['ano'] = 2018\n",
        "\n",
        "PA_2019['estado'] = 'PA'\n",
        "PA_2019['ano'] = 2019\n",
        "\n",
        "PA_2020['estado'] = 'PA'\n",
        "PA_2020['ano'] = 2020\n",
        "\n",
        "PA_2021['estado'] = 'PA'\n",
        "PA_2021['ano'] = 2021\n",
        "\n",
        "\n"
      ],
      "metadata": {
        "id": "uguZ8cpQmz92"
      },
      "execution_count": null,
      "outputs": []
    },
    {
      "cell_type": "code",
      "source": [
        "PA_2010 = PA_2010[cols_to_keep]\n",
        "PA_2011 = PA_2011[cols_to_keep]\n",
        "PA_2012 = PA_2012[cols_to_keep]\n",
        "PA_2013 = PA_2013[cols_to_keep]\n",
        "PA_2014 = PA_2014[cols_to_keep]\n",
        "PA_2015 = PA_2015[cols_to_keep]\n",
        "PA_2016 = PA_2016[cols_to_keep]\n",
        "PA_2017 = PA_2017[cols_to_keep]\n",
        "#PA_2018 = PA_2018[cols_to_keep]\n",
        "PA_2019 = PA_2019[cols_to_keep]\n",
        "PA_2020 = PA_2020[cols_to_keep]\n",
        "PA_2021 = PA_2021[cols_to_keep]\n",
        "\n",
        "\n"
      ],
      "metadata": {
        "id": "8F5EZgzamz7E"
      },
      "execution_count": null,
      "outputs": []
    },
    {
      "cell_type": "code",
      "source": [
        "PA_All = pd.concat([PA_2010, PA_2011, PA_2012, PA_2013, PA_2014, PA_2015, PA_2016, PA_2017, PA_2019, PA_2020, PA_2021])\n",
        "\n",
        "# PA_2018,\n"
      ],
      "metadata": {
        "id": "SUJ1Xaaymz4f"
      },
      "execution_count": null,
      "outputs": []
    },
    {
      "cell_type": "code",
      "source": [
        "PA_All.to_csv('PA_All.csv')"
      ],
      "metadata": {
        "id": "lK2QcaHjmz2D"
      },
      "execution_count": null,
      "outputs": []
    },
    {
      "cell_type": "code",
      "source": [
        "#DADOS DE 2018 NÃO ENCONTRADOS"
      ],
      "metadata": {
        "id": "VDxXmsgpmzzn"
      },
      "execution_count": null,
      "outputs": []
    },
    {
      "cell_type": "code",
      "source": [],
      "metadata": {
        "id": "CZqhG2Twmzv7"
      },
      "execution_count": null,
      "outputs": []
    },
    {
      "cell_type": "code",
      "source": [],
      "metadata": {
        "id": "-ft9fHtImztd"
      },
      "execution_count": null,
      "outputs": []
    },
    {
      "cell_type": "code",
      "source": [],
      "metadata": {
        "id": "n3eXE2tvmzn0"
      },
      "execution_count": null,
      "outputs": []
    },
    {
      "cell_type": "markdown",
      "source": [
        "# PARAIBA"
      ],
      "metadata": {
        "id": "vcdwY40Hm_4a"
      }
    },
    {
      "cell_type": "code",
      "source": [
        "PB_2010 = parquets_to_dataframe(download('PB', 2010))\n",
        "PB_2011 = parquets_to_dataframe(download('PB', 2011))\n",
        "PB_2012 = parquets_to_dataframe(download('PB', 2012))\n",
        "PB_2013 = parquets_to_dataframe(download('PB', 2013))\n",
        "PB_2014 = parquets_to_dataframe(download('PB', 2014))\n",
        "PB_2015 = parquets_to_dataframe(download('PB', 2015))\n",
        "PB_2016 = parquets_to_dataframe(download('PB', 2016))\n",
        "PB_2017 = parquets_to_dataframe(download('PB', 2017))\n",
        "PB_2018 = parquets_to_dataframe(download('PB', 2018))\n",
        "PB_2019 = parquets_to_dataframe(download('PB', 2019))\n",
        "PB_2020 = parquets_to_dataframe(download('PB', 2020))\n",
        "PB_2021 = parquets_to_dataframe(download('PB', 2021))"
      ],
      "metadata": {
        "id": "41T3vHJJ1LZN"
      },
      "execution_count": null,
      "outputs": []
    },
    {
      "cell_type": "code",
      "source": [
        "PB_2010['estado'] = 'PB'\n",
        "PB_2010['ano'] = 2010\n",
        "\n",
        "PB_2011['estado'] = 'PB'\n",
        "PB_2011['ano'] = 2011\n",
        "\n",
        "PB_2012['estado'] = 'PB'\n",
        "PB_2012['ano'] = 2012\n",
        "\n",
        "PB_2013['estado'] = 'PB'\n",
        "PB_2013['ano'] = 2013\n",
        "\n",
        "PB_2014['estado'] = 'PB'\n",
        "PB_2014['ano'] = 2014\n",
        "\n",
        "PB_2015['estado'] = 'PB'\n",
        "PB_2015['ano'] = 2015\n",
        "\n",
        "PB_2016['estado'] = 'PB'\n",
        "PB_2016['ano'] = 2016\n",
        "\n",
        "PB_2017['estado'] = 'PB'\n",
        "PB_2017['ano'] = 2017\n",
        "\n",
        "PB_2018['estado'] = 'PB'\n",
        "PB_2018['ano'] = 2018\n",
        "\n",
        "PB_2019['estado'] = 'PB'\n",
        "PB_2019['ano'] = 2019\n",
        "\n",
        "PB_2020['estado'] = 'PB'\n",
        "PB_2020['ano'] = 2020\n",
        "\n",
        "PB_2021['estado'] = 'PB'\n",
        "PB_2021['ano'] = 2021\n",
        "\n"
      ],
      "metadata": {
        "id": "oV50dhaSnEWY"
      },
      "execution_count": null,
      "outputs": []
    },
    {
      "cell_type": "code",
      "source": [
        "\n",
        "PB_2010 = PB_2010[cols_to_keep]\n",
        "PB_2011 = PB_2011[cols_to_keep]\n",
        "PB_2012 = PB_2012[cols_to_keep]\n",
        "PB_2013 = PB_2013[cols_to_keep]\n",
        "PB_2014 = PB_2014[cols_to_keep]\n",
        "PB_2015 = PB_2015[cols_to_keep]\n",
        "PB_2016 = PB_2016[cols_to_keep]\n",
        "PB_2017 = PB_2017[cols_to_keep]\n",
        "PB_2018 = PB_2018[cols_to_keep]\n",
        "PB_2019 = PB_2019[cols_to_keep]\n",
        "PB_2020 = PB_2020[cols_to_keep]\n",
        "PB_2021 = PB_2021[cols_to_keep]\n",
        "\n"
      ],
      "metadata": {
        "id": "l_WrSwLPnETm"
      },
      "execution_count": null,
      "outputs": []
    },
    {
      "cell_type": "code",
      "source": [
        "\n",
        "PB_All = pd.concat([PB_2010, PB_2011, PB_2012, PB_2013, PB_2014, PB_2015, PB_2016, PB_2017, PB_2018, PB_2019, PB_2020, PB_2021])\n",
        "\n",
        "\n"
      ],
      "metadata": {
        "id": "26bjb3gmnERF"
      },
      "execution_count": null,
      "outputs": []
    },
    {
      "cell_type": "code",
      "source": [
        "PB_All.to_csv('PB_All.csv')"
      ],
      "metadata": {
        "id": "7EbSrM1cnEO_"
      },
      "execution_count": null,
      "outputs": []
    },
    {
      "cell_type": "code",
      "source": [],
      "metadata": {
        "id": "_COP_vMMnEKv"
      },
      "execution_count": null,
      "outputs": []
    },
    {
      "cell_type": "code",
      "source": [],
      "metadata": {
        "id": "alS5-BI2nEIe"
      },
      "execution_count": null,
      "outputs": []
    },
    {
      "cell_type": "code",
      "source": [],
      "metadata": {
        "id": "MYituNlsnEEq"
      },
      "execution_count": null,
      "outputs": []
    },
    {
      "cell_type": "code",
      "source": [],
      "metadata": {
        "id": "bgl188f1nD-r"
      },
      "execution_count": null,
      "outputs": []
    },
    {
      "cell_type": "markdown",
      "source": [
        "# PARANA"
      ],
      "metadata": {
        "id": "lc6JCtp0nNmC"
      }
    },
    {
      "cell_type": "code",
      "source": [
        "PR_2010 = parquets_to_dataframe(download('PR', 2010))\n",
        "PR_2011 = parquets_to_dataframe(download('PR', 2011))\n",
        "PR_2012 = parquets_to_dataframe(download('PR', 2012))\n",
        "PR_2013 = parquets_to_dataframe(download('PR', 2013))\n",
        "PR_2014 = parquets_to_dataframe(download('PR', 2014))\n",
        "PR_2015 = parquets_to_dataframe(download('PR', 2015))\n",
        "PR_2016 = parquets_to_dataframe(download('PR', 2016))\n",
        "PR_2017 = parquets_to_dataframe(download('PR', 2017))\n",
        "PR_2018 = parquets_to_dataframe(download('PR', 2018))\n",
        "PR_2019 = parquets_to_dataframe(download('PR', 2019))\n",
        "PR_2020 = parquets_to_dataframe(download('PR', 2020))\n",
        "PR_2021 = parquets_to_dataframe(download('PR', 2021))"
      ],
      "metadata": {
        "id": "NV1-8nuI1kuy"
      },
      "execution_count": null,
      "outputs": []
    },
    {
      "cell_type": "code",
      "source": [
        "PR_2010['estado'] = 'PR'\n",
        "PR_2010['ano'] = 2010\n",
        "\n",
        "PR_2011['estado'] = 'PR'\n",
        "PR_2011['ano'] = 2011\n",
        "\n",
        "PR_2012['estado'] = 'PR'\n",
        "PR_2012['ano'] = 2012\n",
        "\n",
        "PR_2013['estado'] = 'PR'\n",
        "PR_2013['ano'] = 2013\n",
        "\n",
        "PR_2014['estado'] = 'PR'\n",
        "PR_2014['ano'] = 2014\n",
        "\n",
        "PR_2015['estado'] = 'PR'\n",
        "PR_2015['ano'] = 2015\n",
        "\n",
        "PR_2016['estado'] = 'PR'\n",
        "PR_2016['ano'] = 2016\n",
        "\n",
        "PR_2017['estado'] = 'PR'\n",
        "PR_2017['ano'] = 2017\n",
        "\n",
        "PR_2018['estado'] = 'PR'\n",
        "PR_2018['ano'] = 2018\n",
        "\n",
        "PR_2019['estado'] = 'PR'\n",
        "PR_2019['ano'] = 2019\n",
        "\n",
        "PR_2020['estado'] = 'PR'\n",
        "PR_2020['ano'] = 2020\n",
        "\n",
        "PR_2021['estado'] = 'PR'\n",
        "PR_2021['ano'] = 2021\n",
        "\n"
      ],
      "metadata": {
        "id": "oiR0XnbInP1W"
      },
      "execution_count": null,
      "outputs": []
    },
    {
      "cell_type": "code",
      "source": [
        "\n",
        "PR_2010 = PR_2010[cols_to_keep]\n",
        "PR_2011 = PR_2011[cols_to_keep]\n",
        "PR_2012 = PR_2012[cols_to_keep]\n",
        "PR_2013 = PR_2013[cols_to_keep]\n",
        "PR_2014 = PR_2014[cols_to_keep]\n",
        "PR_2015 = PR_2015[cols_to_keep]\n",
        "PR_2016 = PR_2016[cols_to_keep]\n",
        "PR_2017 = PR_2017[cols_to_keep]\n",
        "PR_2018 = PR_2018[cols_to_keep]\n",
        "PR_2019 = PR_2019[cols_to_keep]\n",
        "PR_2020 = PR_2020[cols_to_keep]\n",
        "PR_2021 = PR_2021[cols_to_keep]\n",
        "\n",
        "\n"
      ],
      "metadata": {
        "id": "zQ2UcJJsnPwY"
      },
      "execution_count": null,
      "outputs": []
    },
    {
      "cell_type": "code",
      "source": [
        "PR_All = pd.concat([PR_2010, PR_2011, PR_2012, PR_2013, PR_2014, PR_2015, PR_2016, PR_2017, PR_2018, PR_2019, PR_2020, PR_2021])\n",
        "\n",
        "\n"
      ],
      "metadata": {
        "id": "TVwIlt6gnPrH"
      },
      "execution_count": null,
      "outputs": []
    },
    {
      "cell_type": "code",
      "source": [
        "PR_All.to_csv('PR_All.csv')"
      ],
      "metadata": {
        "id": "TImXhzOXnPm0"
      },
      "execution_count": null,
      "outputs": []
    },
    {
      "cell_type": "code",
      "source": [],
      "metadata": {
        "id": "8lYUZvc6nPiu"
      },
      "execution_count": null,
      "outputs": []
    },
    {
      "cell_type": "code",
      "source": [],
      "metadata": {
        "id": "Us-SmUw4nPbD"
      },
      "execution_count": null,
      "outputs": []
    },
    {
      "cell_type": "markdown",
      "source": [
        "# PERNAMBUCO"
      ],
      "metadata": {
        "id": "85ngCELKnW0U"
      }
    },
    {
      "cell_type": "code",
      "source": [
        "PE_2010 = parquets_to_dataframe(download('PE', 2010))\n",
        "PE_2011 = parquets_to_dataframe(download('PE', 2011))\n",
        "PE_2012 = parquets_to_dataframe(download('PE', 2012))\n",
        "PE_2013 = parquets_to_dataframe(download('PE', 2013))\n",
        "PE_2014 = parquets_to_dataframe(download('PE', 2014))\n",
        "PE_2015 = parquets_to_dataframe(download('PE', 2015))\n",
        "PE_2016 = parquets_to_dataframe(download('PE', 2016))\n",
        "PE_2017 = parquets_to_dataframe(download('PE', 2017))\n",
        "PE_2018 = parquets_to_dataframe(download('PE', 2018))\n",
        "PE_2019 = parquets_to_dataframe(download('PE', 2019))\n",
        "PE_2020 = parquets_to_dataframe(download('PE', 2020))\n",
        "PE_2021 = parquets_to_dataframe(download('PE', 2021))"
      ],
      "metadata": {
        "id": "74M7D1k_1lGg"
      },
      "execution_count": null,
      "outputs": []
    },
    {
      "cell_type": "code",
      "source": [
        "PE_2010['estado'] = 'PE'\n",
        "PE_2010['ano'] = 2010\n",
        "\n",
        "PE_2011['estado'] = 'PE'\n",
        "PE_2011['ano'] = 2011\n",
        "\n",
        "PE_2012['estado'] = 'PE'\n",
        "PE_2012['ano'] = 2012\n",
        "\n",
        "PE_2013['estado'] = 'PE'\n",
        "PE_2013['ano'] = 2013\n",
        "\n",
        "PE_2014['estado'] = 'PE'\n",
        "PE_2014['ano'] = 2014\n",
        "\n",
        "PE_2015['estado'] = 'PE'\n",
        "PE_2015['ano'] = 2015\n",
        "\n",
        "PE_2016['estado'] = 'PE'\n",
        "PE_2016['ano'] = 2016\n",
        "\n",
        "PE_2017['estado'] = 'PE'\n",
        "PE_2017['ano'] = 2017\n",
        "\n",
        "PE_2018['estado'] = 'PE'\n",
        "PE_2018['ano'] = 2018\n",
        "\n",
        "PE_2019['estado'] = 'PE'\n",
        "PE_2019['ano'] = 2019\n",
        "\n",
        "PE_2020['estado'] = 'PE'\n",
        "PE_2020['ano'] = 2020\n",
        "\n",
        "PE_2021['estado'] = 'PE'\n",
        "PE_2021['ano'] = 2021\n",
        "\n",
        "\n"
      ],
      "metadata": {
        "id": "uH_2J9AxnYpp"
      },
      "execution_count": null,
      "outputs": []
    },
    {
      "cell_type": "code",
      "source": [
        "PE_2010 = PE_2010[cols_to_keep]\n",
        "PE_2011 = PE_2011[cols_to_keep]\n",
        "PE_2012 = PE_2012[cols_to_keep]\n",
        "PE_2013 = PE_2013[cols_to_keep]\n",
        "PE_2014 = PE_2014[cols_to_keep]\n",
        "PE_2015 = PE_2015[cols_to_keep]\n",
        "PE_2016 = PE_2016[cols_to_keep]\n",
        "PE_2017 = PE_2017[cols_to_keep]\n",
        "PE_2018 = PE_2018[cols_to_keep]\n",
        "PE_2019 = PE_2019[cols_to_keep]\n",
        "PE_2020 = PE_2020[cols_to_keep]\n",
        "PE_2021 = PE_2021[cols_to_keep]\n",
        "\n"
      ],
      "metadata": {
        "id": "zLL_DfFBnYmn"
      },
      "execution_count": null,
      "outputs": []
    },
    {
      "cell_type": "code",
      "source": [
        "\n",
        "PE_All = pd.concat([PE_2010, PE_2011, PE_2012, PE_2013, PE_2014, PE_2015, PE_2016, PE_2017, PE_2018, PE_2019, PE_2020, PE_2021])\n",
        "\n",
        "\n"
      ],
      "metadata": {
        "id": "IH9EUXbLnYkU"
      },
      "execution_count": null,
      "outputs": []
    },
    {
      "cell_type": "code",
      "source": [
        "PE_All.to_csv('PE_All.csv')"
      ],
      "metadata": {
        "id": "wcpo8ZWvnYhg"
      },
      "execution_count": null,
      "outputs": []
    },
    {
      "cell_type": "code",
      "source": [],
      "metadata": {
        "id": "aeGV2Nv9nYfD"
      },
      "execution_count": null,
      "outputs": []
    },
    {
      "cell_type": "code",
      "source": [],
      "metadata": {
        "id": "LZnohdO4nYbb"
      },
      "execution_count": null,
      "outputs": []
    },
    {
      "cell_type": "code",
      "source": [],
      "metadata": {
        "id": "mS2oQ4HlnYU6"
      },
      "execution_count": null,
      "outputs": []
    },
    {
      "cell_type": "markdown",
      "source": [
        "# PIAU"
      ],
      "metadata": {
        "id": "OiS7yOrdntvC"
      }
    },
    {
      "cell_type": "code",
      "source": [
        "PI_2010 = parquets_to_dataframe(download('PI', 2010))\n",
        "PI_2011 = parquets_to_dataframe(download('PI', 2011))\n",
        "PI_2012 = parquets_to_dataframe(download('PI', 2012))\n",
        "PI_2013 = parquets_to_dataframe(download('PI', 2013))\n",
        "PI_2014 = parquets_to_dataframe(download('PI', 2014))\n",
        "PI_2015 = parquets_to_dataframe(download('PI', 2015))\n",
        "PI_2016 = parquets_to_dataframe(download('PI', 2016))\n",
        "PI_2017 = parquets_to_dataframe(download('PI', 2017))\n",
        "PI_2018 = parquets_to_dataframe(download('PI', 2018))\n",
        "PI_2019 = parquets_to_dataframe(download('PI', 2019))\n",
        "PI_2020 = parquets_to_dataframe(download('PI', 2020))\n",
        "PI_2021 = parquets_to_dataframe(download('PI', 2021))"
      ],
      "metadata": {
        "id": "L359u7381pQp"
      },
      "execution_count": null,
      "outputs": []
    },
    {
      "cell_type": "code",
      "source": [
        "PI_2010['estado'] = 'PI'\n",
        "PI_2010['ano'] = 2010\n",
        "\n",
        "PI_2011['estado'] = 'PI'\n",
        "PI_2011['ano'] = 2011\n",
        "\n",
        "PI_2012['estado'] = 'PI'\n",
        "PI_2012['ano'] = 2012\n",
        "\n",
        "PI_2013['estado'] = 'PI'\n",
        "PI_2013['ano'] = 2013\n",
        "\n",
        "PI_2014['estado'] = 'PI'\n",
        "PI_2014['ano'] = 2014\n",
        "\n",
        "PI_2015['estado'] = 'PI'\n",
        "PI_2015['ano'] = 2015\n",
        "\n",
        "PI_2016['estado'] = 'PI'\n",
        "PI_2016['ano'] = 2016\n",
        "\n",
        "PI_2017['estado'] = 'PI'\n",
        "PI_2017['ano'] = 2017\n",
        "\n",
        "PI_2018['estado'] = 'PI'\n",
        "PI_2018['ano'] = 2018\n",
        "\n",
        "PI_2019['estado'] = 'PI'\n",
        "PI_2019['ano'] = 2019\n",
        "\n",
        "PI_2020['estado'] = 'PI'\n",
        "PI_2020['ano'] = 2020\n",
        "\n",
        "PI_2021['estado'] = 'PI'\n",
        "PI_2021['ano'] = 2021\n",
        "\n"
      ],
      "metadata": {
        "id": "XWxZKfKMnvU-"
      },
      "execution_count": null,
      "outputs": []
    },
    {
      "cell_type": "code",
      "source": [
        "\n",
        "PI_2010 = PI_2010[cols_to_keep]\n",
        "PI_2011 = PI_2011[cols_to_keep]\n",
        "PI_2012 = PI_2012[cols_to_keep]\n",
        "PI_2013 = PI_2013[cols_to_keep]\n",
        "PI_2014 = PI_2014[cols_to_keep]\n",
        "PI_2015 = PI_2015[cols_to_keep]\n",
        "PI_2016 = PI_2016[cols_to_keep]\n",
        "PI_2017 = PI_2017[cols_to_keep]\n",
        "PI_2018 = PI_2018[cols_to_keep]\n",
        "PI_2019 = PI_2019[cols_to_keep]\n",
        "PI_2020 = PI_2020[cols_to_keep]\n",
        "PI_2021 = PI_2021[cols_to_keep]\n",
        "\n"
      ],
      "metadata": {
        "id": "6pRTUWmmnvSN"
      },
      "execution_count": null,
      "outputs": []
    },
    {
      "cell_type": "code",
      "source": [
        "\n",
        "PI_All = pd.concat([PI_2010, PI_2011, PI_2012, PI_2013, PI_2014, PI_2015, PI_2016, PI_2017, PI_2018, PI_2019, PI_2020, PI_2021])\n"
      ],
      "metadata": {
        "id": "9lNl1YubnvPQ"
      },
      "execution_count": null,
      "outputs": []
    },
    {
      "cell_type": "code",
      "source": [
        "PI_All.to_csv('PI_All.csv')"
      ],
      "metadata": {
        "id": "YK3lr3IynvMp"
      },
      "execution_count": null,
      "outputs": []
    },
    {
      "cell_type": "code",
      "source": [],
      "metadata": {
        "id": "RN_DxCffnvJy"
      },
      "execution_count": null,
      "outputs": []
    },
    {
      "cell_type": "code",
      "source": [],
      "metadata": {
        "id": "7BBsOKNgnvGr"
      },
      "execution_count": null,
      "outputs": []
    },
    {
      "cell_type": "code",
      "source": [],
      "metadata": {
        "id": "kGzJ1cF5nu_N"
      },
      "execution_count": null,
      "outputs": []
    },
    {
      "cell_type": "markdown",
      "source": [
        "# RIO DE JANEIRO"
      ],
      "metadata": {
        "id": "N3vPPIUpn435"
      }
    },
    {
      "cell_type": "code",
      "source": [
        "RJ_2010 = parquets_to_dataframe(download('RJ', 2010))\n",
        "RJ_2011 = parquets_to_dataframe(download('RJ', 2011))\n",
        "RJ_2012 = parquets_to_dataframe(download('RJ', 2012))\n",
        "RJ_2013 = parquets_to_dataframe(download('RJ', 2013))\n",
        "RJ_2014 = parquets_to_dataframe(download('RJ', 2014))\n",
        "RJ_2015 = parquets_to_dataframe(download('RJ', 2015))\n",
        "RJ_2016 = parquets_to_dataframe(download('RJ', 2016))\n",
        "RJ_2017 = parquets_to_dataframe(download('RJ', 2017))\n",
        "RJ_2018 = parquets_to_dataframe(download('RJ', 2018))\n",
        "RJ_2019 = parquets_to_dataframe(download('RJ', 2019))\n",
        "RJ_2020 = parquets_to_dataframe(download('RJ', 2020))\n",
        "RJ_2021 = parquets_to_dataframe(download('RJ', 2021))"
      ],
      "metadata": {
        "id": "Fgz3AL0k1u7j"
      },
      "execution_count": null,
      "outputs": []
    },
    {
      "cell_type": "code",
      "source": [
        "RJ_2010['estado'] = 'RJ'\n",
        "RJ_2010['ano'] = 2010\n",
        "\n",
        "RJ_2011['estado'] = 'RJ'\n",
        "RJ_2011['ano'] = 2011\n",
        "\n",
        "RJ_2012['estado'] = 'RJ'\n",
        "RJ_2012['ano'] = 2012\n",
        "\n",
        "RJ_2013['estado'] = 'RJ'\n",
        "RJ_2013['ano'] = 2013\n",
        "\n",
        "RJ_2014['estado'] = 'RJ'\n",
        "RJ_2014['ano'] = 2014\n",
        "\n",
        "RJ_2015['estado'] = 'RJ'\n",
        "RJ_2015['ano'] = 2015\n",
        "\n",
        "RJ_2016['estado'] = 'RJ'\n",
        "RJ_2016['ano'] = 2016\n",
        "\n",
        "RJ_2017['estado'] = 'RJ'\n",
        "RJ_2017['ano'] = 2017\n",
        "\n",
        "RJ_2018['estado'] = 'RJ'\n",
        "RJ_2018['ano'] = 2018\n",
        "\n",
        "RJ_2019['estado'] = 'RJ'\n",
        "RJ_2019['ano'] = 2019\n",
        "\n",
        "RJ_2020['estado'] = 'RJ'\n",
        "RJ_2020['ano'] = 2020\n",
        "\n",
        "RJ_2021['estado'] = 'RJ'\n",
        "RJ_2021['ano'] = 2021\n",
        "\n"
      ],
      "metadata": {
        "id": "eNAAcyd_n7C9"
      },
      "execution_count": null,
      "outputs": []
    },
    {
      "cell_type": "code",
      "source": [
        "\n",
        "RJ_2010 = RJ_2010[cols_to_keep]\n",
        "RJ_2011 = RJ_2011[cols_to_keep]\n",
        "RJ_2012 = RJ_2012[cols_to_keep]\n",
        "RJ_2013 = RJ_2013[cols_to_keep]\n",
        "RJ_2014 = RJ_2014[cols_to_keep]\n",
        "RJ_2015 = RJ_2015[cols_to_keep]\n",
        "RJ_2016 = RJ_2016[cols_to_keep]\n",
        "RJ_2017 = RJ_2017[cols_to_keep]\n",
        "RJ_2018 = RJ_2018[cols_to_keep]\n",
        "RJ_2019 = RJ_2019[cols_to_keep]\n",
        "RJ_2020 = RJ_2020[cols_to_keep]\n",
        "RJ_2021 = RJ_2021[cols_to_keep]\n",
        "\n"
      ],
      "metadata": {
        "id": "TP9hb7FBn6j5"
      },
      "execution_count": null,
      "outputs": []
    },
    {
      "cell_type": "code",
      "source": [
        "\n",
        "RJ_All = pd.concat([RJ_2010, RJ_2011, RJ_2012, RJ_2013, RJ_2014, RJ_2015, RJ_2016, RJ_2017, RJ_2018, RJ_2019, RJ_2020, RJ_2021])\n",
        "\n",
        "\n"
      ],
      "metadata": {
        "id": "4TSBztY2n6fI"
      },
      "execution_count": null,
      "outputs": []
    },
    {
      "cell_type": "code",
      "source": [
        "RJ_All.to_csv('RJ_All.csv')"
      ],
      "metadata": {
        "id": "AO8qehsYn6ax"
      },
      "execution_count": null,
      "outputs": []
    },
    {
      "cell_type": "code",
      "source": [],
      "metadata": {
        "id": "tnSUc_dqn6Ts"
      },
      "execution_count": null,
      "outputs": []
    },
    {
      "cell_type": "markdown",
      "source": [
        "# RIO GRANDE DO NORTE"
      ],
      "metadata": {
        "id": "QFSjvsksoTh0"
      }
    },
    {
      "cell_type": "code",
      "source": [
        "RN_2010 = parquets_to_dataframe(download('RN', 2010))\n",
        "RN_2011 = parquets_to_dataframe(download('RN', 2011))\n",
        "RN_2012 = parquets_to_dataframe(download('RN', 2012))\n",
        "RN_2013 = parquets_to_dataframe(download('RN', 2013))\n",
        "RN_2014 = parquets_to_dataframe(download('RN', 2014))\n",
        "RN_2015 = parquets_to_dataframe(download('RN', 2015))\n",
        "RN_2016 = parquets_to_dataframe(download('RN', 2016))\n",
        "RN_2017 = parquets_to_dataframe(download('RN', 2017))\n",
        "RN_2018 = parquets_to_dataframe(download('RN', 2018))\n",
        "RN_2019 = parquets_to_dataframe(download('RN', 2019))\n",
        "RN_2020 = parquets_to_dataframe(download('RN', 2020))\n",
        "RN_2021 = parquets_to_dataframe(download('RN', 2021))"
      ],
      "metadata": {
        "id": "8BRM-jWF2yEc"
      },
      "execution_count": null,
      "outputs": []
    },
    {
      "cell_type": "code",
      "source": [
        "RN_2010['estado'] = 'RN'\n",
        "RN_2010['ano'] = 2010\n",
        "\n",
        "RN_2011['estado'] = 'RN'\n",
        "RN_2011['ano'] = 2011\n",
        "\n",
        "RN_2012['estado'] = 'RN'\n",
        "RN_2012['ano'] = 2012\n",
        "\n",
        "RN_2013['estado'] = 'RN'\n",
        "RN_2013['ano'] = 2013\n",
        "\n",
        "RN_2014['estado'] = 'RN'\n",
        "RN_2014['ano'] = 2014\n",
        "\n",
        "RN_2015['estado'] = 'RN'\n",
        "RN_2015['ano'] = 2015\n",
        "\n",
        "RN_2016['estado'] = 'RN'\n",
        "RN_2016['ano'] = 2016\n",
        "\n",
        "RN_2017['estado'] = 'RN'\n",
        "RN_2017['ano'] = 2017\n",
        "\n",
        "RN_2018['estado'] = 'RN'\n",
        "RN_2018['ano'] = 2018\n",
        "\n",
        "RN_2019['estado'] = 'RN'\n",
        "RN_2019['ano'] = 2019\n",
        "\n",
        "RN_2020['estado'] = 'RN'\n",
        "RN_2020['ano'] = 2020\n",
        "\n",
        "RN_2021['estado'] = 'RN'\n",
        "RN_2021['ano'] = 2021\n",
        "\n"
      ],
      "metadata": {
        "id": "PRW5QQSyoXO4"
      },
      "execution_count": null,
      "outputs": []
    },
    {
      "cell_type": "code",
      "source": [
        "\n",
        "RN_2010 = RN_2010[cols_to_keep]\n",
        "RN_2011 = RN_2011[cols_to_keep]\n",
        "RN_2012 = RN_2012[cols_to_keep]\n",
        "RN_2013 = RN_2013[cols_to_keep]\n",
        "RN_2014 = RN_2014[cols_to_keep]\n",
        "RN_2015 = RN_2015[cols_to_keep]\n",
        "RN_2016 = RN_2016[cols_to_keep]\n",
        "RN_2017 = RN_2017[cols_to_keep]\n",
        "RN_2018 = RN_2018[cols_to_keep]\n",
        "RN_2019 = RN_2019[cols_to_keep]\n",
        "RN_2020 = RN_2020[cols_to_keep]\n",
        "RN_2021 = RN_2021[cols_to_keep]\n",
        "\n"
      ],
      "metadata": {
        "id": "nMScE2tmoXMf"
      },
      "execution_count": null,
      "outputs": []
    },
    {
      "cell_type": "code",
      "source": [
        "\n",
        "RN_All = pd.concat([RN_2010, RN_2011, RN_2012, RN_2013, RN_2014, RN_2015, RN_2016, RN_2017, RN_2018, RN_2019, RN_2020, RN_2021])\n",
        "\n",
        "\n"
      ],
      "metadata": {
        "id": "DyqGIFe2oXIy"
      },
      "execution_count": null,
      "outputs": []
    },
    {
      "cell_type": "code",
      "source": [
        "RN_All.to_csv('RN_All.csv')"
      ],
      "metadata": {
        "id": "vB22t0JooXFP"
      },
      "execution_count": null,
      "outputs": []
    },
    {
      "cell_type": "code",
      "source": [],
      "metadata": {
        "id": "pkvX-HW4oW6V"
      },
      "execution_count": null,
      "outputs": []
    },
    {
      "cell_type": "markdown",
      "source": [
        "# RIO GRANDE DO SUL"
      ],
      "metadata": {
        "id": "lXxF32t3oei2"
      }
    },
    {
      "cell_type": "code",
      "source": [
        "RS_2010 = parquets_to_dataframe(download('RS', 2010))\n",
        "RS_2011 = parquets_to_dataframe(download('RS', 2011))\n",
        "RS_2012 = parquets_to_dataframe(download('RS', 2012))\n",
        "RS_2013 = parquets_to_dataframe(download('RS', 2013))\n",
        "RS_2014 = parquets_to_dataframe(download('RS', 2014))\n",
        "RS_2015 = parquets_to_dataframe(download('RS', 2015))\n",
        "RS_2016 = parquets_to_dataframe(download('RS', 2016))\n",
        "RS_2017 = parquets_to_dataframe(download('RS', 2017))\n",
        "RS_2018 = parquets_to_dataframe(download('RS', 2018))\n",
        "RS_2019 = parquets_to_dataframe(download('RS', 2019))\n",
        "RS_2020 = parquets_to_dataframe(download('RS', 2020))\n",
        "RS_2021 = parquets_to_dataframe(download('RS', 2021))"
      ],
      "metadata": {
        "id": "c1YnayK624Bc"
      },
      "execution_count": null,
      "outputs": []
    },
    {
      "cell_type": "code",
      "source": [
        "RS_2010['estado'] = 'RS'\n",
        "RS_2010['ano'] = 2010\n",
        "\n",
        "RS_2011['estado'] = 'RS'\n",
        "RS_2011['ano'] = 2011\n",
        "\n",
        "RS_2012['estado'] = 'RS'\n",
        "RS_2012['ano'] = 2012\n",
        "\n",
        "RS_2013['estado'] = 'RS'\n",
        "RS_2013['ano'] = 2013\n",
        "\n",
        "RS_2014['estado'] = 'RS'\n",
        "RS_2014['ano'] = 2014\n",
        "\n",
        "RS_2015['estado'] = 'RS'\n",
        "RS_2015['ano'] = 2015\n",
        "\n",
        "RS_2016['estado'] = 'RS'\n",
        "RS_2016['ano'] = 2016\n",
        "\n",
        "RS_2017['estado'] = 'RS'\n",
        "RS_2017['ano'] = 2017\n",
        "\n",
        "RS_2018['estado'] = 'RS'\n",
        "RS_2018['ano'] = 2018\n",
        "\n",
        "RS_2019['estado'] = 'RS'\n",
        "RS_2019['ano'] = 2019\n",
        "\n",
        "RS_2020['estado'] = 'RS'\n",
        "RS_2020['ano'] = 2020\n",
        "\n",
        "RS_2021['estado'] = 'RS'\n",
        "RS_2021['ano'] = 2021\n",
        "\n"
      ],
      "metadata": {
        "id": "a1KXCPzrogUJ"
      },
      "execution_count": null,
      "outputs": []
    },
    {
      "cell_type": "code",
      "source": [
        "\n",
        "RS_2010 = RS_2010[cols_to_keep]\n",
        "RS_2011 = RS_2011[cols_to_keep]\n",
        "RS_2012 = RS_2012[cols_to_keep]\n",
        "RS_2013 = RS_2013[cols_to_keep]\n",
        "RS_2014 = RS_2014[cols_to_keep]\n",
        "RS_2015 = RS_2015[cols_to_keep]\n",
        "RS_2016 = RS_2016[cols_to_keep]\n",
        "RS_2017 = RS_2017[cols_to_keep]\n",
        "RS_2018 = RS_2018[cols_to_keep]\n",
        "RS_2019 = RS_2019[cols_to_keep]\n",
        "RS_2020 = RS_2020[cols_to_keep]\n",
        "RS_2021 = RS_2021[cols_to_keep]\n",
        "\n"
      ],
      "metadata": {
        "id": "vzRZqtpNogRq"
      },
      "execution_count": null,
      "outputs": []
    },
    {
      "cell_type": "code",
      "source": [
        "\n",
        "RS_All = pd.concat([RS_2010, RS_2011, RS_2012, RS_2013, RS_2014, RS_2015, RS_2016, RS_2017, RS_2018, RS_2019, RS_2020, RS_2021])\n",
        "\n",
        "\n"
      ],
      "metadata": {
        "id": "Z6yAoAhyogPL"
      },
      "execution_count": null,
      "outputs": []
    },
    {
      "cell_type": "code",
      "source": [
        "RS_All.to_csv('RS_All.csv')"
      ],
      "metadata": {
        "id": "q-V0UinzogMc"
      },
      "execution_count": null,
      "outputs": []
    },
    {
      "cell_type": "code",
      "source": [],
      "metadata": {
        "id": "Hlodm2ACogJ1"
      },
      "execution_count": null,
      "outputs": []
    },
    {
      "cell_type": "code",
      "source": [],
      "metadata": {
        "id": "vqEdmnlEogEe"
      },
      "execution_count": null,
      "outputs": []
    },
    {
      "cell_type": "markdown",
      "source": [
        "# RONDONIA"
      ],
      "metadata": {
        "id": "qR8hrRXwooyi"
      }
    },
    {
      "cell_type": "code",
      "source": [
        "RO_2010 = parquets_to_dataframe(download('RO', 2010))\n",
        "RO_2011 = parquets_to_dataframe(download('RO', 2011))\n",
        "RO_2012 = parquets_to_dataframe(download('RO', 2012))\n",
        "RO_2013 = parquets_to_dataframe(download('RO', 2013))\n",
        "RO_2014 = parquets_to_dataframe(download('RO', 2014))\n",
        "RO_2015 = parquets_to_dataframe(download('RO', 2015))\n",
        "RO_2016 = parquets_to_dataframe(download('RO', 2016))\n",
        "RO_2017 = parquets_to_dataframe(download('RO', 2017))\n",
        "RO_2018 = parquets_to_dataframe(download('RO', 2018))\n",
        "RO_2019 = parquets_to_dataframe(download('RO', 2019))\n",
        "RO_2020 = parquets_to_dataframe(download('RO', 2020))\n",
        "RO_2021 = parquets_to_dataframe(download('RO', 2021))"
      ],
      "metadata": {
        "id": "DYdkXhwy297Q"
      },
      "execution_count": null,
      "outputs": []
    },
    {
      "cell_type": "code",
      "source": [
        "RO_2010['estado'] = 'RO'\n",
        "RO_2010['ano'] = 2010\n",
        "\n",
        "RO_2011['estado'] = 'RO'\n",
        "RO_2011['ano'] = 2011\n",
        "\n",
        "RO_2012['estado'] = 'RO'\n",
        "RO_2012['ano'] = 2012\n",
        "\n",
        "RO_2013['estado'] = 'RO'\n",
        "RO_2013['ano'] = 2013\n",
        "\n",
        "RO_2014['estado'] = 'RO'\n",
        "RO_2014['ano'] = 2014\n",
        "\n",
        "RO_2015['estado'] = 'RO'\n",
        "RO_2015['ano'] = 2015\n",
        "\n",
        "RO_2016['estado'] = 'RO'\n",
        "RO_2016['ano'] = 2016\n",
        "\n",
        "RO_2017['estado'] = 'RO'\n",
        "RO_2017['ano'] = 2017\n",
        "\n",
        "RO_2018['estado'] = 'RO'\n",
        "RO_2018['ano'] = 2018\n",
        "\n",
        "RO_2019['estado'] = 'RO'\n",
        "RO_2019['ano'] = 2019\n",
        "\n",
        "RO_2020['estado'] = 'RO'\n",
        "RO_2020['ano'] = 2020\n",
        "\n",
        "RO_2021['estado'] = 'RO'\n",
        "RO_2021['ano'] = 2021\n",
        "\n",
        "\n",
        "\n",
        "\n"
      ],
      "metadata": {
        "id": "L8ofWiUporHs"
      },
      "execution_count": null,
      "outputs": []
    },
    {
      "cell_type": "code",
      "source": [
        "RO_2010 = RO_2010[cols_to_keep]\n",
        "RO_2011 = RO_2011[cols_to_keep]\n",
        "RO_2012 = RO_2012[cols_to_keep]\n",
        "RO_2013 = RO_2013[cols_to_keep]\n",
        "RO_2014 = RO_2014[cols_to_keep]\n",
        "RO_2015 = RO_2015[cols_to_keep]\n",
        "RO_2016 = RO_2016[cols_to_keep]\n",
        "RO_2017 = RO_2017[cols_to_keep]\n",
        "RO_2018 = RO_2018[cols_to_keep]\n",
        "RO_2019 = RO_2019[cols_to_keep]\n",
        "RO_2020 = RO_2020[cols_to_keep]\n",
        "RO_2021 = RO_2021[cols_to_keep]\n",
        "\n",
        "\n"
      ],
      "metadata": {
        "id": "86nvim5MorDp"
      },
      "execution_count": null,
      "outputs": []
    },
    {
      "cell_type": "code",
      "source": [
        "RO_All = pd.concat([RO_2010, RO_2011, RO_2012, RO_2013, RO_2014, RO_2015, RO_2016, RO_2017, RO_2018, RO_2019, RO_2020, RO_2021])\n",
        "\n"
      ],
      "metadata": {
        "id": "PPgOCzFvorA8"
      },
      "execution_count": null,
      "outputs": []
    },
    {
      "cell_type": "code",
      "source": [
        "\n",
        "RO_All.to_csv('RO_All.csv')"
      ],
      "metadata": {
        "id": "TMPsWqZboq98"
      },
      "execution_count": null,
      "outputs": []
    },
    {
      "cell_type": "code",
      "source": [],
      "metadata": {
        "id": "8NhEg6yGoq2m"
      },
      "execution_count": null,
      "outputs": []
    },
    {
      "cell_type": "markdown",
      "source": [
        "# RORAIMA"
      ],
      "metadata": {
        "id": "BXRbMZyZo0Cz"
      }
    },
    {
      "cell_type": "code",
      "source": [
        "RR_2010 = parquets_to_dataframe(download('RR', 2010))\n",
        "RR_2011 = parquets_to_dataframe(download('RR', 2011))\n",
        "RR_2012 = parquets_to_dataframe(download('RR', 2012))\n",
        "RR_2013 = parquets_to_dataframe(download('RR', 2013))\n",
        "RR_2014 = parquets_to_dataframe(download('RR', 2014))\n",
        "RR_2015 = parquets_to_dataframe(download('RR', 2015))\n",
        "RR_2016 = parquets_to_dataframe(download('RR', 2016))\n",
        "RR_2017 = parquets_to_dataframe(download('RR', 2017))\n",
        "RR_2018 = parquets_to_dataframe(download('RR', 2018))\n",
        "RR_2019 = parquets_to_dataframe(download('RR', 2019))\n",
        "RR_2020 = parquets_to_dataframe(download('RR', 2020))\n",
        "RR_2021 = parquets_to_dataframe(download('RR', 2021))"
      ],
      "metadata": {
        "id": "aAIVV70U3B_2"
      },
      "execution_count": null,
      "outputs": []
    },
    {
      "cell_type": "code",
      "source": [
        "RR_2010['estado'] = 'RR'\n",
        "RR_2010['ano'] = 2010\n",
        "\n",
        "RR_2011['estado'] = 'RR'\n",
        "RR_2011['ano'] = 2011\n",
        "\n",
        "RR_2012['estado'] = 'RR'\n",
        "RR_2012['ano'] = 2012\n",
        "\n",
        "RR_2013['estado'] = 'RR'\n",
        "RR_2013['ano'] = 2013\n",
        "\n",
        "RR_2014['estado'] = 'RR'\n",
        "RR_2014['ano'] = 2014\n",
        "\n",
        "RR_2015['estado'] = 'RR'\n",
        "RR_2015['ano'] = 2015\n",
        "\n",
        "RR_2016['estado'] = 'RR'\n",
        "RR_2016['ano'] = 2016\n",
        "\n",
        "RR_2017['estado'] = 'RR'\n",
        "RR_2017['ano'] = 2017\n",
        "\n",
        "RR_2018['estado'] = 'RR'\n",
        "RR_2018['ano'] = 2018\n",
        "\n",
        "RR_2019['estado'] = 'RR'\n",
        "RR_2019['ano'] = 2019\n",
        "\n",
        "RR_2020['estado'] = 'RR'\n",
        "RR_2020['ano'] = 2020\n",
        "\n",
        "RR_2021['estado'] = 'RR'\n",
        "RR_2021['ano'] = 2021\n"
      ],
      "metadata": {
        "id": "jg0zDygjo5C8"
      },
      "execution_count": null,
      "outputs": []
    },
    {
      "cell_type": "code",
      "source": [
        "\n",
        "\n",
        "RR_2010 = RR_2010[cols_to_keep]\n",
        "RR_2011 = RR_2011[cols_to_keep]\n",
        "RR_2012 = RR_2012[cols_to_keep]\n",
        "RR_2013 = RR_2013[cols_to_keep]\n",
        "RR_2014 = RR_2014[cols_to_keep]\n",
        "RR_2015 = RR_2015[cols_to_keep]\n",
        "RR_2016 = RR_2016[cols_to_keep]\n",
        "RR_2017 = RR_2017[cols_to_keep]\n",
        "RR_2018 = RR_2018[cols_to_keep]\n",
        "RR_2019 = RR_2019[cols_to_keep]\n",
        "RR_2020 = RR_2020[cols_to_keep]\n",
        "RR_2021 = RR_2021[cols_to_keep]\n",
        "\n"
      ],
      "metadata": {
        "id": "HOHtvvGpo5AO"
      },
      "execution_count": null,
      "outputs": []
    },
    {
      "cell_type": "code",
      "source": [
        "\n",
        "RR_All = pd.concat([RR_2010, RR_2011, RR_2012, RR_2013, RR_2014, RR_2015, RR_2016, RR_2017, RR_2018, RR_2019, RR_2020, RR_2021])\n",
        "\n",
        "\n"
      ],
      "metadata": {
        "id": "M_vaud50o49k"
      },
      "execution_count": null,
      "outputs": []
    },
    {
      "cell_type": "code",
      "source": [
        "RR_All.to_csv('RR_All.csv')"
      ],
      "metadata": {
        "id": "LqXMNVENo46v"
      },
      "execution_count": null,
      "outputs": []
    },
    {
      "cell_type": "code",
      "source": [],
      "metadata": {
        "id": "l9kyQvEPo4y8"
      },
      "execution_count": null,
      "outputs": []
    },
    {
      "cell_type": "markdown",
      "source": [
        "# SANTA CATARINA"
      ],
      "metadata": {
        "id": "ezuTFYqBpH2q"
      }
    },
    {
      "cell_type": "code",
      "source": [
        "SC_2010 = parquets_to_dataframe(download('SC', 2010))\n",
        "SC_2011 = parquets_to_dataframe(download('SC', 2011))\n",
        "SC_2012 = parquets_to_dataframe(download('SC', 2012))\n",
        "SC_2013 = parquets_to_dataframe(download('SC', 2013))\n",
        "SC_2014 = parquets_to_dataframe(download('SC', 2014))\n",
        "SC_2015 = parquets_to_dataframe(download('SC', 2015))\n",
        "SC_2016 = parquets_to_dataframe(download('SC', 2016))\n",
        "SC_2017 = parquets_to_dataframe(download('SC', 2017))\n",
        "SC_2018 = parquets_to_dataframe(download('SC', 2018))\n",
        "SC_2019 = parquets_to_dataframe(download('SC', 2019))\n",
        "SC_2020 = parquets_to_dataframe(download('SC', 2020))\n",
        "SC_2021 = parquets_to_dataframe(download('SC', 2021))"
      ],
      "metadata": {
        "id": "ZC_Y54zj3JoQ"
      },
      "execution_count": null,
      "outputs": []
    },
    {
      "cell_type": "code",
      "source": [
        "SC_2010['estado'] = 'SC'\n",
        "SC_2010['ano'] = 2010\n",
        "\n",
        "SC_2011['estado'] = 'SC'\n",
        "SC_2011['ano'] = 2011\n",
        "\n",
        "SC_2012['estado'] = 'SC'\n",
        "SC_2012['ano'] = 2012\n",
        "\n",
        "SC_2013['estado'] = 'SC'\n",
        "SC_2013['ano'] = 2013\n",
        "\n",
        "SC_2014['estado'] = 'SC'\n",
        "SC_2014['ano'] = 2014\n",
        "\n",
        "SC_2015['estado'] = 'SC'\n",
        "SC_2015['ano'] = 2015\n",
        "\n",
        "SC_2016['estado'] = 'SC'\n",
        "SC_2016['ano'] = 2016\n",
        "\n",
        "SC_2017['estado'] = 'SC'\n",
        "SC_2017['ano'] = 2017\n",
        "\n",
        "SC_2018['estado'] = 'SC'\n",
        "SC_2018['ano'] = 2018\n",
        "\n",
        "SC_2019['estado'] = 'SC'\n",
        "SC_2019['ano'] = 2019\n",
        "\n",
        "SC_2020['estado'] = 'SC'\n",
        "SC_2020['ano'] = 2020\n",
        "\n",
        "SC_2021['estado'] = 'SC'\n",
        "SC_2021['ano'] = 2021\n",
        "\n"
      ],
      "metadata": {
        "id": "sA3F0qkdpLPu"
      },
      "execution_count": null,
      "outputs": []
    },
    {
      "cell_type": "code",
      "source": [
        "\n",
        "SC_2010 = SC_2010[cols_to_keep]\n",
        "SC_2011 = SC_2011[cols_to_keep]\n",
        "SC_2012 = SC_2012[cols_to_keep]\n",
        "SC_2013 = SC_2013[cols_to_keep]\n",
        "SC_2014 = SC_2014[cols_to_keep]\n",
        "SC_2015 = SC_2015[cols_to_keep]\n",
        "SC_2016 = SC_2016[cols_to_keep]\n",
        "SC_2017 = SC_2017[cols_to_keep]\n",
        "SC_2018 = SC_2018[cols_to_keep]\n",
        "SC_2019 = SC_2019[cols_to_keep]\n",
        "SC_2020 = SC_2020[cols_to_keep]\n",
        "SC_2021 = SC_2021[cols_to_keep]\n",
        "\n"
      ],
      "metadata": {
        "id": "BCG4E8zlpLHx"
      },
      "execution_count": null,
      "outputs": []
    },
    {
      "cell_type": "code",
      "source": [
        "\n",
        "SC_All = pd.concat([SC_2010, SC_2011, SC_2012, SC_2013, SC_2014, SC_2015, SC_2016, SC_2017, SC_2018, SC_2019, SC_2020, SC_2021])\n",
        "\n",
        "\n"
      ],
      "metadata": {
        "id": "JEJUcPNCpLCG"
      },
      "execution_count": null,
      "outputs": []
    },
    {
      "cell_type": "code",
      "source": [
        "SC_All.to_csv('SC_All.csv')"
      ],
      "metadata": {
        "id": "7Ty4dy3jpKz0"
      },
      "execution_count": null,
      "outputs": []
    },
    {
      "cell_type": "markdown",
      "source": [
        "# SÃO PAULO"
      ],
      "metadata": {
        "id": "xV03yQ4BpRLK"
      }
    },
    {
      "cell_type": "code",
      "source": [
        "\n",
        "SP_2010 = parquets_to_dataframe(download('SP', 2010))\n",
        "SP_2011 = parquets_to_dataframe(download('SP', 2011))\n",
        "SP_2012 = parquets_to_dataframe(download('SP', 2012))\n",
        "SP_2013 = parquets_to_dataframe(download('SP', 2013))\n",
        "SP_2014 = parquets_to_dataframe(download('SP', 2014))\n",
        "SP_2015 = parquets_to_dataframe(download('SP', 2015))\n",
        "SP_2016 = parquets_to_dataframe(download('SP', 2016))\n",
        "SP_2017 = parquets_to_dataframe(download('SP', 2017))\n",
        "SP_2018 = parquets_to_dataframe(download('SP', 2018))\n",
        "SP_2019 = parquets_to_dataframe(download('SP', 2019))\n",
        "SP_2020 = parquets_to_dataframe(download('SP', 2020))\n",
        "SP_2021 = parquets_to_dataframe(download('SP', 2021))"
      ],
      "metadata": {
        "id": "Rv8jNSf13pZT"
      },
      "execution_count": null,
      "outputs": []
    },
    {
      "cell_type": "code",
      "source": [
        "SP_2010['estado'] = 'SP'\n",
        "SP_2010['ano'] = 2010\n",
        "\n",
        "SP_2011['estado'] = 'SP'\n",
        "SP_2011['ano'] = 2011\n",
        "\n",
        "SP_2012['estado'] = 'SP'\n",
        "SP_2012['ano'] = 2012\n",
        "\n",
        "SP_2013['estado'] = 'SP'\n",
        "SP_2013['ano'] = 2013\n",
        "\n",
        "SP_2014['estado'] = 'SP'\n",
        "SP_2014['ano'] = 2014\n",
        "\n",
        "SP_2015['estado'] = 'SP'\n",
        "SP_2015['ano'] = 2015\n",
        "\n",
        "SP_2016['estado'] = 'SP'\n",
        "SP_2016['ano'] = 2016\n",
        "\n",
        "SP_2017['estado'] = 'SP'\n",
        "SP_2017['ano'] = 2017\n",
        "\n",
        "SP_2018['estado'] = 'SP'\n",
        "SP_2018['ano'] = 2018\n",
        "\n",
        "SP_2019['estado'] = 'SP'\n",
        "SP_2019['ano'] = 2019\n",
        "\n",
        "SP_2020['estado'] = 'SP'\n",
        "SP_2020['ano'] = 2020\n",
        "\n",
        "SP_2021['estado'] = 'SP'\n",
        "SP_2021['ano'] = 2021\n"
      ],
      "metadata": {
        "id": "cxAw8_tzpTNd"
      },
      "execution_count": null,
      "outputs": []
    },
    {
      "cell_type": "code",
      "source": [
        "\n",
        "\n",
        "SP_2010 = SP_2010[cols_to_keep]\n",
        "SP_2011 = SP_2011[cols_to_keep]\n",
        "SP_2012 = SP_2012[cols_to_keep]\n",
        "SP_2013 = SP_2013[cols_to_keep]\n",
        "SP_2014 = SP_2014[cols_to_keep]\n",
        "SP_2015 = SP_2015[cols_to_keep]\n",
        "SP_2016 = SP_2016[cols_to_keep]\n",
        "SP_2017 = SP_2017[cols_to_keep]\n",
        "SP_2018 = SP_2018[cols_to_keep]\n",
        "SP_2019 = SP_2019[cols_to_keep]\n",
        "SP_2020 = SP_2020[cols_to_keep]\n",
        "SP_2021 = SP_2021[cols_to_keep]\n",
        "\n"
      ],
      "metadata": {
        "id": "VUihcRjOpTKb"
      },
      "execution_count": null,
      "outputs": []
    },
    {
      "cell_type": "code",
      "source": [
        "\n",
        "SP_All = pd.concat([SP_2010, SP_2011, SP_2012, SP_2013, SP_2014, SP_2015, SP_2016, SP_2017, SP_2018, SP_2019, SP_2020, SP_2021])\n",
        "\n",
        "\n"
      ],
      "metadata": {
        "id": "GzGfaQEJpTHi"
      },
      "execution_count": null,
      "outputs": []
    },
    {
      "cell_type": "code",
      "source": [
        "SP_All.to_csv('SP_All.csv')"
      ],
      "metadata": {
        "id": "xEYi071IpTEb"
      },
      "execution_count": null,
      "outputs": []
    },
    {
      "cell_type": "code",
      "source": [],
      "metadata": {
        "id": "WT-MV1RBpTB-"
      },
      "execution_count": null,
      "outputs": []
    },
    {
      "cell_type": "code",
      "source": [],
      "metadata": {
        "id": "ebOXi9eypS6Z"
      },
      "execution_count": null,
      "outputs": []
    },
    {
      "cell_type": "markdown",
      "source": [
        "# SERGIPE"
      ],
      "metadata": {
        "id": "FomMlkpjpZqy"
      }
    },
    {
      "cell_type": "code",
      "source": [
        "\n",
        "SE_2010 = parquets_to_dataframe(download('SE', 2010))\n",
        "SE_2011 = parquets_to_dataframe(download('SE', 2011))\n",
        "SE_2012 = parquets_to_dataframe(download('SE', 2012))\n",
        "SE_2013 = parquets_to_dataframe(download('SE', 2013))\n",
        "SE_2014 = parquets_to_dataframe(download('SE', 2014))\n",
        "SE_2015 = parquets_to_dataframe(download('SE', 2015))\n",
        "SE_2016 = parquets_to_dataframe(download('SE', 2016))\n",
        "SE_2017 = parquets_to_dataframe(download('SE', 2017))\n",
        "SE_2018 = parquets_to_dataframe(download('SE', 2018))\n",
        "SE_2019 = parquets_to_dataframe(download('SE', 2019))\n",
        "SE_2020 = parquets_to_dataframe(download('SE', 2020))\n",
        "SE_2021 = parquets_to_dataframe(download('SE', 2021))"
      ],
      "metadata": {
        "id": "m5AeygRE3vHs"
      },
      "execution_count": null,
      "outputs": []
    },
    {
      "cell_type": "code",
      "source": [
        "SE_2010['estado'] = 'SE'\n",
        "SE_2010['ano'] = 2010\n",
        "\n",
        "SE_2011['estado'] = 'SE'\n",
        "SE_2011['ano'] = 2011\n",
        "\n",
        "SE_2012['estado'] = 'SE'\n",
        "SE_2012['ano'] = 2012\n",
        "\n",
        "SE_2013['estado'] = 'SE'\n",
        "SE_2013['ano'] = 2013\n",
        "\n",
        "SE_2014['estado'] = 'SE'\n",
        "SE_2014['ano'] = 2014\n",
        "\n",
        "SE_2015['estado'] = 'SE'\n",
        "SE_2015['ano'] = 2015\n",
        "\n",
        "SE_2016['estado'] = 'SE'\n",
        "SE_2016['ano'] = 2016\n",
        "\n",
        "SE_2017['estado'] = 'SE'\n",
        "SE_2017['ano'] = 2017\n",
        "\n",
        "SE_2018['estado'] = 'SE'\n",
        "SE_2018['ano'] = 2018\n",
        "\n",
        "SE_2019['estado'] = 'SE'\n",
        "SE_2019['ano'] = 2019\n",
        "\n",
        "SE_2020['estado'] = 'SE'\n",
        "SE_2020['ano'] = 2020\n",
        "\n",
        "SE_2021['estado'] = 'SE'\n",
        "SE_2021['ano'] = 2021\n",
        "\n"
      ],
      "metadata": {
        "id": "27U6qv-JpgA1"
      },
      "execution_count": null,
      "outputs": []
    },
    {
      "cell_type": "code",
      "source": [
        "\n",
        "SE_2010 = SE_2010[cols_to_keep]\n",
        "SE_2011 = SE_2011[cols_to_keep]\n",
        "SE_2012 = SE_2012[cols_to_keep]\n",
        "SE_2013 = SE_2013[cols_to_keep]\n",
        "SE_2014 = SE_2014[cols_to_keep]\n",
        "SE_2015 = SE_2015[cols_to_keep]\n",
        "SE_2016 = SE_2016[cols_to_keep]\n",
        "SE_2017 = SE_2017[cols_to_keep]\n",
        "SE_2018 = SE_2018[cols_to_keep]\n",
        "SE_2019 = SE_2019[cols_to_keep]\n",
        "SE_2020 = SE_2020[cols_to_keep]\n",
        "SE_2021 = SE_2021[cols_to_keep]\n",
        "\n"
      ],
      "metadata": {
        "id": "b2LoRQPWpf8D"
      },
      "execution_count": null,
      "outputs": []
    },
    {
      "cell_type": "code",
      "source": [
        "\n",
        "SE_All = pd.concat([SE_2010, SE_2011, SE_2012, SE_2013, SE_2014, SE_2015, SE_2016, SE_2017, SE_2018, SE_2019, SE_2020, SE_2021])\n"
      ],
      "metadata": {
        "id": "yCcmWQTspf5Z"
      },
      "execution_count": null,
      "outputs": []
    },
    {
      "cell_type": "code",
      "source": [
        "SE_All.to_csv('SE_All.csv')"
      ],
      "metadata": {
        "id": "pZY8rUyzpf2w"
      },
      "execution_count": null,
      "outputs": []
    },
    {
      "cell_type": "code",
      "source": [],
      "metadata": {
        "id": "e4V1zz7ppfz5"
      },
      "execution_count": null,
      "outputs": []
    },
    {
      "cell_type": "code",
      "source": [],
      "metadata": {
        "id": "KqmTigRVpfrn"
      },
      "execution_count": null,
      "outputs": []
    },
    {
      "cell_type": "markdown",
      "source": [
        "#TOCANTINS"
      ],
      "metadata": {
        "id": "WPm0ybJqpbDw"
      }
    },
    {
      "cell_type": "code",
      "source": [
        "TO_2010 = parquets_to_dataframe(download('TO', 2010))\n",
        "TO_2011 = parquets_to_dataframe(download('TO', 2011))\n",
        "TO_2012 = parquets_to_dataframe(download('TO', 2012))\n",
        "TO_2013 = parquets_to_dataframe(download('TO', 2013))\n",
        "TO_2014 = parquets_to_dataframe(download('TO', 2014))\n",
        "TO_2015 = parquets_to_dataframe(download('TO', 2015))\n",
        "TO_2016 = parquets_to_dataframe(download('TO', 2016))\n",
        "TO_2017 = parquets_to_dataframe(download('TO', 2017))\n",
        "TO_2018 = parquets_to_dataframe(download('TO', 2018))\n",
        "TO_2019 = parquets_to_dataframe(download('TO', 2019))\n",
        "TO_2020 = parquets_to_dataframe(download('TO', 2020))\n",
        "TO_2021 = parquets_to_dataframe(download('TO', 2021))"
      ],
      "metadata": {
        "id": "LJelVYPh3y9F"
      },
      "execution_count": null,
      "outputs": []
    },
    {
      "cell_type": "code",
      "source": [
        "TO_2010['estado'] = 'TO'\n",
        "TO_2010['ano'] = 2010\n",
        "\n",
        "TO_2011['estado'] = 'TO'\n",
        "TO_2011['ano'] = 2011\n",
        "\n",
        "TO_2012['estado'] = 'TO'\n",
        "TO_2012['ano'] = 2012\n",
        "\n",
        "TO_2013['estado'] = 'TO'\n",
        "TO_2013['ano'] = 2013\n",
        "\n",
        "TO_2014['estado'] = 'TO'\n",
        "TO_2014['ano'] = 2014\n",
        "\n",
        "TO_2015['estado'] = 'TO'\n",
        "TO_2015['ano'] = 2015\n",
        "\n",
        "TO_2016['estado'] = 'TO'\n",
        "TO_2016['ano'] = 2016\n",
        "\n",
        "TO_2017['estado'] = 'TO'\n",
        "TO_2017['ano'] = 2017\n",
        "\n",
        "TO_2018['estado'] = 'TO'\n",
        "TO_2018['ano'] = 2018\n",
        "\n",
        "TO_2019['estado'] = 'TO'\n",
        "TO_2019['ano'] = 2019\n",
        "\n",
        "TO_2020['estado'] = 'TO'\n",
        "TO_2020['ano'] = 2020\n",
        "\n",
        "TO_2021['estado'] = 'TO'\n",
        "TO_2021['ano'] = 2021\n",
        "\n"
      ],
      "metadata": {
        "id": "2oe8dKYb33Et"
      },
      "execution_count": null,
      "outputs": []
    },
    {
      "cell_type": "code",
      "source": [
        "\n",
        "TO_2010 = TO_2010[cols_to_keep]\n",
        "TO_2011 = TO_2011[cols_to_keep]\n",
        "TO_2012 = TO_2012[cols_to_keep]\n",
        "TO_2013 = TO_2013[cols_to_keep]\n",
        "TO_2014 = TO_2014[cols_to_keep]\n",
        "TO_2015 = TO_2015[cols_to_keep]\n",
        "TO_2016 = TO_2016[cols_to_keep]\n",
        "TO_2017 = TO_2017[cols_to_keep]\n",
        "TO_2018 = TO_2018[cols_to_keep]\n",
        "TO_2019 = TO_2019[cols_to_keep]\n",
        "TO_2020 = TO_2020[cols_to_keep]\n",
        "TO_2021 = TO_2021[cols_to_keep]\n",
        "\n"
      ],
      "metadata": {
        "id": "HymL66EqpvoV"
      },
      "execution_count": null,
      "outputs": []
    },
    {
      "cell_type": "code",
      "source": [
        "\n",
        "TO_All = pd.concat([TO_2010, TO_2011, TO_2012, TO_2013, TO_2014, TO_2015, TO_2016, TO_2017, TO_2018, TO_2019, TO_2020, TO_2021])\n",
        "\n"
      ],
      "metadata": {
        "id": "aWNzS6bypxA8"
      },
      "execution_count": null,
      "outputs": []
    },
    {
      "cell_type": "code",
      "source": [
        "\n",
        "TO_All.to_csv('TO_All.csv')"
      ],
      "metadata": {
        "id": "T2-QvzWDpyEF"
      },
      "execution_count": null,
      "outputs": []
    },
    {
      "cell_type": "code",
      "source": [],
      "metadata": {
        "id": "yTG80BWB-8P1"
      },
      "execution_count": null,
      "outputs": []
    },
    {
      "cell_type": "code",
      "source": [
        "filter_list=[\"X{}\".format(x) for x in range(600, 850)]"
      ],
      "metadata": {
        "id": "f5_n1aU3-8NF"
      },
      "execution_count": null,
      "outputs": []
    },
    {
      "cell_type": "code",
      "source": [
        "data_all = pd.concat([TO_All, ac_all, SP_All,SE_All, SC_All,RS_All, RR_All, RO_All, RN_All, RJ_All, PR_All, PI_All, PE_All, PB_All,PA_All, MT_All, MS_All, MG_All, MA_All, GO_All, ES_All, DF_All, CE_All, BA_All,\n",
        "                      AP_all, AM_All, AL_all], ignore_index = True)"
      ],
      "metadata": {
        "id": "OzJpDh5U-8KH"
      },
      "execution_count": null,
      "outputs": []
    },
    {
      "cell_type": "code",
      "source": [
        "data_all.shape"
      ],
      "metadata": {
        "colab": {
          "base_uri": "https://localhost:8080/"
        },
        "id": "ev3oMEvU-8FD",
        "outputId": "f3017eee-1848-47fd-9243-bd5a24c27b6b"
      },
      "execution_count": null,
      "outputs": [
        {
          "output_type": "execute_result",
          "data": {
            "text/plain": [
              "(15828216, 16)"
            ]
          },
          "metadata": {},
          "execution_count": 230
        }
      ]
    },
    {
      "cell_type": "code",
      "source": [
        "TO = TO_All[TO_All['CAUSABAS'].isin(filter_list)|\n",
        "            TO_All['CAUSABAS_O'].isin(filter_list)]"
      ],
      "metadata": {
        "id": "uIJUYEf3ApjI"
      },
      "execution_count": null,
      "outputs": []
    },
    {
      "cell_type": "code",
      "source": [
        "data = data_all[data_all['CAUSABAS'].isin(filter_list) |\n",
        "                 data_all['CAUSABAS_O'].isin(filter_list)]"
      ],
      "metadata": {
        "id": "RKBUND9P-77q"
      },
      "execution_count": null,
      "outputs": []
    },
    {
      "cell_type": "code",
      "source": [
        "data.shape"
      ],
      "metadata": {
        "colab": {
          "base_uri": "https://localhost:8080/"
        },
        "id": "u9dPSY74AVXy",
        "outputId": "10d401c5-e835-49a1-db4b-7bf3f9afb029"
      },
      "execution_count": null,
      "outputs": [
        {
          "output_type": "execute_result",
          "data": {
            "text/plain": [
              "(55367, 16)"
            ]
          },
          "metadata": {},
          "execution_count": 233
        }
      ]
    },
    {
      "cell_type": "code",
      "source": [
        "# Vários valores vieram como float. Em questão disso, operações de substituição não puderam ser realizadas.\n",
        "\n",
        "data = data.fillna(0)\n",
        "\n",
        "# Organizando sexo\n",
        "data['SEXO'] = data['SEXO'].astype(str)\n",
        "data['SEXO'] = data['SEXO'].map(lambda x: x.rstrip('.0'))\n",
        "\n",
        "# Organizando raça/cor\n",
        "data['RACACOR'] = data['RACACOR'].astype(str)\n",
        "data['RACACOR'] = data['RACACOR'].map(lambda x: x.rstrip('.0'))\n",
        "\n",
        "# Organizando estado civil\n",
        "data['ESTCIV'] = data['ESTCIV'].astype(str)\n",
        "data['ESTCIV'] = data['ESTCIV'].map(lambda x: x.rstrip('.0'))\n",
        "\n",
        "# Organizando escolaridade\n",
        "data['ESC'] = data['ESC'].astype(str)\n",
        "data['ESC'] = data['ESC'].map(lambda x: x.rstrip('.0'))\n",
        "\n",
        "# Organizando local da ocorrência\n",
        "data['LOCOCOR'] = data['LOCOCOR'].astype(str)\n",
        "data['LOCOCOR'] = data['LOCOCOR'].map(lambda x: x.rstrip('.0'))\n",
        "\n",
        "# Organizando assistência média (sim, não)\n",
        "data['ASSISTMED'] = data['ASSISTMED'].astype(str)\n",
        "data['ASSISTMED'] = data['ASSISTMED'].map(lambda x: x.rstrip('.0'))\n",
        "\n",
        "# Organizando escolaridade da mãe\n",
        "data['ESCMAE'] = data['ESCMAE'].astype(str)\n",
        "data['ESCMAE'] = data['ESCMAE'].map(lambda x: x.rstrip('.0'))\n",
        "\n",
        "# Organizando cirurgia (sim, não)\n",
        "data['CIRURGIA'] = data['CIRURGIA'].astype(str)\n",
        "data['CIRURGIA'] = data['CIRURGIA'].map(lambda x: x.rstrip('.0'))"
      ],
      "metadata": {
        "id": "aJrjUCoWA9Ff"
      },
      "execution_count": null,
      "outputs": []
    },
    {
      "cell_type": "code",
      "source": [
        "# Recodificando variáveis = Criando dicionários\n",
        "dicSEXO = {\n",
        "    '1' : 'Masculino',\n",
        "    '2' : 'Feminino',\n",
        "    '0' : 'NA',\n",
        "    '9' : 'NA'\n",
        "}\n",
        "\n",
        "dicRACACOR = {\n",
        "    '1' : 'Branca',\n",
        "    '2' : 'Preta',\n",
        "    '3' : 'Amarela',\n",
        "    '4' : 'Parda',\n",
        "    '5' : 'Indígena',\n",
        "    '0' : 'NaN', \n",
        "    '6' : 'NaN',\n",
        "    '7' : 'NaN',\n",
        "    '8' : 'NaN',\n",
        "    '9' : 'NaN'\n",
        "}\n",
        "\n",
        "dicESTCIV = {\n",
        "    '1' : 'Solteiro',\n",
        "    '2' : 'Casado',\n",
        "    '3' : 'Viúvo',\n",
        "    '4' : 'Separado judicialmente',\n",
        "    '5' : 'União consensual',\n",
        "    '0' : 'NaN', \n",
        "    '6' : 'NaN',\n",
        "    '7' : 'NaN',\n",
        "    '8' : 'NaN',\n",
        "    '9' : 'NaN'\n",
        "}\n",
        "\n",
        "dicESC = {\n",
        "    '1' : 'Nenhuma',\n",
        "    '2' : '1 a 3 anos',\n",
        "    '3' : '4 a 7 anos',\n",
        "    '4' : '8 a 11 anos',\n",
        "    '5' : '12 e mais',\n",
        "    '8' : 'De 9 a 11 anos',\n",
        "    '0' : 'NaN',\n",
        "    '6' : 'NaN',\n",
        "    '7' : 'NaN',\n",
        "    '9' : 'NaN',\n",
        "    ''  : 'NaN'\n",
        "}\n",
        "\n",
        "dictLOCOCOR = {\n",
        "    '1' : 'Hospital',\n",
        "    '2' : 'Outro estabelecimento de saúde',\n",
        "    '3' : 'Domicílio',\n",
        "    '4' : 'Via pública',\n",
        "    '5' : 'Outros',\n",
        "    '9' : 'NaN'\n",
        "}\n",
        "\n",
        "dictASSISTMED = {\n",
        "    '1' : 'Sim',\n",
        "    '2' : 'Não',\n",
        "    '9' : 'NaN'\n",
        "}\n",
        "\n",
        "dicESCMAE = {\n",
        "    '1' : 'Nenhuma',\n",
        "    '2' : '1 a 3 anos',\n",
        "    '3' : '4 a 7 anos',\n",
        "    '4' : '8 a 11 anos',\n",
        "    '5' : '12 e mais',\n",
        "    '8' : 'De 9 a 11 anos',\n",
        "    '0' : 'NaN',\n",
        "    '6' : 'NaN',\n",
        "    '7' : 'NaN',\n",
        "    '9' : 'NaN',\n",
        "    ''  : 'NaN' \n",
        "}\n",
        "\n",
        "\n",
        "dicCIRURGIA = {\n",
        "    '1' : 'Sim',\n",
        "    '2' : 'Não',\n",
        "    '9' : 'NaN'\n",
        "}\n",
        "\n",
        "data = data.replace(\n",
        "    {'SEXO' : dicSEXO, \n",
        "     'RACACOR' : dicRACACOR, \n",
        "     'ESTCIV' : dicESTCIV, \n",
        "     'ESC' : dicESC, \n",
        "     'LOCOCOR' : dictLOCOCOR, \n",
        "     'ASSISTMED' : dictASSISTMED,\n",
        "     'ESCMAE' : dicESCMAE,\n",
        "     'CIRURGIA' : dicCIRURGIA\n",
        "    })"
      ],
      "metadata": {
        "id": "muWqRFYgBc3V"
      },
      "execution_count": null,
      "outputs": []
    },
    {
      "cell_type": "code",
      "source": [
        "data.head()"
      ],
      "metadata": {
        "colab": {
          "base_uri": "https://localhost:8080/",
          "height": 206
        },
        "id": "wG6O3aZkDgCN",
        "outputId": "88b0bfd5-afd3-4fa3-e5f9-c545dad8fc90"
      },
      "execution_count": null,
      "outputs": [
        {
          "output_type": "execute_result",
          "data": {
            "text/plain": [
              "      estado   ano   DTOBITO    DTNASC       SEXO RACACOR ASSISTMED ESCMAE  \\\n",
              "57077     TO  2018  20052018  08061953   Feminino  Branca       Sim    NaN   \n",
              "57082     TO  2018  29052018  05111991   Feminino   Parda       Não    NaN   \n",
              "57109     TO  2018  14062018  10091966  Masculino  Branca       Não    NaN   \n",
              "57116     TO  2018  22062018  11031992  Masculino   Parda       Não    NaN   \n",
              "57136     TO  2018  10072018  01011985  Masculino  Branca              NaN   \n",
              "\n",
              "                 ESTCIV          ESC    OCUP  CODMUNRES CAUSABAS CAUSABAS_O  \\\n",
              "57077            Casado          NaN             171820     X769       X769   \n",
              "57082          Solteiro          NaN  999992     171320     X707       X707   \n",
              "57109          Solteiro    12 e mais  354705     172100     X705       X705   \n",
              "57116          Solteiro  8 a 11 anos  621005     170240     X707       X707   \n",
              "57136  União consensual  8 a 11 anos  517310     172100     X700       X700   \n",
              "\n",
              "         LOCOCOR CIRURGIA  \n",
              "57077   Hospital           \n",
              "57082     Outros           \n",
              "57109     Outros           \n",
              "57116     Outros           \n",
              "57136  Domicílio           "
            ],
            "text/html": [
              "\n",
              "  <div id=\"df-e79c50a2-d809-4ebb-b4b8-53d402633b2e\">\n",
              "    <div class=\"colab-df-container\">\n",
              "      <div>\n",
              "<style scoped>\n",
              "    .dataframe tbody tr th:only-of-type {\n",
              "        vertical-align: middle;\n",
              "    }\n",
              "\n",
              "    .dataframe tbody tr th {\n",
              "        vertical-align: top;\n",
              "    }\n",
              "\n",
              "    .dataframe thead th {\n",
              "        text-align: right;\n",
              "    }\n",
              "</style>\n",
              "<table border=\"1\" class=\"dataframe\">\n",
              "  <thead>\n",
              "    <tr style=\"text-align: right;\">\n",
              "      <th></th>\n",
              "      <th>estado</th>\n",
              "      <th>ano</th>\n",
              "      <th>DTOBITO</th>\n",
              "      <th>DTNASC</th>\n",
              "      <th>SEXO</th>\n",
              "      <th>RACACOR</th>\n",
              "      <th>ASSISTMED</th>\n",
              "      <th>ESCMAE</th>\n",
              "      <th>ESTCIV</th>\n",
              "      <th>ESC</th>\n",
              "      <th>OCUP</th>\n",
              "      <th>CODMUNRES</th>\n",
              "      <th>CAUSABAS</th>\n",
              "      <th>CAUSABAS_O</th>\n",
              "      <th>LOCOCOR</th>\n",
              "      <th>CIRURGIA</th>\n",
              "    </tr>\n",
              "  </thead>\n",
              "  <tbody>\n",
              "    <tr>\n",
              "      <th>57077</th>\n",
              "      <td>TO</td>\n",
              "      <td>2018</td>\n",
              "      <td>20052018</td>\n",
              "      <td>08061953</td>\n",
              "      <td>Feminino</td>\n",
              "      <td>Branca</td>\n",
              "      <td>Sim</td>\n",
              "      <td>NaN</td>\n",
              "      <td>Casado</td>\n",
              "      <td>NaN</td>\n",
              "      <td></td>\n",
              "      <td>171820</td>\n",
              "      <td>X769</td>\n",
              "      <td>X769</td>\n",
              "      <td>Hospital</td>\n",
              "      <td></td>\n",
              "    </tr>\n",
              "    <tr>\n",
              "      <th>57082</th>\n",
              "      <td>TO</td>\n",
              "      <td>2018</td>\n",
              "      <td>29052018</td>\n",
              "      <td>05111991</td>\n",
              "      <td>Feminino</td>\n",
              "      <td>Parda</td>\n",
              "      <td>Não</td>\n",
              "      <td>NaN</td>\n",
              "      <td>Solteiro</td>\n",
              "      <td>NaN</td>\n",
              "      <td>999992</td>\n",
              "      <td>171320</td>\n",
              "      <td>X707</td>\n",
              "      <td>X707</td>\n",
              "      <td>Outros</td>\n",
              "      <td></td>\n",
              "    </tr>\n",
              "    <tr>\n",
              "      <th>57109</th>\n",
              "      <td>TO</td>\n",
              "      <td>2018</td>\n",
              "      <td>14062018</td>\n",
              "      <td>10091966</td>\n",
              "      <td>Masculino</td>\n",
              "      <td>Branca</td>\n",
              "      <td>Não</td>\n",
              "      <td>NaN</td>\n",
              "      <td>Solteiro</td>\n",
              "      <td>12 e mais</td>\n",
              "      <td>354705</td>\n",
              "      <td>172100</td>\n",
              "      <td>X705</td>\n",
              "      <td>X705</td>\n",
              "      <td>Outros</td>\n",
              "      <td></td>\n",
              "    </tr>\n",
              "    <tr>\n",
              "      <th>57116</th>\n",
              "      <td>TO</td>\n",
              "      <td>2018</td>\n",
              "      <td>22062018</td>\n",
              "      <td>11031992</td>\n",
              "      <td>Masculino</td>\n",
              "      <td>Parda</td>\n",
              "      <td>Não</td>\n",
              "      <td>NaN</td>\n",
              "      <td>Solteiro</td>\n",
              "      <td>8 a 11 anos</td>\n",
              "      <td>621005</td>\n",
              "      <td>170240</td>\n",
              "      <td>X707</td>\n",
              "      <td>X707</td>\n",
              "      <td>Outros</td>\n",
              "      <td></td>\n",
              "    </tr>\n",
              "    <tr>\n",
              "      <th>57136</th>\n",
              "      <td>TO</td>\n",
              "      <td>2018</td>\n",
              "      <td>10072018</td>\n",
              "      <td>01011985</td>\n",
              "      <td>Masculino</td>\n",
              "      <td>Branca</td>\n",
              "      <td></td>\n",
              "      <td>NaN</td>\n",
              "      <td>União consensual</td>\n",
              "      <td>8 a 11 anos</td>\n",
              "      <td>517310</td>\n",
              "      <td>172100</td>\n",
              "      <td>X700</td>\n",
              "      <td>X700</td>\n",
              "      <td>Domicílio</td>\n",
              "      <td></td>\n",
              "    </tr>\n",
              "  </tbody>\n",
              "</table>\n",
              "</div>\n",
              "      <button class=\"colab-df-convert\" onclick=\"convertToInteractive('df-e79c50a2-d809-4ebb-b4b8-53d402633b2e')\"\n",
              "              title=\"Convert this dataframe to an interactive table.\"\n",
              "              style=\"display:none;\">\n",
              "        \n",
              "  <svg xmlns=\"http://www.w3.org/2000/svg\" height=\"24px\"viewBox=\"0 0 24 24\"\n",
              "       width=\"24px\">\n",
              "    <path d=\"M0 0h24v24H0V0z\" fill=\"none\"/>\n",
              "    <path d=\"M18.56 5.44l.94 2.06.94-2.06 2.06-.94-2.06-.94-.94-2.06-.94 2.06-2.06.94zm-11 1L8.5 8.5l.94-2.06 2.06-.94-2.06-.94L8.5 2.5l-.94 2.06-2.06.94zm10 10l.94 2.06.94-2.06 2.06-.94-2.06-.94-.94-2.06-.94 2.06-2.06.94z\"/><path d=\"M17.41 7.96l-1.37-1.37c-.4-.4-.92-.59-1.43-.59-.52 0-1.04.2-1.43.59L10.3 9.45l-7.72 7.72c-.78.78-.78 2.05 0 2.83L4 21.41c.39.39.9.59 1.41.59.51 0 1.02-.2 1.41-.59l7.78-7.78 2.81-2.81c.8-.78.8-2.07 0-2.86zM5.41 20L4 18.59l7.72-7.72 1.47 1.35L5.41 20z\"/>\n",
              "  </svg>\n",
              "      </button>\n",
              "      \n",
              "  <style>\n",
              "    .colab-df-container {\n",
              "      display:flex;\n",
              "      flex-wrap:wrap;\n",
              "      gap: 12px;\n",
              "    }\n",
              "\n",
              "    .colab-df-convert {\n",
              "      background-color: #E8F0FE;\n",
              "      border: none;\n",
              "      border-radius: 50%;\n",
              "      cursor: pointer;\n",
              "      display: none;\n",
              "      fill: #1967D2;\n",
              "      height: 32px;\n",
              "      padding: 0 0 0 0;\n",
              "      width: 32px;\n",
              "    }\n",
              "\n",
              "    .colab-df-convert:hover {\n",
              "      background-color: #E2EBFA;\n",
              "      box-shadow: 0px 1px 2px rgba(60, 64, 67, 0.3), 0px 1px 3px 1px rgba(60, 64, 67, 0.15);\n",
              "      fill: #174EA6;\n",
              "    }\n",
              "\n",
              "    [theme=dark] .colab-df-convert {\n",
              "      background-color: #3B4455;\n",
              "      fill: #D2E3FC;\n",
              "    }\n",
              "\n",
              "    [theme=dark] .colab-df-convert:hover {\n",
              "      background-color: #434B5C;\n",
              "      box-shadow: 0px 1px 3px 1px rgba(0, 0, 0, 0.15);\n",
              "      filter: drop-shadow(0px 1px 2px rgba(0, 0, 0, 0.3));\n",
              "      fill: #FFFFFF;\n",
              "    }\n",
              "  </style>\n",
              "\n",
              "      <script>\n",
              "        const buttonEl =\n",
              "          document.querySelector('#df-e79c50a2-d809-4ebb-b4b8-53d402633b2e button.colab-df-convert');\n",
              "        buttonEl.style.display =\n",
              "          google.colab.kernel.accessAllowed ? 'block' : 'none';\n",
              "\n",
              "        async function convertToInteractive(key) {\n",
              "          const element = document.querySelector('#df-e79c50a2-d809-4ebb-b4b8-53d402633b2e');\n",
              "          const dataTable =\n",
              "            await google.colab.kernel.invokeFunction('convertToInteractive',\n",
              "                                                     [key], {});\n",
              "          if (!dataTable) return;\n",
              "\n",
              "          const docLinkHtml = 'Like what you see? Visit the ' +\n",
              "            '<a target=\"_blank\" href=https://colab.research.google.com/notebooks/data_table.ipynb>data table notebook</a>'\n",
              "            + ' to learn more about interactive tables.';\n",
              "          element.innerHTML = '';\n",
              "          dataTable['output_type'] = 'display_data';\n",
              "          await google.colab.output.renderOutput(dataTable, element);\n",
              "          const docLink = document.createElement('div');\n",
              "          docLink.innerHTML = docLinkHtml;\n",
              "          element.appendChild(docLink);\n",
              "        }\n",
              "      </script>\n",
              "    </div>\n",
              "  </div>\n",
              "  "
            ]
          },
          "metadata": {},
          "execution_count": 236
        }
      ]
    },
    {
      "cell_type": "code",
      "source": [
        "# Organizando datas\n",
        "data['DTNASC'] = data['DTNASC'].astype(str)\n",
        "data['DTNASC'] = data['DTNASC'].map(lambda x: x.rstrip('.0'))\n",
        "data['DTOBITO'] = data['DTOBITO'].astype(str)"
      ],
      "metadata": {
        "id": "rucdYYARBjVG"
      },
      "execution_count": null,
      "outputs": []
    },
    {
      "cell_type": "code",
      "source": [
        "# Arrumando número de casas\n",
        "data['DTOBITO'] = data['DTOBITO'].apply(lambda x: x.zfill(8))\n",
        "data['DTNASC'] = data['DTNASC'].apply(lambda x: x.zfill(8))"
      ],
      "metadata": {
        "id": "iyH3JzVrBtOn"
      },
      "execution_count": null,
      "outputs": []
    },
    {
      "cell_type": "code",
      "source": [
        "# Arrumando ocupação\n",
        "data['OCUP'] = data['OCUP'].astype(str)\n",
        "data['OCUP'] = data['OCUP'].apply(lambda x: x.zfill(6))\n",
        "\n",
        "url_cbo = 'https://raw.githubusercontent.com/daltonbc96/python/master/CBO.csv'\n",
        "\n",
        "CBO2002  = pd.read_csv(url_cbo).set_index('CODIGO').to_dict()\n",
        "\n",
        "#data['OCUP'] = data['OCUP'].fillna(0).astype(str)\n",
        "#data['OCUP'] = data['OCUP'].map(lambda x: x.rstrip('.0'))\n",
        "#data['OCUP'] = data['OCUP'].replace('000nan', 0).astype(int)\n",
        "#data['OCUP'] = data['OCUP'].replace('', 0)\n",
        "#data['OCUP'] = data['OCUP'].replace(CBO2002['OCUPACAO'])\n",
        "#data['OCUP'] = data['OCUP'].replace(0, 'NaN')\n",
        "\n",
        "data['OCUP'] = data['OCUP'].fillna(0).astype(str)\n",
        "data['OCUP'] = data['OCUP'].map(lambda x: x.rstrip('.0'))\n",
        "data['OCUP'] = data['OCUP'].replace('000nan', '0').astype(int)\n",
        "data['OCUP'] = data['OCUP'].replace('', 0)\n",
        "data['OCUP'] = data['OCUP'].replace(CBO2002['OCUPACAO'])\n"
      ],
      "metadata": {
        "colab": {
          "base_uri": "https://localhost:8080/",
          "height": 307
        },
        "id": "crEkjOGFBzuw",
        "outputId": "6d4fc9ff-9a27-49fe-8914-844e8928907a"
      },
      "execution_count": null,
      "outputs": [
        {
          "output_type": "error",
          "ename": "ValueError",
          "evalue": "ignored",
          "traceback": [
            "\u001b[0;31m---------------------------------------------------------------------------\u001b[0m",
            "\u001b[0;31mValueError\u001b[0m                                Traceback (most recent call last)",
            "\u001b[0;32m<ipython-input-239-c8d42e8a0dfc>\u001b[0m in \u001b[0;36m<cell line: 18>\u001b[0;34m()\u001b[0m\n\u001b[1;32m     16\u001b[0m \u001b[0mdata\u001b[0m\u001b[0;34m[\u001b[0m\u001b[0;34m'OCUP'\u001b[0m\u001b[0;34m]\u001b[0m \u001b[0;34m=\u001b[0m \u001b[0mdata\u001b[0m\u001b[0;34m[\u001b[0m\u001b[0;34m'OCUP'\u001b[0m\u001b[0;34m]\u001b[0m\u001b[0;34m.\u001b[0m\u001b[0mfillna\u001b[0m\u001b[0;34m(\u001b[0m\u001b[0;36m0\u001b[0m\u001b[0;34m)\u001b[0m\u001b[0;34m.\u001b[0m\u001b[0mastype\u001b[0m\u001b[0;34m(\u001b[0m\u001b[0mstr\u001b[0m\u001b[0;34m)\u001b[0m\u001b[0;34m\u001b[0m\u001b[0;34m\u001b[0m\u001b[0m\n\u001b[1;32m     17\u001b[0m \u001b[0mdata\u001b[0m\u001b[0;34m[\u001b[0m\u001b[0;34m'OCUP'\u001b[0m\u001b[0;34m]\u001b[0m \u001b[0;34m=\u001b[0m \u001b[0mdata\u001b[0m\u001b[0;34m[\u001b[0m\u001b[0;34m'OCUP'\u001b[0m\u001b[0;34m]\u001b[0m\u001b[0;34m.\u001b[0m\u001b[0mmap\u001b[0m\u001b[0;34m(\u001b[0m\u001b[0;32mlambda\u001b[0m \u001b[0mx\u001b[0m\u001b[0;34m:\u001b[0m \u001b[0mx\u001b[0m\u001b[0;34m.\u001b[0m\u001b[0mrstrip\u001b[0m\u001b[0;34m(\u001b[0m\u001b[0;34m'.0'\u001b[0m\u001b[0;34m)\u001b[0m\u001b[0;34m)\u001b[0m\u001b[0;34m\u001b[0m\u001b[0;34m\u001b[0m\u001b[0m\n\u001b[0;32m---> 18\u001b[0;31m \u001b[0mdata\u001b[0m\u001b[0;34m[\u001b[0m\u001b[0;34m'OCUP'\u001b[0m\u001b[0;34m]\u001b[0m \u001b[0;34m=\u001b[0m \u001b[0mdata\u001b[0m\u001b[0;34m[\u001b[0m\u001b[0;34m'OCUP'\u001b[0m\u001b[0;34m]\u001b[0m\u001b[0;34m.\u001b[0m\u001b[0mreplace\u001b[0m\u001b[0;34m(\u001b[0m\u001b[0;34m'000nan'\u001b[0m\u001b[0;34m,\u001b[0m \u001b[0;34m'0'\u001b[0m\u001b[0;34m)\u001b[0m\u001b[0;34m.\u001b[0m\u001b[0mastype\u001b[0m\u001b[0;34m(\u001b[0m\u001b[0mint\u001b[0m\u001b[0;34m)\u001b[0m\u001b[0;34m\u001b[0m\u001b[0;34m\u001b[0m\u001b[0m\n\u001b[0m\u001b[1;32m     19\u001b[0m \u001b[0mdata\u001b[0m\u001b[0;34m[\u001b[0m\u001b[0;34m'OCUP'\u001b[0m\u001b[0;34m]\u001b[0m \u001b[0;34m=\u001b[0m \u001b[0mdata\u001b[0m\u001b[0;34m[\u001b[0m\u001b[0;34m'OCUP'\u001b[0m\u001b[0;34m]\u001b[0m\u001b[0;34m.\u001b[0m\u001b[0mreplace\u001b[0m\u001b[0;34m(\u001b[0m\u001b[0;34m''\u001b[0m\u001b[0;34m,\u001b[0m \u001b[0;36m0\u001b[0m\u001b[0;34m)\u001b[0m\u001b[0;34m\u001b[0m\u001b[0;34m\u001b[0m\u001b[0m\n\u001b[1;32m     20\u001b[0m \u001b[0mdata\u001b[0m\u001b[0;34m[\u001b[0m\u001b[0;34m'OCUP'\u001b[0m\u001b[0;34m]\u001b[0m \u001b[0;34m=\u001b[0m \u001b[0mdata\u001b[0m\u001b[0;34m[\u001b[0m\u001b[0;34m'OCUP'\u001b[0m\u001b[0;34m]\u001b[0m\u001b[0;34m.\u001b[0m\u001b[0mreplace\u001b[0m\u001b[0;34m(\u001b[0m\u001b[0mCBO2002\u001b[0m\u001b[0;34m[\u001b[0m\u001b[0;34m'OCUPACAO'\u001b[0m\u001b[0;34m]\u001b[0m\u001b[0;34m)\u001b[0m\u001b[0;34m\u001b[0m\u001b[0;34m\u001b[0m\u001b[0m\n",
            "\u001b[0;32m/usr/local/lib/python3.10/dist-packages/pandas/core/generic.py\u001b[0m in \u001b[0;36mastype\u001b[0;34m(self, dtype, copy, errors)\u001b[0m\n\u001b[1;32m   5910\u001b[0m         \u001b[0;32melse\u001b[0m\u001b[0;34m:\u001b[0m\u001b[0;34m\u001b[0m\u001b[0;34m\u001b[0m\u001b[0m\n\u001b[1;32m   5911\u001b[0m             \u001b[0;31m# else, only a single dtype is given\u001b[0m\u001b[0;34m\u001b[0m\u001b[0;34m\u001b[0m\u001b[0m\n\u001b[0;32m-> 5912\u001b[0;31m             \u001b[0mnew_data\u001b[0m \u001b[0;34m=\u001b[0m \u001b[0mself\u001b[0m\u001b[0;34m.\u001b[0m\u001b[0m_mgr\u001b[0m\u001b[0;34m.\u001b[0m\u001b[0mastype\u001b[0m\u001b[0;34m(\u001b[0m\u001b[0mdtype\u001b[0m\u001b[0;34m=\u001b[0m\u001b[0mdtype\u001b[0m\u001b[0;34m,\u001b[0m \u001b[0mcopy\u001b[0m\u001b[0;34m=\u001b[0m\u001b[0mcopy\u001b[0m\u001b[0;34m,\u001b[0m \u001b[0merrors\u001b[0m\u001b[0;34m=\u001b[0m\u001b[0merrors\u001b[0m\u001b[0;34m)\u001b[0m\u001b[0;34m\u001b[0m\u001b[0;34m\u001b[0m\u001b[0m\n\u001b[0m\u001b[1;32m   5913\u001b[0m             \u001b[0;32mreturn\u001b[0m \u001b[0mself\u001b[0m\u001b[0;34m.\u001b[0m\u001b[0m_constructor\u001b[0m\u001b[0;34m(\u001b[0m\u001b[0mnew_data\u001b[0m\u001b[0;34m)\u001b[0m\u001b[0;34m.\u001b[0m\u001b[0m__finalize__\u001b[0m\u001b[0;34m(\u001b[0m\u001b[0mself\u001b[0m\u001b[0;34m,\u001b[0m \u001b[0mmethod\u001b[0m\u001b[0;34m=\u001b[0m\u001b[0;34m\"astype\"\u001b[0m\u001b[0;34m)\u001b[0m\u001b[0;34m\u001b[0m\u001b[0;34m\u001b[0m\u001b[0m\n\u001b[1;32m   5914\u001b[0m \u001b[0;34m\u001b[0m\u001b[0m\n",
            "\u001b[0;32m/usr/local/lib/python3.10/dist-packages/pandas/core/internals/managers.py\u001b[0m in \u001b[0;36mastype\u001b[0;34m(self, dtype, copy, errors)\u001b[0m\n\u001b[1;32m    417\u001b[0m \u001b[0;34m\u001b[0m\u001b[0m\n\u001b[1;32m    418\u001b[0m     \u001b[0;32mdef\u001b[0m \u001b[0mastype\u001b[0m\u001b[0;34m(\u001b[0m\u001b[0mself\u001b[0m\u001b[0;34m:\u001b[0m \u001b[0mT\u001b[0m\u001b[0;34m,\u001b[0m \u001b[0mdtype\u001b[0m\u001b[0;34m,\u001b[0m \u001b[0mcopy\u001b[0m\u001b[0;34m:\u001b[0m \u001b[0mbool\u001b[0m \u001b[0;34m=\u001b[0m \u001b[0;32mFalse\u001b[0m\u001b[0;34m,\u001b[0m \u001b[0merrors\u001b[0m\u001b[0;34m:\u001b[0m \u001b[0mstr\u001b[0m \u001b[0;34m=\u001b[0m \u001b[0;34m\"raise\"\u001b[0m\u001b[0;34m)\u001b[0m \u001b[0;34m->\u001b[0m \u001b[0mT\u001b[0m\u001b[0;34m:\u001b[0m\u001b[0;34m\u001b[0m\u001b[0;34m\u001b[0m\u001b[0m\n\u001b[0;32m--> 419\u001b[0;31m         \u001b[0;32mreturn\u001b[0m \u001b[0mself\u001b[0m\u001b[0;34m.\u001b[0m\u001b[0mapply\u001b[0m\u001b[0;34m(\u001b[0m\u001b[0;34m\"astype\"\u001b[0m\u001b[0;34m,\u001b[0m \u001b[0mdtype\u001b[0m\u001b[0;34m=\u001b[0m\u001b[0mdtype\u001b[0m\u001b[0;34m,\u001b[0m \u001b[0mcopy\u001b[0m\u001b[0;34m=\u001b[0m\u001b[0mcopy\u001b[0m\u001b[0;34m,\u001b[0m \u001b[0merrors\u001b[0m\u001b[0;34m=\u001b[0m\u001b[0merrors\u001b[0m\u001b[0;34m)\u001b[0m\u001b[0;34m\u001b[0m\u001b[0;34m\u001b[0m\u001b[0m\n\u001b[0m\u001b[1;32m    420\u001b[0m \u001b[0;34m\u001b[0m\u001b[0m\n\u001b[1;32m    421\u001b[0m     def convert(\n",
            "\u001b[0;32m/usr/local/lib/python3.10/dist-packages/pandas/core/internals/managers.py\u001b[0m in \u001b[0;36mapply\u001b[0;34m(self, f, align_keys, ignore_failures, **kwargs)\u001b[0m\n\u001b[1;32m    302\u001b[0m                     \u001b[0mapplied\u001b[0m \u001b[0;34m=\u001b[0m \u001b[0mb\u001b[0m\u001b[0;34m.\u001b[0m\u001b[0mapply\u001b[0m\u001b[0;34m(\u001b[0m\u001b[0mf\u001b[0m\u001b[0;34m,\u001b[0m \u001b[0;34m**\u001b[0m\u001b[0mkwargs\u001b[0m\u001b[0;34m)\u001b[0m\u001b[0;34m\u001b[0m\u001b[0;34m\u001b[0m\u001b[0m\n\u001b[1;32m    303\u001b[0m                 \u001b[0;32melse\u001b[0m\u001b[0;34m:\u001b[0m\u001b[0;34m\u001b[0m\u001b[0;34m\u001b[0m\u001b[0m\n\u001b[0;32m--> 304\u001b[0;31m                     \u001b[0mapplied\u001b[0m \u001b[0;34m=\u001b[0m \u001b[0mgetattr\u001b[0m\u001b[0;34m(\u001b[0m\u001b[0mb\u001b[0m\u001b[0;34m,\u001b[0m \u001b[0mf\u001b[0m\u001b[0;34m)\u001b[0m\u001b[0;34m(\u001b[0m\u001b[0;34m**\u001b[0m\u001b[0mkwargs\u001b[0m\u001b[0;34m)\u001b[0m\u001b[0;34m\u001b[0m\u001b[0;34m\u001b[0m\u001b[0m\n\u001b[0m\u001b[1;32m    305\u001b[0m             \u001b[0;32mexcept\u001b[0m \u001b[0;34m(\u001b[0m\u001b[0mTypeError\u001b[0m\u001b[0;34m,\u001b[0m \u001b[0mNotImplementedError\u001b[0m\u001b[0;34m)\u001b[0m\u001b[0;34m:\u001b[0m\u001b[0;34m\u001b[0m\u001b[0;34m\u001b[0m\u001b[0m\n\u001b[1;32m    306\u001b[0m                 \u001b[0;32mif\u001b[0m \u001b[0;32mnot\u001b[0m \u001b[0mignore_failures\u001b[0m\u001b[0;34m:\u001b[0m\u001b[0;34m\u001b[0m\u001b[0;34m\u001b[0m\u001b[0m\n",
            "\u001b[0;32m/usr/local/lib/python3.10/dist-packages/pandas/core/internals/blocks.py\u001b[0m in \u001b[0;36mastype\u001b[0;34m(self, dtype, copy, errors)\u001b[0m\n\u001b[1;32m    578\u001b[0m         \u001b[0mvalues\u001b[0m \u001b[0;34m=\u001b[0m \u001b[0mself\u001b[0m\u001b[0;34m.\u001b[0m\u001b[0mvalues\u001b[0m\u001b[0;34m\u001b[0m\u001b[0;34m\u001b[0m\u001b[0m\n\u001b[1;32m    579\u001b[0m \u001b[0;34m\u001b[0m\u001b[0m\n\u001b[0;32m--> 580\u001b[0;31m         \u001b[0mnew_values\u001b[0m \u001b[0;34m=\u001b[0m \u001b[0mastype_array_safe\u001b[0m\u001b[0;34m(\u001b[0m\u001b[0mvalues\u001b[0m\u001b[0;34m,\u001b[0m \u001b[0mdtype\u001b[0m\u001b[0;34m,\u001b[0m \u001b[0mcopy\u001b[0m\u001b[0;34m=\u001b[0m\u001b[0mcopy\u001b[0m\u001b[0;34m,\u001b[0m \u001b[0merrors\u001b[0m\u001b[0;34m=\u001b[0m\u001b[0merrors\u001b[0m\u001b[0;34m)\u001b[0m\u001b[0;34m\u001b[0m\u001b[0;34m\u001b[0m\u001b[0m\n\u001b[0m\u001b[1;32m    581\u001b[0m \u001b[0;34m\u001b[0m\u001b[0m\n\u001b[1;32m    582\u001b[0m         \u001b[0mnew_values\u001b[0m \u001b[0;34m=\u001b[0m \u001b[0mmaybe_coerce_values\u001b[0m\u001b[0;34m(\u001b[0m\u001b[0mnew_values\u001b[0m\u001b[0;34m)\u001b[0m\u001b[0;34m\u001b[0m\u001b[0;34m\u001b[0m\u001b[0m\n",
            "\u001b[0;32m/usr/local/lib/python3.10/dist-packages/pandas/core/dtypes/cast.py\u001b[0m in \u001b[0;36mastype_array_safe\u001b[0;34m(values, dtype, copy, errors)\u001b[0m\n\u001b[1;32m   1290\u001b[0m \u001b[0;34m\u001b[0m\u001b[0m\n\u001b[1;32m   1291\u001b[0m     \u001b[0;32mtry\u001b[0m\u001b[0;34m:\u001b[0m\u001b[0;34m\u001b[0m\u001b[0;34m\u001b[0m\u001b[0m\n\u001b[0;32m-> 1292\u001b[0;31m         \u001b[0mnew_values\u001b[0m \u001b[0;34m=\u001b[0m \u001b[0mastype_array\u001b[0m\u001b[0;34m(\u001b[0m\u001b[0mvalues\u001b[0m\u001b[0;34m,\u001b[0m \u001b[0mdtype\u001b[0m\u001b[0;34m,\u001b[0m \u001b[0mcopy\u001b[0m\u001b[0;34m=\u001b[0m\u001b[0mcopy\u001b[0m\u001b[0;34m)\u001b[0m\u001b[0;34m\u001b[0m\u001b[0;34m\u001b[0m\u001b[0m\n\u001b[0m\u001b[1;32m   1293\u001b[0m     \u001b[0;32mexcept\u001b[0m \u001b[0;34m(\u001b[0m\u001b[0mValueError\u001b[0m\u001b[0;34m,\u001b[0m \u001b[0mTypeError\u001b[0m\u001b[0;34m)\u001b[0m\u001b[0;34m:\u001b[0m\u001b[0;34m\u001b[0m\u001b[0;34m\u001b[0m\u001b[0m\n\u001b[1;32m   1294\u001b[0m         \u001b[0;31m# e.g. astype_nansafe can fail on object-dtype of strings\u001b[0m\u001b[0;34m\u001b[0m\u001b[0;34m\u001b[0m\u001b[0m\n",
            "\u001b[0;32m/usr/local/lib/python3.10/dist-packages/pandas/core/dtypes/cast.py\u001b[0m in \u001b[0;36mastype_array\u001b[0;34m(values, dtype, copy)\u001b[0m\n\u001b[1;32m   1235\u001b[0m \u001b[0;34m\u001b[0m\u001b[0m\n\u001b[1;32m   1236\u001b[0m     \u001b[0;32melse\u001b[0m\u001b[0;34m:\u001b[0m\u001b[0;34m\u001b[0m\u001b[0;34m\u001b[0m\u001b[0m\n\u001b[0;32m-> 1237\u001b[0;31m         \u001b[0mvalues\u001b[0m \u001b[0;34m=\u001b[0m \u001b[0mastype_nansafe\u001b[0m\u001b[0;34m(\u001b[0m\u001b[0mvalues\u001b[0m\u001b[0;34m,\u001b[0m \u001b[0mdtype\u001b[0m\u001b[0;34m,\u001b[0m \u001b[0mcopy\u001b[0m\u001b[0;34m=\u001b[0m\u001b[0mcopy\u001b[0m\u001b[0;34m)\u001b[0m\u001b[0;34m\u001b[0m\u001b[0;34m\u001b[0m\u001b[0m\n\u001b[0m\u001b[1;32m   1238\u001b[0m \u001b[0;34m\u001b[0m\u001b[0m\n\u001b[1;32m   1239\u001b[0m     \u001b[0;31m# in pandas we don't store numpy str dtypes, so convert to object\u001b[0m\u001b[0;34m\u001b[0m\u001b[0;34m\u001b[0m\u001b[0m\n",
            "\u001b[0;32m/usr/local/lib/python3.10/dist-packages/pandas/core/dtypes/cast.py\u001b[0m in \u001b[0;36mastype_nansafe\u001b[0;34m(arr, dtype, copy, skipna)\u001b[0m\n\u001b[1;32m   1152\u001b[0m         \u001b[0;31m# work around NumPy brokenness, #1987\u001b[0m\u001b[0;34m\u001b[0m\u001b[0;34m\u001b[0m\u001b[0m\n\u001b[1;32m   1153\u001b[0m         \u001b[0;32mif\u001b[0m \u001b[0mnp\u001b[0m\u001b[0;34m.\u001b[0m\u001b[0missubdtype\u001b[0m\u001b[0;34m(\u001b[0m\u001b[0mdtype\u001b[0m\u001b[0;34m.\u001b[0m\u001b[0mtype\u001b[0m\u001b[0;34m,\u001b[0m \u001b[0mnp\u001b[0m\u001b[0;34m.\u001b[0m\u001b[0minteger\u001b[0m\u001b[0;34m)\u001b[0m\u001b[0;34m:\u001b[0m\u001b[0;34m\u001b[0m\u001b[0;34m\u001b[0m\u001b[0m\n\u001b[0;32m-> 1154\u001b[0;31m             \u001b[0;32mreturn\u001b[0m \u001b[0mlib\u001b[0m\u001b[0;34m.\u001b[0m\u001b[0mastype_intsafe\u001b[0m\u001b[0;34m(\u001b[0m\u001b[0marr\u001b[0m\u001b[0;34m,\u001b[0m \u001b[0mdtype\u001b[0m\u001b[0;34m)\u001b[0m\u001b[0;34m\u001b[0m\u001b[0;34m\u001b[0m\u001b[0m\n\u001b[0m\u001b[1;32m   1155\u001b[0m \u001b[0;34m\u001b[0m\u001b[0m\n\u001b[1;32m   1156\u001b[0m         \u001b[0;31m# if we have a datetime/timedelta array of objects\u001b[0m\u001b[0;34m\u001b[0m\u001b[0;34m\u001b[0m\u001b[0m\n",
            "\u001b[0;32m/usr/local/lib/python3.10/dist-packages/pandas/_libs/lib.pyx\u001b[0m in \u001b[0;36mpandas._libs.lib.astype_intsafe\u001b[0;34m()\u001b[0m\n",
            "\u001b[0;31mValueError\u001b[0m: invalid literal for int() with base 10: ''"
          ]
        }
      ]
    },
    {
      "cell_type": "code",
      "source": [
        "# Arrumando ocupação\n",
        "data['OCUP'] = data['OCUP'].astype(str)\n",
        "data['OCUP'] = data['OCUP'].apply(lambda x: x.zfill(6))\n",
        "\n",
        "url_cbo = 'https://raw.githubusercontent.com/daltonbc96/python/master/CBO.csv'\n",
        "\n",
        "CBO2002  = pd.read_csv(url_cbo).set_index('CODIGO').to_dict()\n",
        "\n",
        "data['OCUP'] = data['OCUP'].fillna(0).astype(str)\n",
        "data['OCUP'] = data['OCUP'].map(lambda x: x.rstrip('.0'))\n",
        "data['OCUP'] = data['OCUP'].replace('000nan', np.nan)\n",
        "data['OCUP'] = data['OCUP'].replace('', 0)\n",
        "data['OCUP'] = data['OCUP'].replace(CBO2002['OCUPACAO'])\n"
      ],
      "metadata": {
        "id": "M3TJMoZvGWbp"
      },
      "execution_count": null,
      "outputs": []
    },
    {
      "cell_type": "code",
      "source": [
        "CBO2002"
      ],
      "metadata": {
        "id": "MkKAQhISFh_1"
      },
      "execution_count": null,
      "outputs": []
    },
    {
      "cell_type": "code",
      "source": [
        "#Codificando municipios\n",
        "\n",
        "url_mun = 'http://blog.mds.gov.br/redesuas/wp-content/uploads/2018/06/Lista_Munic%C3%ADpios_com_IBGE_Brasil_Versao_CSV.csv'\n",
        "\n",
        "municipios  = pd.read_csv(url_mun,error_bad_lines = False, sep = ';', encoding = 'latin-1',  usecols = ['IBGE','Município']).set_index('IBGE').to_dict()\n",
        "\n",
        "data['CODMUNRES'] = data['CODMUNRES'].astype(int).replace(municipios['Município'])"
      ],
      "metadata": {
        "colab": {
          "base_uri": "https://localhost:8080/"
        },
        "id": "YUlABtODB1UA",
        "outputId": "9c52a75c-3ed7-4e20-a649-776e475f842e"
      },
      "execution_count": null,
      "outputs": [
        {
          "output_type": "stream",
          "name": "stderr",
          "text": [
            "<ipython-input-243-afe9c40cccf5>:5: FutureWarning: The error_bad_lines argument has been deprecated and will be removed in a future version. Use on_bad_lines in the future.\n",
            "\n",
            "\n",
            "  municipios  = pd.read_csv(url_mun,error_bad_lines = False, sep = ';', encoding = 'latin-1',  usecols = ['IBGE','Município']).set_index('IBGE').to_dict()\n"
          ]
        }
      ]
    },
    {
      "cell_type": "code",
      "source": [
        "data.head(n = 20)"
      ],
      "metadata": {
        "colab": {
          "base_uri": "https://localhost:8080/",
          "height": 676
        },
        "id": "8O6ZSx56CgnG",
        "outputId": "e758c081-06aa-4772-f08b-861bd97faf4e"
      },
      "execution_count": null,
      "outputs": [
        {
          "output_type": "execute_result",
          "data": {
            "text/plain": [
              "      estado   ano   DTOBITO    DTNASC       SEXO RACACOR ASSISTMED ESCMAE  \\\n",
              "57077     TO  2018  20052018  08061953   Feminino  Branca       Sim    NaN   \n",
              "57082     TO  2018  29052018  05111991   Feminino   Parda       Não    NaN   \n",
              "57109     TO  2018  14062018  10091966  Masculino  Branca       Não    NaN   \n",
              "57116     TO  2018  22062018  11031992  Masculino   Parda       Não    NaN   \n",
              "57136     TO  2018  10072018  01011985  Masculino  Branca              NaN   \n",
              "57155     TO  2018  28072018  11081976  Masculino   Parda       Não    NaN   \n",
              "57161     TO  2018  06082018  03011949   Feminino   Parda       Não    NaN   \n",
              "57449     TO  2018  24052018  14021985  Masculino   Parda       Não    NaN   \n",
              "57620     TO  2018  28022018  08022001  Masculino   Parda              NaN   \n",
              "57728     TO  2018  12012018  08021971  Masculino   Parda              NaN   \n",
              "57745     TO  2018  03042018  02061944  Masculino   Parda       Não    NaN   \n",
              "57747     TO  2018  29042018  27071969  Masculino   Parda       Não    NaN   \n",
              "57871     TO  2018  02012018  13071944  Masculino  Branca       Sim    NaN   \n",
              "58070     TO  2018  09042018  04111983  Masculino   Parda       Não    NaN   \n",
              "58075     TO  2018  29042018  07111967  Masculino   Parda       Não    NaN   \n",
              "58173     TO  2018  04062018  02312198  Masculino  Branca       Não    NaN   \n",
              "58229     TO  2018  23062018  10041992  Masculino   Parda       Não    NaN   \n",
              "58503     TO  2018  02022018  15041922   Feminino   Parda              NaN   \n",
              "58578     TO  2018  03012018  27041981  Masculino   Parda       Não    NaN   \n",
              "58676     TO  2018  28012018  03081954   Feminino  Branca       Não    NaN   \n",
              "\n",
              "                 ESTCIV          ESC    OCUP                  CODMUNRES  \\\n",
              "57077            Casado          NaN       0             Porto Nacional   \n",
              "57082          Solteiro          NaN  999992      Miracema do Tocantins   \n",
              "57109          Solteiro    12 e mais  354705                     Palmas   \n",
              "57116          Solteiro  8 a 11 anos  621005                    Arraias   \n",
              "57136  União consensual  8 a 11 anos  051731                     Palmas   \n",
              "57155          Solteiro   4 a 7 anos  512105                     Palmas   \n",
              "57161             Viúvo          NaN  999993       Colinas do Tocantins   \n",
              "57449          Solteiro  8 a 11 anos       0                 Natividade   \n",
              "57620          Solteiro  8 a 11 anos  999992                 Dianópolis   \n",
              "57728  União consensual          NaN  621005                 Araguatins   \n",
              "57745          Solteiro      Nenhuma  999993                 Araguatins   \n",
              "57747            Casado   1 a 3 anos  621005             Augustinópolis   \n",
              "57871            Casado   1 a 3 anos  999993                 Natividade   \n",
              "58070          Solteiro  8 a 11 anos  782315                     Gurupi   \n",
              "58075          Solteiro          NaN  051731                   Araguaçu   \n",
              "58173            Casado    12 e mais  031105                     Gurupi   \n",
              "58229  União consensual   4 a 7 anos  064101                     Gurupi   \n",
              "58503             Viúvo      Nenhuma  999992  São Valério da Natividade   \n",
              "58578          Solteiro   4 a 7 anos  071521                     Gurupi   \n",
              "58676            Casado    12 e mais  999993       Paraíso do Tocantins   \n",
              "\n",
              "      CAUSABAS CAUSABAS_O      LOCOCOR CIRURGIA  \n",
              "57077     X769       X769     Hospital           \n",
              "57082     X707       X707       Outros           \n",
              "57109     X705       X705       Outros           \n",
              "57116     X707       X707       Outros           \n",
              "57136     X700       X700    Domicílio           \n",
              "57155     X700       X700    Domicílio           \n",
              "57161     X700       X700       Outros           \n",
              "57449     X700       X700    Domicílio           \n",
              "57620     X640       X640     Hospital           \n",
              "57728     X700       X700    Domicílio           \n",
              "57745     X700       X700    Domicílio           \n",
              "57747     X700       X700    Domicílio           \n",
              "57871     X680       Y349     Hospital           \n",
              "58070     X709       X709  Via pública           \n",
              "58075     X709       X709    Domicílio           \n",
              "58173     X709       X709    Domicílio           \n",
              "58229     X709       X709    Domicílio           \n",
              "58503     X709       X709    Domicílio           \n",
              "58578     X709       X709    Domicílio           \n",
              "58676     X700       X700    Domicílio           "
            ],
            "text/html": [
              "\n",
              "  <div id=\"df-75558fe3-7be8-416f-b409-02d3580a8589\">\n",
              "    <div class=\"colab-df-container\">\n",
              "      <div>\n",
              "<style scoped>\n",
              "    .dataframe tbody tr th:only-of-type {\n",
              "        vertical-align: middle;\n",
              "    }\n",
              "\n",
              "    .dataframe tbody tr th {\n",
              "        vertical-align: top;\n",
              "    }\n",
              "\n",
              "    .dataframe thead th {\n",
              "        text-align: right;\n",
              "    }\n",
              "</style>\n",
              "<table border=\"1\" class=\"dataframe\">\n",
              "  <thead>\n",
              "    <tr style=\"text-align: right;\">\n",
              "      <th></th>\n",
              "      <th>estado</th>\n",
              "      <th>ano</th>\n",
              "      <th>DTOBITO</th>\n",
              "      <th>DTNASC</th>\n",
              "      <th>SEXO</th>\n",
              "      <th>RACACOR</th>\n",
              "      <th>ASSISTMED</th>\n",
              "      <th>ESCMAE</th>\n",
              "      <th>ESTCIV</th>\n",
              "      <th>ESC</th>\n",
              "      <th>OCUP</th>\n",
              "      <th>CODMUNRES</th>\n",
              "      <th>CAUSABAS</th>\n",
              "      <th>CAUSABAS_O</th>\n",
              "      <th>LOCOCOR</th>\n",
              "      <th>CIRURGIA</th>\n",
              "    </tr>\n",
              "  </thead>\n",
              "  <tbody>\n",
              "    <tr>\n",
              "      <th>57077</th>\n",
              "      <td>TO</td>\n",
              "      <td>2018</td>\n",
              "      <td>20052018</td>\n",
              "      <td>08061953</td>\n",
              "      <td>Feminino</td>\n",
              "      <td>Branca</td>\n",
              "      <td>Sim</td>\n",
              "      <td>NaN</td>\n",
              "      <td>Casado</td>\n",
              "      <td>NaN</td>\n",
              "      <td>0</td>\n",
              "      <td>Porto Nacional</td>\n",
              "      <td>X769</td>\n",
              "      <td>X769</td>\n",
              "      <td>Hospital</td>\n",
              "      <td></td>\n",
              "    </tr>\n",
              "    <tr>\n",
              "      <th>57082</th>\n",
              "      <td>TO</td>\n",
              "      <td>2018</td>\n",
              "      <td>29052018</td>\n",
              "      <td>05111991</td>\n",
              "      <td>Feminino</td>\n",
              "      <td>Parda</td>\n",
              "      <td>Não</td>\n",
              "      <td>NaN</td>\n",
              "      <td>Solteiro</td>\n",
              "      <td>NaN</td>\n",
              "      <td>999992</td>\n",
              "      <td>Miracema do Tocantins</td>\n",
              "      <td>X707</td>\n",
              "      <td>X707</td>\n",
              "      <td>Outros</td>\n",
              "      <td></td>\n",
              "    </tr>\n",
              "    <tr>\n",
              "      <th>57109</th>\n",
              "      <td>TO</td>\n",
              "      <td>2018</td>\n",
              "      <td>14062018</td>\n",
              "      <td>10091966</td>\n",
              "      <td>Masculino</td>\n",
              "      <td>Branca</td>\n",
              "      <td>Não</td>\n",
              "      <td>NaN</td>\n",
              "      <td>Solteiro</td>\n",
              "      <td>12 e mais</td>\n",
              "      <td>354705</td>\n",
              "      <td>Palmas</td>\n",
              "      <td>X705</td>\n",
              "      <td>X705</td>\n",
              "      <td>Outros</td>\n",
              "      <td></td>\n",
              "    </tr>\n",
              "    <tr>\n",
              "      <th>57116</th>\n",
              "      <td>TO</td>\n",
              "      <td>2018</td>\n",
              "      <td>22062018</td>\n",
              "      <td>11031992</td>\n",
              "      <td>Masculino</td>\n",
              "      <td>Parda</td>\n",
              "      <td>Não</td>\n",
              "      <td>NaN</td>\n",
              "      <td>Solteiro</td>\n",
              "      <td>8 a 11 anos</td>\n",
              "      <td>621005</td>\n",
              "      <td>Arraias</td>\n",
              "      <td>X707</td>\n",
              "      <td>X707</td>\n",
              "      <td>Outros</td>\n",
              "      <td></td>\n",
              "    </tr>\n",
              "    <tr>\n",
              "      <th>57136</th>\n",
              "      <td>TO</td>\n",
              "      <td>2018</td>\n",
              "      <td>10072018</td>\n",
              "      <td>01011985</td>\n",
              "      <td>Masculino</td>\n",
              "      <td>Branca</td>\n",
              "      <td></td>\n",
              "      <td>NaN</td>\n",
              "      <td>União consensual</td>\n",
              "      <td>8 a 11 anos</td>\n",
              "      <td>051731</td>\n",
              "      <td>Palmas</td>\n",
              "      <td>X700</td>\n",
              "      <td>X700</td>\n",
              "      <td>Domicílio</td>\n",
              "      <td></td>\n",
              "    </tr>\n",
              "    <tr>\n",
              "      <th>57155</th>\n",
              "      <td>TO</td>\n",
              "      <td>2018</td>\n",
              "      <td>28072018</td>\n",
              "      <td>11081976</td>\n",
              "      <td>Masculino</td>\n",
              "      <td>Parda</td>\n",
              "      <td>Não</td>\n",
              "      <td>NaN</td>\n",
              "      <td>Solteiro</td>\n",
              "      <td>4 a 7 anos</td>\n",
              "      <td>512105</td>\n",
              "      <td>Palmas</td>\n",
              "      <td>X700</td>\n",
              "      <td>X700</td>\n",
              "      <td>Domicílio</td>\n",
              "      <td></td>\n",
              "    </tr>\n",
              "    <tr>\n",
              "      <th>57161</th>\n",
              "      <td>TO</td>\n",
              "      <td>2018</td>\n",
              "      <td>06082018</td>\n",
              "      <td>03011949</td>\n",
              "      <td>Feminino</td>\n",
              "      <td>Parda</td>\n",
              "      <td>Não</td>\n",
              "      <td>NaN</td>\n",
              "      <td>Viúvo</td>\n",
              "      <td>NaN</td>\n",
              "      <td>999993</td>\n",
              "      <td>Colinas do Tocantins</td>\n",
              "      <td>X700</td>\n",
              "      <td>X700</td>\n",
              "      <td>Outros</td>\n",
              "      <td></td>\n",
              "    </tr>\n",
              "    <tr>\n",
              "      <th>57449</th>\n",
              "      <td>TO</td>\n",
              "      <td>2018</td>\n",
              "      <td>24052018</td>\n",
              "      <td>14021985</td>\n",
              "      <td>Masculino</td>\n",
              "      <td>Parda</td>\n",
              "      <td>Não</td>\n",
              "      <td>NaN</td>\n",
              "      <td>Solteiro</td>\n",
              "      <td>8 a 11 anos</td>\n",
              "      <td>0</td>\n",
              "      <td>Natividade</td>\n",
              "      <td>X700</td>\n",
              "      <td>X700</td>\n",
              "      <td>Domicílio</td>\n",
              "      <td></td>\n",
              "    </tr>\n",
              "    <tr>\n",
              "      <th>57620</th>\n",
              "      <td>TO</td>\n",
              "      <td>2018</td>\n",
              "      <td>28022018</td>\n",
              "      <td>08022001</td>\n",
              "      <td>Masculino</td>\n",
              "      <td>Parda</td>\n",
              "      <td></td>\n",
              "      <td>NaN</td>\n",
              "      <td>Solteiro</td>\n",
              "      <td>8 a 11 anos</td>\n",
              "      <td>999992</td>\n",
              "      <td>Dianópolis</td>\n",
              "      <td>X640</td>\n",
              "      <td>X640</td>\n",
              "      <td>Hospital</td>\n",
              "      <td></td>\n",
              "    </tr>\n",
              "    <tr>\n",
              "      <th>57728</th>\n",
              "      <td>TO</td>\n",
              "      <td>2018</td>\n",
              "      <td>12012018</td>\n",
              "      <td>08021971</td>\n",
              "      <td>Masculino</td>\n",
              "      <td>Parda</td>\n",
              "      <td></td>\n",
              "      <td>NaN</td>\n",
              "      <td>União consensual</td>\n",
              "      <td>NaN</td>\n",
              "      <td>621005</td>\n",
              "      <td>Araguatins</td>\n",
              "      <td>X700</td>\n",
              "      <td>X700</td>\n",
              "      <td>Domicílio</td>\n",
              "      <td></td>\n",
              "    </tr>\n",
              "    <tr>\n",
              "      <th>57745</th>\n",
              "      <td>TO</td>\n",
              "      <td>2018</td>\n",
              "      <td>03042018</td>\n",
              "      <td>02061944</td>\n",
              "      <td>Masculino</td>\n",
              "      <td>Parda</td>\n",
              "      <td>Não</td>\n",
              "      <td>NaN</td>\n",
              "      <td>Solteiro</td>\n",
              "      <td>Nenhuma</td>\n",
              "      <td>999993</td>\n",
              "      <td>Araguatins</td>\n",
              "      <td>X700</td>\n",
              "      <td>X700</td>\n",
              "      <td>Domicílio</td>\n",
              "      <td></td>\n",
              "    </tr>\n",
              "    <tr>\n",
              "      <th>57747</th>\n",
              "      <td>TO</td>\n",
              "      <td>2018</td>\n",
              "      <td>29042018</td>\n",
              "      <td>27071969</td>\n",
              "      <td>Masculino</td>\n",
              "      <td>Parda</td>\n",
              "      <td>Não</td>\n",
              "      <td>NaN</td>\n",
              "      <td>Casado</td>\n",
              "      <td>1 a 3 anos</td>\n",
              "      <td>621005</td>\n",
              "      <td>Augustinópolis</td>\n",
              "      <td>X700</td>\n",
              "      <td>X700</td>\n",
              "      <td>Domicílio</td>\n",
              "      <td></td>\n",
              "    </tr>\n",
              "    <tr>\n",
              "      <th>57871</th>\n",
              "      <td>TO</td>\n",
              "      <td>2018</td>\n",
              "      <td>02012018</td>\n",
              "      <td>13071944</td>\n",
              "      <td>Masculino</td>\n",
              "      <td>Branca</td>\n",
              "      <td>Sim</td>\n",
              "      <td>NaN</td>\n",
              "      <td>Casado</td>\n",
              "      <td>1 a 3 anos</td>\n",
              "      <td>999993</td>\n",
              "      <td>Natividade</td>\n",
              "      <td>X680</td>\n",
              "      <td>Y349</td>\n",
              "      <td>Hospital</td>\n",
              "      <td></td>\n",
              "    </tr>\n",
              "    <tr>\n",
              "      <th>58070</th>\n",
              "      <td>TO</td>\n",
              "      <td>2018</td>\n",
              "      <td>09042018</td>\n",
              "      <td>04111983</td>\n",
              "      <td>Masculino</td>\n",
              "      <td>Parda</td>\n",
              "      <td>Não</td>\n",
              "      <td>NaN</td>\n",
              "      <td>Solteiro</td>\n",
              "      <td>8 a 11 anos</td>\n",
              "      <td>782315</td>\n",
              "      <td>Gurupi</td>\n",
              "      <td>X709</td>\n",
              "      <td>X709</td>\n",
              "      <td>Via pública</td>\n",
              "      <td></td>\n",
              "    </tr>\n",
              "    <tr>\n",
              "      <th>58075</th>\n",
              "      <td>TO</td>\n",
              "      <td>2018</td>\n",
              "      <td>29042018</td>\n",
              "      <td>07111967</td>\n",
              "      <td>Masculino</td>\n",
              "      <td>Parda</td>\n",
              "      <td>Não</td>\n",
              "      <td>NaN</td>\n",
              "      <td>Solteiro</td>\n",
              "      <td>NaN</td>\n",
              "      <td>051731</td>\n",
              "      <td>Araguaçu</td>\n",
              "      <td>X709</td>\n",
              "      <td>X709</td>\n",
              "      <td>Domicílio</td>\n",
              "      <td></td>\n",
              "    </tr>\n",
              "    <tr>\n",
              "      <th>58173</th>\n",
              "      <td>TO</td>\n",
              "      <td>2018</td>\n",
              "      <td>04062018</td>\n",
              "      <td>02312198</td>\n",
              "      <td>Masculino</td>\n",
              "      <td>Branca</td>\n",
              "      <td>Não</td>\n",
              "      <td>NaN</td>\n",
              "      <td>Casado</td>\n",
              "      <td>12 e mais</td>\n",
              "      <td>031105</td>\n",
              "      <td>Gurupi</td>\n",
              "      <td>X709</td>\n",
              "      <td>X709</td>\n",
              "      <td>Domicílio</td>\n",
              "      <td></td>\n",
              "    </tr>\n",
              "    <tr>\n",
              "      <th>58229</th>\n",
              "      <td>TO</td>\n",
              "      <td>2018</td>\n",
              "      <td>23062018</td>\n",
              "      <td>10041992</td>\n",
              "      <td>Masculino</td>\n",
              "      <td>Parda</td>\n",
              "      <td>Não</td>\n",
              "      <td>NaN</td>\n",
              "      <td>União consensual</td>\n",
              "      <td>4 a 7 anos</td>\n",
              "      <td>064101</td>\n",
              "      <td>Gurupi</td>\n",
              "      <td>X709</td>\n",
              "      <td>X709</td>\n",
              "      <td>Domicílio</td>\n",
              "      <td></td>\n",
              "    </tr>\n",
              "    <tr>\n",
              "      <th>58503</th>\n",
              "      <td>TO</td>\n",
              "      <td>2018</td>\n",
              "      <td>02022018</td>\n",
              "      <td>15041922</td>\n",
              "      <td>Feminino</td>\n",
              "      <td>Parda</td>\n",
              "      <td></td>\n",
              "      <td>NaN</td>\n",
              "      <td>Viúvo</td>\n",
              "      <td>Nenhuma</td>\n",
              "      <td>999992</td>\n",
              "      <td>São Valério da Natividade</td>\n",
              "      <td>X709</td>\n",
              "      <td>X709</td>\n",
              "      <td>Domicílio</td>\n",
              "      <td></td>\n",
              "    </tr>\n",
              "    <tr>\n",
              "      <th>58578</th>\n",
              "      <td>TO</td>\n",
              "      <td>2018</td>\n",
              "      <td>03012018</td>\n",
              "      <td>27041981</td>\n",
              "      <td>Masculino</td>\n",
              "      <td>Parda</td>\n",
              "      <td>Não</td>\n",
              "      <td>NaN</td>\n",
              "      <td>Solteiro</td>\n",
              "      <td>4 a 7 anos</td>\n",
              "      <td>071521</td>\n",
              "      <td>Gurupi</td>\n",
              "      <td>X709</td>\n",
              "      <td>X709</td>\n",
              "      <td>Domicílio</td>\n",
              "      <td></td>\n",
              "    </tr>\n",
              "    <tr>\n",
              "      <th>58676</th>\n",
              "      <td>TO</td>\n",
              "      <td>2018</td>\n",
              "      <td>28012018</td>\n",
              "      <td>03081954</td>\n",
              "      <td>Feminino</td>\n",
              "      <td>Branca</td>\n",
              "      <td>Não</td>\n",
              "      <td>NaN</td>\n",
              "      <td>Casado</td>\n",
              "      <td>12 e mais</td>\n",
              "      <td>999993</td>\n",
              "      <td>Paraíso do Tocantins</td>\n",
              "      <td>X700</td>\n",
              "      <td>X700</td>\n",
              "      <td>Domicílio</td>\n",
              "      <td></td>\n",
              "    </tr>\n",
              "  </tbody>\n",
              "</table>\n",
              "</div>\n",
              "      <button class=\"colab-df-convert\" onclick=\"convertToInteractive('df-75558fe3-7be8-416f-b409-02d3580a8589')\"\n",
              "              title=\"Convert this dataframe to an interactive table.\"\n",
              "              style=\"display:none;\">\n",
              "        \n",
              "  <svg xmlns=\"http://www.w3.org/2000/svg\" height=\"24px\"viewBox=\"0 0 24 24\"\n",
              "       width=\"24px\">\n",
              "    <path d=\"M0 0h24v24H0V0z\" fill=\"none\"/>\n",
              "    <path d=\"M18.56 5.44l.94 2.06.94-2.06 2.06-.94-2.06-.94-.94-2.06-.94 2.06-2.06.94zm-11 1L8.5 8.5l.94-2.06 2.06-.94-2.06-.94L8.5 2.5l-.94 2.06-2.06.94zm10 10l.94 2.06.94-2.06 2.06-.94-2.06-.94-.94-2.06-.94 2.06-2.06.94z\"/><path d=\"M17.41 7.96l-1.37-1.37c-.4-.4-.92-.59-1.43-.59-.52 0-1.04.2-1.43.59L10.3 9.45l-7.72 7.72c-.78.78-.78 2.05 0 2.83L4 21.41c.39.39.9.59 1.41.59.51 0 1.02-.2 1.41-.59l7.78-7.78 2.81-2.81c.8-.78.8-2.07 0-2.86zM5.41 20L4 18.59l7.72-7.72 1.47 1.35L5.41 20z\"/>\n",
              "  </svg>\n",
              "      </button>\n",
              "      \n",
              "  <style>\n",
              "    .colab-df-container {\n",
              "      display:flex;\n",
              "      flex-wrap:wrap;\n",
              "      gap: 12px;\n",
              "    }\n",
              "\n",
              "    .colab-df-convert {\n",
              "      background-color: #E8F0FE;\n",
              "      border: none;\n",
              "      border-radius: 50%;\n",
              "      cursor: pointer;\n",
              "      display: none;\n",
              "      fill: #1967D2;\n",
              "      height: 32px;\n",
              "      padding: 0 0 0 0;\n",
              "      width: 32px;\n",
              "    }\n",
              "\n",
              "    .colab-df-convert:hover {\n",
              "      background-color: #E2EBFA;\n",
              "      box-shadow: 0px 1px 2px rgba(60, 64, 67, 0.3), 0px 1px 3px 1px rgba(60, 64, 67, 0.15);\n",
              "      fill: #174EA6;\n",
              "    }\n",
              "\n",
              "    [theme=dark] .colab-df-convert {\n",
              "      background-color: #3B4455;\n",
              "      fill: #D2E3FC;\n",
              "    }\n",
              "\n",
              "    [theme=dark] .colab-df-convert:hover {\n",
              "      background-color: #434B5C;\n",
              "      box-shadow: 0px 1px 3px 1px rgba(0, 0, 0, 0.15);\n",
              "      filter: drop-shadow(0px 1px 2px rgba(0, 0, 0, 0.3));\n",
              "      fill: #FFFFFF;\n",
              "    }\n",
              "  </style>\n",
              "\n",
              "      <script>\n",
              "        const buttonEl =\n",
              "          document.querySelector('#df-75558fe3-7be8-416f-b409-02d3580a8589 button.colab-df-convert');\n",
              "        buttonEl.style.display =\n",
              "          google.colab.kernel.accessAllowed ? 'block' : 'none';\n",
              "\n",
              "        async function convertToInteractive(key) {\n",
              "          const element = document.querySelector('#df-75558fe3-7be8-416f-b409-02d3580a8589');\n",
              "          const dataTable =\n",
              "            await google.colab.kernel.invokeFunction('convertToInteractive',\n",
              "                                                     [key], {});\n",
              "          if (!dataTable) return;\n",
              "\n",
              "          const docLinkHtml = 'Like what you see? Visit the ' +\n",
              "            '<a target=\"_blank\" href=https://colab.research.google.com/notebooks/data_table.ipynb>data table notebook</a>'\n",
              "            + ' to learn more about interactive tables.';\n",
              "          element.innerHTML = '';\n",
              "          dataTable['output_type'] = 'display_data';\n",
              "          await google.colab.output.renderOutput(dataTable, element);\n",
              "          const docLink = document.createElement('div');\n",
              "          docLink.innerHTML = docLinkHtml;\n",
              "          element.appendChild(docLink);\n",
              "        }\n",
              "      </script>\n",
              "    </div>\n",
              "  </div>\n",
              "  "
            ]
          },
          "metadata": {},
          "execution_count": 244
        }
      ]
    },
    {
      "cell_type": "code",
      "source": [
        "data['OCUP'] = data['OCUP'].replace(CBO2002['OCUPACAO'])"
      ],
      "metadata": {
        "id": "LVisSHnKGwKu"
      },
      "execution_count": null,
      "outputs": []
    },
    {
      "cell_type": "code",
      "source": [
        "data.head(n = 20)"
      ],
      "metadata": {
        "colab": {
          "base_uri": "https://localhost:8080/",
          "height": 720
        },
        "id": "IOdQ2KheHP7n",
        "outputId": "0fb3dcbf-d619-422b-fd31-c99aef732327"
      },
      "execution_count": null,
      "outputs": [
        {
          "output_type": "execute_result",
          "data": {
            "text/plain": [
              "      estado   ano   DTOBITO    DTNASC       SEXO RACACOR ASSISTMED ESCMAE  \\\n",
              "57077     TO  2018  20052018  08061953   Feminino  Branca       Sim    NaN   \n",
              "57082     TO  2018  29052018  05111991   Feminino   Parda       Não    NaN   \n",
              "57109     TO  2018  14062018  10091966  Masculino  Branca       Não    NaN   \n",
              "57116     TO  2018  22062018  11031992  Masculino   Parda       Não    NaN   \n",
              "57136     TO  2018  10072018  01011985  Masculino  Branca              NaN   \n",
              "57155     TO  2018  28072018  11081976  Masculino   Parda       Não    NaN   \n",
              "57161     TO  2018  06082018  03011949   Feminino   Parda       Não    NaN   \n",
              "57449     TO  2018  24052018  14021985  Masculino   Parda       Não    NaN   \n",
              "57620     TO  2018  28022018  08022001  Masculino   Parda              NaN   \n",
              "57728     TO  2018  12012018  08021971  Masculino   Parda              NaN   \n",
              "57745     TO  2018  03042018  02061944  Masculino   Parda       Não    NaN   \n",
              "57747     TO  2018  29042018  27071969  Masculino   Parda       Não    NaN   \n",
              "57871     TO  2018  02012018  13071944  Masculino  Branca       Sim    NaN   \n",
              "58070     TO  2018  09042018  04111983  Masculino   Parda       Não    NaN   \n",
              "58075     TO  2018  29042018  07111967  Masculino   Parda       Não    NaN   \n",
              "58173     TO  2018  04062018  02312198  Masculino  Branca       Não    NaN   \n",
              "58229     TO  2018  23062018  10041992  Masculino   Parda       Não    NaN   \n",
              "58503     TO  2018  02022018  15041922   Feminino   Parda              NaN   \n",
              "58578     TO  2018  03012018  27041981  Masculino   Parda       Não    NaN   \n",
              "58676     TO  2018  28012018  03081954   Feminino  Branca       Não    NaN   \n",
              "\n",
              "                 ESTCIV          ESC                                     OCUP  \\\n",
              "57077            Casado          NaN                                        0   \n",
              "57082          Solteiro          NaN                             DONA DE CASA   \n",
              "57109          Solteiro    12 e mais         REPRESENTANTE COMERCIAL AUTONOMO   \n",
              "57116          Solteiro  8 a 11 anos        TRABALHADOR AGROPECUARIO EM GERAL   \n",
              "57136  União consensual  8 a 11 anos                                    51731   \n",
              "57155          Solteiro   4 a 7 anos  EMPREGADO DOMESTICO NOS SERVICOS GERAIS   \n",
              "57161             Viúvo          NaN                   APOSENTADO/PENSIONISTA   \n",
              "57449          Solteiro  8 a 11 anos                                        0   \n",
              "57620          Solteiro  8 a 11 anos                             DONA DE CASA   \n",
              "57728  União consensual          NaN        TRABALHADOR AGROPECUARIO EM GERAL   \n",
              "57745          Solteiro      Nenhuma                   APOSENTADO/PENSIONISTA   \n",
              "57747            Casado   1 a 3 anos        TRABALHADOR AGROPECUARIO EM GERAL   \n",
              "57871            Casado   1 a 3 anos                   APOSENTADO/PENSIONISTA   \n",
              "58070          Solteiro  8 a 11 anos                        MOTORISTA DE TAXI   \n",
              "58075          Solteiro          NaN                                    51731   \n",
              "58173            Casado    12 e mais              SUBTENENTE BOMBEIRO MILITAR   \n",
              "58229  União consensual   4 a 7 anos                                    64101   \n",
              "58503             Viúvo      Nenhuma                             DONA DE CASA   \n",
              "58578          Solteiro   4 a 7 anos                                    71521   \n",
              "58676            Casado    12 e mais                   APOSENTADO/PENSIONISTA   \n",
              "\n",
              "                       CODMUNRES CAUSABAS CAUSABAS_O      LOCOCOR CIRURGIA  \n",
              "57077             Porto Nacional     X769       X769     Hospital           \n",
              "57082      Miracema do Tocantins     X707       X707       Outros           \n",
              "57109                     Palmas     X705       X705       Outros           \n",
              "57116                    Arraias     X707       X707       Outros           \n",
              "57136                     Palmas     X700       X700    Domicílio           \n",
              "57155                     Palmas     X700       X700    Domicílio           \n",
              "57161       Colinas do Tocantins     X700       X700       Outros           \n",
              "57449                 Natividade     X700       X700    Domicílio           \n",
              "57620                 Dianópolis     X640       X640     Hospital           \n",
              "57728                 Araguatins     X700       X700    Domicílio           \n",
              "57745                 Araguatins     X700       X700    Domicílio           \n",
              "57747             Augustinópolis     X700       X700    Domicílio           \n",
              "57871                 Natividade     X680       Y349     Hospital           \n",
              "58070                     Gurupi     X709       X709  Via pública           \n",
              "58075                   Araguaçu     X709       X709    Domicílio           \n",
              "58173                     Gurupi     X709       X709    Domicílio           \n",
              "58229                     Gurupi     X709       X709    Domicílio           \n",
              "58503  São Valério da Natividade     X709       X709    Domicílio           \n",
              "58578                     Gurupi     X709       X709    Domicílio           \n",
              "58676       Paraíso do Tocantins     X700       X700    Domicílio           "
            ],
            "text/html": [
              "\n",
              "  <div id=\"df-ca6da603-b66d-4718-8cfb-bf4e416504b2\">\n",
              "    <div class=\"colab-df-container\">\n",
              "      <div>\n",
              "<style scoped>\n",
              "    .dataframe tbody tr th:only-of-type {\n",
              "        vertical-align: middle;\n",
              "    }\n",
              "\n",
              "    .dataframe tbody tr th {\n",
              "        vertical-align: top;\n",
              "    }\n",
              "\n",
              "    .dataframe thead th {\n",
              "        text-align: right;\n",
              "    }\n",
              "</style>\n",
              "<table border=\"1\" class=\"dataframe\">\n",
              "  <thead>\n",
              "    <tr style=\"text-align: right;\">\n",
              "      <th></th>\n",
              "      <th>estado</th>\n",
              "      <th>ano</th>\n",
              "      <th>DTOBITO</th>\n",
              "      <th>DTNASC</th>\n",
              "      <th>SEXO</th>\n",
              "      <th>RACACOR</th>\n",
              "      <th>ASSISTMED</th>\n",
              "      <th>ESCMAE</th>\n",
              "      <th>ESTCIV</th>\n",
              "      <th>ESC</th>\n",
              "      <th>OCUP</th>\n",
              "      <th>CODMUNRES</th>\n",
              "      <th>CAUSABAS</th>\n",
              "      <th>CAUSABAS_O</th>\n",
              "      <th>LOCOCOR</th>\n",
              "      <th>CIRURGIA</th>\n",
              "    </tr>\n",
              "  </thead>\n",
              "  <tbody>\n",
              "    <tr>\n",
              "      <th>57077</th>\n",
              "      <td>TO</td>\n",
              "      <td>2018</td>\n",
              "      <td>20052018</td>\n",
              "      <td>08061953</td>\n",
              "      <td>Feminino</td>\n",
              "      <td>Branca</td>\n",
              "      <td>Sim</td>\n",
              "      <td>NaN</td>\n",
              "      <td>Casado</td>\n",
              "      <td>NaN</td>\n",
              "      <td>0</td>\n",
              "      <td>Porto Nacional</td>\n",
              "      <td>X769</td>\n",
              "      <td>X769</td>\n",
              "      <td>Hospital</td>\n",
              "      <td></td>\n",
              "    </tr>\n",
              "    <tr>\n",
              "      <th>57082</th>\n",
              "      <td>TO</td>\n",
              "      <td>2018</td>\n",
              "      <td>29052018</td>\n",
              "      <td>05111991</td>\n",
              "      <td>Feminino</td>\n",
              "      <td>Parda</td>\n",
              "      <td>Não</td>\n",
              "      <td>NaN</td>\n",
              "      <td>Solteiro</td>\n",
              "      <td>NaN</td>\n",
              "      <td>DONA DE CASA</td>\n",
              "      <td>Miracema do Tocantins</td>\n",
              "      <td>X707</td>\n",
              "      <td>X707</td>\n",
              "      <td>Outros</td>\n",
              "      <td></td>\n",
              "    </tr>\n",
              "    <tr>\n",
              "      <th>57109</th>\n",
              "      <td>TO</td>\n",
              "      <td>2018</td>\n",
              "      <td>14062018</td>\n",
              "      <td>10091966</td>\n",
              "      <td>Masculino</td>\n",
              "      <td>Branca</td>\n",
              "      <td>Não</td>\n",
              "      <td>NaN</td>\n",
              "      <td>Solteiro</td>\n",
              "      <td>12 e mais</td>\n",
              "      <td>REPRESENTANTE COMERCIAL AUTONOMO</td>\n",
              "      <td>Palmas</td>\n",
              "      <td>X705</td>\n",
              "      <td>X705</td>\n",
              "      <td>Outros</td>\n",
              "      <td></td>\n",
              "    </tr>\n",
              "    <tr>\n",
              "      <th>57116</th>\n",
              "      <td>TO</td>\n",
              "      <td>2018</td>\n",
              "      <td>22062018</td>\n",
              "      <td>11031992</td>\n",
              "      <td>Masculino</td>\n",
              "      <td>Parda</td>\n",
              "      <td>Não</td>\n",
              "      <td>NaN</td>\n",
              "      <td>Solteiro</td>\n",
              "      <td>8 a 11 anos</td>\n",
              "      <td>TRABALHADOR AGROPECUARIO EM GERAL</td>\n",
              "      <td>Arraias</td>\n",
              "      <td>X707</td>\n",
              "      <td>X707</td>\n",
              "      <td>Outros</td>\n",
              "      <td></td>\n",
              "    </tr>\n",
              "    <tr>\n",
              "      <th>57136</th>\n",
              "      <td>TO</td>\n",
              "      <td>2018</td>\n",
              "      <td>10072018</td>\n",
              "      <td>01011985</td>\n",
              "      <td>Masculino</td>\n",
              "      <td>Branca</td>\n",
              "      <td></td>\n",
              "      <td>NaN</td>\n",
              "      <td>União consensual</td>\n",
              "      <td>8 a 11 anos</td>\n",
              "      <td>51731</td>\n",
              "      <td>Palmas</td>\n",
              "      <td>X700</td>\n",
              "      <td>X700</td>\n",
              "      <td>Domicílio</td>\n",
              "      <td></td>\n",
              "    </tr>\n",
              "    <tr>\n",
              "      <th>57155</th>\n",
              "      <td>TO</td>\n",
              "      <td>2018</td>\n",
              "      <td>28072018</td>\n",
              "      <td>11081976</td>\n",
              "      <td>Masculino</td>\n",
              "      <td>Parda</td>\n",
              "      <td>Não</td>\n",
              "      <td>NaN</td>\n",
              "      <td>Solteiro</td>\n",
              "      <td>4 a 7 anos</td>\n",
              "      <td>EMPREGADO DOMESTICO NOS SERVICOS GERAIS</td>\n",
              "      <td>Palmas</td>\n",
              "      <td>X700</td>\n",
              "      <td>X700</td>\n",
              "      <td>Domicílio</td>\n",
              "      <td></td>\n",
              "    </tr>\n",
              "    <tr>\n",
              "      <th>57161</th>\n",
              "      <td>TO</td>\n",
              "      <td>2018</td>\n",
              "      <td>06082018</td>\n",
              "      <td>03011949</td>\n",
              "      <td>Feminino</td>\n",
              "      <td>Parda</td>\n",
              "      <td>Não</td>\n",
              "      <td>NaN</td>\n",
              "      <td>Viúvo</td>\n",
              "      <td>NaN</td>\n",
              "      <td>APOSENTADO/PENSIONISTA</td>\n",
              "      <td>Colinas do Tocantins</td>\n",
              "      <td>X700</td>\n",
              "      <td>X700</td>\n",
              "      <td>Outros</td>\n",
              "      <td></td>\n",
              "    </tr>\n",
              "    <tr>\n",
              "      <th>57449</th>\n",
              "      <td>TO</td>\n",
              "      <td>2018</td>\n",
              "      <td>24052018</td>\n",
              "      <td>14021985</td>\n",
              "      <td>Masculino</td>\n",
              "      <td>Parda</td>\n",
              "      <td>Não</td>\n",
              "      <td>NaN</td>\n",
              "      <td>Solteiro</td>\n",
              "      <td>8 a 11 anos</td>\n",
              "      <td>0</td>\n",
              "      <td>Natividade</td>\n",
              "      <td>X700</td>\n",
              "      <td>X700</td>\n",
              "      <td>Domicílio</td>\n",
              "      <td></td>\n",
              "    </tr>\n",
              "    <tr>\n",
              "      <th>57620</th>\n",
              "      <td>TO</td>\n",
              "      <td>2018</td>\n",
              "      <td>28022018</td>\n",
              "      <td>08022001</td>\n",
              "      <td>Masculino</td>\n",
              "      <td>Parda</td>\n",
              "      <td></td>\n",
              "      <td>NaN</td>\n",
              "      <td>Solteiro</td>\n",
              "      <td>8 a 11 anos</td>\n",
              "      <td>DONA DE CASA</td>\n",
              "      <td>Dianópolis</td>\n",
              "      <td>X640</td>\n",
              "      <td>X640</td>\n",
              "      <td>Hospital</td>\n",
              "      <td></td>\n",
              "    </tr>\n",
              "    <tr>\n",
              "      <th>57728</th>\n",
              "      <td>TO</td>\n",
              "      <td>2018</td>\n",
              "      <td>12012018</td>\n",
              "      <td>08021971</td>\n",
              "      <td>Masculino</td>\n",
              "      <td>Parda</td>\n",
              "      <td></td>\n",
              "      <td>NaN</td>\n",
              "      <td>União consensual</td>\n",
              "      <td>NaN</td>\n",
              "      <td>TRABALHADOR AGROPECUARIO EM GERAL</td>\n",
              "      <td>Araguatins</td>\n",
              "      <td>X700</td>\n",
              "      <td>X700</td>\n",
              "      <td>Domicílio</td>\n",
              "      <td></td>\n",
              "    </tr>\n",
              "    <tr>\n",
              "      <th>57745</th>\n",
              "      <td>TO</td>\n",
              "      <td>2018</td>\n",
              "      <td>03042018</td>\n",
              "      <td>02061944</td>\n",
              "      <td>Masculino</td>\n",
              "      <td>Parda</td>\n",
              "      <td>Não</td>\n",
              "      <td>NaN</td>\n",
              "      <td>Solteiro</td>\n",
              "      <td>Nenhuma</td>\n",
              "      <td>APOSENTADO/PENSIONISTA</td>\n",
              "      <td>Araguatins</td>\n",
              "      <td>X700</td>\n",
              "      <td>X700</td>\n",
              "      <td>Domicílio</td>\n",
              "      <td></td>\n",
              "    </tr>\n",
              "    <tr>\n",
              "      <th>57747</th>\n",
              "      <td>TO</td>\n",
              "      <td>2018</td>\n",
              "      <td>29042018</td>\n",
              "      <td>27071969</td>\n",
              "      <td>Masculino</td>\n",
              "      <td>Parda</td>\n",
              "      <td>Não</td>\n",
              "      <td>NaN</td>\n",
              "      <td>Casado</td>\n",
              "      <td>1 a 3 anos</td>\n",
              "      <td>TRABALHADOR AGROPECUARIO EM GERAL</td>\n",
              "      <td>Augustinópolis</td>\n",
              "      <td>X700</td>\n",
              "      <td>X700</td>\n",
              "      <td>Domicílio</td>\n",
              "      <td></td>\n",
              "    </tr>\n",
              "    <tr>\n",
              "      <th>57871</th>\n",
              "      <td>TO</td>\n",
              "      <td>2018</td>\n",
              "      <td>02012018</td>\n",
              "      <td>13071944</td>\n",
              "      <td>Masculino</td>\n",
              "      <td>Branca</td>\n",
              "      <td>Sim</td>\n",
              "      <td>NaN</td>\n",
              "      <td>Casado</td>\n",
              "      <td>1 a 3 anos</td>\n",
              "      <td>APOSENTADO/PENSIONISTA</td>\n",
              "      <td>Natividade</td>\n",
              "      <td>X680</td>\n",
              "      <td>Y349</td>\n",
              "      <td>Hospital</td>\n",
              "      <td></td>\n",
              "    </tr>\n",
              "    <tr>\n",
              "      <th>58070</th>\n",
              "      <td>TO</td>\n",
              "      <td>2018</td>\n",
              "      <td>09042018</td>\n",
              "      <td>04111983</td>\n",
              "      <td>Masculino</td>\n",
              "      <td>Parda</td>\n",
              "      <td>Não</td>\n",
              "      <td>NaN</td>\n",
              "      <td>Solteiro</td>\n",
              "      <td>8 a 11 anos</td>\n",
              "      <td>MOTORISTA DE TAXI</td>\n",
              "      <td>Gurupi</td>\n",
              "      <td>X709</td>\n",
              "      <td>X709</td>\n",
              "      <td>Via pública</td>\n",
              "      <td></td>\n",
              "    </tr>\n",
              "    <tr>\n",
              "      <th>58075</th>\n",
              "      <td>TO</td>\n",
              "      <td>2018</td>\n",
              "      <td>29042018</td>\n",
              "      <td>07111967</td>\n",
              "      <td>Masculino</td>\n",
              "      <td>Parda</td>\n",
              "      <td>Não</td>\n",
              "      <td>NaN</td>\n",
              "      <td>Solteiro</td>\n",
              "      <td>NaN</td>\n",
              "      <td>51731</td>\n",
              "      <td>Araguaçu</td>\n",
              "      <td>X709</td>\n",
              "      <td>X709</td>\n",
              "      <td>Domicílio</td>\n",
              "      <td></td>\n",
              "    </tr>\n",
              "    <tr>\n",
              "      <th>58173</th>\n",
              "      <td>TO</td>\n",
              "      <td>2018</td>\n",
              "      <td>04062018</td>\n",
              "      <td>02312198</td>\n",
              "      <td>Masculino</td>\n",
              "      <td>Branca</td>\n",
              "      <td>Não</td>\n",
              "      <td>NaN</td>\n",
              "      <td>Casado</td>\n",
              "      <td>12 e mais</td>\n",
              "      <td>SUBTENENTE BOMBEIRO MILITAR</td>\n",
              "      <td>Gurupi</td>\n",
              "      <td>X709</td>\n",
              "      <td>X709</td>\n",
              "      <td>Domicílio</td>\n",
              "      <td></td>\n",
              "    </tr>\n",
              "    <tr>\n",
              "      <th>58229</th>\n",
              "      <td>TO</td>\n",
              "      <td>2018</td>\n",
              "      <td>23062018</td>\n",
              "      <td>10041992</td>\n",
              "      <td>Masculino</td>\n",
              "      <td>Parda</td>\n",
              "      <td>Não</td>\n",
              "      <td>NaN</td>\n",
              "      <td>União consensual</td>\n",
              "      <td>4 a 7 anos</td>\n",
              "      <td>64101</td>\n",
              "      <td>Gurupi</td>\n",
              "      <td>X709</td>\n",
              "      <td>X709</td>\n",
              "      <td>Domicílio</td>\n",
              "      <td></td>\n",
              "    </tr>\n",
              "    <tr>\n",
              "      <th>58503</th>\n",
              "      <td>TO</td>\n",
              "      <td>2018</td>\n",
              "      <td>02022018</td>\n",
              "      <td>15041922</td>\n",
              "      <td>Feminino</td>\n",
              "      <td>Parda</td>\n",
              "      <td></td>\n",
              "      <td>NaN</td>\n",
              "      <td>Viúvo</td>\n",
              "      <td>Nenhuma</td>\n",
              "      <td>DONA DE CASA</td>\n",
              "      <td>São Valério da Natividade</td>\n",
              "      <td>X709</td>\n",
              "      <td>X709</td>\n",
              "      <td>Domicílio</td>\n",
              "      <td></td>\n",
              "    </tr>\n",
              "    <tr>\n",
              "      <th>58578</th>\n",
              "      <td>TO</td>\n",
              "      <td>2018</td>\n",
              "      <td>03012018</td>\n",
              "      <td>27041981</td>\n",
              "      <td>Masculino</td>\n",
              "      <td>Parda</td>\n",
              "      <td>Não</td>\n",
              "      <td>NaN</td>\n",
              "      <td>Solteiro</td>\n",
              "      <td>4 a 7 anos</td>\n",
              "      <td>71521</td>\n",
              "      <td>Gurupi</td>\n",
              "      <td>X709</td>\n",
              "      <td>X709</td>\n",
              "      <td>Domicílio</td>\n",
              "      <td></td>\n",
              "    </tr>\n",
              "    <tr>\n",
              "      <th>58676</th>\n",
              "      <td>TO</td>\n",
              "      <td>2018</td>\n",
              "      <td>28012018</td>\n",
              "      <td>03081954</td>\n",
              "      <td>Feminino</td>\n",
              "      <td>Branca</td>\n",
              "      <td>Não</td>\n",
              "      <td>NaN</td>\n",
              "      <td>Casado</td>\n",
              "      <td>12 e mais</td>\n",
              "      <td>APOSENTADO/PENSIONISTA</td>\n",
              "      <td>Paraíso do Tocantins</td>\n",
              "      <td>X700</td>\n",
              "      <td>X700</td>\n",
              "      <td>Domicílio</td>\n",
              "      <td></td>\n",
              "    </tr>\n",
              "  </tbody>\n",
              "</table>\n",
              "</div>\n",
              "      <button class=\"colab-df-convert\" onclick=\"convertToInteractive('df-ca6da603-b66d-4718-8cfb-bf4e416504b2')\"\n",
              "              title=\"Convert this dataframe to an interactive table.\"\n",
              "              style=\"display:none;\">\n",
              "        \n",
              "  <svg xmlns=\"http://www.w3.org/2000/svg\" height=\"24px\"viewBox=\"0 0 24 24\"\n",
              "       width=\"24px\">\n",
              "    <path d=\"M0 0h24v24H0V0z\" fill=\"none\"/>\n",
              "    <path d=\"M18.56 5.44l.94 2.06.94-2.06 2.06-.94-2.06-.94-.94-2.06-.94 2.06-2.06.94zm-11 1L8.5 8.5l.94-2.06 2.06-.94-2.06-.94L8.5 2.5l-.94 2.06-2.06.94zm10 10l.94 2.06.94-2.06 2.06-.94-2.06-.94-.94-2.06-.94 2.06-2.06.94z\"/><path d=\"M17.41 7.96l-1.37-1.37c-.4-.4-.92-.59-1.43-.59-.52 0-1.04.2-1.43.59L10.3 9.45l-7.72 7.72c-.78.78-.78 2.05 0 2.83L4 21.41c.39.39.9.59 1.41.59.51 0 1.02-.2 1.41-.59l7.78-7.78 2.81-2.81c.8-.78.8-2.07 0-2.86zM5.41 20L4 18.59l7.72-7.72 1.47 1.35L5.41 20z\"/>\n",
              "  </svg>\n",
              "      </button>\n",
              "      \n",
              "  <style>\n",
              "    .colab-df-container {\n",
              "      display:flex;\n",
              "      flex-wrap:wrap;\n",
              "      gap: 12px;\n",
              "    }\n",
              "\n",
              "    .colab-df-convert {\n",
              "      background-color: #E8F0FE;\n",
              "      border: none;\n",
              "      border-radius: 50%;\n",
              "      cursor: pointer;\n",
              "      display: none;\n",
              "      fill: #1967D2;\n",
              "      height: 32px;\n",
              "      padding: 0 0 0 0;\n",
              "      width: 32px;\n",
              "    }\n",
              "\n",
              "    .colab-df-convert:hover {\n",
              "      background-color: #E2EBFA;\n",
              "      box-shadow: 0px 1px 2px rgba(60, 64, 67, 0.3), 0px 1px 3px 1px rgba(60, 64, 67, 0.15);\n",
              "      fill: #174EA6;\n",
              "    }\n",
              "\n",
              "    [theme=dark] .colab-df-convert {\n",
              "      background-color: #3B4455;\n",
              "      fill: #D2E3FC;\n",
              "    }\n",
              "\n",
              "    [theme=dark] .colab-df-convert:hover {\n",
              "      background-color: #434B5C;\n",
              "      box-shadow: 0px 1px 3px 1px rgba(0, 0, 0, 0.15);\n",
              "      filter: drop-shadow(0px 1px 2px rgba(0, 0, 0, 0.3));\n",
              "      fill: #FFFFFF;\n",
              "    }\n",
              "  </style>\n",
              "\n",
              "      <script>\n",
              "        const buttonEl =\n",
              "          document.querySelector('#df-ca6da603-b66d-4718-8cfb-bf4e416504b2 button.colab-df-convert');\n",
              "        buttonEl.style.display =\n",
              "          google.colab.kernel.accessAllowed ? 'block' : 'none';\n",
              "\n",
              "        async function convertToInteractive(key) {\n",
              "          const element = document.querySelector('#df-ca6da603-b66d-4718-8cfb-bf4e416504b2');\n",
              "          const dataTable =\n",
              "            await google.colab.kernel.invokeFunction('convertToInteractive',\n",
              "                                                     [key], {});\n",
              "          if (!dataTable) return;\n",
              "\n",
              "          const docLinkHtml = 'Like what you see? Visit the ' +\n",
              "            '<a target=\"_blank\" href=https://colab.research.google.com/notebooks/data_table.ipynb>data table notebook</a>'\n",
              "            + ' to learn more about interactive tables.';\n",
              "          element.innerHTML = '';\n",
              "          dataTable['output_type'] = 'display_data';\n",
              "          await google.colab.output.renderOutput(dataTable, element);\n",
              "          const docLink = document.createElement('div');\n",
              "          docLink.innerHTML = docLinkHtml;\n",
              "          element.appendChild(docLink);\n",
              "        }\n",
              "      </script>\n",
              "    </div>\n",
              "  </div>\n",
              "  "
            ]
          },
          "metadata": {},
          "execution_count": 255
        }
      ]
    },
    {
      "cell_type": "code",
      "source": [
        "data['OCUP'] = data['OCUP'].astype(int)"
      ],
      "metadata": {
        "id": "dLcwGbsiHWwq"
      },
      "execution_count": null,
      "outputs": []
    },
    {
      "cell_type": "code",
      "source": [
        "data.to_csv('data_suicidio.csv')"
      ],
      "metadata": {
        "id": "K9p21aTNHpV8"
      },
      "execution_count": null,
      "outputs": []
    },
    {
      "cell_type": "code",
      "source": [],
      "metadata": {
        "id": "mOk9a0CxH_5n"
      },
      "execution_count": null,
      "outputs": []
    },
    {
      "cell_type": "code",
      "source": [
        "from google.colab import drive\n",
        "drive.mount ('/drive')\n",
        "ac_2010=ac_2010.to_csv('/drive/MyDrive/csv/ac_2010.csv')\n",
        "ac_2011=ac_2011.to_csv('/drive/MyDrive/csv/ac_2011.csv')\n",
        "ac_2012=ac_2012.to_csv('/drive/MyDrive/csv/ac_2012.csv')\n",
        "ac_2013=ac_2013.to_csv('/drive/MyDrive/csv/ac_2013.csv')\n",
        "ac_2014=ac_2014.to_csv('/drive/MyDrive/csv/ac_2014.csv')\n",
        "ac_2015=ac_2015.to_csv('/drive/MyDrive/csv/ac_2015.csv')\n",
        "ac_2016=ac_2016.to_csv('/drive/MyDrive/csv/ac_2016.csv')\n",
        "ac_2017=ac_2017.to_csv('/drive/MyDrive/csv/ac_2017.csv')\n",
        "ac_2018=ac_2018.to_csv('/drive/MyDrive/csv/ac_2018.csv')\n",
        "ac_2019=ac_2019.to_csv('/drive/MyDrive/csv/ac_2019.csv')\n",
        "ac_2020=ac_2020.to_csv('/drive/MyDrive/csv/ac_2020.csv')\n",
        "ac_2021=ac_2021.to_csv('/drive/MyDrive/csv/ac_2021.csv')\n",
        "AL_2010=AL_2010.to_csv('/drive/MyDrive/csv/AL_2010.csv')\n",
        "AL_2011=AL_2011.to_csv('/drive/MyDrive/csv/AL_2011.csv')\n",
        "AL_2012=AL_2012.to_csv('/drive/MyDrive/csv/AL_2012.csv')\n",
        "AL_2013=AL_2013.to_csv('/drive/MyDrive/csv/AL_2013.csv')\n",
        "AL_2014=AL_2014.to_csv('/drive/MyDrive/csv/AL_2014.csv')\n",
        "AL_2015=AL_2015.to_csv('/drive/MyDrive/csv/AL_2015.csv')\n",
        "AL_2016=AL_2016.to_csv('/drive/MyDrive/csv/AL_2016.csv')\n",
        "AL_2017=AL_2017.to_csv('/drive/MyDrive/csv/AL_2017.csv')\n",
        "AL_2018=AL_2018.to_csv('/drive/MyDrive/csv/AL_2018.csv')\n",
        "AL_2019=AL_2019.to_csv('/drive/MyDrive/csv/AL_2019.csv')\n",
        "AL_2020=AL_2020.to_csv('/drive/MyDrive/csv/AL_2020.csv')\n",
        "AL_2021=AL_2021.to_csv('/drive/MyDrive/csv/AL_2021.csv')\n",
        "AP_2010=AP_2010.to_csv('/drive/MyDrive/csv/AP_2010.csv')\n",
        "AP_2011=AP_2011.to_csv('/drive/MyDrive/csv/AP_2011.csv')\n",
        "AP_2012=AP_2012.to_csv('/drive/MyDrive/csv/AP_2012.csv')\n",
        "AP_2013=AP_2013.to_csv('/drive/MyDrive/csv/AP_2013.csv')\n",
        "AP_2014=AP_2014.to_csv('/drive/MyDrive/csv/AP_2014.csv')\n",
        "AP_2015=AP_2015.to_csv('/drive/MyDrive/csv/AP_2015.csv')\n",
        "AP_2016=AP_2016.to_csv('/drive/MyDrive/csv/AP_2016.csv')\n",
        "AP_2017=AP_2017.to_csv('/drive/MyDrive/csv/AP_2017.csv')\n",
        "AP_2018=AP_2018.to_csv('/drive/MyDrive/csv/AP_2018.csv')\n",
        "AP_2019=AP_2019.to_csv('/drive/MyDrive/csv/AP_2019.csv')\n",
        "AP_2020=AP_2020.to_csv('/drive/MyDrive/csv/AP_2020.csv')\n",
        "AP_2021=AP_2021.to_csv('/drive/MyDrive/csv/AP_2021.csv')\n",
        "AM_2010=AM_2010.to_csv('/drive/MyDrive/csv/AM_2010.csv')\n",
        "AM_2011=AM_2011.to_csv('/drive/MyDrive/csv/AM_2011.csv')\n",
        "AM_2012=AM_2012.to_csv('/drive/MyDrive/csv/AM_2012.csv')\n",
        "AM_2013=AM_2013.to_csv('/drive/MyDrive/csv/AM_2013.csv')\n",
        "AM_2014=AM_2014.to_csv('/drive/MyDrive/csv/AM_2014.csv')\n",
        "AM_2015=AM_2015.to_csv('/drive/MyDrive/csv/AM_2015.csv')\n",
        "AM_2016=AM_2016.to_csv('/drive/MyDrive/csv/AM_2016.csv')\n",
        "AM_2017=AM_2017.to_csv('/drive/MyDrive/csv/AM_2017.csv')\n",
        "AM_2018=AM_2018.to_csv('/drive/MyDrive/csv/AM_2018.csv')\n",
        "AM_2019=AM_2019.to_csv('/drive/MyDrive/csv/AM_2019.csv')\n",
        "AM_2020=AM_2020.to_csv('/drive/MyDrive/csv/AM_2020.csv')\n",
        "AM_2021=AM_2021.to_csv('/drive/MyDrive/csv/AM_2021.csv')\n",
        "BA_2010=BA_2010.to_csv('/drive/MyDrive/csv/BA_2010.csv')\n",
        "BA_2011=BA_2011.to_csv('/drive/MyDrive/csv/BA_2011.csv')\n",
        "BA_2012=BA_2012.to_csv('/drive/MyDrive/csv/BA_2012.csv')\n",
        "BA_2013=BA_2013.to_csv('/drive/MyDrive/csv/BA_2013.csv')\n",
        "BA_2014=BA_2014.to_csv('/drive/MyDrive/csv/BA_2014.csv')\n",
        "BA_2015=BA_2015.to_csv('/drive/MyDrive/csv/BA_2015.csv')\n",
        "BA_2016=BA_2016.to_csv('/drive/MyDrive/csv/BA_2016.csv')\n",
        "BA_2017=BA_2017.to_csv('/drive/MyDrive/csv/BA_2017.csv')\n",
        "BA_2018=BA_2018.to_csv('/drive/MyDrive/csv/BA_2018.csv')\n",
        "BA_2019=BA_2019.to_csv('/drive/MyDrive/csv/BA_2019.csv')\n",
        "BA_2020=BA_2020.to_csv('/drive/MyDrive/csv/BA_2020.csv')\n",
        "BA_2021=BA_2021.to_csv('/drive/MyDrive/csv/BA_2021.csv')\n",
        "CE_2010=CE_2010.to_csv('/drive/MyDrive/csv/CE_2010.csv')\n",
        "CE_2011=CE_2011.to_csv('/drive/MyDrive/csv/CE_2011.csv')\n",
        "CE_2012=CE_2012.to_csv('/drive/MyDrive/csv/CE_2012.csv')\n",
        "CE_2013=CE_2013.to_csv('/drive/MyDrive/csv/CE_2013.csv')\n",
        "CE_2014=CE_2014.to_csv('/drive/MyDrive/csv/CE_2014.csv')\n",
        "CE_2015=CE_2015.to_csv('/drive/MyDrive/csv/CE_2015.csv')\n",
        "CE_2016=CE_2016.to_csv('/drive/MyDrive/csv/CE_2016.csv')\n",
        "CE_2017=CE_2017.to_csv('/drive/MyDrive/csv/CE_2017.csv')\n",
        "CE_2018=CE_2018.to_csv('/drive/MyDrive/csv/CE_2018.csv')\n",
        "CE_2019=CE_2019.to_csv('/drive/MyDrive/csv/CE_2019.csv')\n",
        "CE_2020=CE_2020.to_csv('/drive/MyDrive/csv/CE_2020.csv')\n",
        "CE_2021=CE_2021.to_csv('/drive/MyDrive/csv/CE_2021.csv')\n",
        "DF_2010=DF_2010.to_csv('/drive/MyDrive/csv/DF_2010.csv')\n",
        "DF_2011=DF_2011.to_csv('/drive/MyDrive/csv/DF_2011.csv')\n",
        "DF_2012=DF_2012.to_csv('/drive/MyDrive/csv/DF_2012.csv')\n",
        "DF_2013=DF_2013.to_csv('/drive/MyDrive/csv/DF_2013.csv')\n",
        "DF_2014=DF_2014.to_csv('/drive/MyDrive/csv/DF_2014.csv')\n",
        "DF_2015=DF_2015.to_csv('/drive/MyDrive/csv/DF_2015.csv')\n",
        "DF_2016=DF_2016.to_csv('/drive/MyDrive/csv/DF_2016.csv')\n",
        "DF_2017=DF_2017.to_csv('/drive/MyDrive/csv/DF_2017.csv')\n",
        "DF_2018=DF_2018.to_csv('/drive/MyDrive/csv/DF_2018.csv')\n",
        "DF_2019=DF_2019.to_csv('/drive/MyDrive/csv/DF_2019.csv')\n",
        "DF_2020=DF_2020.to_csv('/drive/MyDrive/csv/DF_2020.csv')\n",
        "DF_2021=DF_2021.to_csv('/drive/MyDrive/csv/DF_2021.csv')\n",
        "ES_2010=ES_2010.to_csv('/drive/MyDrive/csv/ES_2010.csv')\n",
        "ES_2011=ES_2011.to_csv('/drive/MyDrive/csv/ES_2011.csv')\n",
        "ES_2012=ES_2012.to_csv('/drive/MyDrive/csv/ES_2012.csv')\n",
        "ES_2013=ES_2013.to_csv('/drive/MyDrive/csv/ES_2013.csv')\n",
        "ES_2014=ES_2014.to_csv('/drive/MyDrive/csv/ES_2014.csv')\n",
        "ES_2015=ES_2015.to_csv('/drive/MyDrive/csv/ES_2015.csv')\n",
        "ES_2016=ES_2016.to_csv('/drive/MyDrive/csv/ES_2016.csv')\n",
        "ES_2017=ES_2017.to_csv('/drive/MyDrive/csv/ES_2017.csv')\n",
        "ES_2018=ES_2018.to_csv('/drive/MyDrive/csv/ES_2018.csv')\n",
        "ES_2019=ES_2019.to_csv('/drive/MyDrive/csv/ES_2019.csv')\n",
        "ES_2020=ES_2020.to_csv('/drive/MyDrive/csv/ES_2020.csv')\n",
        "ES_2021=ES_2021.to_csv('/drive/MyDrive/csv/ES_2021.csv')\n",
        "GO_2010=GO_2010.to_csv('/drive/MyDrive/csv/GO_2010.csv')\n",
        "GO_2011=GO_2011.to_csv('/drive/MyDrive/csv/GO_2011.csv')\n",
        "GO_2012=GO_2012.to_csv('/drive/MyDrive/csv/GO_2012.csv')\n",
        "GO_2013=GO_2013.to_csv('/drive/MyDrive/csv/GO_2013.csv')\n",
        "GO_2014=GO_2014.to_csv('/drive/MyDrive/csv/GO_2014.csv')\n",
        "GO_2015=GO_2015.to_csv('/drive/MyDrive/csv/GO_2015.csv')\n",
        "GO_2016=GO_2016.to_csv('/drive/MyDrive/csv/GO_2016.csv')\n",
        "GO_2017=GO_2017.to_csv('/drive/MyDrive/csv/GO_2017.csv')\n",
        "GO_2018=GO_2018.to_csv('/drive/MyDrive/csv/GO_2018.csv')\n",
        "GO_2019=GO_2019.to_csv('/drive/MyDrive/csv/GO_2019.csv')\n",
        "GO_2020=GO_2020.to_csv('/drive/MyDrive/csv/GO_2020.csv')\n",
        "GO_2021=GO_2021.to_csv('/drive/MyDrive/csv/GO_2021.csv')\n",
        "MA_2010=MA_2010.to_csv('/drive/MyDrive/csv/MA_2010.csv')\n",
        "MA_2011=MA_2011.to_csv('/drive/MyDrive/csv/MA_2011.csv')\n",
        "MA_2012=MA_2012.to_csv('/drive/MyDrive/csv/MA_2012.csv')\n",
        "MA_2013=MA_2013.to_csv('/drive/MyDrive/csv/MA_2013.csv')\n",
        "MA_2014=MA_2014.to_csv('/drive/MyDrive/csv/MA_2014.csv')\n",
        "MA_2015=MA_2015.to_csv('/drive/MyDrive/csv/MA_2015.csv')\n",
        "MA_2016=MA_2016.to_csv('/drive/MyDrive/csv/MA_2016.csv')\n",
        "MA_2017=MA_2017.to_csv('/drive/MyDrive/csv/MA_2017.csv')\n",
        "MA_2018=MA_2018.to_csv('/drive/MyDrive/csv/MA_2018.csv')\n",
        "MA_2019=MA_2019.to_csv('/drive/MyDrive/csv/MA_2019.csv')\n",
        "MA_2020=MA_2020.to_csv('/drive/MyDrive/csv/MA_2020.csv')\n",
        "MA_2021=MA_2021.to_csv('/drive/MyDrive/csv/MA_2021.csv')\n",
        "MT_2010=MT_2010.to_csv('/drive/MyDrive/csv/MT_2010.csv')\n",
        "MT_2011=MT_2011.to_csv('/drive/MyDrive/csv/MT_2011.csv')\n",
        "MT_2012=MT_2012.to_csv('/drive/MyDrive/csv/MT_2012.csv')\n",
        "MT_2013=MT_2013.to_csv('/drive/MyDrive/csv/MT_2013.csv')\n",
        "MT_2014=MT_2014.to_csv('/drive/MyDrive/csv/MT_2014.csv')\n",
        "MT_2015=MT_2015.to_csv('/drive/MyDrive/csv/MT_2015.csv')\n",
        "MT_2016=MT_2016.to_csv('/drive/MyDrive/csv/MT_2016.csv')\n",
        "MT_2017=MT_2017.to_csv('/drive/MyDrive/csv/MT_2017.csv')\n",
        "MT_2018=MT_2018.to_csv('/drive/MyDrive/csv/MT_2018.csv')\n",
        "MT_2019=MT_2019.to_csv('/drive/MyDrive/csv/MT_2019.csv')\n",
        "MT_2020=MT_2020.to_csv('/drive/MyDrive/csv/MT_2020.csv')\n",
        "MT_2021=MT_2021.to_csv('/drive/MyDrive/csv/MT_2021.csv')\n",
        "MS_2010=MS_2010.to_csv('/drive/MyDrive/csv/MS_2010.csv')\n",
        "MS_2011=MS_2011.to_csv('/drive/MyDrive/csv/MS_2011.csv')\n",
        "MS_2012=MS_2012.to_csv('/drive/MyDrive/csv/MS_2012.csv')\n",
        "MS_2013=MS_2013.to_csv('/drive/MyDrive/csv/MS_2013.csv')\n",
        "MS_2014=MS_2014.to_csv('/drive/MyDrive/csv/MS_2014.csv')\n",
        "MS_2015=MS_2015.to_csv('/drive/MyDrive/csv/MS_2015.csv')\n",
        "MS_2016=MS_2016.to_csv('/drive/MyDrive/csv/MS_2016.csv')\n",
        "MS_2017=MS_2017.to_csv('/drive/MyDrive/csv/MS_2017.csv')\n",
        "MS_2018=MS_2018.to_csv('/drive/MyDrive/csv/MS_2018.csv')\n",
        "MS_2019=MS_2019.to_csv('/drive/MyDrive/csv/MS_2019.csv')\n",
        "MS_2020=MS_2020.to_csv('/drive/MyDrive/csv/MS_2020.csv')\n",
        "MS_2021=MS_2021.to_csv('/drive/MyDrive/csv/MS_2021.csv')\n",
        "MG_2010=MG_2010.to_csv('/drive/MyDrive/csv/MG_2010.csv')\n",
        "MG_2011=MG_2011.to_csv('/drive/MyDrive/csv/MG_2011.csv')\n",
        "MG_2012=MG_2012.to_csv('/drive/MyDrive/csv/MG_2012.csv')\n",
        "MG_2013=MG_2013.to_csv('/drive/MyDrive/csv/MG_2013.csv')\n",
        "MG_2014=MG_2014.to_csv('/drive/MyDrive/csv/MG_2014.csv')\n",
        "MG_2015=MG_2015.to_csv('/drive/MyDrive/csv/MG_2015.csv')\n",
        "MG_2016=MG_2016.to_csv('/drive/MyDrive/csv/MG_2016.csv')\n",
        "MG_2017=MG_2017.to_csv('/drive/MyDrive/csv/MG_2017.csv')\n",
        "MG_2018=MG_2018.to_csv('/drive/MyDrive/csv/MG_2018.csv')\n",
        "MG_2019=MG_2019.to_csv('/drive/MyDrive/csv/MG_2019.csv')\n",
        "MG_2020=MG_2020.to_csv('/drive/MyDrive/csv/MG_2020.csv')\n",
        "MG_2021=MG_2021.to_csv('/drive/MyDrive/csv/MG_2021.csv')\n",
        "PA_2010=PA_2010.to_csv('/drive/MyDrive/csv/PA_2010.csv')\n",
        "PA_2011=PA_2011.to_csv('/drive/MyDrive/csv/PA_2011.csv')\n",
        "PA_2012=PA_2012.to_csv('/drive/MyDrive/csv/PA_2012.csv')\n",
        "PA_2013=PA_2013.to_csv('/drive/MyDrive/csv/PA_2013.csv')\n",
        "PA_2014=PA_2014.to_csv('/drive/MyDrive/csv/PA_2014.csv')\n",
        "PA_2015=PA_2015.to_csv('/drive/MyDrive/csv/PA_2015.csv')\n",
        "PA_2016=PA_2016.to_csv('/drive/MyDrive/csv/PA_2016.csv')\n",
        "PA_2017=PA_2017.to_csv('/drive/MyDrive/csv/PA_2017.csv')\n",
        "#PA_201=#PA_201.to_csv('/drive/MyDrive/csv/#PA_201.csv')\n",
        "PA_2019=PA_2019.to_csv('/drive/MyDrive/csv/PA_2019.csv')\n",
        "PA_2020=PA_2020.to_csv('/drive/MyDrive/csv/PA_2020.csv')\n",
        "PA_2021=PA_2021.to_csv('/drive/MyDrive/csv/PA_2021.csv')\n",
        "PB_2010=PB_2010.to_csv('/drive/MyDrive/csv/PB_2010.csv')\n",
        "PB_2011=PB_2011.to_csv('/drive/MyDrive/csv/PB_2011.csv')\n",
        "PB_2012=PB_2012.to_csv('/drive/MyDrive/csv/PB_2012.csv')\n",
        "PB_2013=PB_2013.to_csv('/drive/MyDrive/csv/PB_2013.csv')\n",
        "PB_2014=PB_2014.to_csv('/drive/MyDrive/csv/PB_2014.csv')\n",
        "PB_2015=PB_2015.to_csv('/drive/MyDrive/csv/PB_2015.csv')\n",
        "PB_2016=PB_2016.to_csv('/drive/MyDrive/csv/PB_2016.csv')\n",
        "PB_2017=PB_2017.to_csv('/drive/MyDrive/csv/PB_2017.csv')\n",
        "PB_2018=PB_2018.to_csv('/drive/MyDrive/csv/PB_2018.csv')\n",
        "PB_2019=PB_2019.to_csv('/drive/MyDrive/csv/PB_2019.csv')\n",
        "PB_2020=PB_2020.to_csv('/drive/MyDrive/csv/PB_2020.csv')\n",
        "PB_2021=PB_2021.to_csv('/drive/MyDrive/csv/PB_2021.csv')\n",
        "PR_2010=PR_2010.to_csv('/drive/MyDrive/csv/PR_2010.csv')\n",
        "PR_2011=PR_2011.to_csv('/drive/MyDrive/csv/PR_2011.csv')\n",
        "PR_2012=PR_2012.to_csv('/drive/MyDrive/csv/PR_2012.csv')\n",
        "PR_2013=PR_2013.to_csv('/drive/MyDrive/csv/PR_2013.csv')\n",
        "PR_2014=PR_2014.to_csv('/drive/MyDrive/csv/PR_2014.csv')\n",
        "PR_2015=PR_2015.to_csv('/drive/MyDrive/csv/PR_2015.csv')\n",
        "PR_2016=PR_2016.to_csv('/drive/MyDrive/csv/PR_2016.csv')\n",
        "PR_2017=PR_2017.to_csv('/drive/MyDrive/csv/PR_2017.csv')\n",
        "PR_2018=PR_2018.to_csv('/drive/MyDrive/csv/PR_2018.csv')\n",
        "PR_2019=PR_2019.to_csv('/drive/MyDrive/csv/PR_2019.csv')\n",
        "PR_2020=PR_2020.to_csv('/drive/MyDrive/csv/PR_2020.csv')\n",
        "PR_2021=PR_2021.to_csv('/drive/MyDrive/csv/PR_2021.csv')\n",
        "PE_2010=PE_2010.to_csv('/drive/MyDrive/csv/PE_2010.csv')\n",
        "PE_2011=PE_2011.to_csv('/drive/MyDrive/csv/PE_2011.csv')\n",
        "PE_2012=PE_2012.to_csv('/drive/MyDrive/csv/PE_2012.csv')\n",
        "PE_2013=PE_2013.to_csv('/drive/MyDrive/csv/PE_2013.csv')\n",
        "PE_2014=PE_2014.to_csv('/drive/MyDrive/csv/PE_2014.csv')\n",
        "PE_2015=PE_2015.to_csv('/drive/MyDrive/csv/PE_2015.csv')\n",
        "PE_2016=PE_2016.to_csv('/drive/MyDrive/csv/PE_2016.csv')\n",
        "PE_2017=PE_2017.to_csv('/drive/MyDrive/csv/PE_2017.csv')\n",
        "PE_2018=PE_2018.to_csv('/drive/MyDrive/csv/PE_2018.csv')\n",
        "PE_2019=PE_2019.to_csv('/drive/MyDrive/csv/PE_2019.csv')\n",
        "PE_2020=PE_2020.to_csv('/drive/MyDrive/csv/PE_2020.csv')\n",
        "PE_2021=PE_2021.to_csv('/drive/MyDrive/csv/PE_2021.csv')\n",
        "PI_2010=PI_2010.to_csv('/drive/MyDrive/csv/PI_2010.csv')\n",
        "PI_2011=PI_2011.to_csv('/drive/MyDrive/csv/PI_2011.csv')\n",
        "PI_2012=PI_2012.to_csv('/drive/MyDrive/csv/PI_2012.csv')\n",
        "PI_2013=PI_2013.to_csv('/drive/MyDrive/csv/PI_2013.csv')\n",
        "PI_2014=PI_2014.to_csv('/drive/MyDrive/csv/PI_2014.csv')\n",
        "PI_2015=PI_2015.to_csv('/drive/MyDrive/csv/PI_2015.csv')\n",
        "PI_2016=PI_2016.to_csv('/drive/MyDrive/csv/PI_2016.csv')\n",
        "PI_2017=PI_2017.to_csv('/drive/MyDrive/csv/PI_2017.csv')\n",
        "PI_2018=PI_2018.to_csv('/drive/MyDrive/csv/PI_2018.csv')\n",
        "PI_2019=PI_2019.to_csv('/drive/MyDrive/csv/PI_2019.csv')\n",
        "PI_2020=PI_2020.to_csv('/drive/MyDrive/csv/PI_2020.csv')\n",
        "PI_2021=PI_2021.to_csv('/drive/MyDrive/csv/PI_2021.csv')\n",
        "RJ_2010=RJ_2010.to_csv('/drive/MyDrive/csv/RJ_2010.csv')\n",
        "RJ_2011=RJ_2011.to_csv('/drive/MyDrive/csv/RJ_2011.csv')\n",
        "RJ_2012=RJ_2012.to_csv('/drive/MyDrive/csv/RJ_2012.csv')\n",
        "RJ_2013=RJ_2013.to_csv('/drive/MyDrive/csv/RJ_2013.csv')\n",
        "RJ_2014=RJ_2014.to_csv('/drive/MyDrive/csv/RJ_2014.csv')\n",
        "RJ_2015=RJ_2015.to_csv('/drive/MyDrive/csv/RJ_2015.csv')\n",
        "RJ_2016=RJ_2016.to_csv('/drive/MyDrive/csv/RJ_2016.csv')\n",
        "RJ_2017=RJ_2017.to_csv('/drive/MyDrive/csv/RJ_2017.csv')\n",
        "RJ_2018=RJ_2018.to_csv('/drive/MyDrive/csv/RJ_2018.csv')\n",
        "RJ_2019=RJ_2019.to_csv('/drive/MyDrive/csv/RJ_2019.csv')\n",
        "RJ_2020=RJ_2020.to_csv('/drive/MyDrive/csv/RJ_2020.csv')\n",
        "RJ_2021=RJ_2021.to_csv('/drive/MyDrive/csv/RJ_2021.csv')\n",
        "RN_2010=RN_2010.to_csv('/drive/MyDrive/csv/RN_2010.csv')\n",
        "RN_2011=RN_2011.to_csv('/drive/MyDrive/csv/RN_2011.csv')\n",
        "RN_2012=RN_2012.to_csv('/drive/MyDrive/csv/RN_2012.csv')\n",
        "RN_2013=RN_2013.to_csv('/drive/MyDrive/csv/RN_2013.csv')\n",
        "RN_2014=RN_2014.to_csv('/drive/MyDrive/csv/RN_2014.csv')\n",
        "RN_2015=RN_2015.to_csv('/drive/MyDrive/csv/RN_2015.csv')\n",
        "RN_2016=RN_2016.to_csv('/drive/MyDrive/csv/RN_2016.csv')\n",
        "RN_2017=RN_2017.to_csv('/drive/MyDrive/csv/RN_2017.csv')\n",
        "RN_2018=RN_2018.to_csv('/drive/MyDrive/csv/RN_2018.csv')\n",
        "RN_2019=RN_2019.to_csv('/drive/MyDrive/csv/RN_2019.csv')\n",
        "RN_2020=RN_2020.to_csv('/drive/MyDrive/csv/RN_2020.csv')\n",
        "RN_2021=RN_2021.to_csv('/drive/MyDrive/csv/RN_2021.csv')\n",
        "RS_2010=RS_2010.to_csv('/drive/MyDrive/csv/RS_2010.csv')\n",
        "RS_2011=RS_2011.to_csv('/drive/MyDrive/csv/RS_2011.csv')\n",
        "RS_2012=RS_2012.to_csv('/drive/MyDrive/csv/RS_2012.csv')\n",
        "RS_2013=RS_2013.to_csv('/drive/MyDrive/csv/RS_2013.csv')\n",
        "RS_2014=RS_2014.to_csv('/drive/MyDrive/csv/RS_2014.csv')\n",
        "RS_2015=RS_2015.to_csv('/drive/MyDrive/csv/RS_2015.csv')\n",
        "RS_2016=RS_2016.to_csv('/drive/MyDrive/csv/RS_2016.csv')\n",
        "RS_2017=RS_2017.to_csv('/drive/MyDrive/csv/RS_2017.csv')\n",
        "RS_2018=RS_2018.to_csv('/drive/MyDrive/csv/RS_2018.csv')\n",
        "RS_2019=RS_2019.to_csv('/drive/MyDrive/csv/RS_2019.csv')\n",
        "RS_2020=RS_2020.to_csv('/drive/MyDrive/csv/RS_2020.csv')\n",
        "RS_2021=RS_2021.to_csv('/drive/MyDrive/csv/RS_2021.csv')\n",
        "RO_2010=RO_2010.to_csv('/drive/MyDrive/csv/RO_2010.csv')\n",
        "RO_2011=RO_2011.to_csv('/drive/MyDrive/csv/RO_2011.csv')\n",
        "RO_2012=RO_2012.to_csv('/drive/MyDrive/csv/RO_2012.csv')\n",
        "RO_2013=RO_2013.to_csv('/drive/MyDrive/csv/RO_2013.csv')\n",
        "RO_2014=RO_2014.to_csv('/drive/MyDrive/csv/RO_2014.csv')\n",
        "RO_2015=RO_2015.to_csv('/drive/MyDrive/csv/RO_2015.csv')\n",
        "RO_2016=RO_2016.to_csv('/drive/MyDrive/csv/RO_2016.csv')\n",
        "RO_2017=RO_2017.to_csv('/drive/MyDrive/csv/RO_2017.csv')\n",
        "RO_2018=RO_2018.to_csv('/drive/MyDrive/csv/RO_2018.csv')\n",
        "RO_2019=RO_2019.to_csv('/drive/MyDrive/csv/RO_2019.csv')\n",
        "RO_2020=RO_2020.to_csv('/drive/MyDrive/csv/RO_2020.csv')\n",
        "RO_2021=RO_2021.to_csv('/drive/MyDrive/csv/RO_2021.csv')\n",
        "RR_2010=RR_2010.to_csv('/drive/MyDrive/csv/RR_2010.csv')\n",
        "RR_2011=RR_2011.to_csv('/drive/MyDrive/csv/RR_2011.csv')\n",
        "RR_2012=RR_2012.to_csv('/drive/MyDrive/csv/RR_2012.csv')\n",
        "RR_2013=RR_2013.to_csv('/drive/MyDrive/csv/RR_2013.csv')\n",
        "RR_2014=RR_2014.to_csv('/drive/MyDrive/csv/RR_2014.csv')\n",
        "RR_2015=RR_2015.to_csv('/drive/MyDrive/csv/RR_2015.csv')\n",
        "RR_2016=RR_2016.to_csv('/drive/MyDrive/csv/RR_2016.csv')\n",
        "RR_2017=RR_2017.to_csv('/drive/MyDrive/csv/RR_2017.csv')\n",
        "RR_2018=RR_2018.to_csv('/drive/MyDrive/csv/RR_2018.csv')\n",
        "RR_2019=RR_2019.to_csv('/drive/MyDrive/csv/RR_2019.csv')\n",
        "RR_2020=RR_2020.to_csv('/drive/MyDrive/csv/RR_2020.csv')\n",
        "RR_2021=RR_2021.to_csv('/drive/MyDrive/csv/RR_2021.csv')\n",
        "SC_2010=SC_2010.to_csv('/drive/MyDrive/csv/SC_2010.csv')\n",
        "SC_2011=SC_2011.to_csv('/drive/MyDrive/csv/SC_2011.csv')\n",
        "SC_2012=SC_2012.to_csv('/drive/MyDrive/csv/SC_2012.csv')\n",
        "SC_2013=SC_2013.to_csv('/drive/MyDrive/csv/SC_2013.csv')\n",
        "SC_2014=SC_2014.to_csv('/drive/MyDrive/csv/SC_2014.csv')\n",
        "SC_2015=SC_2015.to_csv('/drive/MyDrive/csv/SC_2015.csv')\n",
        "SC_2016=SC_2016.to_csv('/drive/MyDrive/csv/SC_2016.csv')\n",
        "SC_2017=SC_2017.to_csv('/drive/MyDrive/csv/SC_2017.csv')\n",
        "SC_2018=SC_2018.to_csv('/drive/MyDrive/csv/SC_2018.csv')\n",
        "SC_2019=SC_2019.to_csv('/drive/MyDrive/csv/SC_2019.csv')\n",
        "SC_2020=SC_2020.to_csv('/drive/MyDrive/csv/SC_2020.csv')\n",
        "SC_2021=SC_2021.to_csv('/drive/MyDrive/csv/SC_2021.csv')\n",
        "SP_2010=SP_2010.to_csv('/drive/MyDrive/csv/SP_2010.csv')\n",
        "SP_2011=SP_2011.to_csv('/drive/MyDrive/csv/SP_2011.csv')\n",
        "SP_2012=SP_2012.to_csv('/drive/MyDrive/csv/SP_2012.csv')\n",
        "SP_2013=SP_2013.to_csv('/drive/MyDrive/csv/SP_2013.csv')\n",
        "SP_2014=SP_2014.to_csv('/drive/MyDrive/csv/SP_2014.csv')\n",
        "SP_2015=SP_2015.to_csv('/drive/MyDrive/csv/SP_2015.csv')\n",
        "SP_2016=SP_2016.to_csv('/drive/MyDrive/csv/SP_2016.csv')\n",
        "SP_2017=SP_2017.to_csv('/drive/MyDrive/csv/SP_2017.csv')\n",
        "SP_2018=SP_2018.to_csv('/drive/MyDrive/csv/SP_2018.csv')\n",
        "SP_2019=SP_2019.to_csv('/drive/MyDrive/csv/SP_2019.csv')\n",
        "SP_2020=SP_2020.to_csv('/drive/MyDrive/csv/SP_2020.csv')\n",
        "SP_2021=SP_2021.to_csv('/drive/MyDrive/csv/SP_2021.csv')\n",
        "SE_2010=SE_2010.to_csv('/drive/MyDrive/csv/SE_2010.csv')\n",
        "SE_2011=SE_2011.to_csv('/drive/MyDrive/csv/SE_2011.csv')\n",
        "SE_2012=SE_2012.to_csv('/drive/MyDrive/csv/SE_2012.csv')\n",
        "SE_2013=SE_2013.to_csv('/drive/MyDrive/csv/SE_2013.csv')\n",
        "SE_2014=SE_2014.to_csv('/drive/MyDrive/csv/SE_2014.csv')\n",
        "SE_2015=SE_2015.to_csv('/drive/MyDrive/csv/SE_2015.csv')\n",
        "SE_2016=SE_2016.to_csv('/drive/MyDrive/csv/SE_2016.csv')\n",
        "SE_2017=SE_2017.to_csv('/drive/MyDrive/csv/SE_2017.csv')\n",
        "SE_2018=SE_2018.to_csv('/drive/MyDrive/csv/SE_2018.csv')\n",
        "SE_2019=SE_2019.to_csv('/drive/MyDrive/csv/SE_2019.csv')\n",
        "SE_2020=SE_2020.to_csv('/drive/MyDrive/csv/SE_2020.csv')\n",
        "SE_2021=SE_2021.to_csv('/drive/MyDrive/csv/SE_2021.csv')\n",
        "TO_2010=TO_2010.to_csv('/drive/MyDrive/csv/TO_2010.csv')\n",
        "TO_2011=TO_2011.to_csv('/drive/MyDrive/csv/TO_2011.csv')\n",
        "TO_2012=TO_2012.to_csv('/drive/MyDrive/csv/TO_2012.csv')\n",
        "TO_2013=TO_2013.to_csv('/drive/MyDrive/csv/TO_2013.csv')\n",
        "TO_2014=TO_2014.to_csv('/drive/MyDrive/csv/TO_2014.csv')\n",
        "TO_2015=TO_2015.to_csv('/drive/MyDrive/csv/TO_2015.csv')\n",
        "TO_2016=TO_2016.to_csv('/drive/MyDrive/csv/TO_2016.csv')\n",
        "TO_2017=TO_2017.to_csv('/drive/MyDrive/csv/TO_2017.csv')\n",
        "TO_2018=TO_2018.to_csv('/drive/MyDrive/csv/TO_2018.csv')\n",
        "TO_2019=TO_2019.to_csv('/drive/MyDrive/csv/TO_2019.csv')\n",
        "TO_2020=TO_2020.to_csv('/drive/MyDrive/csv/TO_2020.csv')\n",
        "TO_2021=TO_2021.to_csv('/drive/MyDrive/csv/TO_2021.csv')\n",
        "\n",
        "\n"
      ],
      "metadata": {
        "colab": {
          "base_uri": "https://localhost:8080/"
        },
        "id": "45IShpiWNQpQ",
        "outputId": "e40ed504-1e8a-4b40-befe-3acbabbae328"
      },
      "execution_count": null,
      "outputs": [
        {
          "output_type": "stream",
          "name": "stdout",
          "text": [
            "Drive already mounted at /drive; to attempt to forcibly remount, call drive.mount(\"/drive\", force_remount=True).\n"
          ]
        }
      ]
    },
    {
      "cell_type": "code",
      "source": [
        "from google.colab import drive\n",
        "drive.mount('/content/drive')"
      ],
      "metadata": {
        "id": "ItHsmBagTnIN"
      },
      "execution_count": null,
      "outputs": []
    },
    {
      "cell_type": "code",
      "source": [],
      "metadata": {
        "id": "CJnOG3kSTaNV"
      },
      "execution_count": null,
      "outputs": []
    }
  ]
}